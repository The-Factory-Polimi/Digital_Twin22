{
 "cells": [
  {
   "cell_type": "code",
   "execution_count": 1,
   "metadata": {},
   "outputs": [
    {
     "name": "stdout",
     "output_type": "stream",
     "text": [
      "pygame 2.3.0 (SDL 2.24.2, Python 3.11.2)\n",
      "Hello from the pygame community. https://www.pygame.org/contribute.html\n"
     ]
    }
   ],
   "source": [
    "import pygame\n"
   ]
  },
  {
   "cell_type": "code",
   "execution_count": 5,
   "metadata": {},
   "outputs": [
    {
     "ename": "FileNotFoundError",
     "evalue": "No file 'pygame/examples/data/jump.wav' found in working directory 'c:\\Users\\pedro\\Github_repos\\Digital_Twin\\Digital Twin'.",
     "output_type": "error",
     "traceback": [
      "\u001b[1;31m---------------------------------------------------------------------------\u001b[0m",
      "\u001b[1;31mFileNotFoundError\u001b[0m                         Traceback (most recent call last)",
      "Cell \u001b[1;32mIn[5], line 4\u001b[0m\n\u001b[0;32m      1\u001b[0m \u001b[39m# initialize Pygame mixer\u001b[39;00m\n\u001b[0;32m      2\u001b[0m pygame\u001b[39m.\u001b[39mmixer\u001b[39m.\u001b[39minit()\n\u001b[1;32m----> 4\u001b[0m jump_sound \u001b[39m=\u001b[39m pygame\u001b[39m.\u001b[39;49mmixer\u001b[39m.\u001b[39;49mSound(\u001b[39m\"\u001b[39;49m\u001b[39mpygame/examples/data/jump.wav\u001b[39;49m\u001b[39m\"\u001b[39;49m)\n\u001b[0;32m      6\u001b[0m jump_sound\u001b[39m.\u001b[39mplay()\n",
      "\u001b[1;31mFileNotFoundError\u001b[0m: No file 'pygame/examples/data/jump.wav' found in working directory 'c:\\Users\\pedro\\Github_repos\\Digital_Twin\\Digital Twin'."
     ]
    }
   ],
   "source": [
    "# initialize Pygame mixer\n",
    "pygame.mixer.init()\n",
    "\n",
    "jump_sound = pygame.mixer.Sound(\"pygame/examples/data/jump.wav\")\n",
    "\n",
    "jump_sound.play()"
   ]
  },
  {
   "attachments": {},
   "cell_type": "markdown",
   "metadata": {},
   "source": [
    "Examples code"
   ]
  },
  {
   "cell_type": "code",
   "execution_count": null,
   "metadata": {},
   "outputs": [],
   "source": [
    "\n",
    "# initialize Pygame mixer\n",
    "pygame.mixer.init()\n",
    "\n",
    "# load the sound files\n",
    "error_sound = pygame.mixer.Sound(\"error_sound.wav\")\n",
    "success_sound = pygame.mixer.Sound(\"success_sound.wav\")\n",
    "\n",
    "# your while loop code\n",
    "while True:\n",
    "    # some event occurs\n",
    "    if some_event == \"error\":\n",
    "        error_sound.play()\n",
    "    elif some_event == \"success\":\n",
    "        success_sound.play()\n"
   ]
  }
 ],
 "metadata": {
  "kernelspec": {
   "display_name": "dtwinpyenv-2W3lhWDO",
   "language": "python",
   "name": "python3"
  },
  "language_info": {
   "codemirror_mode": {
    "name": "ipython",
    "version": 3
   },
   "file_extension": ".py",
   "mimetype": "text/x-python",
   "name": "python",
   "nbconvert_exporter": "python",
   "pygments_lexer": "ipython3",
   "version": "3.11.2"
  },
  "orig_nbformat": 4
 },
 "nbformat": 4,
 "nbformat_minor": 2
}
