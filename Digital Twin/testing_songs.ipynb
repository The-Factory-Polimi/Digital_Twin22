{
 "cells": [
  {
   "cell_type": "code",
   "execution_count": 1,
   "metadata": {},
   "outputs": [
    {
     "name": "stdout",
     "output_type": "stream",
     "text": [
      "pygame 2.3.0 (SDL 2.24.2, Python 3.11.2)\n",
      "Hello from the pygame community. https://www.pygame.org/contribute.html\n"
     ]
    }
   ],
   "source": [
    "import pygame\n"
   ]
  },
  {
   "cell_type": "code",
   "execution_count": 4,
   "metadata": {},
   "outputs": [
    {
     "data": {
      "text/plain": [
       "<pygame.mixer.Channel at 0x1f04ccf1070>"
      ]
     },
     "execution_count": 4,
     "metadata": {},
     "output_type": "execute_result"
    }
   ],
   "source": [
    "# initialize Pygame mixer\n",
    "pygame.mixer.init()\n",
    "\n",
    "jump_sound = pygame.mixer.Sound(\"dtwinpylib/dtwinpy/sound/warning.mp3\")\n",
    "\n",
    "jump_sound.play()"
   ]
  },
  {
   "attachments": {},
   "cell_type": "markdown",
   "metadata": {},
   "source": [
    "Examples code"
   ]
  },
  {
   "cell_type": "code",
   "execution_count": null,
   "metadata": {},
   "outputs": [],
   "source": [
    "\n",
    "# initialize Pygame mixer\n",
    "pygame.mixer.init()\n",
    "\n",
    "# load the sound files\n",
    "error_sound = pygame.mixer.Sound(\"error_sound.wav\")\n",
    "success_sound = pygame.mixer.Sound(\"success_sound.wav\")\n",
    "\n",
    "# your while loop code\n",
    "while True:\n",
    "    # some event occurs\n",
    "    if some_event == \"error\":\n",
    "        error_sound.play()\n",
    "    elif some_event == \"success\":\n",
    "        success_sound.play()\n"
   ]
  }
 ],
 "metadata": {
  "kernelspec": {
   "display_name": "dtwinpyenv-2W3lhWDO",
   "language": "python",
   "name": "python3"
  },
  "language_info": {
   "codemirror_mode": {
    "name": "ipython",
    "version": 3
   },
   "file_extension": ".py",
   "mimetype": "text/x-python",
   "name": "python",
   "nbconvert_exporter": "python",
   "pygments_lexer": "ipython3",
   "version": "3.11.2"
  },
  "orig_nbformat": 4
 },
 "nbformat": 4,
 "nbformat_minor": 2
}
