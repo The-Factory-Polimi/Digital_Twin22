{
 "cells": [
  {
   "attachments": {},
   "cell_type": "markdown",
   "metadata": {},
   "source": [
    "# This code is the first step towards integration"
   ]
  },
  {
   "cell_type": "code",
   "execution_count": 1,
   "metadata": {},
   "outputs": [
    {
     "data": {
      "text/plain": [
       "'databases/copy.db'"
      ]
     },
     "execution_count": 1,
     "metadata": {},
     "output_type": "execute_result"
    }
   ],
   "source": [
    "import sqlite3\n",
    "import shutil\n",
    "\n",
    "# Open the original database connection\n",
    "original_conn = sqlite3.connect('databases/digital_5s_deterministic_db.db')\n",
    "\n",
    "# Make a copy of the original database file\n",
    "shutil.copy2('databases/digital_5s_deterministic_db.db', 'databases/copy.db')"
   ]
  },
  {
   "cell_type": "code",
   "execution_count": 4,
   "metadata": {},
   "outputs": [
    {
     "data": {
      "text/plain": [
       "'databases/copyy.db'"
      ]
     },
     "execution_count": 4,
     "metadata": {},
     "output_type": "execute_result"
    }
   ],
   "source": [
    "shutil.copy2('databases/digital_5s_deterministic_complex_db.db', 'databases/copyy.db')"
   ]
  }
 ],
 "metadata": {
  "kernelspec": {
   "display_name": "dtwinpyenv-JC8N3fR1",
   "language": "python",
   "name": "python3"
  },
  "language_info": {
   "codemirror_mode": {
    "name": "ipython",
    "version": 3
   },
   "file_extension": ".py",
   "mimetype": "text/x-python",
   "name": "python",
   "nbconvert_exporter": "python",
   "pygments_lexer": "ipython3",
   "version": "3.10.10"
  },
  "orig_nbformat": 4
 },
 "nbformat": 4,
 "nbformat_minor": 2
}
