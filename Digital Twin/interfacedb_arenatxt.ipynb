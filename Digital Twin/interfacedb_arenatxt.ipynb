{
 "cells": [
  {
   "attachments": {},
   "cell_type": "markdown",
   "metadata": {},
   "source": [
    "# Database interface for Arena output log files."
   ]
  },
  {
   "attachments": {},
   "cell_type": "markdown",
   "metadata": {},
   "source": [
    "## Import libraries"
   ]
  },
  {
   "cell_type": "code",
   "execution_count": 1,
   "metadata": {},
   "outputs": [],
   "source": [
    "# import database SQLite3. It is an inbuilt DBMS inside Python.\n",
    "import sqlite3\n",
    "import pandas as pd\n",
    "import numpy as np"
   ]
  },
  {
   "attachments": {},
   "cell_type": "markdown",
   "metadata": {},
   "source": [
    "## Arena Tracelog Databse Interface"
   ]
  },
  {
   "attachments": {},
   "cell_type": "markdown",
   "metadata": {},
   "source": [
    "### Main fnuction to read and insert data\n"
   ]
  },
  {
   "cell_type": "code",
   "execution_count": 2,
   "metadata": {},
   "outputs": [],
   "source": [
    "def dbwrite_real_arenatracelog(table_name,file_path,database_path):\n",
    "    # reading the text file as a space separated csv file into pandas dataframe.\n",
    "    data = pd.read_csv(file_path, delimiter='\\s+', header=None, index_col=False)\n",
    "\n",
    "    # data preparation \n",
    "    # indexing of dataframe starts at 0.\n",
    "    timestamp=data[0].values.astype(int).tolist()\n",
    "    machine_num=data[2].values\n",
    "    machine_id=np.char.add(\"Machine \", machine_num.astype(str)).tolist()\n",
    "    activity_type=data[3].values.tolist()\n",
    "    part_id=data[4].values.astype(int).tolist()\n",
    "    queue_num=data[6].values\n",
    "    queue=np.char.add(\"Queue \", queue_num.astype(str)).tolist()\n",
    "\n",
    "    # zip all the list created above into a single list\n",
    "    new_data=list(zip(timestamp, machine_id, activity_type, part_id, queue))\n",
    "\n",
    "    # create table. Also creates database if it doesnt exist.\n",
    "    with sqlite3.connect(database_path) as realdb:\n",
    "        realdb.execute(f\"\"\"\n",
    "        CREATE TABLE IF NOT EXISTS {table_name} (\n",
    "            event_id INTEGER PRIMARY KEY,\n",
    "            timestamp INTEGER,\n",
    "            machine_id TEXT,\n",
    "            activity_type TEXT,\n",
    "            part_id INTEGER,\n",
    "            queue TEXT\n",
    "        )\n",
    "        \"\"\")\n",
    "        realdb.commit()\n",
    "\n",
    "    # inserting data\n",
    "    with sqlite3.connect(database_path) as realdb: \n",
    "                realdb.executemany(f\"\"\"\n",
    "                INSERT INTO {table_name} (timestamp, machine_id, activity_type, part_id, queue)\n",
    "                VALUES (?, ?, ?, ?, ?)\"\"\", new_data)\n",
    "                realdb.commit()"
   ]
  },
  {
   "attachments": {},
   "cell_type": "markdown",
   "metadata": {},
   "source": [
    "### Input data"
   ]
  },
  {
   "cell_type": "code",
   "execution_count": 6,
   "metadata": {},
   "outputs": [],
   "source": [
    "# input data\n",
    "file_path = r'log_files/5s_Model_Tracelog.txt'    # also has the name of file in it.\n",
    "database_path = r'databases/real_5s_closed_distribution_db.db'            # # also has the name of database in it.\n",
    "\n",
    "table_name = 'tracelog'\n",
    "dbwrite_real_arenatracelog(table_name,file_path,database_path)"
   ]
  },
  {
   "cell_type": "markdown",
   "metadata": {},
   "source": [
    "### Additional functions"
   ]
  },
  {
   "cell_type": "code",
   "execution_count": 187,
   "metadata": {},
   "outputs": [],
   "source": [
    "# delete table\n",
    "with sqlite3.connect(database_path) as realdb:\n",
    "    realdb.execute(f\"DROP TABLE IF EXISTS {table_name}\")\n",
    "    realdb.commit()"
   ]
  },
  {
   "cell_type": "code",
   "execution_count": 7,
   "metadata": {},
   "outputs": [
    {
     "name": "stdout",
     "output_type": "stream",
     "text": [
      "[('tracelog',)]\n"
     ]
    }
   ],
   "source": [
    "# list of tables\n",
    "with sqlite3.connect(database_path) as realdb:\n",
    "    table_names = realdb.execute(\"SELECT name from sqlite_master where type='table'\").fetchall()\n",
    "\n",
    "print(table_names)"
   ]
  },
  {
   "cell_type": "code",
   "execution_count": 9,
   "metadata": {},
   "outputs": [
    {
     "name": "stdout",
     "output_type": "stream",
     "text": [
      "309\n"
     ]
    }
   ],
   "source": [
    "# fetching a specific column\n",
    "with sqlite3.connect(database_path) as DB:\n",
    "    activity=DB.execute(f\"SELECT {'activity_type'} FROM {table_name}\").fetchall()\n",
    "\n",
    "print(len(activity))"
   ]
  },
  {
   "attachments": {},
   "cell_type": "markdown",
   "metadata": {},
   "source": [
    "## Arena KPILog Database Interface"
   ]
  },
  {
   "attachments": {},
   "cell_type": "markdown",
   "metadata": {},
   "source": [
    "### Main fnuction to read and insert data"
   ]
  },
  {
   "cell_type": "code",
   "execution_count": 201,
   "metadata": {},
   "outputs": [],
   "source": [
    "def dbwrite_real_arenakpilog(table_name,file_path,database_path):\n",
    "    # reading the text file as a space separated csv file into pandas dataframe.\n",
    "    data = pd.read_csv(file_path, delimiter='\\s+', header=None, index_col=False)\n",
    "\n",
    "    # data preparation \n",
    "    # indexing of dataframe starts at 0.\n",
    "    part_id=data[0].values.astype(int).tolist()\n",
    "    cycle_time=data[1].values.astype(int).tolist()\n",
    "\n",
    "    # zip all the list created above into a single list\n",
    "    new_data=list(zip(part_id, cycle_time))\n",
    "\n",
    "    # create table. Also creates database if it doesnt exist.\n",
    "    with sqlite3.connect(database_path) as realdb:\n",
    "        realdb.execute(f\"\"\"\n",
    "        CREATE TABLE IF NOT EXISTS {table_name} (\n",
    "            kpi_id INTEGER PRIMARY KEY,\n",
    "            part_id INTEGER,\n",
    "            cycle_time INTEGER\n",
    "        )\n",
    "        \"\"\")\n",
    "        realdb.commit()\n",
    "\n",
    "    # inserting data\n",
    "    with sqlite3.connect(database_path) as realdb: \n",
    "                realdb.executemany(f\"\"\"\n",
    "                INSERT INTO {table_name} (part_id, cycle_time)\n",
    "                VALUES (?, ?)\"\"\", new_data)\n",
    "                realdb.commit()"
   ]
  },
  {
   "attachments": {},
   "cell_type": "markdown",
   "metadata": {},
   "source": [
    "### Input data"
   ]
  },
  {
   "cell_type": "code",
   "execution_count": 204,
   "metadata": {},
   "outputs": [],
   "source": [
    "# input data\n",
    "file_path = r'C:\\Users\\HP\\Desktop\\5s_Model_KPILog.txt'    # also has the name of file in it.\n",
    "database_path = r'C:\\Users\\HP\\Desktop\\realdb.db'            # # also has the name of database in it.\n",
    "table_name = 'kpilog'\n",
    "dbwrite_real_arenakpilog(table_name,file_path,database_path)"
   ]
  },
  {
   "attachments": {},
   "cell_type": "markdown",
   "metadata": {},
   "source": [
    "### Additional function"
   ]
  },
  {
   "cell_type": "code",
   "execution_count": 203,
   "metadata": {},
   "outputs": [],
   "source": [
    "# delete table\n",
    "with sqlite3.connect(database_path) as realdb:\n",
    "    realdb.execute(f\"DROP TABLE IF EXISTS {table_name}\")\n",
    "    realdb.commit()"
   ]
  },
  {
   "cell_type": "code",
   "execution_count": 205,
   "metadata": {},
   "outputs": [
    {
     "name": "stdout",
     "output_type": "stream",
     "text": [
      "[('tracelog',), ('kpilog',)]\n"
     ]
    }
   ],
   "source": [
    "# list of tables\n",
    "with sqlite3.connect(database_path) as realdb:\n",
    "    table_names = realdb.execute(\"SELECT name from sqlite_master where type='table'\").fetchall()\n",
    "\n",
    "print(table_names)"
   ]
  },
  {
   "cell_type": "code",
   "execution_count": 209,
   "metadata": {},
   "outputs": [],
   "source": [
    "# fetching a specific column\n",
    "with sqlite3.connect(database_path) as DB:\n",
    "    cycle_time=DB.execute(f\"SELECT {'cycle_time'} FROM {table_name}\").fetchall()"
   ]
  }
 ],
 "metadata": {
  "kernelspec": {
   "display_name": "dtenv-W_8IhJJT",
   "language": "python",
   "name": "python3"
  },
  "language_info": {
   "codemirror_mode": {
    "name": "ipython",
    "version": 3
   },
   "file_extension": ".py",
   "mimetype": "text/x-python",
   "name": "python",
   "nbconvert_exporter": "python",
   "pygments_lexer": "ipython3",
   "version": "3.10.7"
  },
  "orig_nbformat": 4,
  "vscode": {
   "interpreter": {
    "hash": "35457fd325533260c1f351bddbc616dcc6e6ff9d61880fb07b575269a3befff5"
   }
  }
 },
 "nbformat": 4,
 "nbformat_minor": 2
}
