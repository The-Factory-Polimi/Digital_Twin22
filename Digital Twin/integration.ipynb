{
 "cells": [
  {
   "attachments": {},
   "cell_type": "markdown",
   "metadata": {},
   "source": [
    "# Integration\n",
    "This are the initial tests towards integration. One of the main analysis the time consume to run the codes "
   ]
  },
  {
   "cell_type": "code",
   "execution_count": 18,
   "metadata": {},
   "outputs": [
    {
     "data": {
      "text/plain": [
       "<module 'dtwinpylib.dtwinpy.interfaceDB' from 'c:\\\\Users\\\\pedro\\\\Github Repositories\\\\Digital_Twin\\\\Digital Twin\\\\dtwinpylib\\\\dtwinpy\\\\interfaceDB.py'>"
      ]
     },
     "execution_count": 18,
     "metadata": {},
     "output_type": "execute_result"
    }
   ],
   "source": [
    "from dtwinpylib.dtwinpy.Digital_Twin import Digital_Twin\n",
    "from dtwinpylib.dtwinpy.interfaceDB import Database\n",
    "\n",
    "import importlib\n",
    "import sqlite3\n",
    "import dtwinpylib\n",
    "importlib.reload(dtwinpylib.dtwinpy.Digital_Twin) \n",
    "importlib.reload(dtwinpylib.dtwinpy.interfaceDB) "
   ]
  },
  {
   "attachments": {},
   "cell_type": "markdown",
   "metadata": {},
   "source": [
    "## When to Synchronize?"
   ]
  },
  {
   "attachments": {},
   "cell_type": "markdown",
   "metadata": {},
   "source": [
    "The problem with Sync is that we need to update the timestamp from real log to match (with a certain error) the timestamp with the digital log. Ideally the digital log starts with timestamp 0, but just in the case that some event happen rigth in the beginning of the simulation. Thus, in the case of a simulation where all the machines are busy or the free machines doesn't have any part in the queue, the digital log is just going to be update after the first busy machine finish a part, so where is the time zero for the real log in that case? \n",
    "\n",
    "So would be ideal to just synchronize with a trace 'Started'. Thus, for that we need to have a certain frequency to Synch, but also the initial trace need to be 'Started', so the final frequency could be a little be early or a little bit late, depending on each event 'Started' is more close to the ideal time.\n",
    "\n",
    "Let's take this example of real log:\n",
    "dT = 1/f\n",
    "Tsync = To + dT\n",
    "\n",
    "f = (1/10)\n",
    "dT = 10\n",
    "To = 0\n",
    "Tsync = 10\n",
    "\n",
    "Ideally, the cut in the database to Synchronize the systems would be Tsync = 10. But this is a finished trace, so we look for the most close 'started' trace. In this case, a little bit in the past in T= 00\n",
    "\n",
    "(00, m3, s)\n",
    "(10, m1, f)\n",
    "(20, m2, s)\n",
    "(20, m1, s)\n",
    "...\n",
    "\n"
   ]
  },
  {
   "cell_type": "code",
   "execution_count": 21,
   "metadata": {},
   "outputs": [
    {
     "name": "stdout",
     "output_type": "stream",
     "text": [
      "### ============ Simulation Started ============ ###\n",
      "Time: 0 - [Machine 1] got Part 3 from Queue 1 (capacity= 0)\n",
      "Time: 0 - [Machine 2] got Part 1 from Queue 2 (capacity= 0)\n",
      "Time: 4000 - [Conveyor towards Queue 2] GOT Part 3\n",
      "Time: 4200 - [Conveyor towards Queue 2] PUT Part 3 in the Queue 2\n",
      "Time: 20000 - [Conveyor towards Queue 4] GOT Part 1\n",
      "Time: 20000 - [Machine 2] got Part 3 from Queue 2 (capacity= 0)\n",
      "Time: 20100 - [Conveyor towards Queue 4] PUT Part 1 in the Queue 4\n",
      "Time: 20101 - [Machine 4] got Part 1 from Queue 4 (capacity= 0)\n",
      "Time: 23101 - [Conveyor towards Queue 5] GOT Part 1\n",
      "Time: 23201 - [Conveyor towards Queue 5] PUT Part 1 in the Queue 5\n",
      "Time: 23202 - [Machine 5] got Part 1 from Queue 5 (capacity= 0)\n",
      "Time: 25202 - [Terminator] xxx Part 1 terminated xxx\n",
      "Time: 25202 - [Terminator] Part 4 replaced\n",
      "Time: 25202 - [Conveyor towards Queue 1] GOT Part 4\n",
      "Time: 25502 - [Conveyor towards Queue 1] PUT Part 4 in the Queue 1\n",
      "Time: 25503 - [Machine 1] got Part 4 from Queue 1 (capacity= 0)\n",
      "Time: 29503 - [Conveyor towards Queue 3] GOT Part 4\n",
      "Time: 29703 - [Conveyor towards Queue 3] PUT Part 4 in the Queue 3\n",
      "Time: 29704 - [Machine 3] got Part 4 from Queue 3 (capacity= 0)\n",
      "Time: 36704 - [Conveyor towards Queue 4] GOT Part 4\n",
      "Time: 36804 - [Conveyor towards Queue 4] PUT Part 4 in the Queue 4\n",
      "Time: 36805 - [Machine 4] got Part 4 from Queue 4 (capacity= 0)\n",
      "Time: 39805 - [Conveyor towards Queue 5] GOT Part 4\n",
      "Time: 39905 - [Conveyor towards Queue 5] PUT Part 4 in the Queue 5\n",
      "Time: 39906 - [Machine 5] got Part 4 from Queue 5 (capacity= 0)\n",
      "Time: 40000 - [Conveyor towards Queue 4] GOT Part 3\n",
      "Time: 40100 - [Conveyor towards Queue 4] PUT Part 3 in the Queue 4\n",
      "Time: 40101 - [Machine 4] got Part 3 from Queue 4 (capacity= 0)\n",
      "Time: 41906 - [Terminator] xxx Part 4 terminated xxx\n",
      "Time: 41906 - [Terminator] Part 5 replaced\n",
      "Time: 41906 - [Conveyor towards Queue 1] GOT Part 5\n",
      "Time: 42206 - [Conveyor towards Queue 1] PUT Part 5 in the Queue 1\n",
      "Time: 42207 - [Machine 1] got Part 5 from Queue 1 (capacity= 0)\n",
      "Time: 43101 - [Conveyor towards Queue 5] GOT Part 3\n",
      "Time: 43201 - [Conveyor towards Queue 5] PUT Part 3 in the Queue 5\n",
      "Time: 43202 - [Machine 5] got Part 3 from Queue 5 (capacity= 0)\n",
      "Time: 45202 - [Terminator] xxx Part 3 terminated xxx\n",
      "Time: 45202 - [Terminator] Part 6 replaced\n",
      "Time: 45202 - [Conveyor towards Queue 1] GOT Part 6\n",
      "=== Reading all the events from table: digital_log ===\n",
      "(1, 0, 'Machine 1', 'Started', 'Part 3', 'Queue 1', None, None)\n",
      "(2, 0, 'Machine 2', 'Started', 'Part 1', 'Queue 2', None, None)\n",
      "(3, 4000, 'Machine 1', 'Finished', 'Part 3', 'Queue 2', None, None)\n",
      "(4, 20000, 'Machine 2', 'Finished', 'Part 1', 'Queue 4', None, None)\n",
      "(5, 20000, 'Machine 2', 'Started', 'Part 3', 'Queue 2', None, None)\n",
      "(6, 20101, 'Machine 4', 'Started', 'Part 1', 'Queue 4', None, None)\n",
      "(7, 23101, 'Machine 4', 'Finished', 'Part 1', 'Queue 5', None, None)\n",
      "(8, 23202, 'Machine 5', 'Started', 'Part 1', 'Queue 5', None, None)\n",
      "(9, 25202, 'Machine 5', 'Finished', 'Part 1', 'Queue 1', None, None)\n",
      "(10, 25503, 'Machine 1', 'Started', 'Part 4', 'Queue 1', None, None)\n",
      "(11, 29503, 'Machine 1', 'Finished', 'Part 4', 'Queue 3', None, None)\n",
      "(12, 29704, 'Machine 3', 'Started', 'Part 4', 'Queue 3', None, None)\n",
      "(13, 36704, 'Machine 3', 'Finished', 'Part 4', 'Queue 4', None, None)\n",
      "(14, 36805, 'Machine 4', 'Started', 'Part 4', 'Queue 4', None, None)\n",
      "(15, 39805, 'Machine 4', 'Finished', 'Part 4', 'Queue 5', None, None)\n",
      "(16, 39906, 'Machine 5', 'Started', 'Part 4', 'Queue 5', None, None)\n",
      "(17, 40000, 'Machine 2', 'Finished', 'Part 3', 'Queue 4', None, None)\n",
      "(18, 40101, 'Machine 4', 'Started', 'Part 3', 'Queue 4', None, None)\n",
      "(19, 41906, 'Machine 5', 'Finished', 'Part 4', 'Queue 1', None, None)\n",
      "(20, 42207, 'Machine 1', 'Started', 'Part 5', 'Queue 1', None, None)\n",
      "(21, 43101, 'Machine 4', 'Finished', 'Part 3', 'Queue 5', None, None)\n",
      "(22, 43202, 'Machine 5', 'Started', 'Part 3', 'Queue 5', None, None)\n",
      "(23, 45202, 'Machine 5', 'Finished', 'Part 3', 'Queue 1', None, None)\n",
      "### ============ Simulation Done ============ ###\n"
     ]
    }
   ],
   "source": [
    "mydt = Digital_Twin(name= \"5s_determ\")\n",
    "mydt.run_digital_model(plot= False, verbose= False, maxparts= 3)"
   ]
  },
  {
   "cell_type": "code",
   "execution_count": 22,
   "metadata": {},
   "outputs": [],
   "source": [
    "database_path = \"databases/5s_determ/digital_database.db\"\n",
    "testdb = Database(database_path= database_path, event_table= \"digital_log\", start_time= 0, end_time= 40000)\n"
   ]
  },
  {
   "cell_type": "code",
   "execution_count": 23,
   "metadata": {},
   "outputs": [],
   "source": [
    "with sqlite3.connect(database_path) as db:\n",
    "    db.execute(\"UPDATE digital_log SET timestamp_real = timestamp;\")"
   ]
  }
 ],
 "metadata": {
  "kernelspec": {
   "display_name": "dtwinpyenv-JC8N3fR1",
   "language": "python",
   "name": "python3"
  },
  "language_info": {
   "codemirror_mode": {
    "name": "ipython",
    "version": 3
   },
   "file_extension": ".py",
   "mimetype": "text/x-python",
   "name": "python",
   "nbconvert_exporter": "python",
   "pygments_lexer": "ipython3",
   "version": "3.10.10"
  },
  "orig_nbformat": 4
 },
 "nbformat": 4,
 "nbformat_minor": 2
}
