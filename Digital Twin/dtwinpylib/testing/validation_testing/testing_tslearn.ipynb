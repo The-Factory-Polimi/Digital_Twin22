{
 "cells": [
  {
   "cell_type": "code",
   "execution_count": null,
   "metadata": {},
   "outputs": [],
   "source": [
    "import numpy as np\n",
    "import tslearn\n",
    "from tslearn.piecewise import PiecewiseAggregateApproximation\n",
    "from tslearn.metrics import dtw\n",
    "\n",
    "# Create the time series sequences\n",
    "A1 = ['a', 'b', 'c', 'd', 'e']\n",
    "T1 = [1, 2, 3, 4, 5]\n",
    "A2 = ['a', 'e', 'b', 'g', 'c', 'a', 'h', 'd']\n",
    "T2 = [1, 2, 3, 4, 5, 6, 7, 8]\n",
    "\n",
    "# Convert the time series sequences into numpy arrays\n",
    "A1 = np.array(A1).reshape(-1, 1)\n",
    "T1 = np.array(T1).reshape(-1, 1)\n",
    "A2 = np.array(A2).reshape(-1, 1)\n",
    "T2 = np.array(T2).reshape(-1, 1)\n",
    "\n",
    "# Create the time series dataset\n",
    "time_series = [np.hstack((A1, T1)), np.hstack((A2, T2))]\n",
    "\n",
    "# Transform the time series into a symbolic representation using Piecewise Aggregate Approximation (PAA)\n",
    "paa = PiecewiseAggregateApproximation(n_segments=3)\n",
    "X = paa.fit_transform(time_series)\n",
    "\n",
    "# Calculate the LCS between the two time series\n",
    "distance, path = dtw(X[0], X[1], metric=\"lcs\", step_pattern=None, threshold=2, return_path=True)\n",
    "\n",
    "# Extract the LCS events and their respective time stamps\n",
    "lcs_events = [A1[i] for i, j in path]\n",
    "lcs_timestamps = [T1[i] for i, j in path]\n",
    "\n",
    "print(\"LCS events: \", lcs_events)\n",
    "print(\"LCS timestamps: \", lcs_timestamps)\n"
   ]
  }
 ],
 "metadata": {
  "kernelspec": {
   "display_name": "DTvirtenv-blc9_2om",
   "language": "python",
   "name": "python3"
  },
  "language_info": {
   "name": "python",
   "version": "3.10.9"
  },
  "orig_nbformat": 4,
  "vscode": {
   "interpreter": {
    "hash": "c4751d265fb18a2f26c44dfa1175ffe09959e8098aa26e65ced0a27c013824a8"
   }
  }
 },
 "nbformat": 4,
 "nbformat_minor": 2
}
