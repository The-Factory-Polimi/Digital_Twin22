{
 "cells": [
  {
   "cell_type": "code",
   "execution_count": 39,
   "metadata": {},
   "outputs": [
    {
     "data": {
      "text/plain": [
       "<module 'dtwinpylib.dtwinpy.Digital_Twin' from 'c:\\\\Users\\\\pedro\\\\Github Repositories\\\\Digital_Twin\\\\Digital Twin\\\\dtwinpylib\\\\dtwinpy\\\\Digital_Twin.py'>"
      ]
     },
     "execution_count": 39,
     "metadata": {},
     "output_type": "execute_result"
    }
   ],
   "source": [
    "from dtwinpylib.dtwinpy.Digital_Twin import Digital_Twin\n",
    "import importlib\n",
    "import dtwinpylib\n",
    "importlib.reload(dtwinpylib.dtwinpy.Digital_Twin) #reload this specifc module to upadte the class\n"
   ]
  },
  {
   "cell_type": "code",
   "execution_count": 42,
   "metadata": {},
   "outputs": [
    {
     "data": {
      "text/markdown": [
       "<span style='color:#7DCEA0'>Digital Twin '5s_determ' created sucessfully at 13 March 17:42:41</span>"
      ],
      "text/plain": [
       "<IPython.core.display.Markdown object>"
      ]
     },
     "metadata": {},
     "output_type": "display_data"
    },
    {
     "name": "stdout",
     "output_type": "stream",
     "text": [
      "--- printing databases paths ---\n",
      "Digital Database: 'databases/5s_determ/digital_database.db'\n",
      "Real Database: 'databases/5s_determ/real_database.db'\n",
      "ID Database: 'databases/5s_determ/ID_database.db'\n"
     ]
    }
   ],
   "source": [
    "mydt_laser = Digital_Twin(name= \"5s_determ\", Freq_Sync= 120, Freq_Service= 120, Freq_Valid= 240)"
   ]
  },
  {
   "cell_type": "code",
   "execution_count": 43,
   "metadata": {},
   "outputs": [
    {
     "data": {
      "text/markdown": [
       "<span style='color:#3498DB'>13 March 17:44:41 |[Internal Service] Starting Synchronization</span>"
      ],
      "text/plain": [
       "<IPython.core.display.Markdown object>"
      ]
     },
     "metadata": {},
     "output_type": "display_data"
    },
    {
     "name": "stdout",
     "output_type": "stream",
     "text": [
      "eyJhbGciOiJSUzI1NiIsImprdSI6Imh0dHBzOi8vaWlvdHV4cGMucGlhbS5ldTEubWluZHNwaGVyZS5pby90b2tlbl9rZXlzIiwia2lkIjoia2V5LWlkLTMiLCJ0eXAiOiJKV1QifQ.eyJqdGkiOiIyYmI1ZWY1MDRhYmY0YmU2OTdmMjI2NGE3ZmZjNjM4MSIsInN1YiI6Imlpb3R1eHBjLXRlc3RkbS12MS4wLjAzOSIsInNjb3BlIjpbImlhbS1hY3Rpb24uY2xpZW50X2NyZWRlbnRpYWxzLnVzZXItaW1wZXJzb25hdGlvbiIsIm1kc3A6Y29yZTpBZG1pbjNyZFBhcnR5VGVjaFVzZXIiXSwiY2xpZW50X2lkIjoiaWlvdHV4cGMtdGVzdGRtLXYxLjAuMDM5IiwiY2lkIjoiaWlvdHV4cGMtdGVzdGRtLXYxLjAuMDM5IiwiYXpwIjoiaWlvdHV4cGMtdGVzdGRtLXYxLjAuMDM5IiwiZ3JhbnRfdHlwZSI6ImNsaWVudF9jcmVkZW50aWFscyIsInJldl9zaWciOiI3ODA5MTVhNCIsImlhdCI6MTY3ODcyNTg5NCwiZXhwIjoxNjc4NzI3Njk0LCJpc3MiOiJodHRwczovL2lpb3R1eHBjLnBpYW0uZXUxLm1pbmRzcGhlcmUuaW8vb2F1dGgvdG9rZW4iLCJ6aWQiOiJpaW90dXhwYyIsImF1ZCI6WyJpYW0tYWN0aW9uLmNsaWVudF9jcmVkZW50aWFscyIsImlpb3R1eHBjLXRlc3RkbS12MS4wLjAzOSJdLCJ0ZW4iOiJpaW90dXhwYyIsInNjaGVtYXMiOlsidXJuOnNpZW1lbnM6bWluZHNwaGVyZTppYW06djEiXSwiY2F0IjoiY2xpZW50LXRva2VuOnYxIn0.lCwOrWgLkuup68-eaMoYdu_5qK4PxQpfL3aHmfzc6lrjNMieWkECx-WrdqVWkphzvUQ-va4Z1d72cU4bMqbTPNoNnIvLB50NfIMlwArokPPEAfMIbDP2i2i1J0zT6rAalQmWTJM29Y5fZ8Brvz2F1PxhbyJxmQMJ2HLBTAj4ndNcLmls9AOYKyswQzN2yZG_TvVYVtJqMbjMPaGVCR5MHJeqdBlzc9YSo0lh_Hj6o5Bvo16sdw9VVZz-LQPu0GzIHwRcj7NMQ4Jr7BrzEu9rlW-ir17IGqh3XYx_-KCltSye8eXsh6XJvxPqknypTHf9q-aUyJmLmstkuJv0giCobQ\n",
      "Error:\n",
      "\t {\"timestamp\":\"2023-03-13T16:45:03.564+00:00\",\"status\":400,\"error\":\"Bad Request\",\"message\":\"[6014] Wrong data types defined for - data type [boolean] for property [station_1] does not match with the value [1]\",\"path\":\"/api/iottimeseries/v3/timeseries/7da127f5a566408db16e0aeace5181e9/station_status\"}\n",
      "eyJhbGciOiJSUzI1NiIsImprdSI6Imh0dHBzOi8vaWlvdHV4cGMucGlhbS5ldTEubWluZHNwaGVyZS5pby90b2tlbl9rZXlzIiwia2lkIjoia2V5LWlkLTMiLCJ0eXAiOiJKV1QifQ.eyJqdGkiOiI4NGM3MjM4MzkxNTE0MmQzYTA4NDMzZTc4Y2EyYzkzZSIsInN1YiI6Imlpb3R1eHBjLXRlc3RkbS12MS4wLjAzOSIsInNjb3BlIjpbImlhbS1hY3Rpb24uY2xpZW50X2NyZWRlbnRpYWxzLnVzZXItaW1wZXJzb25hdGlvbiIsIm1kc3A6Y29yZTpBZG1pbjNyZFBhcnR5VGVjaFVzZXIiXSwiY2xpZW50X2lkIjoiaWlvdHV4cGMtdGVzdGRtLXYxLjAuMDM5IiwiY2lkIjoiaWlvdHV4cGMtdGVzdGRtLXYxLjAuMDM5IiwiYXpwIjoiaWlvdHV4cGMtdGVzdGRtLXYxLjAuMDM5IiwiZ3JhbnRfdHlwZSI6ImNsaWVudF9jcmVkZW50aWFscyIsInJldl9zaWciOiI3ODA5MTVhNCIsImlhdCI6MTY3ODcyNTkxOCwiZXhwIjoxNjc4NzI3NzE4LCJpc3MiOiJodHRwczovL2lpb3R1eHBjLnBpYW0uZXUxLm1pbmRzcGhlcmUuaW8vb2F1dGgvdG9rZW4iLCJ6aWQiOiJpaW90dXhwYyIsImF1ZCI6WyJpYW0tYWN0aW9uLmNsaWVudF9jcmVkZW50aWFscyIsImlpb3R1eHBjLXRlc3RkbS12MS4wLjAzOSJdLCJ0ZW4iOiJpaW90dXhwYyIsInNjaGVtYXMiOlsidXJuOnNpZW1lbnM6bWluZHNwaGVyZTppYW06djEiXSwiY2F0IjoiY2xpZW50LXRva2VuOnYxIn0.L_xtJf2aTRVwInDJLZRUu-P_txaJRN6u0hJRwQbkk0BWRdDutNovwUl8nvoTO8rsEURie9pN_oLaFMC8TXxORhaX4dv47h3-TrvouT5RVH1NZjUVJO3ZRCCN_f8jBmxa62gC9Plw9Ph8OBTzDJh6WABFciDLqBuQRovFBpsqInzcP2LXWQhE6yTsCRiTuodpFU0cA6xYIRbkJP9HEJbK5Gc7YqH3r9-aL5CZD0e_qKapyroIjP4HU8jHF35XSIBkgir3X0bN8tRNjL0HdZf0PQEeNtcWqlfCQtBMeeLvEr8mGssBW8nKk0Gin9n-o0-YrJrB_cJwBYYedw5yiYdffQ\n",
      "Data PUT successfully.\n"
     ]
    },
    {
     "data": {
      "text/markdown": [
       "<span style='color:#3498DB'>13 March 17:45:23 |[Internal Service] System Synchronized. Next Sync: 13 March 17:46:41</span>"
      ],
      "text/plain": [
       "<IPython.core.display.Markdown object>"
      ]
     },
     "metadata": {},
     "output_type": "display_data"
    },
    {
     "data": {
      "text/markdown": [
       "<span style='color:yellow'>13 March 17:45:23 |[External Service] Starting RCT Service</span>"
      ],
      "text/plain": [
       "<IPython.core.display.Markdown object>"
      ]
     },
     "metadata": {},
     "output_type": "display_data"
    },
    {
     "name": "stdout",
     "output_type": "stream",
     "text": [
      "eyJhbGciOiJSUzI1NiIsImprdSI6Imh0dHBzOi8vaWlvdHV4cGMucGlhbS5ldTEubWluZHNwaGVyZS5pby90b2tlbl9rZXlzIiwia2lkIjoia2V5LWlkLTMiLCJ0eXAiOiJKV1QifQ.eyJqdGkiOiJhZDViYzRmNzdkZTE0NWIyODE3ODNiMmE2MWMyMzY5NSIsInN1YiI6Imlpb3R1eHBjLXRlc3RkbS12MS4wLjAzOSIsInNjb3BlIjpbImlhbS1hY3Rpb24uY2xpZW50X2NyZWRlbnRpYWxzLnVzZXItaW1wZXJzb25hdGlvbiIsIm1kc3A6Y29yZTpBZG1pbjNyZFBhcnR5VGVjaFVzZXIiXSwiY2xpZW50X2lkIjoiaWlvdHV4cGMtdGVzdGRtLXYxLjAuMDM5IiwiY2lkIjoiaWlvdHV4cGMtdGVzdGRtLXYxLjAuMDM5IiwiYXpwIjoiaWlvdHV4cGMtdGVzdGRtLXYxLjAuMDM5IiwiZ3JhbnRfdHlwZSI6ImNsaWVudF9jcmVkZW50aWFscyIsInJldl9zaWciOiI3ODA5MTVhNCIsImlhdCI6MTY3ODcyNTkzMywiZXhwIjoxNjc4NzI3NzMzLCJpc3MiOiJodHRwczovL2lpb3R1eHBjLnBpYW0uZXUxLm1pbmRzcGhlcmUuaW8vb2F1dGgvdG9rZW4iLCJ6aWQiOiJpaW90dXhwYyIsImF1ZCI6WyJpYW0tYWN0aW9uLmNsaWVudF9jcmVkZW50aWFscyIsImlpb3R1eHBjLXRlc3RkbS12MS4wLjAzOSJdLCJ0ZW4iOiJpaW90dXhwYyIsInNjaGVtYXMiOlsidXJuOnNpZW1lbnM6bWluZHNwaGVyZTppYW06djEiXSwiY2F0IjoiY2xpZW50LXRva2VuOnYxIn0.aZHLpFwYyl0dPl7Iw07lDT2MyGMQJs2CYHpxZfwknd8nKGpqa3GIrYlZyHCD0Aks1rugNcYBWkqGaTBIOKcWvbgRaTXUu3hHunvCvIVaZrzQ4J1LEIy7DhgGcaOyreU4OkyCdPOKlMuzU9jAVIHD5iyoq5NFDrjbXbkgL6ispv8Wr-3Tr0urA2FFee9Og9OSLRvTnmzwNkV3-3RRbuqsC7IXHWgvQWKBH6PdM0YYjXwb2OKnj68DmSfW71SwzMaL_bkKfPWuAMv3z_XOoexmvEkSZgX5iSf0UWLW1ZtskzfigSvf_lOhfdGWY5Dvq8lyYKJU7GmNEEDUfKzSa4nLNw\n",
      "Error:\n",
      "\t {\"timestamp\":\"2023-03-13T16:45:33.758+00:00\",\"status\":404,\"error\":\"Not Found\",\"message\":\"[6410] Unable to find the property set - station_status\",\"path\":\"/api/iottimeseries/v3/timeseries/f018a3e7cc4343efa5cc9eced3cc11d5/station_status\"}\n"
     ]
    },
    {
     "data": {
      "text/markdown": [
       "<span style='color:yellow'>13 March 17:45:32 |[External Service] System RCT completed. Next Service: 13 March 17:46:41</span>"
      ],
      "text/plain": [
       "<IPython.core.display.Markdown object>"
      ]
     },
     "metadata": {},
     "output_type": "display_data"
    },
    {
     "data": {
      "text/markdown": [
       "<span style='color:#3498DB'>13 March 17:46:41 |[Internal Service] Starting Synchronization</span>"
      ],
      "text/plain": [
       "<IPython.core.display.Markdown object>"
      ]
     },
     "metadata": {},
     "output_type": "display_data"
    },
    {
     "name": "stdout",
     "output_type": "stream",
     "text": [
      "eyJhbGciOiJSUzI1NiIsImprdSI6Imh0dHBzOi8vaWlvdHV4cGMucGlhbS5ldTEubWluZHNwaGVyZS5pby90b2tlbl9rZXlzIiwia2lkIjoia2V5LWlkLTMiLCJ0eXAiOiJKV1QifQ.eyJqdGkiOiIxYjkxMDhmNDcxYzI0ODg3YTEyNTJkMmQ2MDc4N2E3MyIsInN1YiI6Imlpb3R1eHBjLXRlc3RkbS12MS4wLjAzOSIsInNjb3BlIjpbImlhbS1hY3Rpb24uY2xpZW50X2NyZWRlbnRpYWxzLnVzZXItaW1wZXJzb25hdGlvbiIsIm1kc3A6Y29yZTpBZG1pbjNyZFBhcnR5VGVjaFVzZXIiXSwiY2xpZW50X2lkIjoiaWlvdHV4cGMtdGVzdGRtLXYxLjAuMDM5IiwiY2lkIjoiaWlvdHV4cGMtdGVzdGRtLXYxLjAuMDM5IiwiYXpwIjoiaWlvdHV4cGMtdGVzdGRtLXYxLjAuMDM5IiwiZ3JhbnRfdHlwZSI6ImNsaWVudF9jcmVkZW50aWFscyIsInJldl9zaWciOiI3ODA5MTVhNCIsImlhdCI6MTY3ODcyNjAwNSwiZXhwIjoxNjc4NzI3ODA1LCJpc3MiOiJodHRwczovL2lpb3R1eHBjLnBpYW0uZXUxLm1pbmRzcGhlcmUuaW8vb2F1dGgvdG9rZW4iLCJ6aWQiOiJpaW90dXhwYyIsImF1ZCI6WyJpYW0tYWN0aW9uLmNsaWVudF9jcmVkZW50aWFscyIsImlpb3R1eHBjLXRlc3RkbS12MS4wLjAzOSJdLCJ0ZW4iOiJpaW90dXhwYyIsInNjaGVtYXMiOlsidXJuOnNpZW1lbnM6bWluZHNwaGVyZTppYW06djEiXSwiY2F0IjoiY2xpZW50LXRva2VuOnYxIn0.w20agku11YhedEOL29DOGcNP7z35kvGN6Eu6LRqPr8EwUFPgeNRt7QMu4EkpC24C2qGZtPGHl5CNKKwdZWyfdLZR--_2MWS6nLyaucGIo5QaKmCyt8K56jdZbRbbHktHNwLITKVAj1veHzfbl1V8M-t8AxDI4GcH2fKYZf81g_90pwPkqrgSnbe34S6d1-dJX8WLWUrwr2jCAVSJTSxOS3eoixtOprGdHOkMff1OjchFe26XzZXdIMU4JdrJmhaHOQf3J1QG1rI_U6ZwHzsVfS1l7wk-WiWlGVFZ6wcAQrqmWGNDZel2B0cDUdsn0OLmHZFNjRoexDqmYkM6_clZGg\n",
      "Error:\n",
      "\t {\"timestamp\":\"2023-03-13T16:46:45.589+00:00\",\"status\":400,\"error\":\"Bad Request\",\"message\":\"[6014] Wrong data types defined for - data type [boolean] for property [station_1] does not match with the value [0]\",\"path\":\"/api/iottimeseries/v3/timeseries/7da127f5a566408db16e0aeace5181e9/station_status\"}\n",
      "eyJhbGciOiJSUzI1NiIsImprdSI6Imh0dHBzOi8vaWlvdHV4cGMucGlhbS5ldTEubWluZHNwaGVyZS5pby90b2tlbl9rZXlzIiwia2lkIjoia2V5LWlkLTMiLCJ0eXAiOiJKV1QifQ.eyJqdGkiOiIxYjkxMDhmNDcxYzI0ODg3YTEyNTJkMmQ2MDc4N2E3MyIsInN1YiI6Imlpb3R1eHBjLXRlc3RkbS12MS4wLjAzOSIsInNjb3BlIjpbImlhbS1hY3Rpb24uY2xpZW50X2NyZWRlbnRpYWxzLnVzZXItaW1wZXJzb25hdGlvbiIsIm1kc3A6Y29yZTpBZG1pbjNyZFBhcnR5VGVjaFVzZXIiXSwiY2xpZW50X2lkIjoiaWlvdHV4cGMtdGVzdGRtLXYxLjAuMDM5IiwiY2lkIjoiaWlvdHV4cGMtdGVzdGRtLXYxLjAuMDM5IiwiYXpwIjoiaWlvdHV4cGMtdGVzdGRtLXYxLjAuMDM5IiwiZ3JhbnRfdHlwZSI6ImNsaWVudF9jcmVkZW50aWFscyIsInJldl9zaWciOiI3ODA5MTVhNCIsImlhdCI6MTY3ODcyNjAwNSwiZXhwIjoxNjc4NzI3ODA1LCJpc3MiOiJodHRwczovL2lpb3R1eHBjLnBpYW0uZXUxLm1pbmRzcGhlcmUuaW8vb2F1dGgvdG9rZW4iLCJ6aWQiOiJpaW90dXhwYyIsImF1ZCI6WyJpYW0tYWN0aW9uLmNsaWVudF9jcmVkZW50aWFscyIsImlpb3R1eHBjLXRlc3RkbS12MS4wLjAzOSJdLCJ0ZW4iOiJpaW90dXhwYyIsInNjaGVtYXMiOlsidXJuOnNpZW1lbnM6bWluZHNwaGVyZTppYW06djEiXSwiY2F0IjoiY2xpZW50LXRva2VuOnYxIn0.w20agku11YhedEOL29DOGcNP7z35kvGN6Eu6LRqPr8EwUFPgeNRt7QMu4EkpC24C2qGZtPGHl5CNKKwdZWyfdLZR--_2MWS6nLyaucGIo5QaKmCyt8K56jdZbRbbHktHNwLITKVAj1veHzfbl1V8M-t8AxDI4GcH2fKYZf81g_90pwPkqrgSnbe34S6d1-dJX8WLWUrwr2jCAVSJTSxOS3eoixtOprGdHOkMff1OjchFe26XzZXdIMU4JdrJmhaHOQf3J1QG1rI_U6ZwHzsVfS1l7wk-WiWlGVFZ6wcAQrqmWGNDZel2B0cDUdsn0OLmHZFNjRoexDqmYkM6_clZGg\n",
      "Data PUT successfully.\n"
     ]
    },
    {
     "data": {
      "text/markdown": [
       "<span style='color:#3498DB'>13 March 17:46:45 |[Internal Service] System Synchronized. Next Sync: 13 March 17:48:41</span>"
      ],
      "text/plain": [
       "<IPython.core.display.Markdown object>"
      ]
     },
     "metadata": {},
     "output_type": "display_data"
    },
    {
     "data": {
      "text/markdown": [
       "<span style='color:#7DCEA0'>13 March 17:46:45 |[Internal Service] Starting Validation</span>"
      ],
      "text/plain": [
       "<IPython.core.display.Markdown object>"
      ]
     },
     "metadata": {},
     "output_type": "display_data"
    },
    {
     "name": "stdout",
     "output_type": "stream",
     "text": [
      "eyJhbGciOiJSUzI1NiIsImprdSI6Imh0dHBzOi8vaWlvdHV4cGMucGlhbS5ldTEubWluZHNwaGVyZS5pby90b2tlbl9rZXlzIiwia2lkIjoia2V5LWlkLTMiLCJ0eXAiOiJKV1QifQ.eyJqdGkiOiJmMDE4OGM2NzkyOTM0ODAzOWIzNWY4ZmM2NjY5YjZiYiIsInN1YiI6Imlpb3R1eHBjLXRlc3RkbS12MS4wLjAzOSIsInNjb3BlIjpbImlhbS1hY3Rpb24uY2xpZW50X2NyZWRlbnRpYWxzLnVzZXItaW1wZXJzb25hdGlvbiIsIm1kc3A6Y29yZTpBZG1pbjNyZFBhcnR5VGVjaFVzZXIiXSwiY2xpZW50X2lkIjoiaWlvdHV4cGMtdGVzdGRtLXYxLjAuMDM5IiwiY2lkIjoiaWlvdHV4cGMtdGVzdGRtLXYxLjAuMDM5IiwiYXpwIjoiaWlvdHV4cGMtdGVzdGRtLXYxLjAuMDM5IiwiZ3JhbnRfdHlwZSI6ImNsaWVudF9jcmVkZW50aWFscyIsInJldl9zaWciOiI3ODA5MTVhNCIsImlhdCI6MTY3ODcyNjAwOSwiZXhwIjoxNjc4NzI3ODA5LCJpc3MiOiJodHRwczovL2lpb3R1eHBjLnBpYW0uZXUxLm1pbmRzcGhlcmUuaW8vb2F1dGgvdG9rZW4iLCJ6aWQiOiJpaW90dXhwYyIsImF1ZCI6WyJpYW0tYWN0aW9uLmNsaWVudF9jcmVkZW50aWFscyIsImlpb3R1eHBjLXRlc3RkbS12MS4wLjAzOSJdLCJ0ZW4iOiJpaW90dXhwYyIsInNjaGVtYXMiOlsidXJuOnNpZW1lbnM6bWluZHNwaGVyZTppYW06djEiXSwiY2F0IjoiY2xpZW50LXRva2VuOnYxIn0.IzmaJd4S31E7baAv_2J3yGQ3jmZayM1HZK9EQAG76NdRZ0iiqKPWiVW-H2BLHPp3-zGlYcqN_mgZU8q_4BGcdzkMmBDTaxFibe_wZt3HQPOkbgpPGO7gnfptrkEJnMzEPikRoRO72wQ6d-e_EVi_NcAZqPcK-B8YL8OmAg_qvyYap_1KaaLZZCFgnWXkQ0OewNfzz86mOyhGNPFNexRfYOgSKVvdZmxVa_GPsQONrRNF0IGOsqAn8VZ0BCrYMuViY3HRS8baBc0jMzhKWsWGz9wWkfJ9wA2-5iD71eXu9ln8quy6KiPpH_dEGupQCQP0HW3joXXcsBHDatFjGm8BSg\n",
      "Data PUT successfully.\n"
     ]
    },
    {
     "data": {
      "text/markdown": [
       "<span style='color:#7DCEA0'>13 March 17:46:48 |[Internal Service] System Validated. Next Validation: 13 March 17:50:41</span>"
      ],
      "text/plain": [
       "<IPython.core.display.Markdown object>"
      ]
     },
     "metadata": {},
     "output_type": "display_data"
    },
    {
     "data": {
      "text/markdown": [
       "<span style='color:yellow'>13 March 17:46:48 |[External Service] Starting RCT Service</span>"
      ],
      "text/plain": [
       "<IPython.core.display.Markdown object>"
      ]
     },
     "metadata": {},
     "output_type": "display_data"
    },
    {
     "name": "stdout",
     "output_type": "stream",
     "text": [
      "eyJhbGciOiJSUzI1NiIsImprdSI6Imh0dHBzOi8vaWlvdHV4cGMucGlhbS5ldTEubWluZHNwaGVyZS5pby90b2tlbl9rZXlzIiwia2lkIjoia2V5LWlkLTMiLCJ0eXAiOiJKV1QifQ.eyJqdGkiOiJhMGVjYmEwMzBkNTY0NjE3YmEyOTg0YTk1YzU2MzllNCIsInN1YiI6Imlpb3R1eHBjLXRlc3RkbS12MS4wLjAzOSIsInNjb3BlIjpbImlhbS1hY3Rpb24uY2xpZW50X2NyZWRlbnRpYWxzLnVzZXItaW1wZXJzb25hdGlvbiIsIm1kc3A6Y29yZTpBZG1pbjNyZFBhcnR5VGVjaFVzZXIiXSwiY2xpZW50X2lkIjoiaWlvdHV4cGMtdGVzdGRtLXYxLjAuMDM5IiwiY2lkIjoiaWlvdHV4cGMtdGVzdGRtLXYxLjAuMDM5IiwiYXpwIjoiaWlvdHV4cGMtdGVzdGRtLXYxLjAuMDM5IiwiZ3JhbnRfdHlwZSI6ImNsaWVudF9jcmVkZW50aWFscyIsInJldl9zaWciOiI3ODA5MTVhNCIsImlhdCI6MTY3ODcyNjAxMiwiZXhwIjoxNjc4NzI3ODEyLCJpc3MiOiJodHRwczovL2lpb3R1eHBjLnBpYW0uZXUxLm1pbmRzcGhlcmUuaW8vb2F1dGgvdG9rZW4iLCJ6aWQiOiJpaW90dXhwYyIsImF1ZCI6WyJpYW0tYWN0aW9uLmNsaWVudF9jcmVkZW50aWFscyIsImlpb3R1eHBjLXRlc3RkbS12MS4wLjAzOSJdLCJ0ZW4iOiJpaW90dXhwYyIsInNjaGVtYXMiOlsidXJuOnNpZW1lbnM6bWluZHNwaGVyZTppYW06djEiXSwiY2F0IjoiY2xpZW50LXRva2VuOnYxIn0.jzREWaRnOOh6ep8KCy49caKu-Au-oI1m9zd6tl7U_Jy_UxjLpJBOf9mKq6Jwet20iJDI8g1ekgsPG_WqaQ0gf6_6xlQkk79TwFips3bxvXvk-XsAzIv_cSbdbpPKq3bk-Nn-U6eRoC1buVOBaqiXs1yKYc_NiJDfSUnZCLI78yp9-zV5f3w84D-rRCw9Oa9iM1myiKXc6_nf_-1sfuqV_KN5iR0EPmJ2vNCcLfewhhOrpqbUjij6Wk1D3UbBv6mYPOahHvK3t033Wbu3cuy9Z6h6-J7trlHu3723ZfNWT0Wfl8bPmpIKGGUkSBL4boDVF9pyC9ULm5TSFoTTNm4fLA\n",
      "Error:\n",
      "\t {\"timestamp\":\"2023-03-13T16:46:52.798+00:00\",\"status\":404,\"error\":\"Not Found\",\"message\":\"[6410] Unable to find the property set - station_status\",\"path\":\"/api/iottimeseries/v3/timeseries/f018a3e7cc4343efa5cc9eced3cc11d5/station_status\"}\n"
     ]
    },
    {
     "data": {
      "text/markdown": [
       "<span style='color:yellow'>13 March 17:46:51 |[External Service] System RCT completed. Next Service: 13 March 17:48:41</span>"
      ],
      "text/plain": [
       "<IPython.core.display.Markdown object>"
      ]
     },
     "metadata": {},
     "output_type": "display_data"
    },
    {
     "data": {
      "text/markdown": [
       "<span style='color:#3498DB'>13 March 17:48:41 |[Internal Service] Starting Synchronization</span>"
      ],
      "text/plain": [
       "<IPython.core.display.Markdown object>"
      ]
     },
     "metadata": {},
     "output_type": "display_data"
    },
    {
     "name": "stdout",
     "output_type": "stream",
     "text": [
      "eyJhbGciOiJSUzI1NiIsImprdSI6Imh0dHBzOi8vaWlvdHV4cGMucGlhbS5ldTEubWluZHNwaGVyZS5pby90b2tlbl9rZXlzIiwia2lkIjoia2V5LWlkLTMiLCJ0eXAiOiJKV1QifQ.eyJqdGkiOiIyN2U4OWU2YjBiYzM0ZTE0YTM2MWE0ODQyNmNiMWE2NyIsInN1YiI6Imlpb3R1eHBjLXRlc3RkbS12MS4wLjAzOSIsInNjb3BlIjpbImlhbS1hY3Rpb24uY2xpZW50X2NyZWRlbnRpYWxzLnVzZXItaW1wZXJzb25hdGlvbiIsIm1kc3A6Y29yZTpBZG1pbjNyZFBhcnR5VGVjaFVzZXIiXSwiY2xpZW50X2lkIjoiaWlvdHV4cGMtdGVzdGRtLXYxLjAuMDM5IiwiY2lkIjoiaWlvdHV4cGMtdGVzdGRtLXYxLjAuMDM5IiwiYXpwIjoiaWlvdHV4cGMtdGVzdGRtLXYxLjAuMDM5IiwiZ3JhbnRfdHlwZSI6ImNsaWVudF9jcmVkZW50aWFscyIsInJldl9zaWciOiI3ODA5MTVhNCIsImlhdCI6MTY3ODcyNjEyNywiZXhwIjoxNjc4NzI3OTI3LCJpc3MiOiJodHRwczovL2lpb3R1eHBjLnBpYW0uZXUxLm1pbmRzcGhlcmUuaW8vb2F1dGgvdG9rZW4iLCJ6aWQiOiJpaW90dXhwYyIsImF1ZCI6WyJpYW0tYWN0aW9uLmNsaWVudF9jcmVkZW50aWFscyIsImlpb3R1eHBjLXRlc3RkbS12MS4wLjAzOSJdLCJ0ZW4iOiJpaW90dXhwYyIsInNjaGVtYXMiOlsidXJuOnNpZW1lbnM6bWluZHNwaGVyZTppYW06djEiXSwiY2F0IjoiY2xpZW50LXRva2VuOnYxIn0.exgzRdAs2JJRrirz6WD4qCgido_8VWZfyoGM0a_sJiTBeYvm1bTgs-c68sRyJ_MPqS2MOJ6Is9vFclDvykYWLTN1wvuZgxRtQh10YgMPdC-pPThnMtJIgQQlUYjd5rcDBqzxiMEVnCyvepHubRiVawQx4lqHMAF1zK0QIwCGZVEQ6UKT2-g_RnwRWbJb__DG_-ef-AKhR49kquin63oK2keyIkcEDrDO3y9wtQ19Udz1fEA62AiFQsaD5azOgtQU4j8fnZGDMM5OKFt_fc8Vjt2wL5SZgxAb30I8QhtFsF6-Gmo-uOCzQQKGiMuZb8chUrr2xbLPpkDsiqXEpooQ7g\n",
      "Error:\n",
      "\t {\"timestamp\":\"2023-03-13T16:48:47.632+00:00\",\"status\":400,\"error\":\"Bad Request\",\"message\":\"[6014] Wrong data types defined for - data type [boolean] for property [station_1] does not match with the value [0]\",\"path\":\"/api/iottimeseries/v3/timeseries/7da127f5a566408db16e0aeace5181e9/station_status\"}\n",
      "eyJhbGciOiJSUzI1NiIsImprdSI6Imh0dHBzOi8vaWlvdHV4cGMucGlhbS5ldTEubWluZHNwaGVyZS5pby90b2tlbl9rZXlzIiwia2lkIjoia2V5LWlkLTMiLCJ0eXAiOiJKV1QifQ.eyJqdGkiOiIyN2U4OWU2YjBiYzM0ZTE0YTM2MWE0ODQyNmNiMWE2NyIsInN1YiI6Imlpb3R1eHBjLXRlc3RkbS12MS4wLjAzOSIsInNjb3BlIjpbImlhbS1hY3Rpb24uY2xpZW50X2NyZWRlbnRpYWxzLnVzZXItaW1wZXJzb25hdGlvbiIsIm1kc3A6Y29yZTpBZG1pbjNyZFBhcnR5VGVjaFVzZXIiXSwiY2xpZW50X2lkIjoiaWlvdHV4cGMtdGVzdGRtLXYxLjAuMDM5IiwiY2lkIjoiaWlvdHV4cGMtdGVzdGRtLXYxLjAuMDM5IiwiYXpwIjoiaWlvdHV4cGMtdGVzdGRtLXYxLjAuMDM5IiwiZ3JhbnRfdHlwZSI6ImNsaWVudF9jcmVkZW50aWFscyIsInJldl9zaWciOiI3ODA5MTVhNCIsImlhdCI6MTY3ODcyNjEyNywiZXhwIjoxNjc4NzI3OTI3LCJpc3MiOiJodHRwczovL2lpb3R1eHBjLnBpYW0uZXUxLm1pbmRzcGhlcmUuaW8vb2F1dGgvdG9rZW4iLCJ6aWQiOiJpaW90dXhwYyIsImF1ZCI6WyJpYW0tYWN0aW9uLmNsaWVudF9jcmVkZW50aWFscyIsImlpb3R1eHBjLXRlc3RkbS12MS4wLjAzOSJdLCJ0ZW4iOiJpaW90dXhwYyIsInNjaGVtYXMiOlsidXJuOnNpZW1lbnM6bWluZHNwaGVyZTppYW06djEiXSwiY2F0IjoiY2xpZW50LXRva2VuOnYxIn0.exgzRdAs2JJRrirz6WD4qCgido_8VWZfyoGM0a_sJiTBeYvm1bTgs-c68sRyJ_MPqS2MOJ6Is9vFclDvykYWLTN1wvuZgxRtQh10YgMPdC-pPThnMtJIgQQlUYjd5rcDBqzxiMEVnCyvepHubRiVawQx4lqHMAF1zK0QIwCGZVEQ6UKT2-g_RnwRWbJb__DG_-ef-AKhR49kquin63oK2keyIkcEDrDO3y9wtQ19Udz1fEA62AiFQsaD5azOgtQU4j8fnZGDMM5OKFt_fc8Vjt2wL5SZgxAb30I8QhtFsF6-Gmo-uOCzQQKGiMuZb8chUrr2xbLPpkDsiqXEpooQ7g\n",
      "Data PUT successfully.\n"
     ]
    },
    {
     "data": {
      "text/markdown": [
       "<span style='color:#3498DB'>13 March 17:48:48 |[Internal Service] System Synchronized. Next Sync: 13 March 17:50:41</span>"
      ],
      "text/plain": [
       "<IPython.core.display.Markdown object>"
      ]
     },
     "metadata": {},
     "output_type": "display_data"
    },
    {
     "data": {
      "text/markdown": [
       "<span style='color:yellow'>13 March 17:48:48 |[External Service] Starting RCT Service</span>"
      ],
      "text/plain": [
       "<IPython.core.display.Markdown object>"
      ]
     },
     "metadata": {},
     "output_type": "display_data"
    },
    {
     "name": "stdout",
     "output_type": "stream",
     "text": [
      "eyJhbGciOiJSUzI1NiIsImprdSI6Imh0dHBzOi8vaWlvdHV4cGMucGlhbS5ldTEubWluZHNwaGVyZS5pby90b2tlbl9rZXlzIiwia2lkIjoia2V5LWlkLTMiLCJ0eXAiOiJKV1QifQ.eyJqdGkiOiIwMWY2ODlmNWI2ZmY0ZTA0OTVhMWRlOTA4ZjRiZWQwMCIsInN1YiI6Imlpb3R1eHBjLXRlc3RkbS12MS4wLjAzOSIsInNjb3BlIjpbImlhbS1hY3Rpb24uY2xpZW50X2NyZWRlbnRpYWxzLnVzZXItaW1wZXJzb25hdGlvbiIsIm1kc3A6Y29yZTpBZG1pbjNyZFBhcnR5VGVjaFVzZXIiXSwiY2xpZW50X2lkIjoiaWlvdHV4cGMtdGVzdGRtLXYxLjAuMDM5IiwiY2lkIjoiaWlvdHV4cGMtdGVzdGRtLXYxLjAuMDM5IiwiYXpwIjoiaWlvdHV4cGMtdGVzdGRtLXYxLjAuMDM5IiwiZ3JhbnRfdHlwZSI6ImNsaWVudF9jcmVkZW50aWFscyIsInJldl9zaWciOiI3ODA5MTVhNCIsImlhdCI6MTY3ODcyNjEzMiwiZXhwIjoxNjc4NzI3OTMyLCJpc3MiOiJodHRwczovL2lpb3R1eHBjLnBpYW0uZXUxLm1pbmRzcGhlcmUuaW8vb2F1dGgvdG9rZW4iLCJ6aWQiOiJpaW90dXhwYyIsImF1ZCI6WyJpYW0tYWN0aW9uLmNsaWVudF9jcmVkZW50aWFscyIsImlpb3R1eHBjLXRlc3RkbS12MS4wLjAzOSJdLCJ0ZW4iOiJpaW90dXhwYyIsInNjaGVtYXMiOlsidXJuOnNpZW1lbnM6bWluZHNwaGVyZTppYW06djEiXSwiY2F0IjoiY2xpZW50LXRva2VuOnYxIn0.g2ixEpxdq_AtmomoLe11pW5msyE76BUc50f7BDXyBNoOpqiI5Aw9cWFfEN0FjXcANVHzxOHHTVnDtv8CBF5CAtUy1LT626sgwnM7-g5K-gGd6M6BeQrJ-LPUr9o4kR2aGjLlVhILx-xhXLYjWqvECyf2t79ulytG8AQucU9iwDJBxhnb2qr0nAPBDfI_dv7YTd0fj1kvWpR5-ouuClbpYvY3dhDsRCu_au-OFXmnXp-yAWMnKQHooWh5Fyrv6nJ8aPQeZ3XozB57a_jKdJJiEPiV1L258Zc6oAGrqfs2s-okvDC8enpXSKOeJrgL909YcokvMa4qGUEMbrsczW54aQ\n",
      "Error:\n",
      "\t {\"timestamp\":\"2023-03-13T16:48:53.176+00:00\",\"status\":404,\"error\":\"Not Found\",\"message\":\"[6410] Unable to find the property set - station_status\",\"path\":\"/api/iottimeseries/v3/timeseries/f018a3e7cc4343efa5cc9eced3cc11d5/station_status\"}\n"
     ]
    },
    {
     "data": {
      "text/markdown": [
       "<span style='color:yellow'>13 March 17:48:52 |[External Service] System RCT completed. Next Service: 13 March 17:50:41</span>"
      ],
      "text/plain": [
       "<IPython.core.display.Markdown object>"
      ]
     },
     "metadata": {},
     "output_type": "display_data"
    },
    {
     "data": {
      "text/markdown": [
       "<span style='color:#3498DB'>13 March 17:50:41 |[Internal Service] Starting Synchronization</span>"
      ],
      "text/plain": [
       "<IPython.core.display.Markdown object>"
      ]
     },
     "metadata": {},
     "output_type": "display_data"
    },
    {
     "name": "stdout",
     "output_type": "stream",
     "text": [
      "eyJhbGciOiJSUzI1NiIsImprdSI6Imh0dHBzOi8vaWlvdHV4cGMucGlhbS5ldTEubWluZHNwaGVyZS5pby90b2tlbl9rZXlzIiwia2lkIjoia2V5LWlkLTMiLCJ0eXAiOiJKV1QifQ.eyJqdGkiOiJkM2U4ZmJjMWJhZTg0YTBjYTk4MzNiYmQ4YzU3OGQwYiIsInN1YiI6Imlpb3R1eHBjLXRlc3RkbS12MS4wLjAzOSIsInNjb3BlIjpbImlhbS1hY3Rpb24uY2xpZW50X2NyZWRlbnRpYWxzLnVzZXItaW1wZXJzb25hdGlvbiIsIm1kc3A6Y29yZTpBZG1pbjNyZFBhcnR5VGVjaFVzZXIiXSwiY2xpZW50X2lkIjoiaWlvdHV4cGMtdGVzdGRtLXYxLjAuMDM5IiwiY2lkIjoiaWlvdHV4cGMtdGVzdGRtLXYxLjAuMDM5IiwiYXpwIjoiaWlvdHV4cGMtdGVzdGRtLXYxLjAuMDM5IiwiZ3JhbnRfdHlwZSI6ImNsaWVudF9jcmVkZW50aWFscyIsInJldl9zaWciOiI3ODA5MTVhNCIsImlhdCI6MTY3ODcyNjI0NSwiZXhwIjoxNjc4NzI4MDQ1LCJpc3MiOiJodHRwczovL2lpb3R1eHBjLnBpYW0uZXUxLm1pbmRzcGhlcmUuaW8vb2F1dGgvdG9rZW4iLCJ6aWQiOiJpaW90dXhwYyIsImF1ZCI6WyJpYW0tYWN0aW9uLmNsaWVudF9jcmVkZW50aWFscyIsImlpb3R1eHBjLXRlc3RkbS12MS4wLjAzOSJdLCJ0ZW4iOiJpaW90dXhwYyIsInNjaGVtYXMiOlsidXJuOnNpZW1lbnM6bWluZHNwaGVyZTppYW06djEiXSwiY2F0IjoiY2xpZW50LXRva2VuOnYxIn0.T_0dAEyBIEbHzZy_Pk5LgATWYUXQ92k2cJrFTY2WoMNbgt9QSuvSaWKNZcLcp4tbyhHH9F7_mRvsgP5G4a9r6uZDvVGdxb8D_sRjnP9zXtlNYiQUNDZak33Cvq6QKldUbG-fomBbuN4v2bCspgg-DCADP_1hU3ETp1fOFvfeRioowFLeZjPI34egqbBPyjBWFRFsHtak7kl5H5gIUWwwT4M0hmIXF9FW5AzQbXZTZWUdqEtOLIdoy3-HpGFbOOD_yAlxHIm9wTC27rsYNr24CuJ2SrmAAZsN-gCNzpBhH4PUkFbuDDXAhVMS4wFdf4BXmsa_iydXjdTR5SHuJsnVsQ\n",
      "Error:\n",
      "\t {\"timestamp\":\"2023-03-13T16:50:45.686+00:00\",\"status\":400,\"error\":\"Bad Request\",\"message\":\"[6014] Wrong data types defined for - data type [boolean] for property [station_1] does not match with the value [0]\",\"path\":\"/api/iottimeseries/v3/timeseries/7da127f5a566408db16e0aeace5181e9/station_status\"}\n",
      "eyJhbGciOiJSUzI1NiIsImprdSI6Imh0dHBzOi8vaWlvdHV4cGMucGlhbS5ldTEubWluZHNwaGVyZS5pby90b2tlbl9rZXlzIiwia2lkIjoia2V5LWlkLTMiLCJ0eXAiOiJKV1QifQ.eyJqdGkiOiI4NjA5NGQxNGVhMDQ0M2I4OTI0OWVlNGMzYWNhZWUwNyIsInN1YiI6Imlpb3R1eHBjLXRlc3RkbS12MS4wLjAzOSIsInNjb3BlIjpbImlhbS1hY3Rpb24uY2xpZW50X2NyZWRlbnRpYWxzLnVzZXItaW1wZXJzb25hdGlvbiIsIm1kc3A6Y29yZTpBZG1pbjNyZFBhcnR5VGVjaFVzZXIiXSwiY2xpZW50X2lkIjoiaWlvdHV4cGMtdGVzdGRtLXYxLjAuMDM5IiwiY2lkIjoiaWlvdHV4cGMtdGVzdGRtLXYxLjAuMDM5IiwiYXpwIjoiaWlvdHV4cGMtdGVzdGRtLXYxLjAuMDM5IiwiZ3JhbnRfdHlwZSI6ImNsaWVudF9jcmVkZW50aWFscyIsInJldl9zaWciOiI3ODA5MTVhNCIsImlhdCI6MTY3ODcyNjI0NiwiZXhwIjoxNjc4NzI4MDQ2LCJpc3MiOiJodHRwczovL2lpb3R1eHBjLnBpYW0uZXUxLm1pbmRzcGhlcmUuaW8vb2F1dGgvdG9rZW4iLCJ6aWQiOiJpaW90dXhwYyIsImF1ZCI6WyJpYW0tYWN0aW9uLmNsaWVudF9jcmVkZW50aWFscyIsImlpb3R1eHBjLXRlc3RkbS12MS4wLjAzOSJdLCJ0ZW4iOiJpaW90dXhwYyIsInNjaGVtYXMiOlsidXJuOnNpZW1lbnM6bWluZHNwaGVyZTppYW06djEiXSwiY2F0IjoiY2xpZW50LXRva2VuOnYxIn0.FcOCPvzz-o797Mo4JaHIlvhsblxjRyQYBYmhOzAyzKoAflr8RU26-AfyjpirGJF0t0DXs5ZoW0tl5L3vgcDCXaMdJJotsMPZjclv2xwWRwpxfpl3eG7P9HFOxFSiuIVzTjjnu_djlGJmbTZG2t3efTtP0HPvjzUKCKuAj5SiPOhZSzxBll3J4M4E1l2c7rbDg4iEJhEIhh1SQ3myHivv2DyLN_GTjYdum4zAbzxgMtdohxDwUPE_Ndc2W9IQfDXEPGPhzHGg7lgfyuo2GSYcIl0NR0yqI7XMqcp1vtzTkTuhTHGgejYdaOa6-2rHs_6gsRnnSZ9_k5xGRjN7BF3kow\n",
      "Data PUT successfully.\n"
     ]
    },
    {
     "data": {
      "text/markdown": [
       "<span style='color:#3498DB'>13 March 17:50:46 |[Internal Service] System Synchronized. Next Sync: 13 March 17:52:41</span>"
      ],
      "text/plain": [
       "<IPython.core.display.Markdown object>"
      ]
     },
     "metadata": {},
     "output_type": "display_data"
    },
    {
     "data": {
      "text/markdown": [
       "<span style='color:#7DCEA0'>13 March 17:50:46 |[Internal Service] Starting Validation</span>"
      ],
      "text/plain": [
       "<IPython.core.display.Markdown object>"
      ]
     },
     "metadata": {},
     "output_type": "display_data"
    },
    {
     "name": "stdout",
     "output_type": "stream",
     "text": [
      "eyJhbGciOiJSUzI1NiIsImprdSI6Imh0dHBzOi8vaWlvdHV4cGMucGlhbS5ldTEubWluZHNwaGVyZS5pby90b2tlbl9rZXlzIiwia2lkIjoia2V5LWlkLTMiLCJ0eXAiOiJKV1QifQ.eyJqdGkiOiJhOWQ5NGRjOTk4OTU0NjI2YTdkMmQxNWEwYTg1YTlhZSIsInN1YiI6Imlpb3R1eHBjLXRlc3RkbS12MS4wLjAzOSIsInNjb3BlIjpbImlhbS1hY3Rpb24uY2xpZW50X2NyZWRlbnRpYWxzLnVzZXItaW1wZXJzb25hdGlvbiIsIm1kc3A6Y29yZTpBZG1pbjNyZFBhcnR5VGVjaFVzZXIiXSwiY2xpZW50X2lkIjoiaWlvdHV4cGMtdGVzdGRtLXYxLjAuMDM5IiwiY2lkIjoiaWlvdHV4cGMtdGVzdGRtLXYxLjAuMDM5IiwiYXpwIjoiaWlvdHV4cGMtdGVzdGRtLXYxLjAuMDM5IiwiZ3JhbnRfdHlwZSI6ImNsaWVudF9jcmVkZW50aWFscyIsInJldl9zaWciOiI3ODA5MTVhNCIsImlhdCI6MTY3ODcyNjI1MCwiZXhwIjoxNjc4NzI4MDUwLCJpc3MiOiJodHRwczovL2lpb3R1eHBjLnBpYW0uZXUxLm1pbmRzcGhlcmUuaW8vb2F1dGgvdG9rZW4iLCJ6aWQiOiJpaW90dXhwYyIsImF1ZCI6WyJpYW0tYWN0aW9uLmNsaWVudF9jcmVkZW50aWFscyIsImlpb3R1eHBjLXRlc3RkbS12MS4wLjAzOSJdLCJ0ZW4iOiJpaW90dXhwYyIsInNjaGVtYXMiOlsidXJuOnNpZW1lbnM6bWluZHNwaGVyZTppYW06djEiXSwiY2F0IjoiY2xpZW50LXRva2VuOnYxIn0.n3JXDuEqtVy7QSY7B4K7-asvlt8JQyiMEHfFbusCWiDXZhCbVK_3DcF8FHBbc6MlUTKrz5Q06EFB5i_rlNZxB3E5IzOmabnzPNu6X8sLtU21yd6vSHE0XQs7wDYaNtTrRawDKw1wbPVXE6RWcZZKaaBh0nIuNFg90sGE_GF3McBqyIyDmBRXsAEeKN79UE8L5olJhAdBCGqjDx8qK2w91sNqjUW6-0qdRtHRaIkqNDYxGYsPj20aJwS3rq6c0Mxmrh27PiDUCHVbMGUxB3Vr4AE2uUasaof7V0XhrbRyMuWpJMK4Vv6DdJnuQBmxsSn2anNKj4KpZB_u_Z0phg2eiQ\n",
      "Data PUT successfully.\n"
     ]
    },
    {
     "data": {
      "text/markdown": [
       "<span style='color:#7DCEA0'>13 March 17:50:49 |[Internal Service] System Validated. Next Validation: 13 March 17:54:41</span>"
      ],
      "text/plain": [
       "<IPython.core.display.Markdown object>"
      ]
     },
     "metadata": {},
     "output_type": "display_data"
    },
    {
     "data": {
      "text/markdown": [
       "<span style='color:yellow'>13 March 17:50:49 |[External Service] Starting RCT Service</span>"
      ],
      "text/plain": [
       "<IPython.core.display.Markdown object>"
      ]
     },
     "metadata": {},
     "output_type": "display_data"
    },
    {
     "name": "stdout",
     "output_type": "stream",
     "text": [
      "eyJhbGciOiJSUzI1NiIsImprdSI6Imh0dHBzOi8vaWlvdHV4cGMucGlhbS5ldTEubWluZHNwaGVyZS5pby90b2tlbl9rZXlzIiwia2lkIjoia2V5LWlkLTMiLCJ0eXAiOiJKV1QifQ.eyJqdGkiOiI2NzJjZDhhZmEyZjc0NDdhYjdiNWM4OTg5OTUzYmYxOCIsInN1YiI6Imlpb3R1eHBjLXRlc3RkbS12MS4wLjAzOSIsInNjb3BlIjpbImlhbS1hY3Rpb24uY2xpZW50X2NyZWRlbnRpYWxzLnVzZXItaW1wZXJzb25hdGlvbiIsIm1kc3A6Y29yZTpBZG1pbjNyZFBhcnR5VGVjaFVzZXIiXSwiY2xpZW50X2lkIjoiaWlvdHV4cGMtdGVzdGRtLXYxLjAuMDM5IiwiY2lkIjoiaWlvdHV4cGMtdGVzdGRtLXYxLjAuMDM5IiwiYXpwIjoiaWlvdHV4cGMtdGVzdGRtLXYxLjAuMDM5IiwiZ3JhbnRfdHlwZSI6ImNsaWVudF9jcmVkZW50aWFscyIsInJldl9zaWciOiI3ODA5MTVhNCIsImlhdCI6MTY3ODcyNjI1MywiZXhwIjoxNjc4NzI4MDUzLCJpc3MiOiJodHRwczovL2lpb3R1eHBjLnBpYW0uZXUxLm1pbmRzcGhlcmUuaW8vb2F1dGgvdG9rZW4iLCJ6aWQiOiJpaW90dXhwYyIsImF1ZCI6WyJpYW0tYWN0aW9uLmNsaWVudF9jcmVkZW50aWFscyIsImlpb3R1eHBjLXRlc3RkbS12MS4wLjAzOSJdLCJ0ZW4iOiJpaW90dXhwYyIsInNjaGVtYXMiOlsidXJuOnNpZW1lbnM6bWluZHNwaGVyZTppYW06djEiXSwiY2F0IjoiY2xpZW50LXRva2VuOnYxIn0.vRFPyjsPlhnEzSVfbul5_QQAzHVga83iCKVnTqFZEoOUY7RPFzezBUfN3fi9wfAmO_9Xnpd_DKelMRhuQ-Bn10dJEK8NQmG4xESLVk5Kq24WeC-3nXMSYk4YZj0YNnvBdd6xR65xtCMirz4sRYGfghBNMW4UcUA5HTyJmIroZ0CR67ORsBrvoaNzLG2GXffGmxffcpHxsrO8oIPk4Rb3BdhWUtz4Sk-bCgXZsGJmWpboocMqox1HPBj1Hoh7Zj89vB_QRiMWKTLiQscOaEaIdYJfBN3_F9WTOO4HPV6xh7cKMQVxRsCORZomUu4WcJvabe5QSHjqRq2gvtj3j7AUuQ\n",
      "Error:\n",
      "\t {\"timestamp\":\"2023-03-13T16:50:54.008+00:00\",\"status\":404,\"error\":\"Not Found\",\"message\":\"[6410] Unable to find the property set - station_status\",\"path\":\"/api/iottimeseries/v3/timeseries/f018a3e7cc4343efa5cc9eced3cc11d5/station_status\"}\n"
     ]
    },
    {
     "data": {
      "text/markdown": [
       "<span style='color:yellow'>13 March 17:50:53 |[External Service] System RCT completed. Next Service: 13 March 17:52:41</span>"
      ],
      "text/plain": [
       "<IPython.core.display.Markdown object>"
      ]
     },
     "metadata": {},
     "output_type": "display_data"
    },
    {
     "data": {
      "text/markdown": [
       "<span style='color:#3498DB'>13 March 17:52:41 |[Internal Service] Starting Synchronization</span>"
      ],
      "text/plain": [
       "<IPython.core.display.Markdown object>"
      ]
     },
     "metadata": {},
     "output_type": "display_data"
    },
    {
     "name": "stdout",
     "output_type": "stream",
     "text": [
      "eyJhbGciOiJSUzI1NiIsImprdSI6Imh0dHBzOi8vaWlvdHV4cGMucGlhbS5ldTEubWluZHNwaGVyZS5pby90b2tlbl9rZXlzIiwia2lkIjoia2V5LWlkLTMiLCJ0eXAiOiJKV1QifQ.eyJqdGkiOiJiMTk3MTVjZDI3M2Y0ZWQ1ODY5Yjk4Mzc4NmEyNWRlYiIsInN1YiI6Imlpb3R1eHBjLXRlc3RkbS12MS4wLjAzOSIsInNjb3BlIjpbImlhbS1hY3Rpb24uY2xpZW50X2NyZWRlbnRpYWxzLnVzZXItaW1wZXJzb25hdGlvbiIsIm1kc3A6Y29yZTpBZG1pbjNyZFBhcnR5VGVjaFVzZXIiXSwiY2xpZW50X2lkIjoiaWlvdHV4cGMtdGVzdGRtLXYxLjAuMDM5IiwiY2lkIjoiaWlvdHV4cGMtdGVzdGRtLXYxLjAuMDM5IiwiYXpwIjoiaWlvdHV4cGMtdGVzdGRtLXYxLjAuMDM5IiwiZ3JhbnRfdHlwZSI6ImNsaWVudF9jcmVkZW50aWFscyIsInJldl9zaWciOiI3ODA5MTVhNCIsImlhdCI6MTY3ODcyNjM2NSwiZXhwIjoxNjc4NzI4MTY1LCJpc3MiOiJodHRwczovL2lpb3R1eHBjLnBpYW0uZXUxLm1pbmRzcGhlcmUuaW8vb2F1dGgvdG9rZW4iLCJ6aWQiOiJpaW90dXhwYyIsImF1ZCI6WyJpYW0tYWN0aW9uLmNsaWVudF9jcmVkZW50aWFscyIsImlpb3R1eHBjLXRlc3RkbS12MS4wLjAzOSJdLCJ0ZW4iOiJpaW90dXhwYyIsInNjaGVtYXMiOlsidXJuOnNpZW1lbnM6bWluZHNwaGVyZTppYW06djEiXSwiY2F0IjoiY2xpZW50LXRva2VuOnYxIn0.Iy_X39ACu7i5Z7HQGyOfdMVEzGuFnkH-DhV125O9FglmQne1oKJxalFjbdQiFgJ1DQFONQNizzU04mBoFKA19QFe97PrOy5Y6ZqfTIct2BGZGfbsak0QcEbH2_oOyutmlcX-ilXEZkKr5UGwkRbt07bAVnuAWJLWwnyqfibOw_I_SRrxyFy50yzy-Zhu6zZXDkke7lGo_TM3OLQ07qs2g_ds1kWBgJrr15tv42DzZMZ9bLLuVRx-7wHBH33Vddi1zZ0D_bjG9SJknO9Wh8iM4WMPS7lLHEVIhr1qY7tj0yjX5PbSOUvRicV_UqS2ydR3U4bC7dlxUE5AHbuVkUzsag\n",
      "Error:\n",
      "\t {\"timestamp\":\"2023-03-13T16:52:45.590+00:00\",\"status\":400,\"error\":\"Bad Request\",\"message\":\"[6014] Wrong data types defined for - data type [boolean] for property [station_1] does not match with the value [1]\",\"path\":\"/api/iottimeseries/v3/timeseries/7da127f5a566408db16e0aeace5181e9/station_status\"}\n",
      "eyJhbGciOiJSUzI1NiIsImprdSI6Imh0dHBzOi8vaWlvdHV4cGMucGlhbS5ldTEubWluZHNwaGVyZS5pby90b2tlbl9rZXlzIiwia2lkIjoia2V5LWlkLTMiLCJ0eXAiOiJKV1QifQ.eyJqdGkiOiIyNjQ1MTJlYjkwMmQ0N2Q5OTQ0OGU4NzI2Mzg0ZmUyZSIsInN1YiI6Imlpb3R1eHBjLXRlc3RkbS12MS4wLjAzOSIsInNjb3BlIjpbImlhbS1hY3Rpb24uY2xpZW50X2NyZWRlbnRpYWxzLnVzZXItaW1wZXJzb25hdGlvbiIsIm1kc3A6Y29yZTpBZG1pbjNyZFBhcnR5VGVjaFVzZXIiXSwiY2xpZW50X2lkIjoiaWlvdHV4cGMtdGVzdGRtLXYxLjAuMDM5IiwiY2lkIjoiaWlvdHV4cGMtdGVzdGRtLXYxLjAuMDM5IiwiYXpwIjoiaWlvdHV4cGMtdGVzdGRtLXYxLjAuMDM5IiwiZ3JhbnRfdHlwZSI6ImNsaWVudF9jcmVkZW50aWFscyIsInJldl9zaWciOiI3ODA5MTVhNCIsImlhdCI6MTY3ODcyNjM2NiwiZXhwIjoxNjc4NzI4MTY2LCJpc3MiOiJodHRwczovL2lpb3R1eHBjLnBpYW0uZXUxLm1pbmRzcGhlcmUuaW8vb2F1dGgvdG9rZW4iLCJ6aWQiOiJpaW90dXhwYyIsImF1ZCI6WyJpYW0tYWN0aW9uLmNsaWVudF9jcmVkZW50aWFscyIsImlpb3R1eHBjLXRlc3RkbS12MS4wLjAzOSJdLCJ0ZW4iOiJpaW90dXhwYyIsInNjaGVtYXMiOlsidXJuOnNpZW1lbnM6bWluZHNwaGVyZTppYW06djEiXSwiY2F0IjoiY2xpZW50LXRva2VuOnYxIn0.Lm0SSxweAugtjkXoB6p4z1_72_f8G-oC7qAEwoeTIQUNiRK5x_jN129c_3ybdrmNazlbks7SQcSk_ELwgT6V6mA0kPZ4Zj1wCJzj2C9fkQBdBEWGf58nuTR--ymvfRVize9ZnEkT2Yw8a_9996TlWrhOk5vz9tlQ08Dz6VBIpSzQJXvFNrONeyoOn_pY4MG6JUsjExR2kw8-00pcGbVSoirNKa6gAQ0kKtkscni5vI7_AymfSi9D91dIvPUaHESrF3p8ar_cwSXSkur5zYAU4Y30gCBezwcFO7yLD1_Fp5z-yTZjnRVEAL9Rw_A2WrhFmofCb8PH0k57LMP3aIHpcQ\n",
      "Data PUT successfully.\n"
     ]
    },
    {
     "data": {
      "text/markdown": [
       "<span style='color:#3498DB'>13 March 17:52:45 |[Internal Service] System Synchronized. Next Sync: 13 March 17:54:41</span>"
      ],
      "text/plain": [
       "<IPython.core.display.Markdown object>"
      ]
     },
     "metadata": {},
     "output_type": "display_data"
    },
    {
     "data": {
      "text/markdown": [
       "<span style='color:yellow'>13 March 17:52:45 |[External Service] Starting RCT Service</span>"
      ],
      "text/plain": [
       "<IPython.core.display.Markdown object>"
      ]
     },
     "metadata": {},
     "output_type": "display_data"
    },
    {
     "name": "stdout",
     "output_type": "stream",
     "text": [
      "eyJhbGciOiJSUzI1NiIsImprdSI6Imh0dHBzOi8vaWlvdHV4cGMucGlhbS5ldTEubWluZHNwaGVyZS5pby90b2tlbl9rZXlzIiwia2lkIjoia2V5LWlkLTMiLCJ0eXAiOiJKV1QifQ.eyJqdGkiOiI3YjgyYzQ2NWVjOWQ0OGY2YjlkODhlMDI2ZTg2YWM4MyIsInN1YiI6Imlpb3R1eHBjLXRlc3RkbS12MS4wLjAzOSIsInNjb3BlIjpbImlhbS1hY3Rpb24uY2xpZW50X2NyZWRlbnRpYWxzLnVzZXItaW1wZXJzb25hdGlvbiIsIm1kc3A6Y29yZTpBZG1pbjNyZFBhcnR5VGVjaFVzZXIiXSwiY2xpZW50X2lkIjoiaWlvdHV4cGMtdGVzdGRtLXYxLjAuMDM5IiwiY2lkIjoiaWlvdHV4cGMtdGVzdGRtLXYxLjAuMDM5IiwiYXpwIjoiaWlvdHV4cGMtdGVzdGRtLXYxLjAuMDM5IiwiZ3JhbnRfdHlwZSI6ImNsaWVudF9jcmVkZW50aWFscyIsInJldl9zaWciOiI3ODA5MTVhNCIsImlhdCI6MTY3ODcyNjM3MCwiZXhwIjoxNjc4NzI4MTcwLCJpc3MiOiJodHRwczovL2lpb3R1eHBjLnBpYW0uZXUxLm1pbmRzcGhlcmUuaW8vb2F1dGgvdG9rZW4iLCJ6aWQiOiJpaW90dXhwYyIsImF1ZCI6WyJpYW0tYWN0aW9uLmNsaWVudF9jcmVkZW50aWFscyIsImlpb3R1eHBjLXRlc3RkbS12MS4wLjAzOSJdLCJ0ZW4iOiJpaW90dXhwYyIsInNjaGVtYXMiOlsidXJuOnNpZW1lbnM6bWluZHNwaGVyZTppYW06djEiXSwiY2F0IjoiY2xpZW50LXRva2VuOnYxIn0.R90mptxY7A0050EQbln6E5pCOb_MJQMnv1eHedNWYNoWHUvMMUeJVanSEbjNV7W7VsOAx3FLZV_tnzqBAomVqp1Eg-ZV8XIHosfLrxbi_XRwN1xXwpVPg1sYSFXSp6MGH1DvnDX6mjNp4QTTf9bbVcZgylNP23fc3hw8eXp0x4ykmBORUMWb1NkaCy_89FyWbEiBCzamMr9jse-Rq0Wsq8j2-mYU98SAWhhdpCvcwN-IwxPQkZSZYjgcKpMQC1xNcTcgb2_MWdTXYI8GnOkdLpXSOcgAKA-sjhJDtKf3tG2QcYBi8oaZJ9nCdXzmSqzHXqTQqf7fUllANFEURd5tNQ\n",
      "Error:\n",
      "\t {\"timestamp\":\"2023-03-13T16:52:50.831+00:00\",\"status\":404,\"error\":\"Not Found\",\"message\":\"[6410] Unable to find the property set - station_status\",\"path\":\"/api/iottimeseries/v3/timeseries/f018a3e7cc4343efa5cc9eced3cc11d5/station_status\"}\n"
     ]
    },
    {
     "data": {
      "text/markdown": [
       "<span style='color:yellow'>13 March 17:52:49 |[External Service] System RCT completed. Next Service: 13 March 17:54:41</span>"
      ],
      "text/plain": [
       "<IPython.core.display.Markdown object>"
      ]
     },
     "metadata": {},
     "output_type": "display_data"
    },
    {
     "data": {
      "text/markdown": [
       "<span style='color:#3498DB'>13 March 17:54:41 |[Internal Service] Starting Synchronization</span>"
      ],
      "text/plain": [
       "<IPython.core.display.Markdown object>"
      ]
     },
     "metadata": {},
     "output_type": "display_data"
    },
    {
     "name": "stdout",
     "output_type": "stream",
     "text": [
      "eyJhbGciOiJSUzI1NiIsImprdSI6Imh0dHBzOi8vaWlvdHV4cGMucGlhbS5ldTEubWluZHNwaGVyZS5pby90b2tlbl9rZXlzIiwia2lkIjoia2V5LWlkLTMiLCJ0eXAiOiJKV1QifQ.eyJqdGkiOiI0M2RkNTJmODk4NGM0MjZlYTNlZjBhMjU4ZTY0Nzk5OSIsInN1YiI6Imlpb3R1eHBjLXRlc3RkbS12MS4wLjAzOSIsInNjb3BlIjpbImlhbS1hY3Rpb24uY2xpZW50X2NyZWRlbnRpYWxzLnVzZXItaW1wZXJzb25hdGlvbiIsIm1kc3A6Y29yZTpBZG1pbjNyZFBhcnR5VGVjaFVzZXIiXSwiY2xpZW50X2lkIjoiaWlvdHV4cGMtdGVzdGRtLXYxLjAuMDM5IiwiY2lkIjoiaWlvdHV4cGMtdGVzdGRtLXYxLjAuMDM5IiwiYXpwIjoiaWlvdHV4cGMtdGVzdGRtLXYxLjAuMDM5IiwiZ3JhbnRfdHlwZSI6ImNsaWVudF9jcmVkZW50aWFscyIsInJldl9zaWciOiI3ODA5MTVhNCIsImlhdCI6MTY3ODcyNjQ4NSwiZXhwIjoxNjc4NzI4Mjg1LCJpc3MiOiJodHRwczovL2lpb3R1eHBjLnBpYW0uZXUxLm1pbmRzcGhlcmUuaW8vb2F1dGgvdG9rZW4iLCJ6aWQiOiJpaW90dXhwYyIsImF1ZCI6WyJpYW0tYWN0aW9uLmNsaWVudF9jcmVkZW50aWFscyIsImlpb3R1eHBjLXRlc3RkbS12MS4wLjAzOSJdLCJ0ZW4iOiJpaW90dXhwYyIsInNjaGVtYXMiOlsidXJuOnNpZW1lbnM6bWluZHNwaGVyZTppYW06djEiXSwiY2F0IjoiY2xpZW50LXRva2VuOnYxIn0.rymhmzB0uA4zz3rHRKi_EwrjbJSFPHLRppmFYLBetW_1gPVcbtNUWo51-1Nxh6u5J9wXeAtZ99ZKmJYRzCZSS96TZe0al-4ew5pxLasXDy7p1JTpJBjV5on6mKayu4FgDNx-naMNuB_DcQnxX5ZFtzSDnTIgCJjMMZVKu_rCsp5wC2RLpxIC6I2ciUrqh-SmHIeKqMtr49LCxFH-hPw7HbQa0q7Kd2WZjI2J8Q2SJK2W1rRlfP49RPBeMAuwlvgEumU5oy1rG-Jp_EbonC3C6VSG6CyvUa1ky10ojltbz1AREQrpR609SE7ruShRVtDsoDcA4KiEUNRwl-oXn99EmA\n",
      "Error:\n",
      "\t {\"timestamp\":\"2023-03-13T16:54:45.524+00:00\",\"status\":400,\"error\":\"Bad Request\",\"message\":\"[6014] Wrong data types defined for - data type [boolean] for property [station_1] does not match with the value [0]\",\"path\":\"/api/iottimeseries/v3/timeseries/7da127f5a566408db16e0aeace5181e9/station_status\"}\n",
      "eyJhbGciOiJSUzI1NiIsImprdSI6Imh0dHBzOi8vaWlvdHV4cGMucGlhbS5ldTEubWluZHNwaGVyZS5pby90b2tlbl9rZXlzIiwia2lkIjoia2V5LWlkLTMiLCJ0eXAiOiJKV1QifQ.eyJqdGkiOiIwM2QyYjY0ZjI0OTI0ODU0OTVhNGI5YjdiNzUyNjEzNiIsInN1YiI6Imlpb3R1eHBjLXRlc3RkbS12MS4wLjAzOSIsInNjb3BlIjpbImlhbS1hY3Rpb24uY2xpZW50X2NyZWRlbnRpYWxzLnVzZXItaW1wZXJzb25hdGlvbiIsIm1kc3A6Y29yZTpBZG1pbjNyZFBhcnR5VGVjaFVzZXIiXSwiY2xpZW50X2lkIjoiaWlvdHV4cGMtdGVzdGRtLXYxLjAuMDM5IiwiY2lkIjoiaWlvdHV4cGMtdGVzdGRtLXYxLjAuMDM5IiwiYXpwIjoiaWlvdHV4cGMtdGVzdGRtLXYxLjAuMDM5IiwiZ3JhbnRfdHlwZSI6ImNsaWVudF9jcmVkZW50aWFscyIsInJldl9zaWciOiI3ODA5MTVhNCIsImlhdCI6MTY3ODcyNjQ4NiwiZXhwIjoxNjc4NzI4Mjg2LCJpc3MiOiJodHRwczovL2lpb3R1eHBjLnBpYW0uZXUxLm1pbmRzcGhlcmUuaW8vb2F1dGgvdG9rZW4iLCJ6aWQiOiJpaW90dXhwYyIsImF1ZCI6WyJpYW0tYWN0aW9uLmNsaWVudF9jcmVkZW50aWFscyIsImlpb3R1eHBjLXRlc3RkbS12MS4wLjAzOSJdLCJ0ZW4iOiJpaW90dXhwYyIsInNjaGVtYXMiOlsidXJuOnNpZW1lbnM6bWluZHNwaGVyZTppYW06djEiXSwiY2F0IjoiY2xpZW50LXRva2VuOnYxIn0.QWety0IlLgpdqYxv3sf50ja4n8UyTpRh6e57flsfuybeQ1Lf_cUwMSR8tbbqbNsUC8kVlDRLhUpBWdCaIOC5ZdpI8snxVKvOdsVk7lAlGfAT3YvY37vPYG4ANteRXDiM4N59O81rXHCeLGFRBVYRBI22YSmce5Tn3NiAFmEAbRZgZP8oSYPyK-eqpbgSnnwa_yfZz54_TAw7Wt4orcb2Jowut07KKuTpbF0A7gq9_FnA_vf1Anc_7K--szEgYwxnG77xmVCXE5Anqi6vB3wUPnEYavBwmHZm2n1emqsA-GvitOA1iEJaLy-nqNscEKwT1s_3iGAqOe9d_f8Mu_nrbg\n",
      "Data PUT successfully.\n"
     ]
    },
    {
     "data": {
      "text/markdown": [
       "<span style='color:#3498DB'>13 March 17:54:45 |[Internal Service] System Synchronized. Next Sync: 13 March 17:56:41</span>"
      ],
      "text/plain": [
       "<IPython.core.display.Markdown object>"
      ]
     },
     "metadata": {},
     "output_type": "display_data"
    },
    {
     "data": {
      "text/markdown": [
       "<span style='color:#7DCEA0'>13 March 17:54:45 |[Internal Service] Starting Validation</span>"
      ],
      "text/plain": [
       "<IPython.core.display.Markdown object>"
      ]
     },
     "metadata": {},
     "output_type": "display_data"
    },
    {
     "name": "stdout",
     "output_type": "stream",
     "text": [
      "eyJhbGciOiJSUzI1NiIsImprdSI6Imh0dHBzOi8vaWlvdHV4cGMucGlhbS5ldTEubWluZHNwaGVyZS5pby90b2tlbl9rZXlzIiwia2lkIjoia2V5LWlkLTMiLCJ0eXAiOiJKV1QifQ.eyJqdGkiOiI0OTMwODFlM2VmZTc0NmQwYTk0ODZhNzRlNTA3MWJlMyIsInN1YiI6Imlpb3R1eHBjLXRlc3RkbS12MS4wLjAzOSIsInNjb3BlIjpbImlhbS1hY3Rpb24uY2xpZW50X2NyZWRlbnRpYWxzLnVzZXItaW1wZXJzb25hdGlvbiIsIm1kc3A6Y29yZTpBZG1pbjNyZFBhcnR5VGVjaFVzZXIiXSwiY2xpZW50X2lkIjoiaWlvdHV4cGMtdGVzdGRtLXYxLjAuMDM5IiwiY2lkIjoiaWlvdHV4cGMtdGVzdGRtLXYxLjAuMDM5IiwiYXpwIjoiaWlvdHV4cGMtdGVzdGRtLXYxLjAuMDM5IiwiZ3JhbnRfdHlwZSI6ImNsaWVudF9jcmVkZW50aWFscyIsInJldl9zaWciOiI3ODA5MTVhNCIsImlhdCI6MTY3ODcyNjQ4OSwiZXhwIjoxNjc4NzI4Mjg5LCJpc3MiOiJodHRwczovL2lpb3R1eHBjLnBpYW0uZXUxLm1pbmRzcGhlcmUuaW8vb2F1dGgvdG9rZW4iLCJ6aWQiOiJpaW90dXhwYyIsImF1ZCI6WyJpYW0tYWN0aW9uLmNsaWVudF9jcmVkZW50aWFscyIsImlpb3R1eHBjLXRlc3RkbS12MS4wLjAzOSJdLCJ0ZW4iOiJpaW90dXhwYyIsInNjaGVtYXMiOlsidXJuOnNpZW1lbnM6bWluZHNwaGVyZTppYW06djEiXSwiY2F0IjoiY2xpZW50LXRva2VuOnYxIn0.qGGyzTWPAzTJo0S74AZnRjbfquyyE-6Bky6CVKGNNsYnPgAHTxCR5V_I2Gxvm84-7mYvxJAKG2P9yh4vb8vjmM1klmv9SOPFNTluerz4JxmPXUP3IM7b3VC-zu7PYGumYnL1JPJr6QF5IqtZSMzsHHso-kmN0Ud80lI8kNF5tr3SskVSJc_uR68nVaoWF1lyrgR5a31p_Y-KB6cPad76djgTztq2mCHFULZwFoEJUtIZMdaR5qHc-HpqddfmvPTy1gNr8MrT-ACLmElLBrun9UzUFdR9TZlLEF3dScVR6PRn7w1nAinRAo6vJ2ChbW2TG3uvnyu-UNYP0Z549Agwbw\n",
      "Data PUT successfully.\n"
     ]
    },
    {
     "data": {
      "text/markdown": [
       "<span style='color:#7DCEA0'>13 March 17:54:49 |[Internal Service] System Validated. Next Validation: 13 March 17:58:41</span>"
      ],
      "text/plain": [
       "<IPython.core.display.Markdown object>"
      ]
     },
     "metadata": {},
     "output_type": "display_data"
    },
    {
     "data": {
      "text/markdown": [
       "<span style='color:yellow'>13 March 17:54:49 |[External Service] Starting RCT Service</span>"
      ],
      "text/plain": [
       "<IPython.core.display.Markdown object>"
      ]
     },
     "metadata": {},
     "output_type": "display_data"
    },
    {
     "name": "stdout",
     "output_type": "stream",
     "text": [
      "eyJhbGciOiJSUzI1NiIsImprdSI6Imh0dHBzOi8vaWlvdHV4cGMucGlhbS5ldTEubWluZHNwaGVyZS5pby90b2tlbl9rZXlzIiwia2lkIjoia2V5LWlkLTMiLCJ0eXAiOiJKV1QifQ.eyJqdGkiOiJhY2MwNTZhOTZhOWM0NzU4OGU2ZWMxMmQxN2VhZGI5NyIsInN1YiI6Imlpb3R1eHBjLXRlc3RkbS12MS4wLjAzOSIsInNjb3BlIjpbImlhbS1hY3Rpb24uY2xpZW50X2NyZWRlbnRpYWxzLnVzZXItaW1wZXJzb25hdGlvbiIsIm1kc3A6Y29yZTpBZG1pbjNyZFBhcnR5VGVjaFVzZXIiXSwiY2xpZW50X2lkIjoiaWlvdHV4cGMtdGVzdGRtLXYxLjAuMDM5IiwiY2lkIjoiaWlvdHV4cGMtdGVzdGRtLXYxLjAuMDM5IiwiYXpwIjoiaWlvdHV4cGMtdGVzdGRtLXYxLjAuMDM5IiwiZ3JhbnRfdHlwZSI6ImNsaWVudF9jcmVkZW50aWFscyIsInJldl9zaWciOiI3ODA5MTVhNCIsImlhdCI6MTY3ODcyNjQ5MiwiZXhwIjoxNjc4NzI4MjkyLCJpc3MiOiJodHRwczovL2lpb3R1eHBjLnBpYW0uZXUxLm1pbmRzcGhlcmUuaW8vb2F1dGgvdG9rZW4iLCJ6aWQiOiJpaW90dXhwYyIsImF1ZCI6WyJpYW0tYWN0aW9uLmNsaWVudF9jcmVkZW50aWFscyIsImlpb3R1eHBjLXRlc3RkbS12MS4wLjAzOSJdLCJ0ZW4iOiJpaW90dXhwYyIsInNjaGVtYXMiOlsidXJuOnNpZW1lbnM6bWluZHNwaGVyZTppYW06djEiXSwiY2F0IjoiY2xpZW50LXRva2VuOnYxIn0.a9oUZ-GUmGBe68JJYMZouF-v6meIRFyTj2kR8r_5PCqCHHPlbeS4JIDbcgPswcIOuGmNSVBj4C0wh3Q9NGMRe8kmqd8hXIEHE7ImaCUNjNo6SJIzV_ackyoXoLZxhc78DaDbJhrTwyFCGeAO63gOnlZiZ7riz8u5L8Mc8ljqr1i8ngLbVYqSJzWkOrGnYJiqfvwAD4BX7Vp0XpUwfK8uzpIFMSWBPI3s_AUixpbnbgsND1J7tHpPjuZCtWsUANPEUph_pPgViHX5225zDpNckSL-IiBcMTGfGXWqQ7kd0kQJTZ-Y2puQipQMrH4cRBd6tqpssOHHySwiBJ5ub2q-QA\n",
      "Error:\n",
      "\t {\"timestamp\":\"2023-03-13T16:54:52.781+00:00\",\"status\":404,\"error\":\"Not Found\",\"message\":\"[6410] Unable to find the property set - station_status\",\"path\":\"/api/iottimeseries/v3/timeseries/f018a3e7cc4343efa5cc9eced3cc11d5/station_status\"}\n"
     ]
    },
    {
     "data": {
      "text/markdown": [
       "<span style='color:yellow'>13 March 17:54:51 |[External Service] System RCT completed. Next Service: 13 March 17:56:41</span>"
      ],
      "text/plain": [
       "<IPython.core.display.Markdown object>"
      ]
     },
     "metadata": {},
     "output_type": "display_data"
    },
    {
     "data": {
      "text/markdown": [
       "<span style='color:#3498DB'>13 March 17:56:41 |[Internal Service] Starting Synchronization</span>"
      ],
      "text/plain": [
       "<IPython.core.display.Markdown object>"
      ]
     },
     "metadata": {},
     "output_type": "display_data"
    },
    {
     "name": "stdout",
     "output_type": "stream",
     "text": [
      "eyJhbGciOiJSUzI1NiIsImprdSI6Imh0dHBzOi8vaWlvdHV4cGMucGlhbS5ldTEubWluZHNwaGVyZS5pby90b2tlbl9rZXlzIiwia2lkIjoia2V5LWlkLTMiLCJ0eXAiOiJKV1QifQ.eyJqdGkiOiI3YjMxNWUxOTQ0Mzg0ZmExYmVhMzAyMjIxY2ZkOWZkZCIsInN1YiI6Imlpb3R1eHBjLXRlc3RkbS12MS4wLjAzOSIsInNjb3BlIjpbImlhbS1hY3Rpb24uY2xpZW50X2NyZWRlbnRpYWxzLnVzZXItaW1wZXJzb25hdGlvbiIsIm1kc3A6Y29yZTpBZG1pbjNyZFBhcnR5VGVjaFVzZXIiXSwiY2xpZW50X2lkIjoiaWlvdHV4cGMtdGVzdGRtLXYxLjAuMDM5IiwiY2lkIjoiaWlvdHV4cGMtdGVzdGRtLXYxLjAuMDM5IiwiYXpwIjoiaWlvdHV4cGMtdGVzdGRtLXYxLjAuMDM5IiwiZ3JhbnRfdHlwZSI6ImNsaWVudF9jcmVkZW50aWFscyIsInJldl9zaWciOiI3ODA5MTVhNCIsImlhdCI6MTY3ODcyNjYwNSwiZXhwIjoxNjc4NzI4NDA1LCJpc3MiOiJodHRwczovL2lpb3R1eHBjLnBpYW0uZXUxLm1pbmRzcGhlcmUuaW8vb2F1dGgvdG9rZW4iLCJ6aWQiOiJpaW90dXhwYyIsImF1ZCI6WyJpYW0tYWN0aW9uLmNsaWVudF9jcmVkZW50aWFscyIsImlpb3R1eHBjLXRlc3RkbS12MS4wLjAzOSJdLCJ0ZW4iOiJpaW90dXhwYyIsInNjaGVtYXMiOlsidXJuOnNpZW1lbnM6bWluZHNwaGVyZTppYW06djEiXSwiY2F0IjoiY2xpZW50LXRva2VuOnYxIn0.YzQrbIw9_EujFK0Wb3ju1gQLLHyrQqU6RNB9LLpDh9J65OvCDgsPk1O2ijQNgRArJPOg7VC_eKdV8Nfq4NeENyfwf1hTMLdktmldXZRpkNbOhsCUm1ZvtPIWtu-fWgcfA2c85iPDEOv1cGNWIO5OCkm51uuXD1mOcsspglzek_tdEDheGPMQU-VNTkRWt_zhWeQq8TXM06Bxf6K4Q0nlxOPHuuMrhJxj_DncmkZYXbBcsmRMSpjTY4K_zzp_G-Sr_BChjpQtIO0Z6nYja4xFEzW1BmA9eYAiym6ZpLVdqjK1xl-B6CPDkYe_K4k72kemlvyrJtC3rUs03vvDprkgQw\n",
      "Error:\n",
      "\t {\"timestamp\":\"2023-03-13T16:56:45.632+00:00\",\"status\":400,\"error\":\"Bad Request\",\"message\":\"[6014] Wrong data types defined for - data type [boolean] for property [station_1] does not match with the value [0]\",\"path\":\"/api/iottimeseries/v3/timeseries/7da127f5a566408db16e0aeace5181e9/station_status\"}\n",
      "eyJhbGciOiJSUzI1NiIsImprdSI6Imh0dHBzOi8vaWlvdHV4cGMucGlhbS5ldTEubWluZHNwaGVyZS5pby90b2tlbl9rZXlzIiwia2lkIjoia2V5LWlkLTMiLCJ0eXAiOiJKV1QifQ.eyJqdGkiOiI5Y2E5ODYzNDE1OTA0MzExYmUzZTZjMjk2ZDdhNjM2MyIsInN1YiI6Imlpb3R1eHBjLXRlc3RkbS12MS4wLjAzOSIsInNjb3BlIjpbImlhbS1hY3Rpb24uY2xpZW50X2NyZWRlbnRpYWxzLnVzZXItaW1wZXJzb25hdGlvbiIsIm1kc3A6Y29yZTpBZG1pbjNyZFBhcnR5VGVjaFVzZXIiXSwiY2xpZW50X2lkIjoiaWlvdHV4cGMtdGVzdGRtLXYxLjAuMDM5IiwiY2lkIjoiaWlvdHV4cGMtdGVzdGRtLXYxLjAuMDM5IiwiYXpwIjoiaWlvdHV4cGMtdGVzdGRtLXYxLjAuMDM5IiwiZ3JhbnRfdHlwZSI6ImNsaWVudF9jcmVkZW50aWFscyIsInJldl9zaWciOiI3ODA5MTVhNCIsImlhdCI6MTY3ODcyNjYwNiwiZXhwIjoxNjc4NzI4NDA2LCJpc3MiOiJodHRwczovL2lpb3R1eHBjLnBpYW0uZXUxLm1pbmRzcGhlcmUuaW8vb2F1dGgvdG9rZW4iLCJ6aWQiOiJpaW90dXhwYyIsImF1ZCI6WyJpYW0tYWN0aW9uLmNsaWVudF9jcmVkZW50aWFscyIsImlpb3R1eHBjLXRlc3RkbS12MS4wLjAzOSJdLCJ0ZW4iOiJpaW90dXhwYyIsInNjaGVtYXMiOlsidXJuOnNpZW1lbnM6bWluZHNwaGVyZTppYW06djEiXSwiY2F0IjoiY2xpZW50LXRva2VuOnYxIn0.pacSRQ-yhYJwooxdIXa4SyiNVSe7yu_Z8LVGlLC8RwSKi_OZx3Iqu8NwwNotKpYgcDidGLUzY0n5wqs8AeYfYJ3Hek2WN2Tb6QTdjtmY-NkoCo8KJF_HU_U2kPQDfYqoJrGJXu1Twbmnm-GT_iKUsHhBHLv1_mSaEOZNe4xpIqaCCWzplYFA3yO73KVPIAOCthTY6OTIRGa6O2NEq1kYKePSaB12OmAXBKbLzJJ17ycZpom_0qjX2v3wB5QKASfQ8Z2LAQ1GyOe6T2l6m-JQsAl2nG6wQl8nu5SKzTFe8FKLapOFR1ylPgPXxYDJkrhE6wxRZYyccMBwWjCaV3lUKQ\n",
      "Data PUT successfully.\n"
     ]
    },
    {
     "data": {
      "text/markdown": [
       "<span style='color:#3498DB'>13 March 17:56:46 |[Internal Service] System Synchronized. Next Sync: 13 March 17:58:41</span>"
      ],
      "text/plain": [
       "<IPython.core.display.Markdown object>"
      ]
     },
     "metadata": {},
     "output_type": "display_data"
    },
    {
     "data": {
      "text/markdown": [
       "<span style='color:yellow'>13 March 17:56:46 |[External Service] Starting RCT Service</span>"
      ],
      "text/plain": [
       "<IPython.core.display.Markdown object>"
      ]
     },
     "metadata": {},
     "output_type": "display_data"
    },
    {
     "name": "stdout",
     "output_type": "stream",
     "text": [
      "eyJhbGciOiJSUzI1NiIsImprdSI6Imh0dHBzOi8vaWlvdHV4cGMucGlhbS5ldTEubWluZHNwaGVyZS5pby90b2tlbl9rZXlzIiwia2lkIjoia2V5LWlkLTMiLCJ0eXAiOiJKV1QifQ.eyJqdGkiOiIwMzMzMmI3YzNhOWY0Zjc5YmFkZmQ5MWE4NmQzOGVlNSIsInN1YiI6Imlpb3R1eHBjLXRlc3RkbS12MS4wLjAzOSIsInNjb3BlIjpbImlhbS1hY3Rpb24uY2xpZW50X2NyZWRlbnRpYWxzLnVzZXItaW1wZXJzb25hdGlvbiIsIm1kc3A6Y29yZTpBZG1pbjNyZFBhcnR5VGVjaFVzZXIiXSwiY2xpZW50X2lkIjoiaWlvdHV4cGMtdGVzdGRtLXYxLjAuMDM5IiwiY2lkIjoiaWlvdHV4cGMtdGVzdGRtLXYxLjAuMDM5IiwiYXpwIjoiaWlvdHV4cGMtdGVzdGRtLXYxLjAuMDM5IiwiZ3JhbnRfdHlwZSI6ImNsaWVudF9jcmVkZW50aWFscyIsInJldl9zaWciOiI3ODA5MTVhNCIsImlhdCI6MTY3ODcyNjYwOSwiZXhwIjoxNjc4NzI4NDA5LCJpc3MiOiJodHRwczovL2lpb3R1eHBjLnBpYW0uZXUxLm1pbmRzcGhlcmUuaW8vb2F1dGgvdG9rZW4iLCJ6aWQiOiJpaW90dXhwYyIsImF1ZCI6WyJpYW0tYWN0aW9uLmNsaWVudF9jcmVkZW50aWFscyIsImlpb3R1eHBjLXRlc3RkbS12MS4wLjAzOSJdLCJ0ZW4iOiJpaW90dXhwYyIsInNjaGVtYXMiOlsidXJuOnNpZW1lbnM6bWluZHNwaGVyZTppYW06djEiXSwiY2F0IjoiY2xpZW50LXRva2VuOnYxIn0.R_7o2bGGtwWfx3bi9ENVeurFzz7EbNbVmZlugjD9iPhNtdiXlZq24FrOopiyhwblfEUA_9YaRBBZSTVTrslFFgTCSF7sD57_wqCJncHN8MO-8Zj2WegD2weHSZ902UnU9cpsu3Jy9_fneu6pd1PnRsWnI9cv-nytK70epXV53edTDzZqFGZ2EwlH6NlPomgq2ZGqNxOJgLBir_FWNXKtV3I6Q1wI3S5XwZr4hKi1BF1BeUnPH28xeFFM3p8h6rakiae5Drd6P7nszoQBeAI1KtAFzs7ruuqW0983wWiMeT4sJxMVbcpQejFvh7ghyZLz4rNyWBXLFGtIsadAJWch4g\n",
      "Error:\n",
      "\t {\"timestamp\":\"2023-03-13T16:56:49.970+00:00\",\"status\":404,\"error\":\"Not Found\",\"message\":\"[6410] Unable to find the property set - station_status\",\"path\":\"/api/iottimeseries/v3/timeseries/f018a3e7cc4343efa5cc9eced3cc11d5/station_status\"}\n"
     ]
    },
    {
     "data": {
      "text/markdown": [
       "<span style='color:yellow'>13 March 17:56:49 |[External Service] System RCT completed. Next Service: 13 March 17:58:41</span>"
      ],
      "text/plain": [
       "<IPython.core.display.Markdown object>"
      ]
     },
     "metadata": {},
     "output_type": "display_data"
    },
    {
     "data": {
      "text/markdown": [
       "<span style='color:#3498DB'>13 March 17:58:41 |[Internal Service] Starting Synchronization</span>"
      ],
      "text/plain": [
       "<IPython.core.display.Markdown object>"
      ]
     },
     "metadata": {},
     "output_type": "display_data"
    },
    {
     "name": "stdout",
     "output_type": "stream",
     "text": [
      "eyJhbGciOiJSUzI1NiIsImprdSI6Imh0dHBzOi8vaWlvdHV4cGMucGlhbS5ldTEubWluZHNwaGVyZS5pby90b2tlbl9rZXlzIiwia2lkIjoia2V5LWlkLTMiLCJ0eXAiOiJKV1QifQ.eyJqdGkiOiIwN2I3ZjQ1YWM4MWQ0NTk2YjFhMWM2MTE2YmMwNDQ1MyIsInN1YiI6Imlpb3R1eHBjLXRlc3RkbS12MS4wLjAzOSIsInNjb3BlIjpbImlhbS1hY3Rpb24uY2xpZW50X2NyZWRlbnRpYWxzLnVzZXItaW1wZXJzb25hdGlvbiIsIm1kc3A6Y29yZTpBZG1pbjNyZFBhcnR5VGVjaFVzZXIiXSwiY2xpZW50X2lkIjoiaWlvdHV4cGMtdGVzdGRtLXYxLjAuMDM5IiwiY2lkIjoiaWlvdHV4cGMtdGVzdGRtLXYxLjAuMDM5IiwiYXpwIjoiaWlvdHV4cGMtdGVzdGRtLXYxLjAuMDM5IiwiZ3JhbnRfdHlwZSI6ImNsaWVudF9jcmVkZW50aWFscyIsInJldl9zaWciOiI3ODA5MTVhNCIsImlhdCI6MTY3ODcyNjcyNSwiZXhwIjoxNjc4NzI4NTI1LCJpc3MiOiJodHRwczovL2lpb3R1eHBjLnBpYW0uZXUxLm1pbmRzcGhlcmUuaW8vb2F1dGgvdG9rZW4iLCJ6aWQiOiJpaW90dXhwYyIsImF1ZCI6WyJpYW0tYWN0aW9uLmNsaWVudF9jcmVkZW50aWFscyIsImlpb3R1eHBjLXRlc3RkbS12MS4wLjAzOSJdLCJ0ZW4iOiJpaW90dXhwYyIsInNjaGVtYXMiOlsidXJuOnNpZW1lbnM6bWluZHNwaGVyZTppYW06djEiXSwiY2F0IjoiY2xpZW50LXRva2VuOnYxIn0.buz8DJhmVh-lVCdMZ9A62VVMFA8eVs66fmofAPdCc5_rr5JunAfHrcNqY_YfAt5bfvpJritPiBl9h2uY6GX5Wc7tWRKi85RdvlYCUpe0aHpRHf224_ISLeAC8RTIc3FCO-4HJLlAIMIldm4yOgrUm3sQ-iqMunROngMIgdgZ2PyQmu9wZKqvS_4QjRVr3Tt0i-ccxLbpnZUEvg3v8xGs7itRFhjfd3IFRWEVlD2Ju6tfJdAqR6xDR0kV2tlQy969n_dhDX_xX8ssNbo7o9y22DlIkVTsulyAC4sdmNZhA3iiT8PtMe8RuNXEzjU4ceexd9XNa5i-Yu7LdU4jkwjOjQ\n",
      "Error:\n",
      "\t {\"timestamp\":\"2023-03-13T16:58:45.865+00:00\",\"status\":400,\"error\":\"Bad Request\",\"message\":\"[6014] Wrong data types defined for - data type [boolean] for property [station_1] does not match with the value [1]\",\"path\":\"/api/iottimeseries/v3/timeseries/7da127f5a566408db16e0aeace5181e9/station_status\"}\n",
      "eyJhbGciOiJSUzI1NiIsImprdSI6Imh0dHBzOi8vaWlvdHV4cGMucGlhbS5ldTEubWluZHNwaGVyZS5pby90b2tlbl9rZXlzIiwia2lkIjoia2V5LWlkLTMiLCJ0eXAiOiJKV1QifQ.eyJqdGkiOiJkNTExOGNmMGQ3ZjA0NjJiODQ4NGQ2MTIxN2U0ZjNmNiIsInN1YiI6Imlpb3R1eHBjLXRlc3RkbS12MS4wLjAzOSIsInNjb3BlIjpbImlhbS1hY3Rpb24uY2xpZW50X2NyZWRlbnRpYWxzLnVzZXItaW1wZXJzb25hdGlvbiIsIm1kc3A6Y29yZTpBZG1pbjNyZFBhcnR5VGVjaFVzZXIiXSwiY2xpZW50X2lkIjoiaWlvdHV4cGMtdGVzdGRtLXYxLjAuMDM5IiwiY2lkIjoiaWlvdHV4cGMtdGVzdGRtLXYxLjAuMDM5IiwiYXpwIjoiaWlvdHV4cGMtdGVzdGRtLXYxLjAuMDM5IiwiZ3JhbnRfdHlwZSI6ImNsaWVudF9jcmVkZW50aWFscyIsInJldl9zaWciOiI3ODA5MTVhNCIsImlhdCI6MTY3ODcyNjcyNiwiZXhwIjoxNjc4NzI4NTI2LCJpc3MiOiJodHRwczovL2lpb3R1eHBjLnBpYW0uZXUxLm1pbmRzcGhlcmUuaW8vb2F1dGgvdG9rZW4iLCJ6aWQiOiJpaW90dXhwYyIsImF1ZCI6WyJpYW0tYWN0aW9uLmNsaWVudF9jcmVkZW50aWFscyIsImlpb3R1eHBjLXRlc3RkbS12MS4wLjAzOSJdLCJ0ZW4iOiJpaW90dXhwYyIsInNjaGVtYXMiOlsidXJuOnNpZW1lbnM6bWluZHNwaGVyZTppYW06djEiXSwiY2F0IjoiY2xpZW50LXRva2VuOnYxIn0.GzXQE5RioRTQxoX8VVb84N24WfMeyo9kbC1C829BBSrm5wBVRR9cjmqGS96hzIEozpdQXP8Xwo0Nj2qYazrjS3yVq4RmLsvPgn0nwGBPl8a5jFVsq1dlQxsbnknrZyomO8lkFNEDeZBwu9CmTlXF1ph6Bqm7-aMNMUuu9IWVjNVJq1kCSEBZtbvuj2MzO9zTFW5UJEcSaGrUe5vBvgfMgBTk8zbd1WbTMXxQc-wW5pibCuuwPu9UWcWU-N0YmrYRY8DyxczLoSbdhCcybLmGVsNxa3Fyrl0n91dhw-3wpRQRFiQZCd7mneG4mTT8IEQniCLlHE0OQFNZbLhc9-eiuQ\n",
      "Data PUT successfully.\n"
     ]
    },
    {
     "data": {
      "text/markdown": [
       "<span style='color:#3498DB'>13 March 17:58:46 |[Internal Service] System Synchronized. Next Sync: 13 March 18:00:41</span>"
      ],
      "text/plain": [
       "<IPython.core.display.Markdown object>"
      ]
     },
     "metadata": {},
     "output_type": "display_data"
    },
    {
     "data": {
      "text/markdown": [
       "<span style='color:#7DCEA0'>13 March 17:58:46 |[Internal Service] Starting Validation</span>"
      ],
      "text/plain": [
       "<IPython.core.display.Markdown object>"
      ]
     },
     "metadata": {},
     "output_type": "display_data"
    },
    {
     "name": "stdout",
     "output_type": "stream",
     "text": [
      "eyJhbGciOiJSUzI1NiIsImprdSI6Imh0dHBzOi8vaWlvdHV4cGMucGlhbS5ldTEubWluZHNwaGVyZS5pby90b2tlbl9rZXlzIiwia2lkIjoia2V5LWlkLTMiLCJ0eXAiOiJKV1QifQ.eyJqdGkiOiJjYzg1ZjA3ZmM5M2U0NWYwYTE3YzhlNzk4NDEyNTZkNSIsInN1YiI6Imlpb3R1eHBjLXRlc3RkbS12MS4wLjAzOSIsInNjb3BlIjpbImlhbS1hY3Rpb24uY2xpZW50X2NyZWRlbnRpYWxzLnVzZXItaW1wZXJzb25hdGlvbiIsIm1kc3A6Y29yZTpBZG1pbjNyZFBhcnR5VGVjaFVzZXIiXSwiY2xpZW50X2lkIjoiaWlvdHV4cGMtdGVzdGRtLXYxLjAuMDM5IiwiY2lkIjoiaWlvdHV4cGMtdGVzdGRtLXYxLjAuMDM5IiwiYXpwIjoiaWlvdHV4cGMtdGVzdGRtLXYxLjAuMDM5IiwiZ3JhbnRfdHlwZSI6ImNsaWVudF9jcmVkZW50aWFscyIsInJldl9zaWciOiI3ODA5MTVhNCIsImlhdCI6MTY3ODcyNjcyOSwiZXhwIjoxNjc4NzI4NTI5LCJpc3MiOiJodHRwczovL2lpb3R1eHBjLnBpYW0uZXUxLm1pbmRzcGhlcmUuaW8vb2F1dGgvdG9rZW4iLCJ6aWQiOiJpaW90dXhwYyIsImF1ZCI6WyJpYW0tYWN0aW9uLmNsaWVudF9jcmVkZW50aWFscyIsImlpb3R1eHBjLXRlc3RkbS12MS4wLjAzOSJdLCJ0ZW4iOiJpaW90dXhwYyIsInNjaGVtYXMiOlsidXJuOnNpZW1lbnM6bWluZHNwaGVyZTppYW06djEiXSwiY2F0IjoiY2xpZW50LXRva2VuOnYxIn0.nLYFoe2FswmfPKjhvikdQ-I8lkF_odd5AUxKx8RmjUUv9cpgGu8BnJ6XmUNivGGofXK9Xy-sAH6ImJY91DtLzg5pt3WQwF3NDxIo9s0RtENAd0yNCV28pIR4TD-BVRKWhQ4QVRgOu44WUbJdN5V3ABq-3frnko65MngZ_5hMGMI7wdRJ0yy10oRbzkQj1Qj3OFvD-Hp5zqKnHP_XfERrqBAZSJqtQs8YYAUXLEhOYQAo_ujIqX2wIG3RK4GpeR_CsqOgjhuXjt7VeDkwPAR3Drn8-KUHW9bW4zfm__UL-0dA0ZkMDPbc7nX1jZ21H2VCJsLqGuW5WlkaFKgJSZApyQ\n",
      "Data PUT successfully.\n"
     ]
    },
    {
     "data": {
      "text/markdown": [
       "<span style='color:#7DCEA0'>13 March 17:58:49 |[Internal Service] System Validated. Next Validation: 13 March 18:02:41</span>"
      ],
      "text/plain": [
       "<IPython.core.display.Markdown object>"
      ]
     },
     "metadata": {},
     "output_type": "display_data"
    },
    {
     "data": {
      "text/markdown": [
       "<span style='color:yellow'>13 March 17:58:49 |[External Service] Starting RCT Service</span>"
      ],
      "text/plain": [
       "<IPython.core.display.Markdown object>"
      ]
     },
     "metadata": {},
     "output_type": "display_data"
    },
    {
     "name": "stdout",
     "output_type": "stream",
     "text": [
      "eyJhbGciOiJSUzI1NiIsImprdSI6Imh0dHBzOi8vaWlvdHV4cGMucGlhbS5ldTEubWluZHNwaGVyZS5pby90b2tlbl9rZXlzIiwia2lkIjoia2V5LWlkLTMiLCJ0eXAiOiJKV1QifQ.eyJqdGkiOiI0YTcyYjMzYTJkYjA0Mzk2OGU4MjIzZmRlN2YwZTQxOSIsInN1YiI6Imlpb3R1eHBjLXRlc3RkbS12MS4wLjAzOSIsInNjb3BlIjpbImlhbS1hY3Rpb24uY2xpZW50X2NyZWRlbnRpYWxzLnVzZXItaW1wZXJzb25hdGlvbiIsIm1kc3A6Y29yZTpBZG1pbjNyZFBhcnR5VGVjaFVzZXIiXSwiY2xpZW50X2lkIjoiaWlvdHV4cGMtdGVzdGRtLXYxLjAuMDM5IiwiY2lkIjoiaWlvdHV4cGMtdGVzdGRtLXYxLjAuMDM5IiwiYXpwIjoiaWlvdHV4cGMtdGVzdGRtLXYxLjAuMDM5IiwiZ3JhbnRfdHlwZSI6ImNsaWVudF9jcmVkZW50aWFscyIsInJldl9zaWciOiI3ODA5MTVhNCIsImlhdCI6MTY3ODcyNjczMiwiZXhwIjoxNjc4NzI4NTMyLCJpc3MiOiJodHRwczovL2lpb3R1eHBjLnBpYW0uZXUxLm1pbmRzcGhlcmUuaW8vb2F1dGgvdG9rZW4iLCJ6aWQiOiJpaW90dXhwYyIsImF1ZCI6WyJpYW0tYWN0aW9uLmNsaWVudF9jcmVkZW50aWFscyIsImlpb3R1eHBjLXRlc3RkbS12MS4wLjAzOSJdLCJ0ZW4iOiJpaW90dXhwYyIsInNjaGVtYXMiOlsidXJuOnNpZW1lbnM6bWluZHNwaGVyZTppYW06djEiXSwiY2F0IjoiY2xpZW50LXRva2VuOnYxIn0.hbWGAxCb6ldQ7ijzYD6aBh_AnGZvN2Ib1AkAgI5YSO-PzhE3Fg_UNoHzijk0G4OIX9DqClOx4SUE-dumFTahI6706dpKIoDDd9X60kVNneRe7M_vnl3FIuxDAtNwjK4Lgca1T8eBDJbhkcFH4SH5WD05pP-aguWldX44snwT9WZ76ambAaCN8E9-nVlAAZs-cYV5x4ymy_5iLhsX6yWcZIffXC8NogUdOnvLu2skbqEFtvlf-cA6vP-o6mWUcsmMQpSstNfUVYxqfTgbNErO9tyB8uzrUBhnPGqtKpwWLD30PjpIvuq8DzL0fHvnJJ9USci3aOTWFcUIXrVXJAlpvg\n",
      "Error:\n",
      "\t {\"timestamp\":\"2023-03-13T16:58:53.214+00:00\",\"status\":404,\"error\":\"Not Found\",\"message\":\"[6410] Unable to find the property set - station_status\",\"path\":\"/api/iottimeseries/v3/timeseries/f018a3e7cc4343efa5cc9eced3cc11d5/station_status\"}\n"
     ]
    },
    {
     "data": {
      "text/markdown": [
       "<span style='color:yellow'>13 March 17:58:52 |[External Service] System RCT completed. Next Service: 13 March 18:00:41</span>"
      ],
      "text/plain": [
       "<IPython.core.display.Markdown object>"
      ]
     },
     "metadata": {},
     "output_type": "display_data"
    },
    {
     "data": {
      "text/markdown": [
       "<span style='color:#3498DB'>13 March 18:00:41 |[Internal Service] Starting Synchronization</span>"
      ],
      "text/plain": [
       "<IPython.core.display.Markdown object>"
      ]
     },
     "metadata": {},
     "output_type": "display_data"
    },
    {
     "name": "stdout",
     "output_type": "stream",
     "text": [
      "eyJhbGciOiJSUzI1NiIsImprdSI6Imh0dHBzOi8vaWlvdHV4cGMucGlhbS5ldTEubWluZHNwaGVyZS5pby90b2tlbl9rZXlzIiwia2lkIjoia2V5LWlkLTMiLCJ0eXAiOiJKV1QifQ.eyJqdGkiOiI5MjU3Njk1ZDc0YWE0ZmY0OTI2OWJiMzZlZjE0MGM0MiIsInN1YiI6Imlpb3R1eHBjLXRlc3RkbS12MS4wLjAzOSIsInNjb3BlIjpbImlhbS1hY3Rpb24uY2xpZW50X2NyZWRlbnRpYWxzLnVzZXItaW1wZXJzb25hdGlvbiIsIm1kc3A6Y29yZTpBZG1pbjNyZFBhcnR5VGVjaFVzZXIiXSwiY2xpZW50X2lkIjoiaWlvdHV4cGMtdGVzdGRtLXYxLjAuMDM5IiwiY2lkIjoiaWlvdHV4cGMtdGVzdGRtLXYxLjAuMDM5IiwiYXpwIjoiaWlvdHV4cGMtdGVzdGRtLXYxLjAuMDM5IiwiZ3JhbnRfdHlwZSI6ImNsaWVudF9jcmVkZW50aWFscyIsInJldl9zaWciOiI3ODA5MTVhNCIsImlhdCI6MTY3ODcyNjg0NSwiZXhwIjoxNjc4NzI4NjQ1LCJpc3MiOiJodHRwczovL2lpb3R1eHBjLnBpYW0uZXUxLm1pbmRzcGhlcmUuaW8vb2F1dGgvdG9rZW4iLCJ6aWQiOiJpaW90dXhwYyIsImF1ZCI6WyJpYW0tYWN0aW9uLmNsaWVudF9jcmVkZW50aWFscyIsImlpb3R1eHBjLXRlc3RkbS12MS4wLjAzOSJdLCJ0ZW4iOiJpaW90dXhwYyIsInNjaGVtYXMiOlsidXJuOnNpZW1lbnM6bWluZHNwaGVyZTppYW06djEiXSwiY2F0IjoiY2xpZW50LXRva2VuOnYxIn0.gw8Zz5bpjBU9CswDSBsNI3Jl1IQLLj3bcNzUGF5E9ve8lbdRZ773wVZhsPRsNhgWb6sRecnvJ9AvS3T9j2CwdKr0pJqV1F_cMjNUGyPeQPrZVWPiQIlnK858vVK6x2LakNRxHMer35EGdnOYb6L53MbCBAdQHQBzpheVuyAPkT6XLxTas-OtHFm_8hjyTvN50g3lSNhpUJrkXiHEH1ZqPg4qlgEd8lWw2JDC_txcMfY4wURrAJxPVzUDjvEFer9-2Itx7A91BfdAvnooeF8r2_HnnIAkzbclZ57XI3Tsz7dn7Ts70phGslLN5d2srPqVvnlkSTsHLQ16EZBB0XAjpA\n",
      "Error:\n",
      "\t {\"timestamp\":\"2023-03-13T17:00:45.849+00:00\",\"status\":400,\"error\":\"Bad Request\",\"message\":\"[6014] Wrong data types defined for - data type [boolean] for property [station_1] does not match with the value [1]\",\"path\":\"/api/iottimeseries/v3/timeseries/7da127f5a566408db16e0aeace5181e9/station_status\"}\n",
      "eyJhbGciOiJSUzI1NiIsImprdSI6Imh0dHBzOi8vaWlvdHV4cGMucGlhbS5ldTEubWluZHNwaGVyZS5pby90b2tlbl9rZXlzIiwia2lkIjoia2V5LWlkLTMiLCJ0eXAiOiJKV1QifQ.eyJqdGkiOiJlMTc4YTc2ZWQwNmQ0YzQ1OTBkZTNhNWU1MGU4NzBmOCIsInN1YiI6Imlpb3R1eHBjLXRlc3RkbS12MS4wLjAzOSIsInNjb3BlIjpbImlhbS1hY3Rpb24uY2xpZW50X2NyZWRlbnRpYWxzLnVzZXItaW1wZXJzb25hdGlvbiIsIm1kc3A6Y29yZTpBZG1pbjNyZFBhcnR5VGVjaFVzZXIiXSwiY2xpZW50X2lkIjoiaWlvdHV4cGMtdGVzdGRtLXYxLjAuMDM5IiwiY2lkIjoiaWlvdHV4cGMtdGVzdGRtLXYxLjAuMDM5IiwiYXpwIjoiaWlvdHV4cGMtdGVzdGRtLXYxLjAuMDM5IiwiZ3JhbnRfdHlwZSI6ImNsaWVudF9jcmVkZW50aWFscyIsInJldl9zaWciOiI3ODA5MTVhNCIsImlhdCI6MTY3ODcyNjg0NiwiZXhwIjoxNjc4NzI4NjQ2LCJpc3MiOiJodHRwczovL2lpb3R1eHBjLnBpYW0uZXUxLm1pbmRzcGhlcmUuaW8vb2F1dGgvdG9rZW4iLCJ6aWQiOiJpaW90dXhwYyIsImF1ZCI6WyJpYW0tYWN0aW9uLmNsaWVudF9jcmVkZW50aWFscyIsImlpb3R1eHBjLXRlc3RkbS12MS4wLjAzOSJdLCJ0ZW4iOiJpaW90dXhwYyIsInNjaGVtYXMiOlsidXJuOnNpZW1lbnM6bWluZHNwaGVyZTppYW06djEiXSwiY2F0IjoiY2xpZW50LXRva2VuOnYxIn0.f_CUfPKJEsEWpyZyQ4xRBk4_susDSfrucZMWBKMRpzDlLbGgllcGTteRsv9Gz_AEzYODuZAw7JSRIpj9JR3y7tYWBnn82IZsngUOw2mjxy1AB6hcoJA1Dkr6rxfDKSEnjIOFyY7CHF1psNb_pr-kG2OO14apzc1PY_eXK1NJxH9KL7CREzuWezPB_ENHktimNilP0ZDF0P6UxUYMkPu_WSDgx-shZPjqjBXNfh276-xisyLOR_fc6NKgML_sEqxFYr5WpI9HQts9EMXzf5qdaag99A4CqRGPMK401_9YBbTF_ekkCSlJIPvSvY0simOJfcnkF7Z7PrNxfdCr_Vplsw\n",
      "Data PUT successfully.\n"
     ]
    },
    {
     "data": {
      "text/markdown": [
       "<span style='color:#3498DB'>13 March 18:00:47 |[Internal Service] System Synchronized. Next Sync: 13 March 18:02:41</span>"
      ],
      "text/plain": [
       "<IPython.core.display.Markdown object>"
      ]
     },
     "metadata": {},
     "output_type": "display_data"
    },
    {
     "data": {
      "text/markdown": [
       "<span style='color:yellow'>13 March 18:00:47 |[External Service] Starting RCT Service</span>"
      ],
      "text/plain": [
       "<IPython.core.display.Markdown object>"
      ]
     },
     "metadata": {},
     "output_type": "display_data"
    },
    {
     "name": "stdout",
     "output_type": "stream",
     "text": [
      "eyJhbGciOiJSUzI1NiIsImprdSI6Imh0dHBzOi8vaWlvdHV4cGMucGlhbS5ldTEubWluZHNwaGVyZS5pby90b2tlbl9rZXlzIiwia2lkIjoia2V5LWlkLTMiLCJ0eXAiOiJKV1QifQ.eyJqdGkiOiJiZDQ1ZjQ0NjFhMWQ0M2IzOTVkOTY1NTZkODk3NTM2NCIsInN1YiI6Imlpb3R1eHBjLXRlc3RkbS12MS4wLjAzOSIsInNjb3BlIjpbImlhbS1hY3Rpb24uY2xpZW50X2NyZWRlbnRpYWxzLnVzZXItaW1wZXJzb25hdGlvbiIsIm1kc3A6Y29yZTpBZG1pbjNyZFBhcnR5VGVjaFVzZXIiXSwiY2xpZW50X2lkIjoiaWlvdHV4cGMtdGVzdGRtLXYxLjAuMDM5IiwiY2lkIjoiaWlvdHV4cGMtdGVzdGRtLXYxLjAuMDM5IiwiYXpwIjoiaWlvdHV4cGMtdGVzdGRtLXYxLjAuMDM5IiwiZ3JhbnRfdHlwZSI6ImNsaWVudF9jcmVkZW50aWFscyIsInJldl9zaWciOiI3ODA5MTVhNCIsImlhdCI6MTY3ODcyNjg1MSwiZXhwIjoxNjc4NzI4NjUxLCJpc3MiOiJodHRwczovL2lpb3R1eHBjLnBpYW0uZXUxLm1pbmRzcGhlcmUuaW8vb2F1dGgvdG9rZW4iLCJ6aWQiOiJpaW90dXhwYyIsImF1ZCI6WyJpYW0tYWN0aW9uLmNsaWVudF9jcmVkZW50aWFscyIsImlpb3R1eHBjLXRlc3RkbS12MS4wLjAzOSJdLCJ0ZW4iOiJpaW90dXhwYyIsInNjaGVtYXMiOlsidXJuOnNpZW1lbnM6bWluZHNwaGVyZTppYW06djEiXSwiY2F0IjoiY2xpZW50LXRva2VuOnYxIn0.RmfPrXghXTVofDGK6UNBATozdzUTd-CnPQ9W_VaWm6SLVPtw3-ciWrNaIGCE9BquD_gye2moYC05rYGdhLv5pC6EcWICHe1Csc-cpI4ZCxmnWwvIY4uhwg-0oh-5SzkwFqhavPIItnHRjxt8nsHDSj4EOZwheW3nJ_Jh3nHfml5oQPbti1NXZp5h6g-8OYKCpJtEdH4ES0BAOE-jUgBBbtDEILCsPu0EuWcoc5WOOsBezQL4_dmjGg4wKm4TLwA2DQkxASMESShVNzZLJqLNwf6t9HknsoIBq3u30pXO00jLlhCFR83WbtDT0YHJKyV5vzrXux_SA5wjwSz5qdvBUg\n",
      "Error:\n",
      "\t {\"timestamp\":\"2023-03-13T17:00:51.427+00:00\",\"status\":404,\"error\":\"Not Found\",\"message\":\"[6410] Unable to find the property set - station_status\",\"path\":\"/api/iottimeseries/v3/timeseries/f018a3e7cc4343efa5cc9eced3cc11d5/station_status\"}\n"
     ]
    },
    {
     "data": {
      "text/markdown": [
       "<span style='color:yellow'>13 March 18:00:50 |[External Service] System RCT completed. Next Service: 13 March 18:02:41</span>"
      ],
      "text/plain": [
       "<IPython.core.display.Markdown object>"
      ]
     },
     "metadata": {},
     "output_type": "display_data"
    },
    {
     "data": {
      "text/markdown": [
       "<span style='color:#3498DB'>13 March 18:02:41 |[Internal Service] Starting Synchronization</span>"
      ],
      "text/plain": [
       "<IPython.core.display.Markdown object>"
      ]
     },
     "metadata": {},
     "output_type": "display_data"
    },
    {
     "name": "stdout",
     "output_type": "stream",
     "text": [
      "eyJhbGciOiJSUzI1NiIsImprdSI6Imh0dHBzOi8vaWlvdHV4cGMucGlhbS5ldTEubWluZHNwaGVyZS5pby90b2tlbl9rZXlzIiwia2lkIjoia2V5LWlkLTMiLCJ0eXAiOiJKV1QifQ.eyJqdGkiOiJiZTkzMDE1NzUzZjU0MmI1ODU5ODQxNWUxYzRjNjBmYSIsInN1YiI6Imlpb3R1eHBjLXRlc3RkbS12MS4wLjAzOSIsInNjb3BlIjpbImlhbS1hY3Rpb24uY2xpZW50X2NyZWRlbnRpYWxzLnVzZXItaW1wZXJzb25hdGlvbiIsIm1kc3A6Y29yZTpBZG1pbjNyZFBhcnR5VGVjaFVzZXIiXSwiY2xpZW50X2lkIjoiaWlvdHV4cGMtdGVzdGRtLXYxLjAuMDM5IiwiY2lkIjoiaWlvdHV4cGMtdGVzdGRtLXYxLjAuMDM5IiwiYXpwIjoiaWlvdHV4cGMtdGVzdGRtLXYxLjAuMDM5IiwiZ3JhbnRfdHlwZSI6ImNsaWVudF9jcmVkZW50aWFscyIsInJldl9zaWciOiI3ODA5MTVhNCIsImlhdCI6MTY3ODcyNjk3MCwiZXhwIjoxNjc4NzI4NzcwLCJpc3MiOiJodHRwczovL2lpb3R1eHBjLnBpYW0uZXUxLm1pbmRzcGhlcmUuaW8vb2F1dGgvdG9rZW4iLCJ6aWQiOiJpaW90dXhwYyIsImF1ZCI6WyJpYW0tYWN0aW9uLmNsaWVudF9jcmVkZW50aWFscyIsImlpb3R1eHBjLXRlc3RkbS12MS4wLjAzOSJdLCJ0ZW4iOiJpaW90dXhwYyIsInNjaGVtYXMiOlsidXJuOnNpZW1lbnM6bWluZHNwaGVyZTppYW06djEiXSwiY2F0IjoiY2xpZW50LXRva2VuOnYxIn0.L2btgLfoeZyj8otxzc97vY7TDvTw7wOGgYRu9qJj2haSMba4Plx130QmUOFC5CQvHAe2o5_mHIEAQE9MlxbqDTg2bcdLnTSZIksn5YmIPVvhxKVHPSEW63dchPXkzFU_CHm1yWcwTP3HomCFlkb9UTRb6skEKJEUqoCy8gn-BHitR2KFvb6F0fgFns7yrlRFW4aPXO6kQEAVWzh_SnYADUvlbG9mPYY-SCyx5g6rV5pyXKvXzUEL4mV4AFYKyEGKXTIKgu18CJB_m-YuMVjw4l7rVY1vG2Te3XV4bt6BNtfYy8NRtok8U_Dwa0ljXgzij-z2eSqENlcrdKVSODbx4A\n",
      "Error:\n",
      "\t {\"timestamp\":\"2023-03-13T17:02:51.024+00:00\",\"status\":400,\"error\":\"Bad Request\",\"message\":\"[6014] Wrong data types defined for - data type [boolean] for property [station_1] does not match with the value [0]\",\"path\":\"/api/iottimeseries/v3/timeseries/7da127f5a566408db16e0aeace5181e9/station_status\"}\n",
      "eyJhbGciOiJSUzI1NiIsImprdSI6Imh0dHBzOi8vaWlvdHV4cGMucGlhbS5ldTEubWluZHNwaGVyZS5pby90b2tlbl9rZXlzIiwia2lkIjoia2V5LWlkLTMiLCJ0eXAiOiJKV1QifQ.eyJqdGkiOiIwNDQ5ZTQ3ZDRmYmY0YjhhOTg4ZGU2NWQ4ZWE2NTAwMyIsInN1YiI6Imlpb3R1eHBjLXRlc3RkbS12MS4wLjAzOSIsInNjb3BlIjpbImlhbS1hY3Rpb24uY2xpZW50X2NyZWRlbnRpYWxzLnVzZXItaW1wZXJzb25hdGlvbiIsIm1kc3A6Y29yZTpBZG1pbjNyZFBhcnR5VGVjaFVzZXIiXSwiY2xpZW50X2lkIjoiaWlvdHV4cGMtdGVzdGRtLXYxLjAuMDM5IiwiY2lkIjoiaWlvdHV4cGMtdGVzdGRtLXYxLjAuMDM5IiwiYXpwIjoiaWlvdHV4cGMtdGVzdGRtLXYxLjAuMDM5IiwiZ3JhbnRfdHlwZSI6ImNsaWVudF9jcmVkZW50aWFscyIsInJldl9zaWciOiI3ODA5MTVhNCIsImlhdCI6MTY3ODcyNjk3OCwiZXhwIjoxNjc4NzI4Nzc4LCJpc3MiOiJodHRwczovL2lpb3R1eHBjLnBpYW0uZXUxLm1pbmRzcGhlcmUuaW8vb2F1dGgvdG9rZW4iLCJ6aWQiOiJpaW90dXhwYyIsImF1ZCI6WyJpYW0tYWN0aW9uLmNsaWVudF9jcmVkZW50aWFscyIsImlpb3R1eHBjLXRlc3RkbS12MS4wLjAzOSJdLCJ0ZW4iOiJpaW90dXhwYyIsInNjaGVtYXMiOlsidXJuOnNpZW1lbnM6bWluZHNwaGVyZTppYW06djEiXSwiY2F0IjoiY2xpZW50LXRva2VuOnYxIn0.LKlzSBvOgMZpCY1ONRvtpFrdOkqrOkoI0p0NuAooo5FGexq-YyVm--OwUKYY7H0H6k4C2vvOjetGg7fGgQHSZabTvHCsi5DyITwA8pLXUeR-e3GkR_t7Fb7tuYtI_MpkClu5bEQlm0412aC_0Pa1UkDW6BD_gvl4DxYYOl92yZBRT9FnWW_Js7F3iksn3KJQwlAsn21TsJy5yMFAsfALyigvpjjF_I97zgD9ZDiVdGRclJdEQWT0svlv2fUs5PyjdOOhE4Cwrcb9MCmPCSMgXyStfC-bxf2CixjJBfbK-HwqT4fN1HUBBMSkq0n-0283R9GTSE_Ed85_UBl6f2gA4Q\n",
      "Data PUT successfully.\n"
     ]
    },
    {
     "data": {
      "text/markdown": [
       "<span style='color:#3498DB'>13 March 18:02:58 |[Internal Service] System Synchronized. Next Sync: 13 March 18:04:41</span>"
      ],
      "text/plain": [
       "<IPython.core.display.Markdown object>"
      ]
     },
     "metadata": {},
     "output_type": "display_data"
    },
    {
     "data": {
      "text/markdown": [
       "<span style='color:#7DCEA0'>13 March 18:02:58 |[Internal Service] Starting Validation</span>"
      ],
      "text/plain": [
       "<IPython.core.display.Markdown object>"
      ]
     },
     "metadata": {},
     "output_type": "display_data"
    },
    {
     "ename": "KeyError",
     "evalue": "'access_token'",
     "output_type": "error",
     "traceback": [
      "\u001b[1;31m---------------------------------------------------------------------------\u001b[0m",
      "\u001b[1;31mKeyError\u001b[0m                                  Traceback (most recent call last)",
      "Cell \u001b[1;32mIn[43], line 1\u001b[0m\n\u001b[1;32m----> 1\u001b[0m mydt_laser\u001b[39m.\u001b[39;49mrun()\n",
      "File \u001b[1;32mc:\\Users\\pedro\\Github Repositories\\Digital_Twin\\Digital Twin\\dtwinpylib\\dtwinpy\\Digital_Twin.py:512\u001b[0m, in \u001b[0;36mDigital_Twin.run\u001b[1;34m(self)\u001b[0m\n\u001b[0;32m    509\u001b[0m \u001b[39mself\u001b[39m\u001b[39m.\u001b[39mUpdate_time_flags()\n\u001b[0;32m    511\u001b[0m \u001b[39m#--- Run the Internal Services (Synchronization and Validation)\u001b[39;00m\n\u001b[1;32m--> 512\u001b[0m \u001b[39mself\u001b[39;49m\u001b[39m.\u001b[39;49mInternal_Services()\n\u001b[0;32m    514\u001b[0m \u001b[39m#--- Run the External Services (RCT path prediction)\u001b[39;00m\n\u001b[0;32m    515\u001b[0m \u001b[39mself\u001b[39m\u001b[39m.\u001b[39mExternal_Services()\n",
      "File \u001b[1;32mc:\\Users\\pedro\\Github Repositories\\Digital_Twin\\Digital Twin\\dtwinpylib\\dtwinpy\\Digital_Twin.py:394\u001b[0m, in \u001b[0;36mDigital_Twin.Internal_Services\u001b[1;34m(self)\u001b[0m\n\u001b[0;32m    392\u001b[0m random_logic_indicator \u001b[39m=\u001b[39m random\u001b[39m.\u001b[39muniform(\u001b[39m0.85\u001b[39m, \u001b[39m0.95\u001b[39m)\n\u001b[0;32m    393\u001b[0m random_input_indicator \u001b[39m=\u001b[39m random\u001b[39m.\u001b[39muniform(\u001b[39m0.75\u001b[39m, \u001b[39m0.95\u001b[39m)\n\u001b[1;32m--> 394\u001b[0m \u001b[39mself\u001b[39;49m\u001b[39m.\u001b[39;49minterfaceAPI\u001b[39m.\u001b[39;49mindicator(logic\u001b[39m=\u001b[39;49m random_logic_indicator, \u001b[39minput\u001b[39;49m\u001b[39m=\u001b[39;49m random_input_indicator)\n\u001b[0;32m    397\u001b[0m \u001b[39m# --------------------- AFTER SERVICES SETTINGS ---------------------\u001b[39;00m\n\u001b[0;32m    398\u001b[0m \u001b[39m# --- Validation just finish, so not time to validate anymore\u001b[39;00m\n\u001b[0;32m    399\u001b[0m \u001b[39mself\u001b[39m\u001b[39m.\u001b[39mflag_time_to_validate \u001b[39m=\u001b[39m \u001b[39mFalse\u001b[39;00m\n",
      "File \u001b[1;32mc:\\Users\\pedro\\Github Repositories\\Digital_Twin\\Digital Twin\\dtwinpylib\\dtwinpy\\interfaceAPI.py:117\u001b[0m, in \u001b[0;36minterfaceAPI.indicator\u001b[1;34m(self, logic, input, asset_id)\u001b[0m\n\u001b[0;32m    109\u001b[0m aspect_name \u001b[39m=\u001b[39m \u001b[39m\"\u001b[39m\u001b[39mvalidation_indicator\u001b[39m\u001b[39m\"\u001b[39m\n\u001b[0;32m    110\u001b[0m payload \u001b[39m=\u001b[39m json\u001b[39m.\u001b[39mdumps([\n\u001b[0;32m    111\u001b[0m     {\n\u001b[0;32m    112\u001b[0m     \u001b[39m\"\u001b[39m\u001b[39m_time\u001b[39m\u001b[39m\"\u001b[39m : datetime\u001b[39m.\u001b[39mdatetime\u001b[39m.\u001b[39mutcnow()\u001b[39m.\u001b[39misoformat() \u001b[39m+\u001b[39m \u001b[39m'\u001b[39m\u001b[39mZ\u001b[39m\u001b[39m'\u001b[39m,\n\u001b[1;32m   (...)\u001b[0m\n\u001b[0;32m    115\u001b[0m     }\n\u001b[0;32m    116\u001b[0m ])\n\u001b[1;32m--> 117\u001b[0m \u001b[39mself\u001b[39;49m\u001b[39m.\u001b[39;49mtoken_check()\n\u001b[0;32m    118\u001b[0m \u001b[39mself\u001b[39m\u001b[39m.\u001b[39mput_timeseries(payload \u001b[39m=\u001b[39m payload, asset_id \u001b[39m=\u001b[39m asset_id, aspect_name\u001b[39m=\u001b[39maspect_name, bearer_token\u001b[39m=\u001b[39m\u001b[39mself\u001b[39m\u001b[39m.\u001b[39mbearer_token)\n",
      "File \u001b[1;32mc:\\Users\\pedro\\Github Repositories\\Digital_Twin\\Digital Twin\\dtwinpylib\\dtwinpy\\interfaceAPI.py:15\u001b[0m, in \u001b[0;36minterfaceAPI.token_check\u001b[1;34m(self)\u001b[0m\n\u001b[0;32m     13\u001b[0m t_now \u001b[39m=\u001b[39m datetime\u001b[39m.\u001b[39mdatetime\u001b[39m.\u001b[39mnow()\u001b[39m.\u001b[39mtimestamp()\n\u001b[0;32m     14\u001b[0m \u001b[39mif\u001b[39;00m (t_now \u001b[39m-\u001b[39m \u001b[39mself\u001b[39m\u001b[39m.\u001b[39mtokentime) \u001b[39m>\u001b[39m \u001b[39m25\u001b[39m:\n\u001b[1;32m---> 15\u001b[0m     \u001b[39mself\u001b[39m\u001b[39m.\u001b[39mbearer_token \u001b[39m=\u001b[39m \u001b[39mself\u001b[39;49m\u001b[39m.\u001b[39;49mbearerToken()\n\u001b[0;32m     16\u001b[0m     \u001b[39mprint\u001b[39m(\u001b[39mself\u001b[39m\u001b[39m.\u001b[39mbearer_token)\n",
      "File \u001b[1;32mc:\\Users\\pedro\\Github Repositories\\Digital_Twin\\Digital Twin\\dtwinpylib\\dtwinpy\\interfaceAPI.py:50\u001b[0m, in \u001b[0;36minterfaceAPI.bearerToken\u001b[1;34m(self)\u001b[0m\n\u001b[0;32m     48\u001b[0m token_response \u001b[39m=\u001b[39m requests\u001b[39m.\u001b[39mrequest(\u001b[39m\"\u001b[39m\u001b[39mPOST\u001b[39m\u001b[39m\"\u001b[39m, url, headers\u001b[39m=\u001b[39mheaders, data\u001b[39m=\u001b[39mpayload)\n\u001b[0;32m     49\u001b[0m \u001b[39m# print(token_response.text)\u001b[39;00m\n\u001b[1;32m---> 50\u001b[0m bearer_token \u001b[39m=\u001b[39m json\u001b[39m.\u001b[39;49mloads(token_response\u001b[39m.\u001b[39;49mtext)[\u001b[39m\"\u001b[39;49m\u001b[39maccess_token\u001b[39;49m\u001b[39m\"\u001b[39;49m]\n\u001b[0;32m     51\u001b[0m \u001b[39mreturn\u001b[39;00m(bearer_token)\n",
      "\u001b[1;31mKeyError\u001b[0m: 'access_token'"
     ]
    }
   ],
   "source": [
    "mydt_laser.run()"
   ]
  }
 ],
 "metadata": {
  "kernelspec": {
   "display_name": "dtwinpyenv-JC8N3fR1",
   "language": "python",
   "name": "python3"
  },
  "language_info": {
   "codemirror_mode": {
    "name": "ipython",
    "version": 3
   },
   "file_extension": ".py",
   "mimetype": "text/x-python",
   "name": "python",
   "nbconvert_exporter": "python",
   "pygments_lexer": "ipython3",
   "version": "3.10.10"
  },
  "orig_nbformat": 4
 },
 "nbformat": 4,
 "nbformat_minor": 2
}
