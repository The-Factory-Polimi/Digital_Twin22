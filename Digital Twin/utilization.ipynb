{
 "cells": [
  {
   "attachments": {},
   "cell_type": "markdown",
   "metadata": {},
   "source": [
    "## Cumulative Utilization Rate of Machine"
   ]
  },
  {
   "cell_type": "code",
   "execution_count": 27,
   "metadata": {},
   "outputs": [],
   "source": [
    "import sqlite3\n",
    "\n",
    "def calculate_utilization(real_database_path, start_time_id, end_time_id, machine_id):\n",
    "    # ----------- SUPPORTING FUNCTION -----------\n",
    "    def update_utilization_end_id(real_database_path, start_time_id, end_time_id, machine_id):\n",
    "        with sqlite3.connect(real_database_path) as db:\n",
    "            #--- Read activity type (started and Finished) and event_id for a specific machien within a range\n",
    "            read_machine_events = db.execute(\"SELECT activity_type, event_id FROM real_log WHERE machine_id= ? and event_id>=? AND event_id<=?\",\n",
    "                (machine_id, start_time_id, end_time_id)).fetchall()\n",
    "            \n",
    "            machine_acitivities= []\n",
    "            machine_events_id = []\n",
    "            for i in range(len(read_machine_events)):\n",
    "                machine_acitivities.append(read_machine_events[i][0])\n",
    "                machine_events_id.append(read_machine_events[i][1])\n",
    "\n",
    "            #--- Flag to indicates if there is a finished before a start\n",
    "            flag_last_is_started = False\n",
    "\n",
    "            #--- Just the last value that matters, because for a specific machine either it's finish or started\n",
    "            #------------ MACHINE LAST EVENT: STARTED -------------\n",
    "            if machine_acitivities[-1] == 'Started':\n",
    "                # If the last event is Started, it means that the previous one was Finished and tha\n",
    "                # you should consider its end time id\n",
    "                print(f\"{machine_id} last trace is 'Started', updating the end time id from {end_time_id} to {machine_events_id[-2]}\")\n",
    "                end_time_id = machine_events_id[-2]\n",
    "                flag_last_is_started = True\n",
    "\n",
    "            if machine_acitivities[-1] == 'Finished':\n",
    "                # Everything fine...\n",
    "                pass\n",
    "\n",
    "            return end_time_id\n",
    "    \n",
    "    #--- Update end time checking the last trace:\n",
    "    end_time_id= update_utilization_end_id(real_database_path, start_time_id, end_time_id, machine_id)\n",
    "\n",
    "    # connect to the database\n",
    "    conn = sqlite3.connect(real_database_path)\n",
    "    c = conn.cursor()\n",
    "\n",
    "    # query the database for the machine's events within the given period\n",
    "    c.execute(\"SELECT * FROM real_log WHERE machine_id=? AND event_id>=? AND event_id<=?\",\n",
    "              (machine_id, start_time_id, end_time_id))\n",
    "    rows = c.fetchall()\n",
    "\n",
    "    # calculate the total time the machine spent working within the given period\n",
    "    total_working_time = 0\n",
    "    last_start_time = None\n",
    "    for row in rows:\n",
    "        if row[3] == 'Started':\n",
    "            last_start_time = row[7]\n",
    "        elif row[3] == 'Finished' and last_start_time is not None:\n",
    "            total_working_time += row[7] - last_start_time\n",
    "            last_start_time = None\n",
    "    \n",
    "    # calculate the initial time\n",
    "    c.execute(\"SELECT MIN(timestamp_real) FROM real_log WHERE event_id >= ? AND event_id <= ?\", \n",
    "              (start_time_id, end_time_id))\n",
    "    initial_time = c.fetchone()[0]\n",
    "\n",
    "    # calculate the total time within the given period\n",
    "    c.execute(\"SELECT MAX(timestamp_real) FROM real_log WHERE event_id>=? AND event_id<=?\",\n",
    "              (start_time_id, end_time_id))\n",
    "    final_time = c.fetchone()[0] \n",
    "\n",
    "    # calculate the total time\n",
    "    total_time = final_time - initial_time\n",
    "\n",
    "    # calculate the utilization rate\n",
    "    utilization_rate = (total_working_time / total_time) * 100\n",
    "\n",
    "    print(f\"--- Utilization Rate: {utilization_rate} %\")\n",
    "    print(f\"--- Total Working Time: {total_working_time}\")\n",
    "    print(f\"--- Total Time: {total_time}\")\n",
    "\n",
    "    # close the connection\n",
    "    conn.close()\n",
    "\n",
    "    return utilization_rate\n",
    "\n",
    "\n"
   ]
  },
  {
   "cell_type": "code",
   "execution_count": 29,
   "metadata": {},
   "outputs": [
    {
     "ename": "IndexError",
     "evalue": "list index out of range",
     "output_type": "error",
     "traceback": [
      "\u001b[1;31m---------------------------------------------------------------------------\u001b[0m",
      "\u001b[1;31mIndexError\u001b[0m                                Traceback (most recent call last)",
      "Cell \u001b[1;32mIn[29], line 7\u001b[0m\n\u001b[0;32m      4\u001b[0m end_time_id \u001b[39m=\u001b[39m \u001b[39m2\u001b[39m\n\u001b[0;32m      5\u001b[0m machine_id \u001b[39m=\u001b[39m \u001b[39m'\u001b[39m\u001b[39mMachine 2\u001b[39m\u001b[39m'\u001b[39m\n\u001b[1;32m----> 7\u001b[0m calculate_utilization(real_database_path, start_time_id, end_time_id, machine_id)\n",
      "Cell \u001b[1;32mIn[27], line 36\u001b[0m, in \u001b[0;36mcalculate_utilization\u001b[1;34m(real_database_path, start_time_id, end_time_id, machine_id)\u001b[0m\n\u001b[0;32m     33\u001b[0m         \u001b[39mreturn\u001b[39;00m end_time_id\n\u001b[0;32m     35\u001b[0m \u001b[39m#--- Update end time checking the last trace:\u001b[39;00m\n\u001b[1;32m---> 36\u001b[0m end_time_id\u001b[39m=\u001b[39m update_utilization_end_id(real_database_path, start_time_id, end_time_id, machine_id)\n\u001b[0;32m     38\u001b[0m \u001b[39m# connect to the database\u001b[39;00m\n\u001b[0;32m     39\u001b[0m conn \u001b[39m=\u001b[39m sqlite3\u001b[39m.\u001b[39mconnect(real_database_path)\n",
      "Cell \u001b[1;32mIn[27], line 22\u001b[0m, in \u001b[0;36mcalculate_utilization.<locals>.update_utilization_end_id\u001b[1;34m(real_database_path, start_time_id, end_time_id, machine_id)\u001b[0m\n\u001b[0;32m     18\u001b[0m flag_last_is_started \u001b[39m=\u001b[39m \u001b[39mFalse\u001b[39;00m\n\u001b[0;32m     20\u001b[0m \u001b[39m#--- Just the last value that matters, because for a specific machine either it's finish or started\u001b[39;00m\n\u001b[0;32m     21\u001b[0m \u001b[39m#------------ MACHINE LAST EVENT: STARTED -------------\u001b[39;00m\n\u001b[1;32m---> 22\u001b[0m \u001b[39mif\u001b[39;00m machine_acitivities[\u001b[39m-\u001b[39;49m\u001b[39m1\u001b[39;49m] \u001b[39m==\u001b[39m \u001b[39m'\u001b[39m\u001b[39mStarted\u001b[39m\u001b[39m'\u001b[39m:\n\u001b[0;32m     23\u001b[0m     \u001b[39m# If the last event is Started, it means that the previous one was Finished and tha\u001b[39;00m\n\u001b[0;32m     24\u001b[0m     \u001b[39m# you should consider its end time id\u001b[39;00m\n\u001b[0;32m     25\u001b[0m     \u001b[39mprint\u001b[39m(\u001b[39mf\u001b[39m\u001b[39m\"\u001b[39m\u001b[39m{\u001b[39;00mmachine_id\u001b[39m}\u001b[39;00m\u001b[39m last trace is \u001b[39m\u001b[39m'\u001b[39m\u001b[39mStarted\u001b[39m\u001b[39m'\u001b[39m\u001b[39m, updating the end time id from \u001b[39m\u001b[39m{\u001b[39;00mend_time_id\u001b[39m}\u001b[39;00m\u001b[39m to \u001b[39m\u001b[39m{\u001b[39;00mmachine_events_id[\u001b[39m-\u001b[39m\u001b[39m2\u001b[39m]\u001b[39m}\u001b[39;00m\u001b[39m\"\u001b[39m)\n\u001b[0;32m     26\u001b[0m     end_time_id \u001b[39m=\u001b[39m machine_events_id[\u001b[39m-\u001b[39m\u001b[39m2\u001b[39m]\n",
      "\u001b[1;31mIndexError\u001b[0m: list index out of range"
     ]
    }
   ],
   "source": [
    "exp_id = '3.30.19.26'\n",
    "real_database_path = f'data_generation/{exp_id}/databases/real_database.db'\n",
    "start_time_id = 1\n",
    "end_time_id = 2\n",
    "machine_id = 'Machine 2'\n",
    "\n",
    "calculate_utilization(real_database_path, start_time_id, end_time_id, machine_id)"
   ]
  }
 ],
 "metadata": {
  "kernelspec": {
   "display_name": "dtwinpyenv-2W3lhWDO",
   "language": "python",
   "name": "python3"
  },
  "language_info": {
   "codemirror_mode": {
    "name": "ipython",
    "version": 3
   },
   "file_extension": ".py",
   "mimetype": "text/x-python",
   "name": "python",
   "nbconvert_exporter": "python",
   "pygments_lexer": "ipython3",
   "version": "3.11.2"
  },
  "orig_nbformat": 4
 },
 "nbformat": 4,
 "nbformat_minor": 2
}
