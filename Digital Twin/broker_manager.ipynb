{
 "cells": [
  {
   "attachments": {},
   "cell_type": "markdown",
   "metadata": {},
   "source": [
    "# Broker Manager\n",
    "In this file we test the basiscs of receiving and sending messages through MQTT connectios"
   ]
  },
  {
   "attachments": {},
   "cell_type": "markdown",
   "metadata": {},
   "source": [
    "### Old codes"
   ]
  },
  {
   "attachments": {},
   "cell_type": "markdown",
   "metadata": {},
   "source": [
    "Subscriber"
   ]
  },
  {
   "cell_type": "code",
   "execution_count": null,
   "metadata": {},
   "outputs": [],
   "source": [
    "# -*- coding: utf-8 -*-\n",
    "\"\"\"\n",
    "----MQTT subscribe code----\n",
    "\n",
    "Runs on Mosquitto broker\n",
    "InfluxDB database not included\n",
    "Ip address available from CMD command: ipconfig all\n",
    "\"\"\"\n",
    "\n",
    "#!/usr/bin/env python3\n",
    "\n",
    "# import required packages\n",
    "\n",
    "import paho.mqtt.client as mqtt\n",
    "import json\n",
    "import pandas as pd\n",
    "#import datetime\n",
    "import time\n",
    "from time import sleep\n",
    "import numpy as np\n",
    "\n",
    "# defining topics to subscribe\n",
    "\n",
    "def on_connect(client, userdata, flags, rc):\n",
    "  print(\"Connected with result code \"+str(rc))\n",
    "  client.subscribe(topic=\"activity\")\n",
    "\n",
    "# manipulation of subscribed message data\n",
    "def on_message(client, userdata, msg):\n",
    "    # define global variables\n",
    "    #print(msg.payload) \n",
    "    print(str(msg.payload.decode(\"utf-8\")))     # to print the message string\n",
    "    json_value = json.loads(msg.payload.decode())  #converting message string to python dictionary\n",
    "    print(\"time\",json_value['time'])   # calling individual data in the json dictionary\n",
    "    print(json_value)\n",
    "\n",
    "\n",
    "\n",
    "client = mqtt.Client()\n",
    "client.connect(\"127.0.0.1\",1883,60,) # verify the IP address before connect\n",
    "\n",
    "client.on_connect = on_connect\n",
    "client.on_message = on_message\n",
    "\n",
    "\n",
    "client.loop_start()\n",
    "condition = True\n",
    "\n",
    "while condition:        # the system stays connected as long as the condition is \"True\"\n",
    "    sleep(1)\n",
    "    \n",
    "client.loop_stop()    \n",
    "client.disconnect()"
   ]
  },
  {
   "attachments": {},
   "cell_type": "markdown",
   "metadata": {},
   "source": [
    "Manager"
   ]
  },
  {
   "cell_type": "code",
   "execution_count": null,
   "metadata": {},
   "outputs": [],
   "source": [
    "# -*- coding: utf-8 -*-\n",
    "\"\"\"\n",
    "Created on Tue Nov  5 16:37:07 2019\n",
    "\n",
    "@author: giova\n",
    "\"\"\"\n",
    "\n",
    "#!/usr/bin/env python3\n",
    "\n",
    "import paho.mqtt.client as mqtt\n",
    "import json\n",
    "import pandas as pd\n",
    "#import datetime\n",
    "import time\n",
    "from time import sleep\n",
    "import numpy as np\n",
    "from influx import InfluxDB\n",
    "\n",
    "# connect to influx\n",
    "db = InfluxDB('http://192.168.0.50:8086',precision='ms')\n",
    "NOME_DATABASE = \"lego\"\n",
    "\n",
    "# This is the Subscriber\n",
    "\n",
    "activity_log = []\n",
    "states_log = []\n",
    "\n",
    "count = 0\n",
    "start_time = 0\n",
    "th = 0\n",
    "\n",
    "b3 = 1\n",
    "b4 = 1\n",
    "b5 = 0\n",
    "\n",
    "def on_connect(client, userdata, flags, rc):\n",
    "  print(\"Connected with result code \"+str(rc))\n",
    "  client.subscribe(\"topic/activity\")\n",
    "  client.subscribe(\"topic/states\")\n",
    "  client.subscribe(\"topic/buffers\")\n",
    "  client.subscribe(\"topic/operators\")\n",
    "  \n",
    "\n",
    "def on_message(client, userdata, msg):\n",
    "    \n",
    "    global start_time\n",
    "    global count\n",
    "    global th\n",
    "    global b3\n",
    "    global b4\n",
    "    global b5\n",
    "    global th\n",
    "    \n",
    "    if msg.payload.decode() == \"start\" or msg.payload.decode() == \"stop\":\n",
    "        pass\n",
    "    \n",
    "    elif msg.topic == \"topic/activity\":\n",
    "        \n",
    "        # print(msg.payload) \n",
    "        # print(msg.payload.decode())\n",
    "        # print(json.loads(msg.payload))\n",
    "        # print(msg.payload.decode())\n",
    "        \n",
    "        json_value = json.loads(msg.payload.decode())  #conversione da stringa a dizionario python\n",
    "          \n",
    "        # print(\"activity\",json_value['activity'])\n",
    "        # print(\"id\",json_value['id'])\n",
    "        # print(\"ts\",json_value['ts'])\n",
    "        # print(\"tag\",json_value['tag'])    \n",
    "        #  json_value['time'] = datetime.datetime.now().strftime(\"%Y-%m-%d %H:%M:%S\") #change timestamp!\n",
    "        json_value['ts'] = time.time() #change timestamp!\n",
    "        activity_log.append(json_value)\n",
    "        #    influx write senza timestamp\n",
    "        db.write(NOME_DATABASE,'eventlog', fields={\"id\":json_value['id'],\"type\":json_value['tag']}, tags={\"activity\":json_value['activity']})\n",
    "    \n",
    "#        evaluate THROUGHPUT\n",
    "        if json_value['tag'] =='f' and json_value['activity'] == 1:\n",
    "            \n",
    "            try:\n",
    "                thput = 1/(time.time() - start_time) \n",
    "                db.write(NOME_DATABASE,'throughput', fields={\"th\": thput}, tags={\"activity\":6})\n",
    "                start_time = time.time()\n",
    "            except: \n",
    "                pass\n",
    "            \n",
    "#            if len(th)<5:\n",
    "#                th.append(time.time())\n",
    "#            \n",
    "#            if len(th)>=5:\n",
    "#                th = th[1:] +[time.time()] \n",
    "#                thput = len(th)/(th[-1] - th[0])\n",
    "#            \n",
    "##                thput = count / (time.time() - start_time)\n",
    "#    #            print(\"THROUGHPUT: \"+str(th))\n",
    "#                db.write(NOME_DATABASE,'throughput', fields={\"th\": thput}, tags={\"activity\":6})\n",
    "\n",
    "    elif msg.topic == \"topic/states\":\n",
    "        \n",
    "        json_value = json.loads(msg.payload.decode())  #conversione da stringa a dizionario python\n",
    "\n",
    "#        print(\"activity\",json_value['activity'])\n",
    "#        print(\"state\",json_value['state'])\n",
    "        json_value['ts'] = time.time() #change timestamp!\n",
    "        \n",
    "        states_log.append(json_value)\n",
    "\n",
    "#        influx write        \n",
    "        db.write(NOME_DATABASE,'machine_state', fields={\"activity\":json_value['activity'], \"state\":json_value['state']})\n",
    "    \n",
    "    \n",
    "    elif msg.topic == \"topic/operators\":\n",
    "        \n",
    "#        print('message received')\n",
    "        \n",
    "        json_value = json.loads(msg.payload.decode())  #conversione da stringa a dizionario python\n",
    "#        print(\"BUFFER MESSAGE:\"+ str(json_value))\n",
    "#        MAPPING VALUES FOR DASHBOARD\n",
    "\n",
    "        if json_value['operator'] == True:\n",
    "            db.write(NOME_DATABASE,'operators', fields={\"pos\": json_value['station'] })\n",
    "    \n",
    "    \n",
    "    elif msg.topic == \"topic/buffers\":\n",
    "        \n",
    "        json_value = json.loads(msg.payload.decode())  #conversione da stringa a dizionario python\n",
    "#        print(\"BUFFER MESSAGE:\"+ str(json_value))\n",
    "#        MAPPING VALUES FOR DASHBOARD\n",
    "\n",
    "        \n",
    "        if json_value['station'] == 3:\n",
    "        \n",
    "            if json_value['buffer'] == 'L':\n",
    "                b3 = 1\n",
    "                \n",
    "            if json_value['buffer'] == 'M':\n",
    "                b3 = 2\n",
    "                \n",
    "            if json_value['buffer'] == 'H':\n",
    "                b3 = 3\n",
    "                \n",
    "        if json_value['station'] == 4:\n",
    "            \n",
    "            if json_value['buffer'] == 'L':\n",
    "                b4 = 1\n",
    "                \n",
    "            if json_value['buffer'] == 'M':\n",
    "                b4 = 2\n",
    "                \n",
    "            if json_value['buffer'] == 'H':\n",
    "                b4 = 3\n",
    "        \n",
    "        if json_value['station'] == 5:\n",
    "            \n",
    "            if json_value['buffer'] == 'NF':\n",
    "                b5 = 0\n",
    "                \n",
    "            if json_value['buffer'] == 'F':\n",
    "                b5 = 4\n",
    "                       \n",
    "#        print(\"3: \" + json_value['3'] + \"4: \"+str(json_value['4']))\n",
    "#        print(\"3: \" + str(b3)+ \"4: \"+str(b4))\n",
    "\n",
    "#        states_log.append(json_value)\n",
    "\n",
    "#        influx write        \n",
    "        db.write(NOME_DATABASE,'buffers', fields={\"b3\": b3, \"b4\": b4, \"b5\": b5})\n",
    "    \n",
    "    if msg.payload.decode() == \"disc\":\n",
    "        \n",
    "        print(\"Disconnecting...\")\n",
    "        client.disconnect()\n",
    "        \n",
    "    elif msg.payload.decode() == \"start\":\n",
    "        print(\"STARTED!\")\n",
    "        start_time  = time.time()\n",
    "    \n",
    "client = mqtt.Client()\n",
    "client.connect(\"192.168.0.50\",1883,60)\n",
    "\n",
    "client.on_connect = on_connect\n",
    "client.on_message = on_message\n",
    "\n",
    "th = []\n",
    "\n",
    "client.loop_start()\n",
    "\n",
    "\n",
    "condition = True\n",
    "\n",
    "while condition:\n",
    "    sleep(1)\n",
    "    \n",
    "client.loop_stop()    \n",
    "client.disconnect()\n",
    "\n",
    "\n",
    "#DEBUGGING\n",
    "#json_value = {\"time\": 123}\n",
    "#json_value['time'] = datetime.datetime.now().strftime(\"%Y-%m-%d %H:%M:%S\")\n",
    "#activity_log.append(json_value)\n",
    "\n",
    "df = pd.DataFrame(activity_log)       # pass to pandas df\n",
    "\n",
    "for a in df.activity.unique().tolist():\n",
    "\n",
    "    # processing times\n",
    "    pt = np.array([])\n",
    "    # tutti gli id che hanno fatto questa attivita\n",
    "    for i in df.id.unique().tolist():\n",
    "#        print(i)\n",
    "        try:\n",
    "            pt = np.append(pt, (df[(df.activity == a) & (df.id == i) & (df.tag == 'f')].ts.values  - df[(df.activity == a) & (df.id == i) & (df.tag == 's')].ts.values).tolist()  )\n",
    "        except:\n",
    "            continue    \n",
    "    \n",
    "    np.savetxt('processing'+str(a)+'.txt', pt, delimiter='\\n', fmt='%f')\n",
    "    \n",
    "    #arrival times:\n",
    "    # tutti gli id che hanno fatto questa attivita\n",
    "    #for i in df.id.unique().tolist():\n",
    "    \n",
    "    at = np.diff(df[ (df.activity == a) & (df.tag == 'f')].ts)\n",
    "    np.savetxt('arrivals'+str(a)+'.txt', at, delimiter='\\n', fmt='%f')\n",
    "\n",
    "\n",
    "df = df.sort_values(by ='ts')\n",
    "df.to_csv(r'log.csv')\n",
    "\n",
    "\n",
    "# PARTE SU EV3\n",
    "#activity_log.append({\"activity\" : 6, \"id\" : 1, \"ts\" : 6, \"tag\" : \"f\" })\n",
    "#\n",
    "#data_out = json.dumps(a, indent = 4)\n",
    "#client.publish(\"topic/test\", data_out)"
   ]
  },
  {
   "attachments": {},
   "cell_type": "markdown",
   "metadata": {},
   "source": [
    "### Simply testing of connections"
   ]
  },
  {
   "attachments": {},
   "cell_type": "markdown",
   "metadata": {},
   "source": [
    "Payload should be in the format:\n",
    "\n",
    "```json\n",
    "{\n",
    "    \"time\" : 10,\n",
    "    \"workpieces\" : 50,\n",
    "    \"free\" : \"no\"\n",
    "}\n",
    "\n",
    "```"
   ]
  },
  {
   "attachments": {},
   "cell_type": "markdown",
   "metadata": {},
   "source": [
    "functions"
   ]
  },
  {
   "cell_type": "code",
   "execution_count": 8,
   "metadata": {},
   "outputs": [],
   "source": [
    "import paho.mqtt.client as mqtt\n",
    "from time import sleep\n",
    "import json\n",
    "\n",
    "def on_connect(client, userdata, flags, rc):\n",
    "  print(\"Connected with result code \"+str(rc))\n",
    "  client.subscribe(topic=\"activity\")\n",
    "\n",
    "def on_message(client, userdata, msg):\n",
    "    print(str(msg.payload.decode(\"utf-8\")))     # to print the message string\n",
    "    json_value = json.loads(msg.payload.decode())  #converting message string to python dictionary\n",
    "    print(\"time\",json_value['time'])   # calling individual data in the json dictionary\n",
    "    print(json_value)\n",
    "    "
   ]
  },
  {
   "attachments": {},
   "cell_type": "markdown",
   "metadata": {},
   "source": [
    "connection"
   ]
  },
  {
   "cell_type": "code",
   "execution_count": 9,
   "metadata": {},
   "outputs": [],
   "source": [
    "client = mqtt.Client()\n",
    "#client.connect(\"127.0.0.1\",1883,60,) # verify the IP address before connect\n",
    "\n",
    "client.connect(\"10.169.81.165\",1883,60,)\n",
    "\n",
    "client.on_connect = on_connect\n",
    "client.on_message = on_message"
   ]
  },
  {
   "attachments": {},
   "cell_type": "markdown",
   "metadata": {},
   "source": [
    "Loop of connection"
   ]
  },
  {
   "cell_type": "code",
   "execution_count": 10,
   "metadata": {},
   "outputs": [
    {
     "name": "stdout",
     "output_type": "stream",
     "text": [
      "Connected with result code 0\n",
      "{\n",
      "    \"time\" : 11,\n",
      "    \"workpieces\" : 50,\n",
      "    \"free\" : \"no\"\n",
      "}\n",
      "time 11\n",
      "{'time': 11, 'workpieces': 50, 'free': 'no'}\n"
     ]
    },
    {
     "ename": "KeyboardInterrupt",
     "evalue": "",
     "output_type": "error",
     "traceback": [
      "\u001b[1;31m---------------------------------------------------------------------------\u001b[0m",
      "\u001b[1;31mKeyboardInterrupt\u001b[0m                         Traceback (most recent call last)",
      "Cell \u001b[1;32mIn[10], line 5\u001b[0m\n\u001b[0;32m      2\u001b[0m condition \u001b[39m=\u001b[39m \u001b[39mTrue\u001b[39;00m\n\u001b[0;32m      4\u001b[0m \u001b[39mwhile\u001b[39;00m condition:        \u001b[39m# the system stays connected as long as the condition is \"True\"\u001b[39;00m\n\u001b[1;32m----> 5\u001b[0m     sleep(\u001b[39m1\u001b[39;49m)\n\u001b[0;32m      7\u001b[0m client\u001b[39m.\u001b[39mloop_stop()    \n\u001b[0;32m      8\u001b[0m client\u001b[39m.\u001b[39mdisconnect()\n",
      "\u001b[1;31mKeyboardInterrupt\u001b[0m: "
     ]
    }
   ],
   "source": [
    "client.loop_start()\n",
    "condition = True\n",
    "\n",
    "while condition:        # the system stays connected as long as the condition is \"True\"\n",
    "    sleep(1)\n",
    "    \n",
    "client.loop_stop()    \n",
    "client.disconnect()"
   ]
  },
  {
   "attachments": {},
   "cell_type": "markdown",
   "metadata": {},
   "source": [
    "# Test with the Broker Manager"
   ]
  },
  {
   "cell_type": "code",
   "execution_count": 9,
   "metadata": {},
   "outputs": [
    {
     "data": {
      "text/plain": [
       "<module 'dtwinpylib.dtwinpy.broker_manager' from 'c:\\\\Users\\\\pedro\\\\Github Repositories\\\\Digital_Twin\\\\Digital Twin\\\\dtwinpylib\\\\dtwinpy\\\\broker_manager.py'>"
      ]
     },
     "execution_count": 9,
     "metadata": {},
     "output_type": "execute_result"
    }
   ],
   "source": [
    "#--- Import modules from the library\n",
    "from dtwinpylib.dtwinpy.Digital_Twin import Digital_Twin\n",
    "from dtwinpylib.dtwinpy.broker_manager import Broker_Manager\n",
    "\n",
    "#--- Reload modules\n",
    "import importlib\n",
    "import dtwinpylib\n",
    "importlib.reload(dtwinpylib.dtwinpy.Digital_Twin)\n",
    "importlib.reload(dtwinpylib.dtwinpy.broker_manager) "
   ]
  },
  {
   "attachments": {},
   "cell_type": "markdown",
   "metadata": {},
   "source": [
    "Normal testing"
   ]
  },
  {
   "cell_type": "code",
   "execution_count": 10,
   "metadata": {},
   "outputs": [],
   "source": [
    "my_pc_ip_address = \"10.169.114.208\"\n",
    "database_path = \"databases/broker_test.db\"\n",
    "broker_manager = Broker_Manager(ip_address=my_pc_ip_address, real_database_path= database_path)\n"
   ]
  },
  {
   "cell_type": "code",
   "execution_count": 11,
   "metadata": {},
   "outputs": [
    {
     "name": "stdout",
     "output_type": "stream",
     "text": [
      ".\n",
      ".\n",
      "----- Connected with 10.169.114.208 Successfully -----\n",
      "Subscribed Topics:\n",
      "|-- 'trace'\n",
      "|-- 'part_id'\n",
      "|-- 'RCT-server'\n",
      "07 March 2023 21:07:54 | Topic: trace | Payload Received: {'machine_id': '1', 'part_id': '12', 'queue_id': '1', 'status': 'Started'}\n",
      "---- Communication with 10.169.114.208 killed manually----\n"
     ]
    }
   ],
   "source": [
    "broker_manager.run()"
   ]
  },
  {
   "attachments": {},
   "cell_type": "markdown",
   "metadata": {},
   "source": [
    "#### Publishing"
   ]
  },
  {
   "cell_type": "code",
   "execution_count": 28,
   "metadata": {},
   "outputs": [
    {
     "name": "stdout",
     "output_type": "stream",
     "text": [
      "[BROKER] 07 March 2023 19:20:11 | Topic: RCT-server | Payload Published: {\"machine_id\": 1, \"part_id\": 12, \"queue_id\": 3}\n"
     ]
    }
   ],
   "source": [
    "broker_manager.publishing(1,12,3)"
   ]
  },
  {
   "cell_type": "code",
   "execution_count": 15,
   "metadata": {},
   "outputs": [
    {
     "name": "stdout",
     "output_type": "stream",
     "text": [
      "12\n"
     ]
    }
   ],
   "source": [
    "import re\n",
    "\n",
    "string = 'Part 12 of 1 of 10 ...'\n",
    "number = re.findall(r'\\d+', string)[0]\n",
    "print(number)  # Output: 2241\n"
   ]
  }
 ],
 "metadata": {
  "kernelspec": {
   "display_name": "dtwinpyenv-JC8N3fR1",
   "language": "python",
   "name": "python3"
  },
  "language_info": {
   "codemirror_mode": {
    "name": "ipython",
    "version": 3
   },
   "file_extension": ".py",
   "mimetype": "text/x-python",
   "name": "python",
   "nbconvert_exporter": "python",
   "pygments_lexer": "ipython3",
   "version": "3.10.10"
  },
  "orig_nbformat": 4
 },
 "nbformat": 4,
 "nbformat_minor": 2
}
