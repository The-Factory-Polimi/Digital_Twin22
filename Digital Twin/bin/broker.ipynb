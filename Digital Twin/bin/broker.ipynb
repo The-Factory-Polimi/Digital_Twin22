{
 "cells": [
  {
   "attachments": {},
   "cell_type": "markdown",
   "metadata": {},
   "source": [
    "# Broker Testing\n",
    "This is the first tests using the broker. The broker receives MQTT messages from each stations and from the RFID readers"
   ]
  },
  {
   "cell_type": "code",
   "execution_count": null,
   "metadata": {},
   "outputs": [],
   "source": []
  }
 ],
 "metadata": {
  "language_info": {
   "name": "python"
  },
  "orig_nbformat": 4
 },
 "nbformat": 4,
 "nbformat_minor": 2
}
