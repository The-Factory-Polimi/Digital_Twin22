{
 "cells": [
  {
   "cell_type": "code",
   "execution_count": 1,
   "metadata": {},
   "outputs": [
    {
     "data": {
      "text/plain": [
       "<module 'dtwinpylib.dtwinpy.Digital_Twin' from 'c:\\\\Users\\\\pedro\\\\Github_repos\\\\Digital_Twin\\\\Digital Twin\\\\dtwinpylib\\\\dtwinpy\\\\Digital_Twin.py'>"
      ]
     },
     "execution_count": 1,
     "metadata": {},
     "output_type": "execute_result"
    }
   ],
   "source": [
    "from dtwinpylib.dtwinpy.Digital_Twin import Digital_Twin\n",
    "\n",
    "import importlib\n",
    "import dtwinpylib\n",
    "importlib.reload(dtwinpylib.dtwinpy.Digital_Twin) "
   ]
  },
  {
   "cell_type": "code",
   "execution_count": 3,
   "metadata": {},
   "outputs": [
    {
     "name": "stdout",
     "output_type": "stream",
     "text": [
      "Deleting existing model (excepted by 'initial.json') from the relative folder path:'models/5s_capcity_error'\n",
      "Done! Deleted 0 successfuly\n",
      "--- printing databases paths ---\n",
      "Digital Database: 'databases/5s_capcity_error/digital_database.db'\n",
      "Real Database: 'databases/5s_capcity_error/real_database.db'\n",
      "ID Database: 'databases/5s_capcity_error/ID_database.db'\n",
      "\u001b[32m22 March 05:58:47 |---- Digital Twin '5s_capcity_error' created sucessfully ----\u001b[0m\n",
      "\u001b[31m22 March 05:58:47 |[ERROR][digital_model.py/check_queue_capacity()] Assigned parts in queue is higher than maximum capacity.\u001b[0m\n",
      "\u001b[31m|-- Queue: 1, Assigned number of parts: 3, Max Capacity: 1. Please make the correct changes in the model: 'models/5s_capcity_error/initial.json'\u001b[0m\n",
      "\u001b[31m22 March 05:58:47 |---- Digital Model was killed ----\u001b[0m\n"
     ]
    },
    {
     "ename": "SystemExit",
     "evalue": "",
     "output_type": "error",
     "traceback": [
      "An exception has occurred, use %tb to see the full traceback.\n",
      "\u001b[1;31mSystemExit\u001b[0m\n"
     ]
    },
    {
     "name": "stderr",
     "output_type": "stream",
     "text": [
      "c:\\Users\\pedro\\.virtualenvs\\dtwinpyenv-2W3lhWDO\\Lib\\site-packages\\IPython\\core\\interactiveshell.py:3468: UserWarning: To exit: use 'exit', 'quit', or Ctrl-D.\n",
      "  warn(\"To exit: use 'exit', 'quit', or Ctrl-D.\", stacklevel=1)\n"
     ]
    }
   ],
   "source": [
    "mydt = Digital_Twin(\n",
    "    name= \"5s_capcity_error\",\n",
    "    maxparts= 5\n",
    ")\n",
    "mydt.run_digital_model()"
   ]
  }
 ],
 "metadata": {
  "kernelspec": {
   "display_name": "dtwinpyenv-2W3lhWDO",
   "language": "python",
   "name": "python3"
  },
  "language_info": {
   "codemirror_mode": {
    "name": "ipython",
    "version": 3
   },
   "file_extension": ".py",
   "mimetype": "text/x-python",
   "name": "python",
   "nbconvert_exporter": "python",
   "pygments_lexer": "ipython3",
   "version": "3.11.2"
  },
  "orig_nbformat": 4
 },
 "nbformat": 4,
 "nbformat_minor": 2
}
