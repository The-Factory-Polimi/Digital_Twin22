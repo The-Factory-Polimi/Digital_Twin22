{
 "cells": [
  {
   "attachments": {},
   "cell_type": "markdown",
   "metadata": {},
   "source": [
    "# Testing Integration in \"Virtual Real Time\""
   ]
  },
  {
   "cell_type": "code",
   "execution_count": 4,
   "metadata": {},
   "outputs": [
    {
     "data": {
      "text/plain": [
       "<module 'dtwinpylib.dtwinpy.interfaceDB' from 'c:\\\\Users\\\\pedro\\\\Github Repositories\\\\Digital_Twin\\\\Digital Twin\\\\dtwinpylib\\\\dtwinpy\\\\interfaceDB.py'>"
      ]
     },
     "execution_count": 4,
     "metadata": {},
     "output_type": "execute_result"
    }
   ],
   "source": [
    "#--- Import main library\n",
    "from dtwinpylib.dtwinpy.Digital_Twin import Digital_Twin\n",
    "from dtwinpylib.dtwinpy.interfaceDB import Database\n",
    "\n",
    "#--- Reload library\n",
    "import importlib\n",
    "import dtwinpylib\n",
    "importlib.reload(dtwinpylib.dtwinpy.Digital_Twin) \n",
    "importlib.reload(dtwinpylib.dtwinpy.interfaceDB) "
   ]
  },
  {
   "attachments": {},
   "cell_type": "markdown",
   "metadata": {},
   "source": [
    "Generate dummy data using a simulation (remember to use process times close to reality)"
   ]
  },
  {
   "cell_type": "code",
   "execution_count": null,
   "metadata": {},
   "outputs": [],
   "source": [
    "mydt = Digital_Twin(name=\"5s_determ_real\", copied_realDB= True, maxparts= 30)\n",
    "mydt.run_digital_model()"
   ]
  },
  {
   "cell_type": "code",
   "execution_count": null,
   "metadata": {},
   "outputs": [],
   "source": [
    "mydt = Digital_Twin(name= \"5s_determ_real\", copied_realDB= True, Freq_Service=10, Freq_Sync= 10, Freq_Valid= 30)\n",
    "mydt.run()"
   ]
  },
  {
   "cell_type": "code",
   "execution_count": null,
   "metadata": {},
   "outputs": [],
   "source": [
    "mydt = Digital_Twin(name= \"5s_determ_real\", copied_realDB= True)\n",
    "mydt.run_digital_model(maxparts=10)"
   ]
  },
  {
   "cell_type": "code",
   "execution_count": null,
   "metadata": {},
   "outputs": [],
   "source": [
    "mydt = Digital_Twin(name= \"5s_determ_real\", copied_realDB= True)\n",
    "mydb = Database(database_path= \"databases/5s_determ_real/real_database.db\", event_table= 'real_log', start_time=0, end_time=37)"
   ]
  },
  {
   "cell_type": "code",
   "execution_count": null,
   "metadata": {},
   "outputs": [],
   "source": [
    "mydt= Digital_Twin(name= \"5s_determ_real\", copied_realDB= True, Freq_Service=10000, Freq_Sync= 10, Freq_Valid= 30)\n",
    "mydt.run()"
   ]
  },
  {
   "cell_type": "code",
   "execution_count": 5,
   "metadata": {},
   "outputs": [
    {
     "data": {
      "text/markdown": [
       "<span style='color:#7DCEA0'>Digital Twin '5s_determ_real' created sucessfully at 14 March 18:35:48</span>"
      ],
      "text/plain": [
       "<IPython.core.display.Markdown object>"
      ]
     },
     "metadata": {},
     "output_type": "display_data"
    },
    {
     "name": "stdout",
     "output_type": "stream",
     "text": [
      "--- printing databases paths ---\n",
      "Digital Database: 'databases/5s_determ_real/digital_database.db'\n",
      "Real Database: 'databases/5s_determ_real/real_database.db'\n",
      "ID Database: 'databases/5s_determ_real/ID_database.db'\n",
      "==========  Reading the Model: 5s_determ_real  ==========\n",
      "===> Big Picture\n",
      "Total number of Machines: 5\n",
      "Total number of Queues: 5\n",
      "\n",
      "===>Detailed view of Queues:\n",
      "----------------\n",
      "Queue 1\n",
      "Arc links: [5, 1]\n",
      "Capacity: 10\n",
      "|-- Parts stored: Part 1\n",
      "|-- Parts stored: Part 2\n",
      "|-- Parts stored: Part 3\n",
      "|-- Parts stored: Part 4\n",
      "|-- Parts stored: Part 5\n",
      "Queue Lenght: 5\n",
      "----------------\n",
      "Queue 2\n",
      "Arc links: [1, 2]\n",
      "Capacity: 10\n",
      "Queue Lenght: 0\n",
      "----------------\n",
      "Queue 3\n",
      "Arc links: [1, 3]\n",
      "Capacity: 10\n",
      "Queue Lenght: 0\n",
      "----------------\n",
      "Queue 4\n",
      "Arc links: None\n",
      "Capacity: 20\n",
      "Queue Lenght: 0\n",
      "----------------\n",
      "Queue 5\n",
      "Arc links: [4, 5]\n",
      "Capacity: 10\n",
      "Queue Lenght: 0\n",
      "\n",
      "===>Detailed view of Machines:\n",
      "----------------\n",
      "> Machine 1\n",
      "--Queue In:--\n",
      "Queue 1\n",
      "--Queue Out:--\n",
      "Queue 2\n",
      "Queue 3\n",
      "Machine Cluster: 1\n",
      "Branching Machine: Branch 1 | Machine 1\n",
      "|-- Conveyor towards Queue 2\n",
      "|-- Conveyor towards Queue 3\n",
      "----------------\n",
      "> Machine 2\n",
      "--Queue In:--\n",
      "Queue 2\n",
      "--Queue Out:--\n",
      "Queue 4\n",
      "Machine Cluster: 2\n",
      "----------------\n",
      "> Machine 3\n",
      "--Queue In:--\n",
      "Queue 3\n",
      "--Queue Out:--\n",
      "Queue 4\n",
      "Machine Cluster: 2\n",
      "----------------\n",
      "> Machine 4\n",
      "--Queue In:--\n",
      "Queue 4\n",
      "--Queue Out:--\n",
      "Queue 5\n",
      "Machine Cluster: 3\n",
      "----------------\n",
      "> Machine 5\n",
      "--Queue In:--\n",
      "Queue 5\n",
      "--Queue Out:--\n",
      "Queue 1\n",
      "Machine Cluster: 4\n",
      "### ============ Simulation Started ============ ###\n",
      "Time: 0 - [Machine 1] got Part 1 from Queue 1 (capacity= 4)\n",
      "Time: 10 - [Conveyor towards Queue 2] GOT Part 1\n",
      "Time: 10 - [Machine 1] got Part 2 from Queue 1 (capacity= 3)\n",
      "Time: 12 - [Conveyor towards Queue 2] PUT Part 1 in the Queue 2\n",
      "Time: 13 - [Machine 2] got Part 1 from Queue 2 (capacity= 0)\n",
      "Time: 20 - [Conveyor towards Queue 3] GOT Part 2\n",
      "Time: 20 - [Machine 1] got Part 3 from Queue 1 (capacity= 2)\n",
      "Time: 22 - [Conveyor towards Queue 3] PUT Part 2 in the Queue 3\n",
      "Time: 23 - [Conveyor towards Queue 4] GOT Part 1\n",
      "Time: 23 - [Machine 3] got Part 2 from Queue 3 (capacity= 0)\n",
      "Time: 24 - [Conveyor towards Queue 4] PUT Part 1 in the Queue 4\n",
      "Time: 25 - [Machine 4] got Part 1 from Queue 4 (capacity= 0)\n",
      "Time: 30 - [Conveyor towards Queue 2] GOT Part 3\n",
      "Time: 30 - [Machine 1] got Part 4 from Queue 1 (capacity= 1)\n",
      "Time: 32 - [Conveyor towards Queue 2] PUT Part 3 in the Queue 2\n",
      "Time: 33 - [Conveyor towards Queue 4] GOT Part 2\n",
      "Time: 33 - [Machine 2] got Part 3 from Queue 2 (capacity= 0)\n",
      "Time: 34 - [Conveyor towards Queue 4] PUT Part 2 in the Queue 4\n",
      "Time: 35 - [Conveyor towards Queue 5] GOT Part 1\n",
      "Time: 35 - [Machine 4] got Part 2 from Queue 4 (capacity= 0)\n",
      "Time: 36 - [Conveyor towards Queue 5] PUT Part 1 in the Queue 5\n",
      "Time: 37 - [Machine 5] got Part 1 from Queue 5 (capacity= 0)\n",
      "Time: 40 - [Conveyor towards Queue 3] GOT Part 4\n",
      "Time: 40 - [Machine 1] got Part 5 from Queue 1 (capacity= 0)\n",
      "Time: 42 - [Conveyor towards Queue 3] PUT Part 4 in the Queue 3\n",
      "Time: 43 - [Conveyor towards Queue 4] GOT Part 3\n",
      "Time: 43 - [Machine 3] got Part 4 from Queue 3 (capacity= 0)\n",
      "Time: 44 - [Conveyor towards Queue 4] PUT Part 3 in the Queue 4\n",
      "Time: 45 - [Conveyor towards Queue 5] GOT Part 2\n",
      "Time: 45 - [Machine 4] got Part 3 from Queue 4 (capacity= 0)\n",
      "Time: 46 - [Conveyor towards Queue 5] PUT Part 2 in the Queue 5\n",
      "Time: 47 - [Terminator] xxx Part 1 terminated xxx\n",
      "Time: 47 - [Terminator] Part 6 replaced\n",
      "Time: 47 - [Conveyor towards Queue 1] GOT Part 6\n",
      "Time: 47 - [Machine 5] got Part 2 from Queue 5 (capacity= 0)\n",
      "Time: 50 - [Conveyor towards Queue 2] GOT Part 5\n",
      "Time: 50 - [Conveyor towards Queue 1] PUT Part 6 in the Queue 1\n",
      "Time: 51 - [Machine 1] got Part 6 from Queue 1 (capacity= 0)\n",
      "Time: 52 - [Conveyor towards Queue 2] PUT Part 5 in the Queue 2\n",
      "Time: 53 - [Conveyor towards Queue 4] GOT Part 4\n",
      "Time: 53 - [Machine 2] got Part 5 from Queue 2 (capacity= 0)\n",
      "Time: 54 - [Conveyor towards Queue 4] PUT Part 4 in the Queue 4\n",
      "Time: 55 - [Conveyor towards Queue 5] GOT Part 3\n",
      "Time: 55 - [Machine 4] got Part 4 from Queue 4 (capacity= 0)\n",
      "Time: 56 - [Conveyor towards Queue 5] PUT Part 3 in the Queue 5\n",
      "Time: 57 - [Terminator] xxx Part 2 terminated xxx\n",
      "Time: 57 - [Terminator] Part 7 replaced\n",
      "Time: 57 - [Conveyor towards Queue 1] GOT Part 7\n",
      "Time: 57 - [Machine 5] got Part 3 from Queue 5 (capacity= 0)\n",
      "Time: 60 - [Conveyor towards Queue 1] PUT Part 7 in the Queue 1\n",
      "Time: 61 - [Conveyor towards Queue 3] GOT Part 6\n",
      "Time: 61 - [Machine 1] got Part 7 from Queue 1 (capacity= 0)\n",
      "Time: 63 - [Conveyor towards Queue 4] GOT Part 5\n",
      "Time: 63 - [Conveyor towards Queue 3] PUT Part 6 in the Queue 3\n",
      "Time: 64 - [Machine 3] got Part 6 from Queue 3 (capacity= 0)\n",
      "Time: 64 - [Conveyor towards Queue 4] PUT Part 5 in the Queue 4\n",
      "Time: 65 - [Conveyor towards Queue 5] GOT Part 4\n",
      "Time: 65 - [Machine 4] got Part 5 from Queue 4 (capacity= 0)\n",
      "Time: 66 - [Conveyor towards Queue 5] PUT Part 4 in the Queue 5\n",
      "Time: 67 - [Terminator] xxx Part 3 terminated xxx\n",
      "Time: 67 - [Terminator] Part 8 replaced\n",
      "Time: 67 - [Conveyor towards Queue 1] GOT Part 8\n",
      "Time: 67 - [Machine 5] got Part 4 from Queue 5 (capacity= 0)\n",
      "Time: 70 - [Conveyor towards Queue 1] PUT Part 8 in the Queue 1\n",
      "Time: 71 - [Conveyor towards Queue 2] GOT Part 7\n",
      "Time: 71 - [Machine 1] got Part 8 from Queue 1 (capacity= 0)\n",
      "Time: 73 - [Conveyor towards Queue 2] PUT Part 7 in the Queue 2\n",
      "Time: 74 - [Conveyor towards Queue 4] GOT Part 6\n",
      "Time: 74 - [Machine 2] got Part 7 from Queue 2 (capacity= 0)\n",
      "Time: 75 - [Conveyor towards Queue 5] GOT Part 5\n",
      "Time: 75 - [Conveyor towards Queue 4] PUT Part 6 in the Queue 4\n",
      "Time: 76 - [Machine 4] got Part 6 from Queue 4 (capacity= 0)\n",
      "Time: 76 - [Conveyor towards Queue 5] PUT Part 5 in the Queue 5\n",
      "Time: 77 - [Terminator] xxx Part 4 terminated xxx\n",
      "Time: 77 - [Terminator] Part 9 replaced\n",
      "Time: 77 - [Conveyor towards Queue 1] GOT Part 9\n",
      "Time: 77 - [Machine 5] got Part 5 from Queue 5 (capacity= 0)\n",
      "Time: 80 - [Conveyor towards Queue 1] PUT Part 9 in the Queue 1\n",
      "Time: 81 - [Conveyor towards Queue 3] GOT Part 8\n",
      "Time: 81 - [Machine 1] got Part 9 from Queue 1 (capacity= 0)\n",
      "Time: 83 - [Conveyor towards Queue 3] PUT Part 8 in the Queue 3\n",
      "Time: 84 - [Conveyor towards Queue 4] GOT Part 7\n",
      "Time: 84 - [Machine 3] got Part 8 from Queue 3 (capacity= 0)\n",
      "Time: 85 - [Conveyor towards Queue 4] PUT Part 7 in the Queue 4\n",
      "Time: 86 - [Conveyor towards Queue 5] GOT Part 6\n",
      "Time: 86 - [Machine 4] got Part 7 from Queue 4 (capacity= 0)\n",
      "Time: 87 - [Terminator] xxx Part 5 terminated xxx\n",
      "Time: 87 - [Terminator] Part 10 replaced\n",
      "Time: 87 - [Conveyor towards Queue 1] GOT Part 10\n",
      "Time: 87 - [Conveyor towards Queue 5] PUT Part 6 in the Queue 5\n",
      "Time: 88 - [Machine 5] got Part 6 from Queue 5 (capacity= 0)\n",
      "Time: 90 - [Conveyor towards Queue 1] PUT Part 10 in the Queue 1\n",
      "Time: 91 - [Conveyor towards Queue 2] GOT Part 9\n",
      "Time: 91 - [Machine 1] got Part 10 from Queue 1 (capacity= 0)\n",
      "Time: 93 - [Conveyor towards Queue 2] PUT Part 9 in the Queue 2\n",
      "Time: 94 - [Conveyor towards Queue 4] GOT Part 8\n",
      "Time: 94 - [Machine 2] got Part 9 from Queue 2 (capacity= 0)\n",
      "Time: 95 - [Conveyor towards Queue 4] PUT Part 8 in the Queue 4\n",
      "Time: 96 - [Conveyor towards Queue 5] GOT Part 7\n",
      "Time: 96 - [Machine 4] got Part 8 from Queue 4 (capacity= 0)\n",
      "Time: 97 - [Conveyor towards Queue 5] PUT Part 7 in the Queue 5\n",
      "Time: 98 - [Terminator] xxx Part 6 terminated xxx\n",
      "Time: 98 - [Terminator] Part 11 replaced\n",
      "Time: 98 - [Conveyor towards Queue 1] GOT Part 11\n",
      "Time: 98 - [Machine 5] got Part 7 from Queue 5 (capacity= 0)\n",
      "Time: 101 - [Conveyor towards Queue 3] GOT Part 10\n",
      "Time: 101 - [Conveyor towards Queue 1] PUT Part 11 in the Queue 1\n",
      "Time: 102 - [Machine 1] got Part 11 from Queue 1 (capacity= 0)\n",
      "Time: 103 - [Conveyor towards Queue 3] PUT Part 10 in the Queue 3\n",
      "Time: 104 - [Conveyor towards Queue 4] GOT Part 9\n",
      "Time: 104 - [Machine 3] got Part 10 from Queue 3 (capacity= 0)\n",
      "Time: 105 - [Conveyor towards Queue 4] PUT Part 9 in the Queue 4\n",
      "Time: 106 - [Conveyor towards Queue 5] GOT Part 8\n",
      "Time: 106 - [Machine 4] got Part 9 from Queue 4 (capacity= 0)\n",
      "Time: 107 - [Conveyor towards Queue 5] PUT Part 8 in the Queue 5\n",
      "Time: 108 - [Terminator] xxx Part 7 terminated xxx\n",
      "Time: 108 - [Terminator] Part 12 replaced\n",
      "Time: 108 - [Conveyor towards Queue 1] GOT Part 12\n",
      "Time: 108 - [Machine 5] got Part 8 from Queue 5 (capacity= 0)\n",
      "Time: 111 - [Conveyor towards Queue 1] PUT Part 12 in the Queue 1\n",
      "Time: 112 - [Conveyor towards Queue 2] GOT Part 11\n",
      "Time: 112 - [Machine 1] got Part 12 from Queue 1 (capacity= 0)\n",
      "Time: 114 - [Conveyor towards Queue 4] GOT Part 10\n",
      "Time: 114 - [Conveyor towards Queue 2] PUT Part 11 in the Queue 2\n",
      "Time: 115 - [Machine 2] got Part 11 from Queue 2 (capacity= 0)\n",
      "Time: 115 - [Conveyor towards Queue 4] PUT Part 10 in the Queue 4\n",
      "Time: 116 - [Conveyor towards Queue 5] GOT Part 9\n",
      "Time: 116 - [Machine 4] got Part 10 from Queue 4 (capacity= 0)\n",
      "Time: 117 - [Conveyor towards Queue 5] PUT Part 9 in the Queue 5\n",
      "Time: 118 - [Terminator] xxx Part 8 terminated xxx\n",
      "Time: 118 - [Terminator] Part 13 replaced\n",
      "Time: 118 - [Conveyor towards Queue 1] GOT Part 13\n",
      "Time: 118 - [Machine 5] got Part 9 from Queue 5 (capacity= 0)\n",
      "Time: 121 - [Conveyor towards Queue 1] PUT Part 13 in the Queue 1\n",
      "Time: 122 - [Conveyor towards Queue 3] GOT Part 12\n",
      "Time: 122 - [Machine 1] got Part 13 from Queue 1 (capacity= 0)\n",
      "Time: 124 - [Conveyor towards Queue 3] PUT Part 12 in the Queue 3\n",
      "Time: 125 - [Conveyor towards Queue 4] GOT Part 11\n",
      "Time: 125 - [Machine 3] got Part 12 from Queue 3 (capacity= 0)\n",
      "Time: 126 - [Conveyor towards Queue 5] GOT Part 10\n",
      "Time: 126 - [Conveyor towards Queue 4] PUT Part 11 in the Queue 4\n",
      "Time: 127 - [Machine 4] got Part 11 from Queue 4 (capacity= 0)\n",
      "Time: 127 - [Conveyor towards Queue 5] PUT Part 10 in the Queue 5\n",
      "Time: 128 - [Terminator] xxx Part 9 terminated xxx\n",
      "Time: 128 - [Terminator] Part 14 replaced\n",
      "Time: 128 - [Conveyor towards Queue 1] GOT Part 14\n",
      "Time: 128 - [Machine 5] got Part 10 from Queue 5 (capacity= 0)\n",
      "Time: 131 - [Conveyor towards Queue 1] PUT Part 14 in the Queue 1\n",
      "Time: 132 - [Conveyor towards Queue 2] GOT Part 13\n",
      "Time: 132 - [Machine 1] got Part 14 from Queue 1 (capacity= 0)\n",
      "Time: 134 - [Conveyor towards Queue 2] PUT Part 13 in the Queue 2\n",
      "Time: 135 - [Conveyor towards Queue 4] GOT Part 12\n",
      "Time: 135 - [Machine 2] got Part 13 from Queue 2 (capacity= 0)\n",
      "Time: 136 - [Conveyor towards Queue 4] PUT Part 12 in the Queue 4\n",
      "Time: 137 - [Conveyor towards Queue 5] GOT Part 11\n",
      "Time: 137 - [Machine 4] got Part 12 from Queue 4 (capacity= 0)\n",
      "Time: 138 - [Terminator] xxx Part 10 terminated xxx\n",
      "Time: 138 - [Terminator] Part 15 replaced\n",
      "Time: 138 - [Conveyor towards Queue 1] GOT Part 15\n",
      "Time: 138 - [Conveyor towards Queue 5] PUT Part 11 in the Queue 5\n",
      "=== Reading all the events from table: digital_log ===\n",
      "(1, 0, 'Machine 1', 'Started', 'Part 1', 'Queue 1', None, None)\n",
      "(2, 10, 'Machine 1', 'Finished', 'Part 1', 'Queue 2', None, None)\n",
      "(3, 10, 'Machine 1', 'Started', 'Part 2', 'Queue 1', None, None)\n",
      "(4, 13, 'Machine 2', 'Started', 'Part 1', 'Queue 2', None, None)\n",
      "(5, 20, 'Machine 1', 'Finished', 'Part 2', 'Queue 3', None, None)\n",
      "(6, 20, 'Machine 1', 'Started', 'Part 3', 'Queue 1', None, None)\n",
      "(7, 23, 'Machine 2', 'Finished', 'Part 1', 'Queue 4', None, None)\n",
      "(8, 23, 'Machine 3', 'Started', 'Part 2', 'Queue 3', None, None)\n",
      "(9, 25, 'Machine 4', 'Started', 'Part 1', 'Queue 4', None, None)\n",
      "(10, 30, 'Machine 1', 'Finished', 'Part 3', 'Queue 2', None, None)\n",
      "(11, 30, 'Machine 1', 'Started', 'Part 4', 'Queue 1', None, None)\n",
      "(12, 33, 'Machine 3', 'Finished', 'Part 2', 'Queue 4', None, None)\n",
      "(13, 33, 'Machine 2', 'Started', 'Part 3', 'Queue 2', None, None)\n",
      "(14, 35, 'Machine 4', 'Finished', 'Part 1', 'Queue 5', None, None)\n",
      "(15, 35, 'Machine 4', 'Started', 'Part 2', 'Queue 4', None, None)\n",
      "(16, 37, 'Machine 5', 'Started', 'Part 1', 'Queue 5', None, None)\n",
      "(17, 40, 'Machine 1', 'Finished', 'Part 4', 'Queue 3', None, None)\n",
      "(18, 40, 'Machine 1', 'Started', 'Part 5', 'Queue 1', None, None)\n",
      "(19, 43, 'Machine 2', 'Finished', 'Part 3', 'Queue 4', None, None)\n",
      "(20, 43, 'Machine 3', 'Started', 'Part 4', 'Queue 3', None, None)\n",
      "(21, 45, 'Machine 4', 'Finished', 'Part 2', 'Queue 5', None, None)\n",
      "(22, 45, 'Machine 4', 'Started', 'Part 3', 'Queue 4', None, None)\n",
      "(23, 47, 'Machine 5', 'Finished', 'Part 1', 'Queue 1', None, None)\n",
      "(24, 47, 'Machine 5', 'Started', 'Part 2', 'Queue 5', None, None)\n",
      "(25, 50, 'Machine 1', 'Finished', 'Part 5', 'Queue 2', None, None)\n",
      "(26, 51, 'Machine 1', 'Started', 'Part 6', 'Queue 1', None, None)\n",
      "(27, 53, 'Machine 3', 'Finished', 'Part 4', 'Queue 4', None, None)\n",
      "(28, 53, 'Machine 2', 'Started', 'Part 5', 'Queue 2', None, None)\n",
      "(29, 55, 'Machine 4', 'Finished', 'Part 3', 'Queue 5', None, None)\n",
      "(30, 55, 'Machine 4', 'Started', 'Part 4', 'Queue 4', None, None)\n",
      "(31, 57, 'Machine 5', 'Finished', 'Part 2', 'Queue 1', None, None)\n",
      "(32, 57, 'Machine 5', 'Started', 'Part 3', 'Queue 5', None, None)\n",
      "(33, 61, 'Machine 1', 'Finished', 'Part 6', 'Queue 3', None, None)\n",
      "(34, 61, 'Machine 1', 'Started', 'Part 7', 'Queue 1', None, None)\n",
      "(35, 63, 'Machine 2', 'Finished', 'Part 5', 'Queue 4', None, None)\n",
      "(36, 64, 'Machine 3', 'Started', 'Part 6', 'Queue 3', None, None)\n",
      "(37, 65, 'Machine 4', 'Finished', 'Part 4', 'Queue 5', None, None)\n",
      "(38, 65, 'Machine 4', 'Started', 'Part 5', 'Queue 4', None, None)\n",
      "(39, 67, 'Machine 5', 'Finished', 'Part 3', 'Queue 1', None, None)\n",
      "(40, 67, 'Machine 5', 'Started', 'Part 4', 'Queue 5', None, None)\n",
      "(41, 71, 'Machine 1', 'Finished', 'Part 7', 'Queue 2', None, None)\n",
      "(42, 71, 'Machine 1', 'Started', 'Part 8', 'Queue 1', None, None)\n",
      "(43, 74, 'Machine 3', 'Finished', 'Part 6', 'Queue 4', None, None)\n",
      "(44, 74, 'Machine 2', 'Started', 'Part 7', 'Queue 2', None, None)\n",
      "(45, 75, 'Machine 4', 'Finished', 'Part 5', 'Queue 5', None, None)\n",
      "(46, 76, 'Machine 4', 'Started', 'Part 6', 'Queue 4', None, None)\n",
      "(47, 77, 'Machine 5', 'Finished', 'Part 4', 'Queue 1', None, None)\n",
      "(48, 77, 'Machine 5', 'Started', 'Part 5', 'Queue 5', None, None)\n",
      "(49, 81, 'Machine 1', 'Finished', 'Part 8', 'Queue 3', None, None)\n",
      "(50, 81, 'Machine 1', 'Started', 'Part 9', 'Queue 1', None, None)\n",
      "(51, 84, 'Machine 2', 'Finished', 'Part 7', 'Queue 4', None, None)\n",
      "(52, 84, 'Machine 3', 'Started', 'Part 8', 'Queue 3', None, None)\n",
      "(53, 86, 'Machine 4', 'Finished', 'Part 6', 'Queue 5', None, None)\n",
      "(54, 86, 'Machine 4', 'Started', 'Part 7', 'Queue 4', None, None)\n",
      "(55, 87, 'Machine 5', 'Finished', 'Part 5', 'Queue 1', None, None)\n",
      "(56, 88, 'Machine 5', 'Started', 'Part 6', 'Queue 5', None, None)\n",
      "(57, 91, 'Machine 1', 'Finished', 'Part 9', 'Queue 2', None, None)\n",
      "(58, 91, 'Machine 1', 'Started', 'Part 10', 'Queue 1', None, None)\n",
      "(59, 94, 'Machine 3', 'Finished', 'Part 8', 'Queue 4', None, None)\n",
      "(60, 94, 'Machine 2', 'Started', 'Part 9', 'Queue 2', None, None)\n",
      "(61, 96, 'Machine 4', 'Finished', 'Part 7', 'Queue 5', None, None)\n",
      "(62, 96, 'Machine 4', 'Started', 'Part 8', 'Queue 4', None, None)\n",
      "(63, 98, 'Machine 5', 'Finished', 'Part 6', 'Queue 1', None, None)\n",
      "(64, 98, 'Machine 5', 'Started', 'Part 7', 'Queue 5', None, None)\n",
      "(65, 101, 'Machine 1', 'Finished', 'Part 10', 'Queue 3', None, None)\n",
      "(66, 102, 'Machine 1', 'Started', 'Part 11', 'Queue 1', None, None)\n",
      "(67, 104, 'Machine 2', 'Finished', 'Part 9', 'Queue 4', None, None)\n",
      "(68, 104, 'Machine 3', 'Started', 'Part 10', 'Queue 3', None, None)\n",
      "(69, 106, 'Machine 4', 'Finished', 'Part 8', 'Queue 5', None, None)\n",
      "(70, 106, 'Machine 4', 'Started', 'Part 9', 'Queue 4', None, None)\n",
      "(71, 108, 'Machine 5', 'Finished', 'Part 7', 'Queue 1', None, None)\n",
      "(72, 108, 'Machine 5', 'Started', 'Part 8', 'Queue 5', None, None)\n",
      "(73, 112, 'Machine 1', 'Finished', 'Part 11', 'Queue 2', None, None)\n",
      "(74, 112, 'Machine 1', 'Started', 'Part 12', 'Queue 1', None, None)\n",
      "(75, 114, 'Machine 3', 'Finished', 'Part 10', 'Queue 4', None, None)\n",
      "(76, 115, 'Machine 2', 'Started', 'Part 11', 'Queue 2', None, None)\n",
      "(77, 116, 'Machine 4', 'Finished', 'Part 9', 'Queue 5', None, None)\n",
      "(78, 116, 'Machine 4', 'Started', 'Part 10', 'Queue 4', None, None)\n",
      "(79, 118, 'Machine 5', 'Finished', 'Part 8', 'Queue 1', None, None)\n",
      "(80, 118, 'Machine 5', 'Started', 'Part 9', 'Queue 5', None, None)\n",
      "(81, 122, 'Machine 1', 'Finished', 'Part 12', 'Queue 3', None, None)\n",
      "(82, 122, 'Machine 1', 'Started', 'Part 13', 'Queue 1', None, None)\n",
      "(83, 125, 'Machine 2', 'Finished', 'Part 11', 'Queue 4', None, None)\n",
      "(84, 125, 'Machine 3', 'Started', 'Part 12', 'Queue 3', None, None)\n",
      "(85, 126, 'Machine 4', 'Finished', 'Part 10', 'Queue 5', None, None)\n",
      "(86, 127, 'Machine 4', 'Started', 'Part 11', 'Queue 4', None, None)\n",
      "(87, 128, 'Machine 5', 'Finished', 'Part 9', 'Queue 1', None, None)\n",
      "(88, 128, 'Machine 5', 'Started', 'Part 10', 'Queue 5', None, None)\n",
      "(89, 132, 'Machine 1', 'Finished', 'Part 13', 'Queue 2', None, None)\n",
      "(90, 132, 'Machine 1', 'Started', 'Part 14', 'Queue 1', None, None)\n",
      "(91, 135, 'Machine 3', 'Finished', 'Part 12', 'Queue 4', None, None)\n",
      "(92, 135, 'Machine 2', 'Started', 'Part 13', 'Queue 2', None, None)\n",
      "(93, 137, 'Machine 4', 'Finished', 'Part 11', 'Queue 5', None, None)\n",
      "(94, 137, 'Machine 4', 'Started', 'Part 12', 'Queue 4', None, None)\n",
      "(95, 138, 'Machine 5', 'Finished', 'Part 10', 'Queue 1', None, None)\n",
      "### ============ Simulation Done ============ ###\n",
      "================ Running Analysis ================\n",
      "Number of Parts finished: 10\n",
      "Total time of Simulation: 138\n"
     ]
    },
    {
     "data": {
      "image/png": "[encoded data removed]",
      "text/plain": [
       "<Figure size 640x480 with 1 Axes>"
      ]
     },
     "metadata": {},
     "output_type": "display_data"
    },
    {
     "name": "stdout",
     "output_type": "stream",
     "text": [
      "- Maximum Cycle Time: 87\n",
      "- Minimum Cycle Time: 47\n",
      ">>> Average system cycle time: 59.0 [time unit]***\n"
     ]
    },
    {
     "data": {
      "image/png": "[encoded data removed]",
      "text/plain": [
       "<Figure size 640x480 with 1 Axes>"
      ]
     },
     "metadata": {},
     "output_type": "display_data"
    },
    {
     "name": "stdout",
     "output_type": "stream",
     "text": [
      ">>> System Throughput: 0.07246376811594203 [parts / time unit] \n"
     ]
    },
    {
     "data": {
      "text/markdown": [
       "<span style='color:#7DCEA0'>Digital Twin '5s_determ_real' created sucessfully at 14 March 18:35:49</span>"
      ],
      "text/plain": [
       "<IPython.core.display.Markdown object>"
      ]
     },
     "metadata": {},
     "output_type": "display_data"
    },
    {
     "name": "stdout",
     "output_type": "stream",
     "text": [
      "--- printing databases paths ---\n",
      "Digital Database: 'databases/5s_determ_real/digital_database.db'\n",
      "Real Database: 'databases/5s_determ_real/real_database.db'\n",
      "ID Database: 'databases/5s_determ_real/ID_database.db'\n"
     ]
    },
    {
     "data": {
      "text/markdown": [
       "<span style='color:#3498DB'>14 March 18:35:59 |[Internal Service] Starting Synchronization</span>"
      ],
      "text/plain": [
       "<IPython.core.display.Markdown object>"
      ]
     },
     "metadata": {},
     "output_type": "display_data"
    },
    {
     "name": "stdout",
     "output_type": "stream",
     "text": [
      "---------- Pointer Status ----------\n",
      "Start Time ID: 1\n",
      "End Time ID: 2\n",
      "-------------------------------------\n",
      "-----------------------------------------------------------------\n",
      "Big picture BEFORE calculations\n",
      "--- Zone of Machine 1 ---\n",
      "Parts in queue: ['Part 1', 'Part 2', 'Part 3', 'Part 4', 'Part 5']\n",
      "Part in machine: []\n",
      "--- Zone of Machine 2 ---\n",
      "Parts in queue: []\n",
      "Part in machine: []\n",
      "--- Zone of Machine 3 ---\n",
      "Parts in queue: []\n",
      "Part in machine: []\n",
      "--- Zone of Machine 4 ---\n",
      "Parts in queue: []\n",
      "Part in machine: []\n",
      "--- Zone of Machine 5 ---\n",
      "Parts in queue: []\n",
      "Part in machine: []\n",
      "-----------------------------------------------------------------\n",
      "----\n",
      "After MStarted Part 1 in queue\n",
      "Zone of Machine 1 | parts_ids_in_queue: ['Part 2', 'Part 3', 'Part 4', 'Part 5']\n",
      "Zone of Machine 1 | parts_ids_in_machine: ['Part 1']\n",
      "----\n",
      "After MFinished Part 1 in queue\n",
      "Zone of Machine 1 | parts_ids_in_queue: ['Part 2', 'Part 3', 'Part 4', 'Part 5']\n",
      "Zone of Machine 1 | parts_ids_in_machine: []\n",
      "----\n",
      "After Added Part 1 in queue\n",
      "Zone of Machine 2 | parts_ids_in_queue: ['Part 1']\n",
      "Zone of Machine 2 | parts_ids_in_machine: []\n",
      "-----------------------------------------------------------------\n",
      "Big picture AFTER calculations\n",
      "--- Zone of Machine 1 ---\n",
      "Parts in queue: ['Part 2', 'Part 3', 'Part 4', 'Part 5']\n",
      "Part in machine: []\n",
      "Zone is Working? False\n",
      "--- Zone of Machine 2 ---\n",
      "Parts in queue: ['Part 1']\n",
      "Part in machine: []\n",
      "Zone is Working? False\n",
      "--- Zone of Machine 3 ---\n",
      "Parts in queue: []\n",
      "Part in machine: []\n",
      "Zone is Working? False\n",
      "--- Zone of Machine 4 ---\n",
      "Parts in queue: []\n",
      "Part in machine: []\n",
      "Zone is Working? False\n",
      "--- Zone of Machine 5 ---\n",
      "Parts in queue: []\n",
      "Part in machine: []\n",
      "Zone is Working? False\n",
      "-----------------------------------------------------------------\n",
      "=========== Self Verification (Digital-Based) ===========\n",
      "[Zone of Machine 1] NumParts = 5, Machine Working = False, Parts in Conveyor = 0\n",
      "[Zone of Machine 2] NumParts = 0, Machine Working = False, Parts in Conveyor = 0\n",
      "[Zone of Machine 3] NumParts = 0, Machine Working = False, Parts in Conveyor = 0\n",
      "[Zone of Machine 4] NumParts = 0, Machine Working = False, Parts in Conveyor = 0\n",
      "[Zone of Machine 5] NumParts = 0, Machine Working = False, Parts in Conveyor = 0\n",
      "=========================================\n",
      "=========== Zones Occupations (Real-Based) ===========\n",
      "[Zone of Machine 1] NumParts = 4, Machine Working = False, Zone Indicador = None\n",
      "[Zone of Machine 2] NumParts = 1, Machine Working = False, Zone Indicador = None\n",
      "[Zone of Machine 3] NumParts = 0, Machine Working = False, Zone Indicador = None\n",
      "[Zone of Machine 4] NumParts = 0, Machine Working = False, Zone Indicador = None\n",
      "[Zone of Machine 5] NumParts = 0, Machine Working = False, Zone Indicador = None\n",
      "=========================================\n"
     ]
    },
    {
     "data": {
      "text/markdown": [
       "<span style='color:#3498DB'>14 March 18:35:59 |[Internal Service] System Synchronized. Next Sync: 14 March 18:36:09</span>"
      ],
      "text/plain": [
       "<IPython.core.display.Markdown object>"
      ]
     },
     "metadata": {},
     "output_type": "display_data"
    },
    {
     "data": {
      "text/markdown": [
       "<span style='color:#A569BD'>14 March 18:35:59 |[External Service] Starting RCT Service</span>"
      ],
      "text/plain": [
       "<IPython.core.display.Markdown object>"
      ]
     },
     "metadata": {},
     "output_type": "display_data"
    },
    {
     "data": {
      "text/markdown": [
       "<span style='color:#A569BD'>14 March 18:35:59 |[External Service] System RCT completed. Next Service: 14 March 18:36:09</span>"
      ],
      "text/plain": [
       "<IPython.core.display.Markdown object>"
      ]
     },
     "metadata": {},
     "output_type": "display_data"
    },
    {
     "data": {
      "text/markdown": [
       "<span style='color:#3498DB'>14 March 18:36:09 |[Internal Service] Starting Synchronization</span>"
      ],
      "text/plain": [
       "<IPython.core.display.Markdown object>"
      ]
     },
     "metadata": {},
     "output_type": "display_data"
    },
    {
     "name": "stdout",
     "output_type": "stream",
     "text": [
      "---------- Pointer Status ----------\n",
      "Start Time ID: 3\n",
      "End Time ID: 5\n",
      "-------------------------------------\n",
      "-----------------------------------------------------------------\n",
      "Big picture BEFORE calculations\n",
      "--- Zone of Machine 1 ---\n",
      "Parts in queue: ['Part 2', 'Part 3', 'Part 4', 'Part 5']\n",
      "Part in machine: []\n",
      "--- Zone of Machine 2 ---\n",
      "Parts in queue: ['Part 1']\n",
      "Part in machine: []\n",
      "--- Zone of Machine 3 ---\n",
      "Parts in queue: []\n",
      "Part in machine: []\n",
      "--- Zone of Machine 4 ---\n",
      "Parts in queue: []\n",
      "Part in machine: []\n",
      "--- Zone of Machine 5 ---\n",
      "Parts in queue: []\n",
      "Part in machine: []\n",
      "-----------------------------------------------------------------\n",
      "----\n",
      "After MStarted Part 2 in queue\n",
      "Zone of Machine 1 | parts_ids_in_queue: ['Part 3', 'Part 4', 'Part 5']\n",
      "Zone of Machine 1 | parts_ids_in_machine: ['Part 2']\n",
      "----\n",
      "After MStarted Part 1 in queue\n",
      "Zone of Machine 2 | parts_ids_in_queue: []\n",
      "Zone of Machine 2 | parts_ids_in_machine: ['Part 1']\n",
      "----\n",
      "After MFinished Part 2 in queue\n",
      "Zone of Machine 1 | parts_ids_in_queue: ['Part 3', 'Part 4', 'Part 5']\n",
      "Zone of Machine 1 | parts_ids_in_machine: []\n",
      "----\n",
      "After Added Part 2 in queue\n",
      "Zone of Machine 3 | parts_ids_in_queue: ['Part 2']\n",
      "Zone of Machine 3 | parts_ids_in_machine: []\n",
      "-----------------------------------------------------------------\n",
      "Big picture AFTER calculations\n",
      "--- Zone of Machine 1 ---\n",
      "Parts in queue: ['Part 3', 'Part 4', 'Part 5']\n",
      "Part in machine: []\n",
      "Zone is Working? False\n",
      "--- Zone of Machine 2 ---\n",
      "Parts in queue: []\n",
      "Part in machine: ['Part 1']\n",
      "Zone is Working? True\n",
      "--- Zone of Machine 3 ---\n",
      "Parts in queue: ['Part 2']\n",
      "Part in machine: []\n",
      "Zone is Working? False\n",
      "--- Zone of Machine 4 ---\n",
      "Parts in queue: []\n",
      "Part in machine: []\n",
      "Zone is Working? False\n",
      "--- Zone of Machine 5 ---\n",
      "Parts in queue: []\n",
      "Part in machine: []\n",
      "Zone is Working? False\n",
      "-----------------------------------------------------------------\n",
      "=========== Self Verification (Digital-Based) ===========\n",
      "[Zone of Machine 1] NumParts = 4, Machine Working = False, Parts in Conveyor = 0\n",
      "[Zone of Machine 2] NumParts = 1, Machine Working = False, Parts in Conveyor = 0\n",
      "[Zone of Machine 3] NumParts = 0, Machine Working = False, Parts in Conveyor = 0\n",
      "[Zone of Machine 4] NumParts = 0, Machine Working = False, Parts in Conveyor = 0\n",
      "[Zone of Machine 5] NumParts = 0, Machine Working = False, Parts in Conveyor = 0\n",
      "=========================================\n",
      "=========== Zones Occupations (Real-Based) ===========\n",
      "[Zone of Machine 1] NumParts = 3, Machine Working = False, Zone Indicador = None\n",
      "[Zone of Machine 2] NumParts = 1, Machine Working = True, Zone Indicador = None\n",
      "[Zone of Machine 3] NumParts = 1, Machine Working = False, Zone Indicador = None\n",
      "[Zone of Machine 4] NumParts = 0, Machine Working = False, Zone Indicador = None\n",
      "[Zone of Machine 5] NumParts = 0, Machine Working = False, Zone Indicador = None\n",
      "=========================================\n"
     ]
    },
    {
     "data": {
      "text/markdown": [
       "<span style='color:#3498DB'>14 March 18:36:09 |[Internal Service] System Synchronized. Next Sync: 14 March 18:36:19</span>"
      ],
      "text/plain": [
       "<IPython.core.display.Markdown object>"
      ]
     },
     "metadata": {},
     "output_type": "display_data"
    },
    {
     "data": {
      "text/markdown": [
       "<span style='color:#A569BD'>14 March 18:36:09 |[External Service] Starting RCT Service</span>"
      ],
      "text/plain": [
       "<IPython.core.display.Markdown object>"
      ]
     },
     "metadata": {},
     "output_type": "display_data"
    },
    {
     "data": {
      "text/markdown": [
       "<span style='color:#A569BD'>14 March 18:36:09 |[External Service] System RCT completed. Next Service: 14 March 18:36:19</span>"
      ],
      "text/plain": [
       "<IPython.core.display.Markdown object>"
      ]
     },
     "metadata": {},
     "output_type": "display_data"
    },
    {
     "data": {
      "text/markdown": [
       "<span style='color:#7DCEA0'>14 March 18:36:19 |[Internal Service] Starting Validation</span>"
      ],
      "text/plain": [
       "<IPython.core.display.Markdown object>"
      ]
     },
     "metadata": {},
     "output_type": "display_data"
    },
    {
     "name": "stdout",
     "output_type": "stream",
     "text": [
      "---------- Pointer Status ----------\n",
      "Start Time ID: 6\n",
      "End Time ID: 10\n",
      "-------------------------------------\n"
     ]
    },
    {
     "data": {
      "text/markdown": [
       "<span style='color:yellow'>[WARNING][validator.py/get_part_TDS()] Trying to get the trace of Part 4, but no traces was created for that part</span>"
      ],
      "text/plain": [
       "<IPython.core.display.Markdown object>"
      ]
     },
     "metadata": {},
     "output_type": "display_data"
    },
    {
     "name": "stdout",
     "output_type": "stream",
     "text": [
      "If you're running a short simulation, it's possible that the part was in the simulation, but didn't had time to appear in the trace, otherwise CHECK IT OUT\n"
     ]
    },
    {
     "data": {
      "text/markdown": [
       "<span style='color:yellow'>[WARNING][validator.py/get_part_TDS()] Trying to get the trace of Part 5, but no traces was created for that part</span>"
      ],
      "text/plain": [
       "<IPython.core.display.Markdown object>"
      ]
     },
     "metadata": {},
     "output_type": "display_data"
    },
    {
     "name": "stdout",
     "output_type": "stream",
     "text": [
      "If you're running a short simulation, it's possible that the part was in the simulation, but didn't had time to appear in the trace, otherwise CHECK IT OUT\n",
      "-----------------------------------------------------------------------------------------\n",
      "=== matrix_ptime_qTDS ===\n",
      "[VALIDATOR] Simulation Deterministic - No correlation of randoness needed\n",
      "\n",
      "=== matrix_ptime_TDS ===\n",
      "Part 1: [3]\n",
      "Part 2: []\n",
      "Part 3: [10]\n",
      "-----------------------------------------------------------------------------------------\n",
      "============ Running Trace Driven Simulation ============\n",
      "### ============ Simulation Started ============ ###\n",
      "Time: 0 - [Machine 1] got Part 3 from Queue 1 (capacity= 2)\n",
      "Time: 0 - [Machine 3] got Part 2 from Queue 3 (capacity= 0)\n",
      "Time: 3 - [Conveyor towards Queue 4] GOT Part 1\n",
      "Time: 4 - [Conveyor towards Queue 4] PUT Part 1 in the Queue 4\n",
      "Time: 5 - [Machine 4] got Part 1 from Queue 4 (capacity= 0)\n",
      "=== Reading all the events from table: digital_log ===\n",
      "(1, 0, 'Machine 1', 'Started', 'Part 3', 'Queue 1', None, None)\n",
      "(2, 0, 'Machine 3', 'Started', 'Part 2', 'Queue 3', None, None)\n",
      "(3, 3, 'Machine 2', 'Finished', 'Part 1', 'Queue 4', None, None)\n",
      "(4, 5, 'Machine 4', 'Started', 'Part 1', 'Queue 4', None, None)\n",
      "### ============ Simulation Done ============ ###\n",
      "--- LCSS Sequence ---\n",
      "['Machine 1 - Started', 'Machine 3 - Started', 'Machine 2 - Finished', 'Machine 4 - Started']\n",
      "--- LCSS Time ---\n",
      "[0, 0, 3, 5]\n",
      ">>> LCSS Indicator: 1.0\n",
      "=========================================================\n",
      "---------- Pointer Status ----------\n",
      "Start Time ID: 6\n",
      "End Time ID: 10\n",
      "-------------------------------------\n",
      "-----------------------------------------------------------------------------------------\n",
      "=== matrix_ptime_qTDS ===\n",
      "[VALIDATOR] Simulation Deterministic - No correlation of randoness needed\n",
      "\n",
      "=== matrix_ptime_TDS ===\n",
      "Part 1: [3]\n",
      "Part 2: []\n",
      "Part 3: [10]\n",
      "-----------------------------------------------------------------------------------------\n",
      "============ Running quasi Trace Driven Simulation ============\n",
      "### ============ Simulation Started ============ ###\n",
      "Time: 0 - [Machine 1] got Part 3 from Queue 1 (capacity= 2)\n",
      "Time: 0 - [Machine 3] got Part 2 from Queue 3 (capacity= 0)\n",
      "Time: 3 - [Conveyor towards Queue 4] GOT Part 1\n",
      "Time: 4 - [Conveyor towards Queue 4] PUT Part 1 in the Queue 4\n",
      "Time: 5 - [Machine 4] got Part 1 from Queue 4 (capacity= 0)\n",
      "=== Reading all the events from table: digital_log ===\n",
      "(1, 0, 'Machine 1', 'Started', 'Part 3', 'Queue 1', None, None)\n",
      "(2, 0, 'Machine 3', 'Started', 'Part 2', 'Queue 3', None, None)\n",
      "(3, 3, 'Machine 2', 'Finished', 'Part 1', 'Queue 4', None, None)\n",
      "(4, 5, 'Machine 4', 'Started', 'Part 1', 'Queue 4', None, None)\n",
      "### ============ Simulation Done ============ ###\n",
      "--- LCSS Sequence ---\n",
      "['Machine 1 - Started', 'Machine 3 - Started', 'Machine 2 - Finished', 'Machine 4 - Started']\n",
      "--- LCSS Time ---\n",
      "[0, 0, 3, 5]\n",
      ">>> LCSS Indicator: 1.0\n",
      "===============================================================\n",
      "_______________________ Validation Results _______________________\n",
      "> LCSS indicator for LOGIC: 1.0\n",
      "> LCSS indicator for INPUT: 1.0\n",
      "__________________________________________________________________\n"
     ]
    },
    {
     "data": {
      "text/markdown": [
       "<span style='color:#7DCEA0'>14 March 18:36:19 |[Internal Service] System Validated. Next Validation: 14 March 18:36:49</span>"
      ],
      "text/plain": [
       "<IPython.core.display.Markdown object>"
      ]
     },
     "metadata": {},
     "output_type": "display_data"
    },
    {
     "data": {
      "text/markdown": [
       "<span style='color:#3498DB'>14 March 18:36:19 |[Internal Service] Starting Synchronization</span>"
      ],
      "text/plain": [
       "<IPython.core.display.Markdown object>"
      ]
     },
     "metadata": {},
     "output_type": "display_data"
    },
    {
     "name": "stdout",
     "output_type": "stream",
     "text": [
      "---------- Pointer Status ----------\n",
      "Start Time ID: 6\n",
      "End Time ID: 10\n",
      "-------------------------------------\n",
      "-----------------------------------------------------------------\n",
      "Big picture BEFORE calculations\n",
      "--- Zone of Machine 1 ---\n",
      "Parts in queue: ['Part 3', 'Part 4', 'Part 5']\n",
      "Part in machine: []\n",
      "--- Zone of Machine 2 ---\n",
      "Parts in queue: []\n",
      "Part in machine: ['Part 1']\n",
      "--- Zone of Machine 3 ---\n",
      "Parts in queue: ['Part 2']\n",
      "Part in machine: []\n",
      "--- Zone of Machine 4 ---\n",
      "Parts in queue: []\n",
      "Part in machine: []\n",
      "--- Zone of Machine 5 ---\n",
      "Parts in queue: []\n",
      "Part in machine: []\n",
      "-----------------------------------------------------------------\n",
      "----\n",
      "After MStarted Part 3 in queue\n",
      "Zone of Machine 1 | parts_ids_in_queue: ['Part 4', 'Part 5']\n",
      "Zone of Machine 1 | parts_ids_in_machine: ['Part 3']\n",
      "----\n",
      "After MFinished Part 1 in queue\n",
      "Zone of Machine 2 | parts_ids_in_queue: []\n",
      "Zone of Machine 2 | parts_ids_in_machine: []\n",
      "----\n",
      "After Added Part 1 in queue\n",
      "Zone of Machine 4 | parts_ids_in_queue: ['Part 1']\n",
      "Zone of Machine 4 | parts_ids_in_machine: []\n",
      "----\n",
      "After MStarted Part 2 in queue\n",
      "Zone of Machine 3 | parts_ids_in_queue: []\n",
      "Zone of Machine 3 | parts_ids_in_machine: ['Part 2']\n",
      "----\n",
      "After MStarted Part 1 in queue\n",
      "Zone of Machine 4 | parts_ids_in_queue: []\n",
      "Zone of Machine 4 | parts_ids_in_machine: ['Part 1']\n",
      "----\n",
      "After MFinished Part 3 in queue\n",
      "Zone of Machine 1 | parts_ids_in_queue: ['Part 4', 'Part 5']\n",
      "Zone of Machine 1 | parts_ids_in_machine: []\n",
      "----\n",
      "After Added Part 3 in queue\n",
      "Zone of Machine 2 | parts_ids_in_queue: ['Part 3']\n",
      "Zone of Machine 2 | parts_ids_in_machine: []\n",
      "-----------------------------------------------------------------\n",
      "Big picture AFTER calculations\n",
      "--- Zone of Machine 1 ---\n",
      "Parts in queue: ['Part 4', 'Part 5']\n",
      "Part in machine: []\n",
      "Zone is Working? False\n",
      "--- Zone of Machine 2 ---\n",
      "Parts in queue: ['Part 3']\n",
      "Part in machine: []\n",
      "Zone is Working? False\n",
      "--- Zone of Machine 3 ---\n",
      "Parts in queue: []\n",
      "Part in machine: ['Part 2']\n",
      "Zone is Working? True\n",
      "--- Zone of Machine 4 ---\n",
      "Parts in queue: []\n",
      "Part in machine: ['Part 1']\n",
      "Zone is Working? True\n",
      "--- Zone of Machine 5 ---\n",
      "Parts in queue: []\n",
      "Part in machine: []\n",
      "Zone is Working? False\n",
      "-----------------------------------------------------------------\n",
      "=========== Self Verification (Digital-Based) ===========\n",
      "[Zone of Machine 1] NumParts = 3, Machine Working = False, Parts in Conveyor = 0\n",
      "[Zone of Machine 2] NumParts = 0, Machine Working = False, Parts in Conveyor = 0\n",
      "[Zone of Machine 3] NumParts = 1, Machine Working = False, Parts in Conveyor = 0\n",
      "[Zone of Machine 4] NumParts = 0, Machine Working = False, Parts in Conveyor = 0\n",
      "[Zone of Machine 5] NumParts = 0, Machine Working = False, Parts in Conveyor = 0\n",
      "=========================================\n",
      "=========== Zones Occupations (Real-Based) ===========\n",
      "[Zone of Machine 1] NumParts = 2, Machine Working = False, Zone Indicador = None\n",
      "[Zone of Machine 2] NumParts = 1, Machine Working = False, Zone Indicador = None\n",
      "[Zone of Machine 3] NumParts = 1, Machine Working = True, Zone Indicador = None\n",
      "[Zone of Machine 4] NumParts = 1, Machine Working = True, Zone Indicador = None\n",
      "[Zone of Machine 5] NumParts = 0, Machine Working = False, Zone Indicador = None\n",
      "=========================================\n"
     ]
    },
    {
     "data": {
      "text/markdown": [
       "<span style='color:#3498DB'>14 March 18:36:19 |[Internal Service] System Synchronized. Next Sync: 14 March 18:36:29</span>"
      ],
      "text/plain": [
       "<IPython.core.display.Markdown object>"
      ]
     },
     "metadata": {},
     "output_type": "display_data"
    },
    {
     "data": {
      "text/markdown": [
       "<span style='color:#A569BD'>14 March 18:36:19 |[External Service] Starting RCT Service</span>"
      ],
      "text/plain": [
       "<IPython.core.display.Markdown object>"
      ]
     },
     "metadata": {},
     "output_type": "display_data"
    },
    {
     "data": {
      "text/markdown": [
       "<span style='color:#A569BD'>14 March 18:36:19 |[External Service] System RCT completed. Next Service: 14 March 18:36:29</span>"
      ],
      "text/plain": [
       "<IPython.core.display.Markdown object>"
      ]
     },
     "metadata": {},
     "output_type": "display_data"
    },
    {
     "data": {
      "text/markdown": [
       "<span style='color:#3498DB'>14 March 18:36:29 |[Internal Service] Starting Synchronization</span>"
      ],
      "text/plain": [
       "<IPython.core.display.Markdown object>"
      ]
     },
     "metadata": {},
     "output_type": "display_data"
    },
    {
     "name": "stdout",
     "output_type": "stream",
     "text": [
      "---------- Pointer Status ----------\n",
      "Start Time ID: 11\n",
      "End Time ID: 17\n",
      "-------------------------------------\n",
      "-----------------------------------------------------------------\n",
      "Big picture BEFORE calculations\n",
      "--- Zone of Machine 1 ---\n",
      "Parts in queue: ['Part 4', 'Part 5']\n",
      "Part in machine: []\n",
      "--- Zone of Machine 2 ---\n",
      "Parts in queue: ['Part 3']\n",
      "Part in machine: []\n",
      "--- Zone of Machine 3 ---\n",
      "Parts in queue: []\n",
      "Part in machine: ['Part 2']\n",
      "--- Zone of Machine 4 ---\n",
      "Parts in queue: []\n",
      "Part in machine: ['Part 1']\n",
      "--- Zone of Machine 5 ---\n",
      "Parts in queue: []\n",
      "Part in machine: []\n",
      "-----------------------------------------------------------------\n",
      "----\n",
      "After MStarted Part 4 in queue\n",
      "Zone of Machine 1 | parts_ids_in_queue: ['Part 5']\n",
      "Zone of Machine 1 | parts_ids_in_machine: ['Part 4']\n",
      "----\n",
      "After MFinished Part 2 in queue\n",
      "Zone of Machine 3 | parts_ids_in_queue: []\n",
      "Zone of Machine 3 | parts_ids_in_machine: []\n",
      "----\n",
      "After Added Part 2 in queue\n",
      "Zone of Machine 4 | parts_ids_in_queue: ['Part 2']\n",
      "Zone of Machine 4 | parts_ids_in_machine: ['Part 1']\n",
      "----\n",
      "After MStarted Part 3 in queue\n",
      "Zone of Machine 2 | parts_ids_in_queue: []\n",
      "Zone of Machine 2 | parts_ids_in_machine: ['Part 3']\n",
      "----\n",
      "After MFinished Part 1 in queue\n",
      "Zone of Machine 4 | parts_ids_in_queue: ['Part 2']\n",
      "Zone of Machine 4 | parts_ids_in_machine: []\n",
      "----\n",
      "After Added Part 1 in queue\n",
      "Zone of Machine 5 | parts_ids_in_queue: ['Part 1']\n",
      "Zone of Machine 5 | parts_ids_in_machine: []\n",
      "----\n",
      "After MStarted Part 2 in queue\n",
      "Zone of Machine 4 | parts_ids_in_queue: []\n",
      "Zone of Machine 4 | parts_ids_in_machine: ['Part 2']\n",
      "----\n",
      "After MStarted Part 1 in queue\n",
      "Zone of Machine 5 | parts_ids_in_queue: []\n",
      "Zone of Machine 5 | parts_ids_in_machine: ['Part 1']\n",
      "----\n",
      "After MFinished Part 4 in queue\n",
      "Zone of Machine 1 | parts_ids_in_queue: ['Part 5']\n",
      "Zone of Machine 1 | parts_ids_in_machine: []\n",
      "----\n",
      "After Added Part 4 in queue\n",
      "Zone of Machine 3 | parts_ids_in_queue: ['Part 4']\n",
      "Zone of Machine 3 | parts_ids_in_machine: []\n",
      "-----------------------------------------------------------------\n",
      "Big picture AFTER calculations\n",
      "--- Zone of Machine 1 ---\n",
      "Parts in queue: ['Part 5']\n",
      "Part in machine: []\n",
      "Zone is Working? False\n",
      "--- Zone of Machine 2 ---\n",
      "Parts in queue: []\n",
      "Part in machine: ['Part 3']\n",
      "Zone is Working? True\n",
      "--- Zone of Machine 3 ---\n",
      "Parts in queue: ['Part 4']\n",
      "Part in machine: []\n",
      "Zone is Working? False\n",
      "--- Zone of Machine 4 ---\n",
      "Parts in queue: []\n",
      "Part in machine: ['Part 2']\n",
      "Zone is Working? True\n",
      "--- Zone of Machine 5 ---\n",
      "Parts in queue: []\n",
      "Part in machine: ['Part 1']\n",
      "Zone is Working? True\n",
      "-----------------------------------------------------------------\n",
      "=========== Self Verification (Digital-Based) ===========\n",
      "[Zone of Machine 1] NumParts = 2, Machine Working = False, Parts in Conveyor = 0\n",
      "[Zone of Machine 2] NumParts = 1, Machine Working = False, Parts in Conveyor = 0\n",
      "[Zone of Machine 3] NumParts = 0, Machine Working = False, Parts in Conveyor = 0\n",
      "[Zone of Machine 4] NumParts = 0, Machine Working = False, Parts in Conveyor = 0\n",
      "[Zone of Machine 5] NumParts = 0, Machine Working = False, Parts in Conveyor = 0\n",
      "=========================================\n",
      "=========== Zones Occupations (Real-Based) ===========\n",
      "[Zone of Machine 1] NumParts = 1, Machine Working = False, Zone Indicador = None\n",
      "[Zone of Machine 2] NumParts = 1, Machine Working = True, Zone Indicador = None\n",
      "[Zone of Machine 3] NumParts = 1, Machine Working = False, Zone Indicador = None\n",
      "[Zone of Machine 4] NumParts = 1, Machine Working = True, Zone Indicador = None\n",
      "[Zone of Machine 5] NumParts = 1, Machine Working = True, Zone Indicador = None\n",
      "=========================================\n"
     ]
    },
    {
     "data": {
      "text/markdown": [
       "<span style='color:#3498DB'>14 March 18:36:29 |[Internal Service] System Synchronized. Next Sync: 14 March 18:36:39</span>"
      ],
      "text/plain": [
       "<IPython.core.display.Markdown object>"
      ]
     },
     "metadata": {},
     "output_type": "display_data"
    },
    {
     "data": {
      "text/markdown": [
       "<span style='color:#A569BD'>14 March 18:36:29 |[External Service] Starting RCT Service</span>"
      ],
      "text/plain": [
       "<IPython.core.display.Markdown object>"
      ]
     },
     "metadata": {},
     "output_type": "display_data"
    },
    {
     "data": {
      "text/markdown": [
       "<span style='color:#A569BD'>14 March 18:36:29 |[External Service] System RCT completed. Next Service: 14 March 18:36:39</span>"
      ],
      "text/plain": [
       "<IPython.core.display.Markdown object>"
      ]
     },
     "metadata": {},
     "output_type": "display_data"
    },
    {
     "data": {
      "text/markdown": [
       "<span style='color:#3498DB'>14 March 18:36:39 |[Internal Service] Starting Synchronization</span>"
      ],
      "text/plain": [
       "<IPython.core.display.Markdown object>"
      ]
     },
     "metadata": {},
     "output_type": "display_data"
    },
    {
     "name": "stdout",
     "output_type": "stream",
     "text": [
      "---------- Pointer Status ----------\n",
      "Start Time ID: 18\n",
      "End Time ID: 25\n",
      "-------------------------------------\n",
      "-----------------------------------------------------------------\n",
      "Big picture BEFORE calculations\n",
      "--- Zone of Machine 1 ---\n",
      "Parts in queue: ['Part 5']\n",
      "Part in machine: []\n",
      "--- Zone of Machine 2 ---\n",
      "Parts in queue: []\n",
      "Part in machine: ['Part 3']\n",
      "--- Zone of Machine 3 ---\n",
      "Parts in queue: ['Part 4']\n",
      "Part in machine: []\n",
      "--- Zone of Machine 4 ---\n",
      "Parts in queue: []\n",
      "Part in machine: ['Part 2']\n",
      "--- Zone of Machine 5 ---\n",
      "Parts in queue: []\n",
      "Part in machine: ['Part 1']\n",
      "-----------------------------------------------------------------\n",
      "----\n",
      "After MStarted Part 5 in queue\n",
      "Zone of Machine 1 | parts_ids_in_queue: []\n",
      "Zone of Machine 1 | parts_ids_in_machine: ['Part 5']\n",
      "----\n",
      "After MFinished Part 3 in queue\n",
      "Zone of Machine 2 | parts_ids_in_queue: []\n",
      "Zone of Machine 2 | parts_ids_in_machine: []\n",
      "----\n",
      "After Added Part 3 in queue\n",
      "Zone of Machine 4 | parts_ids_in_queue: ['Part 3']\n",
      "Zone of Machine 4 | parts_ids_in_machine: ['Part 2']\n",
      "----\n",
      "After MStarted Part 4 in queue\n",
      "Zone of Machine 3 | parts_ids_in_queue: []\n",
      "Zone of Machine 3 | parts_ids_in_machine: ['Part 4']\n",
      "----\n",
      "After MFinished Part 2 in queue\n",
      "Zone of Machine 4 | parts_ids_in_queue: ['Part 3']\n",
      "Zone of Machine 4 | parts_ids_in_machine: []\n",
      "----\n",
      "After Added Part 2 in queue\n",
      "Zone of Machine 5 | parts_ids_in_queue: ['Part 2']\n",
      "Zone of Machine 5 | parts_ids_in_machine: ['Part 1']\n",
      "----\n",
      "After MStarted Part 3 in queue\n",
      "Zone of Machine 4 | parts_ids_in_queue: []\n",
      "Zone of Machine 4 | parts_ids_in_machine: ['Part 3']\n",
      "----\n",
      "After MFinished Part 1 in queue\n",
      "Zone of Machine 5 | parts_ids_in_queue: ['Part 2']\n",
      "Zone of Machine 5 | parts_ids_in_machine: []\n",
      "----\n",
      "After Added Part 6 in queue\n",
      "Zone of Machine 1 | parts_ids_in_queue: ['Part 6']\n",
      "Zone of Machine 1 | parts_ids_in_machine: ['Part 5']\n",
      "----\n",
      "After MStarted Part 2 in queue\n",
      "Zone of Machine 5 | parts_ids_in_queue: []\n",
      "Zone of Machine 5 | parts_ids_in_machine: ['Part 2']\n",
      "----\n",
      "After MFinished Part 5 in queue\n",
      "Zone of Machine 1 | parts_ids_in_queue: ['Part 6']\n",
      "Zone of Machine 1 | parts_ids_in_machine: []\n",
      "----\n",
      "After Added Part 5 in queue\n",
      "Zone of Machine 2 | parts_ids_in_queue: ['Part 5']\n",
      "Zone of Machine 2 | parts_ids_in_machine: []\n",
      "-----------------------------------------------------------------\n",
      "Big picture AFTER calculations\n",
      "--- Zone of Machine 1 ---\n",
      "Parts in queue: ['Part 6']\n",
      "Part in machine: []\n",
      "Zone is Working? False\n",
      "--- Zone of Machine 2 ---\n",
      "Parts in queue: ['Part 5']\n",
      "Part in machine: []\n",
      "Zone is Working? False\n",
      "--- Zone of Machine 3 ---\n",
      "Parts in queue: []\n",
      "Part in machine: ['Part 4']\n",
      "Zone is Working? True\n",
      "--- Zone of Machine 4 ---\n",
      "Parts in queue: []\n",
      "Part in machine: ['Part 3']\n",
      "Zone is Working? True\n",
      "--- Zone of Machine 5 ---\n",
      "Parts in queue: []\n",
      "Part in machine: ['Part 2']\n",
      "Zone is Working? True\n",
      "-----------------------------------------------------------------\n",
      "=========== Self Verification (Digital-Based) ===========\n",
      "[Zone of Machine 1] NumParts = 1, Machine Working = False, Parts in Conveyor = 0\n",
      "[Zone of Machine 2] NumParts = 0, Machine Working = False, Parts in Conveyor = 0\n",
      "[Zone of Machine 3] NumParts = 1, Machine Working = False, Parts in Conveyor = 0\n",
      "[Zone of Machine 4] NumParts = 0, Machine Working = False, Parts in Conveyor = 0\n",
      "[Zone of Machine 5] NumParts = 0, Machine Working = False, Parts in Conveyor = 0\n",
      "=========================================\n",
      "=========== Zones Occupations (Real-Based) ===========\n",
      "[Zone of Machine 1] NumParts = 1, Machine Working = False, Zone Indicador = None\n",
      "[Zone of Machine 2] NumParts = 1, Machine Working = False, Zone Indicador = None\n",
      "[Zone of Machine 3] NumParts = 1, Machine Working = True, Zone Indicador = None\n",
      "[Zone of Machine 4] NumParts = 1, Machine Working = True, Zone Indicador = None\n",
      "[Zone of Machine 5] NumParts = 1, Machine Working = True, Zone Indicador = None\n",
      "=========================================\n"
     ]
    },
    {
     "data": {
      "text/markdown": [
       "<span style='color:#3498DB'>14 March 18:36:39 |[Internal Service] System Synchronized. Next Sync: 14 March 18:36:49</span>"
      ],
      "text/plain": [
       "<IPython.core.display.Markdown object>"
      ]
     },
     "metadata": {},
     "output_type": "display_data"
    },
    {
     "data": {
      "text/markdown": [
       "<span style='color:#A569BD'>14 March 18:36:39 |[External Service] Starting RCT Service</span>"
      ],
      "text/plain": [
       "<IPython.core.display.Markdown object>"
      ]
     },
     "metadata": {},
     "output_type": "display_data"
    },
    {
     "data": {
      "text/markdown": [
       "<span style='color:#A569BD'>14 March 18:36:39 |[External Service] System RCT completed. Next Service: 14 March 18:36:49</span>"
      ],
      "text/plain": [
       "<IPython.core.display.Markdown object>"
      ]
     },
     "metadata": {},
     "output_type": "display_data"
    },
    {
     "data": {
      "text/markdown": [
       "<span style='color:#7DCEA0'>14 March 18:36:49 |[Internal Service] Starting Validation</span>"
      ],
      "text/plain": [
       "<IPython.core.display.Markdown object>"
      ]
     },
     "metadata": {},
     "output_type": "display_data"
    },
    {
     "data": {
      "text/markdown": [
       "<span style='color:#DC7633'>[interfaceDB.py/update_end_time] Pointer End Time updated from 31 to 33</span>"
      ],
      "text/plain": [
       "<IPython.core.display.Markdown object>"
      ]
     },
     "metadata": {},
     "output_type": "display_data"
    },
    {
     "name": "stdout",
     "output_type": "stream",
     "text": [
      "---------- Pointer Status ----------\n",
      "Start Time ID: 26\n",
      "End Time ID: 33\n",
      "-------------------------------------\n",
      "-----------------------------------------------------------------------------------------\n",
      "=== matrix_ptime_qTDS ===\n",
      "[VALIDATOR] Simulation Deterministic - No correlation of randoness needed\n",
      "\n",
      "=== matrix_ptime_TDS ===\n",
      "Part 2: [6]\n",
      "Part 3: [4]\n",
      "Part 4: [2]\n",
      "Part 5: []\n",
      "Part 6: [10]\n",
      "-----------------------------------------------------------------------------------------\n",
      "============ Running Trace Driven Simulation ============\n",
      "### ============ Simulation Started ============ ###\n",
      "Time: 0 - [Machine 1] got Part 6 from Queue 1 (capacity= 0)\n",
      "Time: 0 - [Machine 2] got Part 5 from Queue 2 (capacity= 0)\n",
      "Time: 3 - [Conveyor towards Queue 4] GOT Part 4\n",
      "Time: 4 - [Conveyor towards Queue 4] PUT Part 4 in the Queue 4\n",
      "Time: 5 - [Conveyor towards Queue 5] GOT Part 3\n",
      "Time: 5 - [Machine 4] got Part 4 from Queue 4 (capacity= 0)\n",
      "Time: 6 - [Conveyor towards Queue 5] PUT Part 3 in the Queue 5\n",
      "Time: 7 - [Terminator] xxx Part 2 terminated xxx\n",
      "Time: 7 - [Terminator] Part 7 replaced\n",
      "Time: 7 - [Conveyor towards Queue 1] GOT Part 7\n",
      "Time: 7 - [Machine 5] got Part 3 from Queue 5 (capacity= 0)\n",
      "=== Reading all the events from table: digital_log ===\n",
      "(1, 0, 'Machine 1', 'Started', 'Part 6', 'Queue 1', None, None)\n",
      "(2, 0, 'Machine 2', 'Started', 'Part 5', 'Queue 2', None, None)\n",
      "(3, 3, 'Machine 3', 'Finished', 'Part 4', 'Queue 4', None, None)\n",
      "(4, 5, 'Machine 4', 'Finished', 'Part 3', 'Queue 5', None, None)\n",
      "(5, 5, 'Machine 4', 'Started', 'Part 4', 'Queue 4', None, None)\n",
      "(6, 7, 'Machine 5', 'Finished', 'Part 2', 'Queue 1', None, None)\n",
      "(7, 7, 'Machine 5', 'Started', 'Part 3', 'Queue 5', None, None)\n",
      "### ============ Simulation Done ============ ###\n",
      "--- LCSS Sequence ---\n",
      "['Machine 1 - Started', 'Machine 2 - Started', 'Machine 3 - Finished', 'Machine 4 - Finished', 'Machine 4 - Started', 'Machine 5 - Finished', 'Machine 5 - Started']\n",
      "--- LCSS Time ---\n",
      "[0, 0, 3, 5, 5, 7, 7]\n",
      ">>> LCSS Indicator: 1.0\n",
      "=========================================================\n"
     ]
    },
    {
     "data": {
      "text/markdown": [
       "<span style='color:#DC7633'>[interfaceDB.py/update_end_time] Pointer End Time updated from 31 to 33</span>"
      ],
      "text/plain": [
       "<IPython.core.display.Markdown object>"
      ]
     },
     "metadata": {},
     "output_type": "display_data"
    },
    {
     "name": "stdout",
     "output_type": "stream",
     "text": [
      "---------- Pointer Status ----------\n",
      "Start Time ID: 26\n",
      "End Time ID: 33\n",
      "-------------------------------------\n",
      "-----------------------------------------------------------------------------------------\n",
      "=== matrix_ptime_qTDS ===\n",
      "[VALIDATOR] Simulation Deterministic - No correlation of randoness needed\n",
      "\n",
      "=== matrix_ptime_TDS ===\n",
      "Part 2: [6]\n",
      "Part 3: [4]\n",
      "Part 4: [2]\n",
      "Part 5: []\n",
      "Part 6: [10]\n",
      "-----------------------------------------------------------------------------------------\n",
      "============ Running quasi Trace Driven Simulation ============\n",
      "### ============ Simulation Started ============ ###\n",
      "Time: 0 - [Machine 1] got Part 6 from Queue 1 (capacity= 0)\n",
      "Time: 0 - [Machine 2] got Part 5 from Queue 2 (capacity= 0)\n",
      "Time: 3 - [Conveyor towards Queue 4] GOT Part 4\n",
      "Time: 4 - [Conveyor towards Queue 4] PUT Part 4 in the Queue 4\n",
      "Time: 5 - [Conveyor towards Queue 5] GOT Part 3\n",
      "Time: 5 - [Machine 4] got Part 4 from Queue 4 (capacity= 0)\n",
      "Time: 6 - [Conveyor towards Queue 5] PUT Part 3 in the Queue 5\n",
      "Time: 7 - [Terminator] xxx Part 2 terminated xxx\n",
      "Time: 7 - [Terminator] Part 7 replaced\n",
      "Time: 7 - [Conveyor towards Queue 1] GOT Part 7\n",
      "Time: 7 - [Machine 5] got Part 3 from Queue 5 (capacity= 0)\n",
      "=== Reading all the events from table: digital_log ===\n",
      "(1, 0, 'Machine 1', 'Started', 'Part 6', 'Queue 1', None, None)\n",
      "(2, 0, 'Machine 2', 'Started', 'Part 5', 'Queue 2', None, None)\n",
      "(3, 3, 'Machine 3', 'Finished', 'Part 4', 'Queue 4', None, None)\n",
      "(4, 5, 'Machine 4', 'Finished', 'Part 3', 'Queue 5', None, None)\n",
      "(5, 5, 'Machine 4', 'Started', 'Part 4', 'Queue 4', None, None)\n",
      "(6, 7, 'Machine 5', 'Finished', 'Part 2', 'Queue 1', None, None)\n",
      "(7, 7, 'Machine 5', 'Started', 'Part 3', 'Queue 5', None, None)\n",
      "### ============ Simulation Done ============ ###\n",
      "--- LCSS Sequence ---\n",
      "['Machine 1 - Started', 'Machine 2 - Started', 'Machine 3 - Finished', 'Machine 4 - Finished', 'Machine 4 - Started', 'Machine 5 - Finished', 'Machine 5 - Started']\n",
      "--- LCSS Time ---\n",
      "[0, 0, 3, 5, 5, 7, 7]\n",
      ">>> LCSS Indicator: 1.0\n",
      "===============================================================\n",
      "_______________________ Validation Results _______________________\n",
      "> LCSS indicator for LOGIC: 1.0\n",
      "> LCSS indicator for INPUT: 1.0\n",
      "__________________________________________________________________\n"
     ]
    },
    {
     "data": {
      "text/markdown": [
       "<span style='color:#7DCEA0'>14 March 18:36:49 |[Internal Service] System Validated. Next Validation: 14 March 18:37:19</span>"
      ],
      "text/plain": [
       "<IPython.core.display.Markdown object>"
      ]
     },
     "metadata": {},
     "output_type": "display_data"
    },
    {
     "data": {
      "text/markdown": [
       "<span style='color:#3498DB'>14 March 18:36:49 |[Internal Service] Starting Synchronization</span>"
      ],
      "text/plain": [
       "<IPython.core.display.Markdown object>"
      ]
     },
     "metadata": {},
     "output_type": "display_data"
    },
    {
     "data": {
      "text/markdown": [
       "<span style='color:#DC7633'>[interfaceDB.py/update_end_time] Pointer End Time updated from 31 to 33</span>"
      ],
      "text/plain": [
       "<IPython.core.display.Markdown object>"
      ]
     },
     "metadata": {},
     "output_type": "display_data"
    },
    {
     "name": "stdout",
     "output_type": "stream",
     "text": [
      "---------- Pointer Status ----------\n",
      "Start Time ID: 26\n",
      "End Time ID: 33\n",
      "-------------------------------------\n",
      "-----------------------------------------------------------------\n",
      "Big picture BEFORE calculations\n",
      "--- Zone of Machine 1 ---\n",
      "Parts in queue: ['Part 6']\n",
      "Part in machine: []\n",
      "--- Zone of Machine 2 ---\n",
      "Parts in queue: ['Part 5']\n",
      "Part in machine: []\n",
      "--- Zone of Machine 3 ---\n",
      "Parts in queue: []\n",
      "Part in machine: ['Part 4']\n",
      "--- Zone of Machine 4 ---\n",
      "Parts in queue: []\n",
      "Part in machine: ['Part 3']\n",
      "--- Zone of Machine 5 ---\n",
      "Parts in queue: []\n",
      "Part in machine: ['Part 2']\n",
      "-----------------------------------------------------------------\n",
      "----\n",
      "After MStarted Part 6 in queue\n",
      "Zone of Machine 1 | parts_ids_in_queue: []\n",
      "Zone of Machine 1 | parts_ids_in_machine: ['Part 6']\n",
      "----\n",
      "After MFinished Part 4 in queue\n",
      "Zone of Machine 3 | parts_ids_in_queue: []\n",
      "Zone of Machine 3 | parts_ids_in_machine: []\n",
      "----\n",
      "After Added Part 4 in queue\n",
      "Zone of Machine 4 | parts_ids_in_queue: ['Part 4']\n",
      "Zone of Machine 4 | parts_ids_in_machine: ['Part 3']\n",
      "----\n",
      "After MStarted Part 5 in queue\n",
      "Zone of Machine 2 | parts_ids_in_queue: []\n",
      "Zone of Machine 2 | parts_ids_in_machine: ['Part 5']\n",
      "----\n",
      "After MFinished Part 3 in queue\n",
      "Zone of Machine 4 | parts_ids_in_queue: ['Part 4']\n",
      "Zone of Machine 4 | parts_ids_in_machine: []\n",
      "----\n",
      "After Added Part 3 in queue\n",
      "Zone of Machine 5 | parts_ids_in_queue: ['Part 3']\n",
      "Zone of Machine 5 | parts_ids_in_machine: ['Part 2']\n",
      "----\n",
      "After MStarted Part 4 in queue\n",
      "Zone of Machine 4 | parts_ids_in_queue: []\n",
      "Zone of Machine 4 | parts_ids_in_machine: ['Part 4']\n",
      "----\n",
      "After MFinished Part 2 in queue\n",
      "Zone of Machine 5 | parts_ids_in_queue: ['Part 3']\n",
      "Zone of Machine 5 | parts_ids_in_machine: []\n",
      "----\n",
      "After Added Part 7 in queue\n",
      "Zone of Machine 1 | parts_ids_in_queue: ['Part 7']\n",
      "Zone of Machine 1 | parts_ids_in_machine: ['Part 6']\n",
      "----\n",
      "After MStarted Part 3 in queue\n",
      "Zone of Machine 5 | parts_ids_in_queue: []\n",
      "Zone of Machine 5 | parts_ids_in_machine: ['Part 3']\n",
      "----\n",
      "After MFinished Part 6 in queue\n",
      "Zone of Machine 1 | parts_ids_in_queue: ['Part 7']\n",
      "Zone of Machine 1 | parts_ids_in_machine: []\n",
      "----\n",
      "After Added Part 6 in queue\n",
      "Zone of Machine 3 | parts_ids_in_queue: ['Part 6']\n",
      "Zone of Machine 3 | parts_ids_in_machine: []\n",
      "-----------------------------------------------------------------\n",
      "Big picture AFTER calculations\n",
      "--- Zone of Machine 1 ---\n",
      "Parts in queue: ['Part 7']\n",
      "Part in machine: []\n",
      "Zone is Working? False\n",
      "--- Zone of Machine 2 ---\n",
      "Parts in queue: []\n",
      "Part in machine: ['Part 5']\n",
      "Zone is Working? True\n",
      "--- Zone of Machine 3 ---\n",
      "Parts in queue: ['Part 6']\n",
      "Part in machine: []\n",
      "Zone is Working? False\n",
      "--- Zone of Machine 4 ---\n",
      "Parts in queue: []\n",
      "Part in machine: ['Part 4']\n",
      "Zone is Working? True\n",
      "--- Zone of Machine 5 ---\n",
      "Parts in queue: []\n",
      "Part in machine: ['Part 3']\n",
      "Zone is Working? True\n",
      "-----------------------------------------------------------------\n",
      "=========== Self Verification (Digital-Based) ===========\n",
      "[Zone of Machine 1] NumParts = 1, Machine Working = False, Parts in Conveyor = 0\n",
      "[Zone of Machine 2] NumParts = 1, Machine Working = False, Parts in Conveyor = 0\n",
      "[Zone of Machine 3] NumParts = 0, Machine Working = False, Parts in Conveyor = 0\n",
      "[Zone of Machine 4] NumParts = 0, Machine Working = False, Parts in Conveyor = 0\n",
      "[Zone of Machine 5] NumParts = 0, Machine Working = False, Parts in Conveyor = 0\n",
      "=========================================\n",
      "=========== Zones Occupations (Real-Based) ===========\n",
      "[Zone of Machine 1] NumParts = 1, Machine Working = False, Zone Indicador = None\n",
      "[Zone of Machine 2] NumParts = 1, Machine Working = True, Zone Indicador = None\n",
      "[Zone of Machine 3] NumParts = 1, Machine Working = False, Zone Indicador = None\n",
      "[Zone of Machine 4] NumParts = 1, Machine Working = True, Zone Indicador = None\n",
      "[Zone of Machine 5] NumParts = 1, Machine Working = True, Zone Indicador = None\n",
      "=========================================\n"
     ]
    },
    {
     "data": {
      "text/markdown": [
       "<span style='color:#3498DB'>14 March 18:36:49 |[Internal Service] System Synchronized. Next Sync: 14 March 18:36:59</span>"
      ],
      "text/plain": [
       "<IPython.core.display.Markdown object>"
      ]
     },
     "metadata": {},
     "output_type": "display_data"
    },
    {
     "data": {
      "text/markdown": [
       "<span style='color:#A569BD'>14 March 18:36:49 |[External Service] Starting RCT Service</span>"
      ],
      "text/plain": [
       "<IPython.core.display.Markdown object>"
      ]
     },
     "metadata": {},
     "output_type": "display_data"
    },
    {
     "data": {
      "text/markdown": [
       "<span style='color:#A569BD'>14 March 18:36:49 |[External Service] System RCT completed. Next Service: 14 March 18:36:59</span>"
      ],
      "text/plain": [
       "<IPython.core.display.Markdown object>"
      ]
     },
     "metadata": {},
     "output_type": "display_data"
    },
    {
     "data": {
      "text/markdown": [
       "<span style='color:#3498DB'>14 March 18:36:59 |[Internal Service] Starting Synchronization</span>"
      ],
      "text/plain": [
       "<IPython.core.display.Markdown object>"
      ]
     },
     "metadata": {},
     "output_type": "display_data"
    },
    {
     "data": {
      "text/markdown": [
       "<span style='color:#DC7633'>[interfaceDB.py/update_end_time] Pointer End Time updated from 39 to 41</span>"
      ],
      "text/plain": [
       "<IPython.core.display.Markdown object>"
      ]
     },
     "metadata": {},
     "output_type": "display_data"
    },
    {
     "name": "stdout",
     "output_type": "stream",
     "text": [
      "---------- Pointer Status ----------\n",
      "Start Time ID: 34\n",
      "End Time ID: 41\n",
      "-------------------------------------\n",
      "-----------------------------------------------------------------\n",
      "Big picture BEFORE calculations\n",
      "--- Zone of Machine 1 ---\n",
      "Parts in queue: ['Part 7']\n",
      "Part in machine: []\n",
      "--- Zone of Machine 2 ---\n",
      "Parts in queue: []\n",
      "Part in machine: ['Part 5']\n",
      "--- Zone of Machine 3 ---\n",
      "Parts in queue: ['Part 6']\n",
      "Part in machine: []\n",
      "--- Zone of Machine 4 ---\n",
      "Parts in queue: []\n",
      "Part in machine: ['Part 4']\n",
      "--- Zone of Machine 5 ---\n",
      "Parts in queue: []\n",
      "Part in machine: ['Part 3']\n",
      "-----------------------------------------------------------------\n",
      "----\n",
      "After MStarted Part 7 in queue\n",
      "Zone of Machine 1 | parts_ids_in_queue: []\n",
      "Zone of Machine 1 | parts_ids_in_machine: ['Part 7']\n",
      "----\n",
      "After MFinished Part 5 in queue\n",
      "Zone of Machine 2 | parts_ids_in_queue: []\n",
      "Zone of Machine 2 | parts_ids_in_machine: []\n",
      "----\n",
      "After Added Part 5 in queue\n",
      "Zone of Machine 4 | parts_ids_in_queue: ['Part 5']\n",
      "Zone of Machine 4 | parts_ids_in_machine: ['Part 4']\n",
      "----\n",
      "After MStarted Part 6 in queue\n",
      "Zone of Machine 3 | parts_ids_in_queue: []\n",
      "Zone of Machine 3 | parts_ids_in_machine: ['Part 6']\n",
      "----\n",
      "After MFinished Part 4 in queue\n",
      "Zone of Machine 4 | parts_ids_in_queue: ['Part 5']\n",
      "Zone of Machine 4 | parts_ids_in_machine: []\n",
      "----\n",
      "After Added Part 4 in queue\n",
      "Zone of Machine 5 | parts_ids_in_queue: ['Part 4']\n",
      "Zone of Machine 5 | parts_ids_in_machine: ['Part 3']\n",
      "----\n",
      "After MStarted Part 5 in queue\n",
      "Zone of Machine 4 | parts_ids_in_queue: []\n",
      "Zone of Machine 4 | parts_ids_in_machine: ['Part 5']\n",
      "----\n",
      "After MFinished Part 3 in queue\n",
      "Zone of Machine 5 | parts_ids_in_queue: ['Part 4']\n",
      "Zone of Machine 5 | parts_ids_in_machine: []\n",
      "----\n",
      "After Added Part 8 in queue\n",
      "Zone of Machine 1 | parts_ids_in_queue: ['Part 8']\n",
      "Zone of Machine 1 | parts_ids_in_machine: ['Part 7']\n",
      "----\n",
      "After MStarted Part 4 in queue\n",
      "Zone of Machine 5 | parts_ids_in_queue: []\n",
      "Zone of Machine 5 | parts_ids_in_machine: ['Part 4']\n",
      "----\n",
      "After MFinished Part 7 in queue\n",
      "Zone of Machine 1 | parts_ids_in_queue: ['Part 8']\n",
      "Zone of Machine 1 | parts_ids_in_machine: []\n",
      "----\n",
      "After Added Part 7 in queue\n",
      "Zone of Machine 2 | parts_ids_in_queue: ['Part 7']\n",
      "Zone of Machine 2 | parts_ids_in_machine: []\n",
      "-----------------------------------------------------------------\n",
      "Big picture AFTER calculations\n",
      "--- Zone of Machine 1 ---\n",
      "Parts in queue: ['Part 8']\n",
      "Part in machine: []\n",
      "Zone is Working? False\n",
      "--- Zone of Machine 2 ---\n",
      "Parts in queue: ['Part 7']\n",
      "Part in machine: []\n",
      "Zone is Working? False\n",
      "--- Zone of Machine 3 ---\n",
      "Parts in queue: []\n",
      "Part in machine: ['Part 6']\n",
      "Zone is Working? True\n",
      "--- Zone of Machine 4 ---\n",
      "Parts in queue: []\n",
      "Part in machine: ['Part 5']\n",
      "Zone is Working? True\n",
      "--- Zone of Machine 5 ---\n",
      "Parts in queue: []\n",
      "Part in machine: ['Part 4']\n",
      "Zone is Working? True\n",
      "-----------------------------------------------------------------\n",
      "=========== Self Verification (Digital-Based) ===========\n",
      "[Zone of Machine 1] NumParts = 1, Machine Working = False, Parts in Conveyor = 0\n",
      "[Zone of Machine 2] NumParts = 0, Machine Working = False, Parts in Conveyor = 0\n",
      "[Zone of Machine 3] NumParts = 1, Machine Working = False, Parts in Conveyor = 0\n",
      "[Zone of Machine 4] NumParts = 0, Machine Working = False, Parts in Conveyor = 0\n",
      "[Zone of Machine 5] NumParts = 0, Machine Working = False, Parts in Conveyor = 0\n",
      "=========================================\n",
      "=========== Zones Occupations (Real-Based) ===========\n",
      "[Zone of Machine 1] NumParts = 1, Machine Working = False, Zone Indicador = None\n",
      "[Zone of Machine 2] NumParts = 1, Machine Working = False, Zone Indicador = None\n",
      "[Zone of Machine 3] NumParts = 1, Machine Working = True, Zone Indicador = None\n",
      "[Zone of Machine 4] NumParts = 1, Machine Working = True, Zone Indicador = None\n",
      "[Zone of Machine 5] NumParts = 1, Machine Working = True, Zone Indicador = None\n",
      "=========================================\n"
     ]
    },
    {
     "data": {
      "text/markdown": [
       "<span style='color:#3498DB'>14 March 18:36:59 |[Internal Service] System Synchronized. Next Sync: 14 March 18:37:09</span>"
      ],
      "text/plain": [
       "<IPython.core.display.Markdown object>"
      ]
     },
     "metadata": {},
     "output_type": "display_data"
    },
    {
     "data": {
      "text/markdown": [
       "<span style='color:#A569BD'>14 March 18:36:59 |[External Service] Starting RCT Service</span>"
      ],
      "text/plain": [
       "<IPython.core.display.Markdown object>"
      ]
     },
     "metadata": {},
     "output_type": "display_data"
    },
    {
     "data": {
      "text/markdown": [
       "<span style='color:#A569BD'>14 March 18:36:59 |[External Service] System RCT completed. Next Service: 14 March 18:37:09</span>"
      ],
      "text/plain": [
       "<IPython.core.display.Markdown object>"
      ]
     },
     "metadata": {},
     "output_type": "display_data"
    },
    {
     "data": {
      "text/markdown": [
       "<span style='color:#3498DB'>14 March 18:37:09 |[Internal Service] Starting Synchronization</span>"
      ],
      "text/plain": [
       "<IPython.core.display.Markdown object>"
      ]
     },
     "metadata": {},
     "output_type": "display_data"
    },
    {
     "data": {
      "text/markdown": [
       "<span style='color:#DC7633'>[interfaceDB.py/update_end_time] Pointer End Time updated from 47 to 49</span>"
      ],
      "text/plain": [
       "<IPython.core.display.Markdown object>"
      ]
     },
     "metadata": {},
     "output_type": "display_data"
    },
    {
     "name": "stdout",
     "output_type": "stream",
     "text": [
      "---------- Pointer Status ----------\n",
      "Start Time ID: 42\n",
      "End Time ID: 49\n",
      "-------------------------------------\n",
      "-----------------------------------------------------------------\n",
      "Big picture BEFORE calculations\n",
      "--- Zone of Machine 1 ---\n",
      "Parts in queue: ['Part 8']\n",
      "Part in machine: []\n",
      "--- Zone of Machine 2 ---\n",
      "Parts in queue: ['Part 7']\n",
      "Part in machine: []\n",
      "--- Zone of Machine 3 ---\n",
      "Parts in queue: []\n",
      "Part in machine: ['Part 6']\n",
      "--- Zone of Machine 4 ---\n",
      "Parts in queue: []\n",
      "Part in machine: ['Part 5']\n",
      "--- Zone of Machine 5 ---\n",
      "Parts in queue: []\n",
      "Part in machine: ['Part 4']\n",
      "-----------------------------------------------------------------\n",
      "----\n",
      "After MStarted Part 8 in queue\n",
      "Zone of Machine 1 | parts_ids_in_queue: []\n",
      "Zone of Machine 1 | parts_ids_in_machine: ['Part 8']\n",
      "----\n",
      "After MFinished Part 6 in queue\n",
      "Zone of Machine 3 | parts_ids_in_queue: []\n",
      "Zone of Machine 3 | parts_ids_in_machine: []\n",
      "----\n",
      "After Added Part 6 in queue\n",
      "Zone of Machine 4 | parts_ids_in_queue: ['Part 6']\n",
      "Zone of Machine 4 | parts_ids_in_machine: ['Part 5']\n",
      "----\n",
      "After MStarted Part 7 in queue\n",
      "Zone of Machine 2 | parts_ids_in_queue: []\n",
      "Zone of Machine 2 | parts_ids_in_machine: ['Part 7']\n",
      "----\n",
      "After MFinished Part 5 in queue\n",
      "Zone of Machine 4 | parts_ids_in_queue: ['Part 6']\n",
      "Zone of Machine 4 | parts_ids_in_machine: []\n",
      "----\n",
      "After Added Part 5 in queue\n",
      "Zone of Machine 5 | parts_ids_in_queue: ['Part 5']\n",
      "Zone of Machine 5 | parts_ids_in_machine: ['Part 4']\n",
      "----\n",
      "After MStarted Part 6 in queue\n",
      "Zone of Machine 4 | parts_ids_in_queue: []\n",
      "Zone of Machine 4 | parts_ids_in_machine: ['Part 6']\n",
      "----\n",
      "After MFinished Part 4 in queue\n",
      "Zone of Machine 5 | parts_ids_in_queue: ['Part 5']\n",
      "Zone of Machine 5 | parts_ids_in_machine: []\n",
      "----\n",
      "After Added Part 9 in queue\n",
      "Zone of Machine 1 | parts_ids_in_queue: ['Part 9']\n",
      "Zone of Machine 1 | parts_ids_in_machine: ['Part 8']\n",
      "----\n",
      "After MStarted Part 5 in queue\n",
      "Zone of Machine 5 | parts_ids_in_queue: []\n",
      "Zone of Machine 5 | parts_ids_in_machine: ['Part 5']\n",
      "----\n",
      "After MFinished Part 8 in queue\n",
      "Zone of Machine 1 | parts_ids_in_queue: ['Part 9']\n",
      "Zone of Machine 1 | parts_ids_in_machine: []\n",
      "----\n",
      "After Added Part 8 in queue\n",
      "Zone of Machine 3 | parts_ids_in_queue: ['Part 8']\n",
      "Zone of Machine 3 | parts_ids_in_machine: []\n",
      "-----------------------------------------------------------------\n",
      "Big picture AFTER calculations\n",
      "--- Zone of Machine 1 ---\n",
      "Parts in queue: ['Part 9']\n",
      "Part in machine: []\n",
      "Zone is Working? False\n",
      "--- Zone of Machine 2 ---\n",
      "Parts in queue: []\n",
      "Part in machine: ['Part 7']\n",
      "Zone is Working? True\n",
      "--- Zone of Machine 3 ---\n",
      "Parts in queue: ['Part 8']\n",
      "Part in machine: []\n",
      "Zone is Working? False\n",
      "--- Zone of Machine 4 ---\n",
      "Parts in queue: []\n",
      "Part in machine: ['Part 6']\n",
      "Zone is Working? True\n",
      "--- Zone of Machine 5 ---\n",
      "Parts in queue: []\n",
      "Part in machine: ['Part 5']\n",
      "Zone is Working? True\n",
      "-----------------------------------------------------------------\n",
      "=========== Self Verification (Digital-Based) ===========\n",
      "[Zone of Machine 1] NumParts = 1, Machine Working = False, Parts in Conveyor = 0\n",
      "[Zone of Machine 2] NumParts = 1, Machine Working = False, Parts in Conveyor = 0\n",
      "[Zone of Machine 3] NumParts = 0, Machine Working = False, Parts in Conveyor = 0\n",
      "[Zone of Machine 4] NumParts = 0, Machine Working = False, Parts in Conveyor = 0\n",
      "[Zone of Machine 5] NumParts = 0, Machine Working = False, Parts in Conveyor = 0\n",
      "=========================================\n",
      "=========== Zones Occupations (Real-Based) ===========\n",
      "[Zone of Machine 1] NumParts = 1, Machine Working = False, Zone Indicador = None\n",
      "[Zone of Machine 2] NumParts = 1, Machine Working = True, Zone Indicador = None\n",
      "[Zone of Machine 3] NumParts = 1, Machine Working = False, Zone Indicador = None\n",
      "[Zone of Machine 4] NumParts = 1, Machine Working = True, Zone Indicador = None\n",
      "[Zone of Machine 5] NumParts = 1, Machine Working = True, Zone Indicador = None\n",
      "=========================================\n"
     ]
    },
    {
     "data": {
      "text/markdown": [
       "<span style='color:#3498DB'>14 March 18:37:09 |[Internal Service] System Synchronized. Next Sync: 14 March 18:37:19</span>"
      ],
      "text/plain": [
       "<IPython.core.display.Markdown object>"
      ]
     },
     "metadata": {},
     "output_type": "display_data"
    },
    {
     "data": {
      "text/markdown": [
       "<span style='color:#A569BD'>14 March 18:37:09 |[External Service] Starting RCT Service</span>"
      ],
      "text/plain": [
       "<IPython.core.display.Markdown object>"
      ]
     },
     "metadata": {},
     "output_type": "display_data"
    },
    {
     "data": {
      "text/markdown": [
       "<span style='color:#A569BD'>14 March 18:37:09 |[External Service] System RCT completed. Next Service: 14 March 18:37:19</span>"
      ],
      "text/plain": [
       "<IPython.core.display.Markdown object>"
      ]
     },
     "metadata": {},
     "output_type": "display_data"
    },
    {
     "data": {
      "text/markdown": [
       "<span style='color:#7DCEA0'>14 March 18:37:19 |[Internal Service] Starting Validation</span>"
      ],
      "text/plain": [
       "<IPython.core.display.Markdown object>"
      ]
     },
     "metadata": {},
     "output_type": "display_data"
    },
    {
     "data": {
      "text/markdown": [
       "<span style='color:#DC7633'>[interfaceDB.py/update_end_time] Pointer End Time updated from 56 to 57</span>"
      ],
      "text/plain": [
       "<IPython.core.display.Markdown object>"
      ]
     },
     "metadata": {},
     "output_type": "display_data"
    },
    {
     "name": "stdout",
     "output_type": "stream",
     "text": [
      "---------- Pointer Status ----------\n",
      "Start Time ID: 50\n",
      "End Time ID: 57\n",
      "-------------------------------------\n",
      "-----------------------------------------------------------------------------------------\n",
      "=== matrix_ptime_qTDS ===\n",
      "[VALIDATOR] Simulation Deterministic - No correlation of randoness needed\n",
      "\n",
      "=== matrix_ptime_TDS ===\n",
      "Part 5: [6]\n",
      "Part 6: [5]\n",
      "Part 7: [3]\n",
      "Part 8: []\n",
      "Part 9: [10]\n",
      "-----------------------------------------------------------------------------------------\n",
      "============ Running Trace Driven Simulation ============\n",
      "### ============ Simulation Started ============ ###\n",
      "Time: 0 - [Machine 1] got Part 9 from Queue 1 (capacity= 0)\n",
      "Time: 0 - [Machine 3] got Part 8 from Queue 3 (capacity= 0)\n",
      "Time: 3 - [Conveyor towards Queue 4] GOT Part 7\n",
      "Time: 4 - [Conveyor towards Queue 4] PUT Part 7 in the Queue 4\n",
      "Time: 5 - [Conveyor towards Queue 5] GOT Part 6\n",
      "Time: 5 - [Machine 4] got Part 7 from Queue 4 (capacity= 0)\n",
      "Time: 6 - [Terminator] xxx Part 5 terminated xxx\n",
      "Time: 6 - [Terminator] Part 10 replaced\n",
      "Time: 6 - [Conveyor towards Queue 1] GOT Part 10\n",
      "Time: 6 - [Conveyor towards Queue 5] PUT Part 6 in the Queue 5\n",
      "Time: 7 - [Machine 5] got Part 6 from Queue 5 (capacity= 0)\n",
      "Time: 9 - [Conveyor towards Queue 1] PUT Part 10 in the Queue 1\n",
      "=== Reading all the events from table: digital_log ===\n",
      "(1, 0, 'Machine 1', 'Started', 'Part 9', 'Queue 1', None, None)\n",
      "(2, 0, 'Machine 3', 'Started', 'Part 8', 'Queue 3', None, None)\n",
      "(3, 3, 'Machine 2', 'Finished', 'Part 7', 'Queue 4', None, None)\n",
      "(4, 5, 'Machine 4', 'Finished', 'Part 6', 'Queue 5', None, None)\n",
      "(5, 5, 'Machine 4', 'Started', 'Part 7', 'Queue 4', None, None)\n",
      "(6, 6, 'Machine 5', 'Finished', 'Part 5', 'Queue 1', None, None)\n",
      "(7, 7, 'Machine 5', 'Started', 'Part 6', 'Queue 5', None, None)\n",
      "### ============ Simulation Done ============ ###\n",
      "--- LCSS Sequence ---\n",
      "['Machine 1 - Started', 'Machine 3 - Started', 'Machine 2 - Finished', 'Machine 4 - Finished', 'Machine 4 - Started', 'Machine 5 - Finished', 'Machine 5 - Started']\n",
      "--- LCSS Time ---\n",
      "[0, 0, 3, 5, 5, 6, 7]\n",
      ">>> LCSS Indicator: 1.0\n",
      "=========================================================\n"
     ]
    },
    {
     "data": {
      "text/markdown": [
       "<span style='color:#DC7633'>[interfaceDB.py/update_end_time] Pointer End Time updated from 56 to 57</span>"
      ],
      "text/plain": [
       "<IPython.core.display.Markdown object>"
      ]
     },
     "metadata": {},
     "output_type": "display_data"
    },
    {
     "name": "stdout",
     "output_type": "stream",
     "text": [
      "---------- Pointer Status ----------\n",
      "Start Time ID: 50\n",
      "End Time ID: 57\n",
      "-------------------------------------\n",
      "-----------------------------------------------------------------------------------------\n",
      "=== matrix_ptime_qTDS ===\n",
      "[VALIDATOR] Simulation Deterministic - No correlation of randoness needed\n",
      "\n",
      "=== matrix_ptime_TDS ===\n",
      "Part 5: [6]\n",
      "Part 6: [5]\n",
      "Part 7: [3]\n",
      "Part 8: []\n",
      "Part 9: [10]\n",
      "-----------------------------------------------------------------------------------------\n",
      "============ Running quasi Trace Driven Simulation ============\n",
      "### ============ Simulation Started ============ ###\n",
      "Time: 0 - [Machine 1] got Part 9 from Queue 1 (capacity= 0)\n",
      "Time: 0 - [Machine 3] got Part 8 from Queue 3 (capacity= 0)\n",
      "Time: 3 - [Conveyor towards Queue 4] GOT Part 7\n",
      "Time: 4 - [Conveyor towards Queue 4] PUT Part 7 in the Queue 4\n",
      "Time: 5 - [Conveyor towards Queue 5] GOT Part 6\n",
      "Time: 5 - [Machine 4] got Part 7 from Queue 4 (capacity= 0)\n",
      "Time: 6 - [Terminator] xxx Part 5 terminated xxx\n",
      "Time: 6 - [Terminator] Part 10 replaced\n",
      "Time: 6 - [Conveyor towards Queue 1] GOT Part 10\n",
      "Time: 6 - [Conveyor towards Queue 5] PUT Part 6 in the Queue 5\n",
      "Time: 7 - [Machine 5] got Part 6 from Queue 5 (capacity= 0)\n",
      "Time: 9 - [Conveyor towards Queue 1] PUT Part 10 in the Queue 1\n",
      "=== Reading all the events from table: digital_log ===\n",
      "(1, 0, 'Machine 1', 'Started', 'Part 9', 'Queue 1', None, None)\n",
      "(2, 0, 'Machine 3', 'Started', 'Part 8', 'Queue 3', None, None)\n",
      "(3, 3, 'Machine 2', 'Finished', 'Part 7', 'Queue 4', None, None)\n",
      "(4, 5, 'Machine 4', 'Finished', 'Part 6', 'Queue 5', None, None)\n",
      "(5, 5, 'Machine 4', 'Started', 'Part 7', 'Queue 4', None, None)\n",
      "(6, 6, 'Machine 5', 'Finished', 'Part 5', 'Queue 1', None, None)\n",
      "(7, 7, 'Machine 5', 'Started', 'Part 6', 'Queue 5', None, None)\n",
      "### ============ Simulation Done ============ ###\n",
      "--- LCSS Sequence ---\n",
      "['Machine 1 - Started', 'Machine 3 - Started', 'Machine 2 - Finished', 'Machine 4 - Finished', 'Machine 4 - Started', 'Machine 5 - Finished', 'Machine 5 - Started']\n",
      "--- LCSS Time ---\n",
      "[0, 0, 3, 5, 5, 6, 7]\n",
      ">>> LCSS Indicator: 1.0\n",
      "===============================================================\n",
      "_______________________ Validation Results _______________________\n",
      "> LCSS indicator for LOGIC: 1.0\n",
      "> LCSS indicator for INPUT: 1.0\n",
      "__________________________________________________________________\n"
     ]
    },
    {
     "data": {
      "text/markdown": [
       "<span style='color:#7DCEA0'>14 March 18:37:19 |[Internal Service] System Validated. Next Validation: 14 March 18:37:49</span>"
      ],
      "text/plain": [
       "<IPython.core.display.Markdown object>"
      ]
     },
     "metadata": {},
     "output_type": "display_data"
    },
    {
     "data": {
      "text/markdown": [
       "<span style='color:#3498DB'>14 March 18:37:19 |[Internal Service] Starting Synchronization</span>"
      ],
      "text/plain": [
       "<IPython.core.display.Markdown object>"
      ]
     },
     "metadata": {},
     "output_type": "display_data"
    },
    {
     "data": {
      "text/markdown": [
       "<span style='color:#DC7633'>[interfaceDB.py/update_end_time] Pointer End Time updated from 56 to 57</span>"
      ],
      "text/plain": [
       "<IPython.core.display.Markdown object>"
      ]
     },
     "metadata": {},
     "output_type": "display_data"
    },
    {
     "name": "stdout",
     "output_type": "stream",
     "text": [
      "---------- Pointer Status ----------\n",
      "Start Time ID: 50\n",
      "End Time ID: 57\n",
      "-------------------------------------\n",
      "-----------------------------------------------------------------\n",
      "Big picture BEFORE calculations\n",
      "--- Zone of Machine 1 ---\n",
      "Parts in queue: ['Part 9']\n",
      "Part in machine: []\n",
      "--- Zone of Machine 2 ---\n",
      "Parts in queue: []\n",
      "Part in machine: ['Part 7']\n",
      "--- Zone of Machine 3 ---\n",
      "Parts in queue: ['Part 8']\n",
      "Part in machine: []\n",
      "--- Zone of Machine 4 ---\n",
      "Parts in queue: []\n",
      "Part in machine: ['Part 6']\n",
      "--- Zone of Machine 5 ---\n",
      "Parts in queue: []\n",
      "Part in machine: ['Part 5']\n",
      "-----------------------------------------------------------------\n",
      "----\n",
      "After MStarted Part 9 in queue\n",
      "Zone of Machine 1 | parts_ids_in_queue: []\n",
      "Zone of Machine 1 | parts_ids_in_machine: ['Part 9']\n",
      "----\n",
      "After MFinished Part 7 in queue\n",
      "Zone of Machine 2 | parts_ids_in_queue: []\n",
      "Zone of Machine 2 | parts_ids_in_machine: []\n",
      "----\n",
      "After Added Part 7 in queue\n",
      "Zone of Machine 4 | parts_ids_in_queue: ['Part 7']\n",
      "Zone of Machine 4 | parts_ids_in_machine: ['Part 6']\n",
      "----\n",
      "After MStarted Part 8 in queue\n",
      "Zone of Machine 3 | parts_ids_in_queue: []\n",
      "Zone of Machine 3 | parts_ids_in_machine: ['Part 8']\n",
      "----\n",
      "After MFinished Part 6 in queue\n",
      "Zone of Machine 4 | parts_ids_in_queue: ['Part 7']\n",
      "Zone of Machine 4 | parts_ids_in_machine: []\n",
      "----\n",
      "After Added Part 6 in queue\n",
      "Zone of Machine 5 | parts_ids_in_queue: ['Part 6']\n",
      "Zone of Machine 5 | parts_ids_in_machine: ['Part 5']\n",
      "----\n",
      "After MStarted Part 7 in queue\n",
      "Zone of Machine 4 | parts_ids_in_queue: []\n",
      "Zone of Machine 4 | parts_ids_in_machine: ['Part 7']\n",
      "----\n",
      "After MFinished Part 5 in queue\n",
      "Zone of Machine 5 | parts_ids_in_queue: ['Part 6']\n",
      "Zone of Machine 5 | parts_ids_in_machine: []\n",
      "----\n",
      "After Added Part 10 in queue\n",
      "Zone of Machine 1 | parts_ids_in_queue: ['Part 10']\n",
      "Zone of Machine 1 | parts_ids_in_machine: ['Part 9']\n",
      "----\n",
      "After MStarted Part 6 in queue\n",
      "Zone of Machine 5 | parts_ids_in_queue: []\n",
      "Zone of Machine 5 | parts_ids_in_machine: ['Part 6']\n",
      "----\n",
      "After MFinished Part 9 in queue\n",
      "Zone of Machine 1 | parts_ids_in_queue: ['Part 10']\n",
      "Zone of Machine 1 | parts_ids_in_machine: []\n",
      "----\n",
      "After Added Part 9 in queue\n",
      "Zone of Machine 2 | parts_ids_in_queue: ['Part 9']\n",
      "Zone of Machine 2 | parts_ids_in_machine: []\n",
      "-----------------------------------------------------------------\n",
      "Big picture AFTER calculations\n",
      "--- Zone of Machine 1 ---\n",
      "Parts in queue: ['Part 10']\n",
      "Part in machine: []\n",
      "Zone is Working? False\n",
      "--- Zone of Machine 2 ---\n",
      "Parts in queue: ['Part 9']\n",
      "Part in machine: []\n",
      "Zone is Working? False\n",
      "--- Zone of Machine 3 ---\n",
      "Parts in queue: []\n",
      "Part in machine: ['Part 8']\n",
      "Zone is Working? True\n",
      "--- Zone of Machine 4 ---\n",
      "Parts in queue: []\n",
      "Part in machine: ['Part 7']\n",
      "Zone is Working? True\n",
      "--- Zone of Machine 5 ---\n",
      "Parts in queue: []\n",
      "Part in machine: ['Part 6']\n",
      "Zone is Working? True\n",
      "-----------------------------------------------------------------\n",
      "=========== Self Verification (Digital-Based) ===========\n",
      "[Zone of Machine 1] NumParts = 1, Machine Working = False, Parts in Conveyor = 0\n",
      "[Zone of Machine 2] NumParts = 0, Machine Working = False, Parts in Conveyor = 0\n",
      "[Zone of Machine 3] NumParts = 1, Machine Working = False, Parts in Conveyor = 0\n",
      "[Zone of Machine 4] NumParts = 0, Machine Working = False, Parts in Conveyor = 0\n",
      "[Zone of Machine 5] NumParts = 0, Machine Working = False, Parts in Conveyor = 0\n",
      "=========================================\n",
      "=========== Zones Occupations (Real-Based) ===========\n",
      "[Zone of Machine 1] NumParts = 1, Machine Working = False, Zone Indicador = None\n",
      "[Zone of Machine 2] NumParts = 1, Machine Working = False, Zone Indicador = None\n",
      "[Zone of Machine 3] NumParts = 1, Machine Working = True, Zone Indicador = None\n",
      "[Zone of Machine 4] NumParts = 1, Machine Working = True, Zone Indicador = None\n",
      "[Zone of Machine 5] NumParts = 1, Machine Working = True, Zone Indicador = None\n",
      "=========================================\n"
     ]
    },
    {
     "data": {
      "text/markdown": [
       "<span style='color:#3498DB'>14 March 18:37:19 |[Internal Service] System Synchronized. Next Sync: 14 March 18:37:29</span>"
      ],
      "text/plain": [
       "<IPython.core.display.Markdown object>"
      ]
     },
     "metadata": {},
     "output_type": "display_data"
    },
    {
     "data": {
      "text/markdown": [
       "<span style='color:#A569BD'>14 March 18:37:19 |[External Service] Starting RCT Service</span>"
      ],
      "text/plain": [
       "<IPython.core.display.Markdown object>"
      ]
     },
     "metadata": {},
     "output_type": "display_data"
    },
    {
     "data": {
      "text/markdown": [
       "<span style='color:#A569BD'>14 March 18:37:19 |[External Service] System RCT completed. Next Service: 14 March 18:37:29</span>"
      ],
      "text/plain": [
       "<IPython.core.display.Markdown object>"
      ]
     },
     "metadata": {},
     "output_type": "display_data"
    },
    {
     "data": {
      "text/markdown": [
       "<span style='color:#3498DB'>14 March 18:37:29 |[Internal Service] Starting Synchronization</span>"
      ],
      "text/plain": [
       "<IPython.core.display.Markdown object>"
      ]
     },
     "metadata": {},
     "output_type": "display_data"
    },
    {
     "data": {
      "text/markdown": [
       "<span style='color:#DC7633'>[interfaceDB.py/update_end_time] Pointer End Time updated from 63 to 65</span>"
      ],
      "text/plain": [
       "<IPython.core.display.Markdown object>"
      ]
     },
     "metadata": {},
     "output_type": "display_data"
    },
    {
     "name": "stdout",
     "output_type": "stream",
     "text": [
      "---------- Pointer Status ----------\n",
      "Start Time ID: 58\n",
      "End Time ID: 65\n",
      "-------------------------------------\n",
      "-----------------------------------------------------------------\n",
      "Big picture BEFORE calculations\n",
      "--- Zone of Machine 1 ---\n",
      "Parts in queue: ['Part 10']\n",
      "Part in machine: []\n",
      "--- Zone of Machine 2 ---\n",
      "Parts in queue: ['Part 9']\n",
      "Part in machine: []\n",
      "--- Zone of Machine 3 ---\n",
      "Parts in queue: []\n",
      "Part in machine: ['Part 8']\n",
      "--- Zone of Machine 4 ---\n",
      "Parts in queue: []\n",
      "Part in machine: ['Part 7']\n",
      "--- Zone of Machine 5 ---\n",
      "Parts in queue: []\n",
      "Part in machine: ['Part 6']\n",
      "-----------------------------------------------------------------\n",
      "----\n",
      "After MStarted Part 10 in queue\n",
      "Zone of Machine 1 | parts_ids_in_queue: []\n",
      "Zone of Machine 1 | parts_ids_in_machine: ['Part 10']\n",
      "----\n",
      "After MFinished Part 8 in queue\n",
      "Zone of Machine 3 | parts_ids_in_queue: []\n",
      "Zone of Machine 3 | parts_ids_in_machine: []\n",
      "----\n",
      "After Added Part 8 in queue\n",
      "Zone of Machine 4 | parts_ids_in_queue: ['Part 8']\n",
      "Zone of Machine 4 | parts_ids_in_machine: ['Part 7']\n",
      "----\n",
      "After MStarted Part 9 in queue\n",
      "Zone of Machine 2 | parts_ids_in_queue: []\n",
      "Zone of Machine 2 | parts_ids_in_machine: ['Part 9']\n",
      "----\n",
      "After MFinished Part 7 in queue\n",
      "Zone of Machine 4 | parts_ids_in_queue: ['Part 8']\n",
      "Zone of Machine 4 | parts_ids_in_machine: []\n",
      "----\n",
      "After Added Part 7 in queue\n",
      "Zone of Machine 5 | parts_ids_in_queue: ['Part 7']\n",
      "Zone of Machine 5 | parts_ids_in_machine: ['Part 6']\n",
      "----\n",
      "After MStarted Part 8 in queue\n",
      "Zone of Machine 4 | parts_ids_in_queue: []\n",
      "Zone of Machine 4 | parts_ids_in_machine: ['Part 8']\n",
      "----\n",
      "After MFinished Part 6 in queue\n",
      "Zone of Machine 5 | parts_ids_in_queue: ['Part 7']\n",
      "Zone of Machine 5 | parts_ids_in_machine: []\n",
      "----\n",
      "After Added Part 11 in queue\n",
      "Zone of Machine 1 | parts_ids_in_queue: ['Part 11']\n",
      "Zone of Machine 1 | parts_ids_in_machine: ['Part 10']\n",
      "----\n",
      "After MStarted Part 7 in queue\n",
      "Zone of Machine 5 | parts_ids_in_queue: []\n",
      "Zone of Machine 5 | parts_ids_in_machine: ['Part 7']\n",
      "----\n",
      "After MFinished Part 10 in queue\n",
      "Zone of Machine 1 | parts_ids_in_queue: ['Part 11']\n",
      "Zone of Machine 1 | parts_ids_in_machine: []\n",
      "----\n",
      "After Added Part 10 in queue\n",
      "Zone of Machine 3 | parts_ids_in_queue: ['Part 10']\n",
      "Zone of Machine 3 | parts_ids_in_machine: []\n",
      "-----------------------------------------------------------------\n",
      "Big picture AFTER calculations\n",
      "--- Zone of Machine 1 ---\n",
      "Parts in queue: ['Part 11']\n",
      "Part in machine: []\n",
      "Zone is Working? False\n",
      "--- Zone of Machine 2 ---\n",
      "Parts in queue: []\n",
      "Part in machine: ['Part 9']\n",
      "Zone is Working? True\n",
      "--- Zone of Machine 3 ---\n",
      "Parts in queue: ['Part 10']\n",
      "Part in machine: []\n",
      "Zone is Working? False\n",
      "--- Zone of Machine 4 ---\n",
      "Parts in queue: []\n",
      "Part in machine: ['Part 8']\n",
      "Zone is Working? True\n",
      "--- Zone of Machine 5 ---\n",
      "Parts in queue: []\n",
      "Part in machine: ['Part 7']\n",
      "Zone is Working? True\n",
      "-----------------------------------------------------------------\n",
      "=========== Self Verification (Digital-Based) ===========\n",
      "[Zone of Machine 1] NumParts = 1, Machine Working = False, Parts in Conveyor = 0\n",
      "[Zone of Machine 2] NumParts = 1, Machine Working = False, Parts in Conveyor = 0\n",
      "[Zone of Machine 3] NumParts = 0, Machine Working = False, Parts in Conveyor = 0\n",
      "[Zone of Machine 4] NumParts = 0, Machine Working = False, Parts in Conveyor = 0\n",
      "[Zone of Machine 5] NumParts = 0, Machine Working = False, Parts in Conveyor = 0\n",
      "=========================================\n",
      "=========== Zones Occupations (Real-Based) ===========\n",
      "[Zone of Machine 1] NumParts = 1, Machine Working = False, Zone Indicador = None\n",
      "[Zone of Machine 2] NumParts = 1, Machine Working = True, Zone Indicador = None\n",
      "[Zone of Machine 3] NumParts = 1, Machine Working = False, Zone Indicador = None\n",
      "[Zone of Machine 4] NumParts = 1, Machine Working = True, Zone Indicador = None\n",
      "[Zone of Machine 5] NumParts = 1, Machine Working = True, Zone Indicador = None\n",
      "=========================================\n"
     ]
    },
    {
     "data": {
      "text/markdown": [
       "<span style='color:#3498DB'>14 March 18:37:29 |[Internal Service] System Synchronized. Next Sync: 14 March 18:37:39</span>"
      ],
      "text/plain": [
       "<IPython.core.display.Markdown object>"
      ]
     },
     "metadata": {},
     "output_type": "display_data"
    },
    {
     "data": {
      "text/markdown": [
       "<span style='color:#A569BD'>14 March 18:37:29 |[External Service] Starting RCT Service</span>"
      ],
      "text/plain": [
       "<IPython.core.display.Markdown object>"
      ]
     },
     "metadata": {},
     "output_type": "display_data"
    },
    {
     "data": {
      "text/markdown": [
       "<span style='color:#A569BD'>14 March 18:37:29 |[External Service] System RCT completed. Next Service: 14 March 18:37:39</span>"
      ],
      "text/plain": [
       "<IPython.core.display.Markdown object>"
      ]
     },
     "metadata": {},
     "output_type": "display_data"
    },
    {
     "data": {
      "text/markdown": [
       "<span style='color:#3498DB'>14 March 18:37:39 |[Internal Service] Starting Synchronization</span>"
      ],
      "text/plain": [
       "<IPython.core.display.Markdown object>"
      ]
     },
     "metadata": {},
     "output_type": "display_data"
    },
    {
     "data": {
      "text/markdown": [
       "<span style='color:#DC7633'>[interfaceDB.py/update_end_time] Pointer End Time updated from 71 to 73</span>"
      ],
      "text/plain": [
       "<IPython.core.display.Markdown object>"
      ]
     },
     "metadata": {},
     "output_type": "display_data"
    },
    {
     "name": "stdout",
     "output_type": "stream",
     "text": [
      "---------- Pointer Status ----------\n",
      "Start Time ID: 66\n",
      "End Time ID: 73\n",
      "-------------------------------------\n",
      "-----------------------------------------------------------------\n",
      "Big picture BEFORE calculations\n",
      "--- Zone of Machine 1 ---\n",
      "Parts in queue: ['Part 11']\n",
      "Part in machine: []\n",
      "--- Zone of Machine 2 ---\n",
      "Parts in queue: []\n",
      "Part in machine: ['Part 9']\n",
      "--- Zone of Machine 3 ---\n",
      "Parts in queue: ['Part 10']\n",
      "Part in machine: []\n",
      "--- Zone of Machine 4 ---\n",
      "Parts in queue: []\n",
      "Part in machine: ['Part 8']\n",
      "--- Zone of Machine 5 ---\n",
      "Parts in queue: []\n",
      "Part in machine: ['Part 7']\n",
      "-----------------------------------------------------------------\n",
      "----\n",
      "After MStarted Part 11 in queue\n",
      "Zone of Machine 1 | parts_ids_in_queue: []\n",
      "Zone of Machine 1 | parts_ids_in_machine: ['Part 11']\n",
      "----\n",
      "After MFinished Part 9 in queue\n",
      "Zone of Machine 2 | parts_ids_in_queue: []\n",
      "Zone of Machine 2 | parts_ids_in_machine: []\n",
      "----\n",
      "After Added Part 9 in queue\n",
      "Zone of Machine 4 | parts_ids_in_queue: ['Part 9']\n",
      "Zone of Machine 4 | parts_ids_in_machine: ['Part 8']\n",
      "----\n",
      "After MStarted Part 10 in queue\n",
      "Zone of Machine 3 | parts_ids_in_queue: []\n",
      "Zone of Machine 3 | parts_ids_in_machine: ['Part 10']\n",
      "----\n",
      "After MFinished Part 8 in queue\n",
      "Zone of Machine 4 | parts_ids_in_queue: ['Part 9']\n",
      "Zone of Machine 4 | parts_ids_in_machine: []\n",
      "----\n",
      "After Added Part 8 in queue\n",
      "Zone of Machine 5 | parts_ids_in_queue: ['Part 8']\n",
      "Zone of Machine 5 | parts_ids_in_machine: ['Part 7']\n",
      "----\n",
      "After MStarted Part 9 in queue\n",
      "Zone of Machine 4 | parts_ids_in_queue: []\n",
      "Zone of Machine 4 | parts_ids_in_machine: ['Part 9']\n",
      "----\n",
      "After MFinished Part 7 in queue\n",
      "Zone of Machine 5 | parts_ids_in_queue: ['Part 8']\n",
      "Zone of Machine 5 | parts_ids_in_machine: []\n",
      "----\n",
      "After Added Part 12 in queue\n",
      "Zone of Machine 1 | parts_ids_in_queue: ['Part 12']\n",
      "Zone of Machine 1 | parts_ids_in_machine: ['Part 11']\n",
      "----\n",
      "After MStarted Part 8 in queue\n",
      "Zone of Machine 5 | parts_ids_in_queue: []\n",
      "Zone of Machine 5 | parts_ids_in_machine: ['Part 8']\n",
      "----\n",
      "After MFinished Part 11 in queue\n",
      "Zone of Machine 1 | parts_ids_in_queue: ['Part 12']\n",
      "Zone of Machine 1 | parts_ids_in_machine: []\n",
      "----\n",
      "After Added Part 11 in queue\n",
      "Zone of Machine 2 | parts_ids_in_queue: ['Part 11']\n",
      "Zone of Machine 2 | parts_ids_in_machine: []\n",
      "-----------------------------------------------------------------\n",
      "Big picture AFTER calculations\n",
      "--- Zone of Machine 1 ---\n",
      "Parts in queue: ['Part 12']\n",
      "Part in machine: []\n",
      "Zone is Working? False\n",
      "--- Zone of Machine 2 ---\n",
      "Parts in queue: ['Part 11']\n",
      "Part in machine: []\n",
      "Zone is Working? False\n",
      "--- Zone of Machine 3 ---\n",
      "Parts in queue: []\n",
      "Part in machine: ['Part 10']\n",
      "Zone is Working? True\n",
      "--- Zone of Machine 4 ---\n",
      "Parts in queue: []\n",
      "Part in machine: ['Part 9']\n",
      "Zone is Working? True\n",
      "--- Zone of Machine 5 ---\n",
      "Parts in queue: []\n",
      "Part in machine: ['Part 8']\n",
      "Zone is Working? True\n",
      "-----------------------------------------------------------------\n",
      "=========== Self Verification (Digital-Based) ===========\n",
      "[Zone of Machine 1] NumParts = 1, Machine Working = False, Parts in Conveyor = 0\n",
      "[Zone of Machine 2] NumParts = 0, Machine Working = False, Parts in Conveyor = 0\n",
      "[Zone of Machine 3] NumParts = 1, Machine Working = False, Parts in Conveyor = 0\n",
      "[Zone of Machine 4] NumParts = 0, Machine Working = False, Parts in Conveyor = 0\n",
      "[Zone of Machine 5] NumParts = 0, Machine Working = False, Parts in Conveyor = 0\n",
      "=========================================\n",
      "=========== Zones Occupations (Real-Based) ===========\n",
      "[Zone of Machine 1] NumParts = 1, Machine Working = False, Zone Indicador = None\n",
      "[Zone of Machine 2] NumParts = 1, Machine Working = False, Zone Indicador = None\n",
      "[Zone of Machine 3] NumParts = 1, Machine Working = True, Zone Indicador = None\n",
      "[Zone of Machine 4] NumParts = 1, Machine Working = True, Zone Indicador = None\n",
      "[Zone of Machine 5] NumParts = 1, Machine Working = True, Zone Indicador = None\n",
      "=========================================\n"
     ]
    },
    {
     "data": {
      "text/markdown": [
       "<span style='color:#3498DB'>14 March 18:37:39 |[Internal Service] System Synchronized. Next Sync: 14 March 18:37:49</span>"
      ],
      "text/plain": [
       "<IPython.core.display.Markdown object>"
      ]
     },
     "metadata": {},
     "output_type": "display_data"
    },
    {
     "data": {
      "text/markdown": [
       "<span style='color:#A569BD'>14 March 18:37:39 |[External Service] Starting RCT Service</span>"
      ],
      "text/plain": [
       "<IPython.core.display.Markdown object>"
      ]
     },
     "metadata": {},
     "output_type": "display_data"
    },
    {
     "data": {
      "text/markdown": [
       "<span style='color:#A569BD'>14 March 18:37:39 |[External Service] System RCT completed. Next Service: 14 March 18:37:49</span>"
      ],
      "text/plain": [
       "<IPython.core.display.Markdown object>"
      ]
     },
     "metadata": {},
     "output_type": "display_data"
    },
    {
     "data": {
      "text/markdown": [
       "<span style='color:#7DCEA0'>14 March 18:37:49 |[Internal Service] Starting Validation</span>"
      ],
      "text/plain": [
       "<IPython.core.display.Markdown object>"
      ]
     },
     "metadata": {},
     "output_type": "display_data"
    },
    {
     "data": {
      "text/markdown": [
       "<span style='color:#DC7633'>[interfaceDB.py/update_end_time] Pointer End Time updated from 79 to 81</span>"
      ],
      "text/plain": [
       "<IPython.core.display.Markdown object>"
      ]
     },
     "metadata": {},
     "output_type": "display_data"
    },
    {
     "name": "stdout",
     "output_type": "stream",
     "text": [
      "---------- Pointer Status ----------\n",
      "Start Time ID: 74\n",
      "End Time ID: 81\n",
      "-------------------------------------\n",
      "-----------------------------------------------------------------------------------------\n",
      "=== matrix_ptime_qTDS ===\n",
      "[VALIDATOR] Simulation Deterministic - No correlation of randoness needed\n",
      "\n",
      "=== matrix_ptime_TDS ===\n",
      "Part 8: [6]\n",
      "Part 9: [4]\n",
      "Part 10: [2]\n",
      "Part 11: []\n",
      "Part 12: [10]\n",
      "-----------------------------------------------------------------------------------------\n",
      "============ Running Trace Driven Simulation ============\n",
      "### ============ Simulation Started ============ ###\n",
      "Time: 0 - [Machine 1] got Part 12 from Queue 1 (capacity= 0)\n",
      "Time: 0 - [Machine 2] got Part 11 from Queue 2 (capacity= 0)\n",
      "Time: 2 - [Conveyor towards Queue 4] GOT Part 10\n",
      "Time: 3 - [Conveyor towards Queue 4] PUT Part 10 in the Queue 4\n",
      "Time: 4 - [Conveyor towards Queue 5] GOT Part 9\n",
      "Time: 4 - [Machine 4] got Part 10 from Queue 4 (capacity= 0)\n",
      "Time: 5 - [Conveyor towards Queue 5] PUT Part 9 in the Queue 5\n",
      "Time: 6 - [Terminator] xxx Part 8 terminated xxx\n",
      "Time: 6 - [Terminator] Part 13 replaced\n",
      "Time: 6 - [Conveyor towards Queue 1] GOT Part 13\n",
      "Time: 6 - [Machine 5] got Part 9 from Queue 5 (capacity= 0)\n",
      "Time: 9 - [Conveyor towards Queue 1] PUT Part 13 in the Queue 1\n",
      "=== Reading all the events from table: digital_log ===\n",
      "(1, 0, 'Machine 1', 'Started', 'Part 12', 'Queue 1', None, None)\n",
      "(2, 0, 'Machine 2', 'Started', 'Part 11', 'Queue 2', None, None)\n",
      "(3, 2, 'Machine 3', 'Finished', 'Part 10', 'Queue 4', None, None)\n",
      "(4, 4, 'Machine 4', 'Finished', 'Part 9', 'Queue 5', None, None)\n",
      "(5, 4, 'Machine 4', 'Started', 'Part 10', 'Queue 4', None, None)\n",
      "(6, 6, 'Machine 5', 'Finished', 'Part 8', 'Queue 1', None, None)\n",
      "(7, 6, 'Machine 5', 'Started', 'Part 9', 'Queue 5', None, None)\n",
      "### ============ Simulation Done ============ ###\n",
      "--- LCSS Sequence ---\n",
      "['Machine 1 - Started', 'Machine 2 - Started', 'Machine 3 - Finished', 'Machine 4 - Finished', 'Machine 4 - Started', 'Machine 5 - Finished', 'Machine 5 - Started']\n",
      "--- LCSS Time ---\n",
      "[0, 0, 2, 4, 4, 6, 6]\n",
      ">>> LCSS Indicator: 1.0\n",
      "=========================================================\n"
     ]
    },
    {
     "data": {
      "text/markdown": [
       "<span style='color:#DC7633'>[interfaceDB.py/update_end_time] Pointer End Time updated from 79 to 81</span>"
      ],
      "text/plain": [
       "<IPython.core.display.Markdown object>"
      ]
     },
     "metadata": {},
     "output_type": "display_data"
    },
    {
     "name": "stdout",
     "output_type": "stream",
     "text": [
      "---------- Pointer Status ----------\n",
      "Start Time ID: 74\n",
      "End Time ID: 81\n",
      "-------------------------------------\n",
      "-----------------------------------------------------------------------------------------\n",
      "=== matrix_ptime_qTDS ===\n",
      "[VALIDATOR] Simulation Deterministic - No correlation of randoness needed\n",
      "\n",
      "=== matrix_ptime_TDS ===\n",
      "Part 8: [6]\n",
      "Part 9: [4]\n",
      "Part 10: [2]\n",
      "Part 11: []\n",
      "Part 12: [10]\n",
      "-----------------------------------------------------------------------------------------\n",
      "============ Running quasi Trace Driven Simulation ============\n",
      "### ============ Simulation Started ============ ###\n",
      "Time: 0 - [Machine 1] got Part 12 from Queue 1 (capacity= 0)\n",
      "Time: 0 - [Machine 2] got Part 11 from Queue 2 (capacity= 0)\n",
      "Time: 2 - [Conveyor towards Queue 4] GOT Part 10\n",
      "Time: 3 - [Conveyor towards Queue 4] PUT Part 10 in the Queue 4\n",
      "Time: 4 - [Conveyor towards Queue 5] GOT Part 9\n",
      "Time: 4 - [Machine 4] got Part 10 from Queue 4 (capacity= 0)\n",
      "Time: 5 - [Conveyor towards Queue 5] PUT Part 9 in the Queue 5\n",
      "Time: 6 - [Terminator] xxx Part 8 terminated xxx\n",
      "Time: 6 - [Terminator] Part 13 replaced\n",
      "Time: 6 - [Conveyor towards Queue 1] GOT Part 13\n",
      "Time: 6 - [Machine 5] got Part 9 from Queue 5 (capacity= 0)\n",
      "Time: 9 - [Conveyor towards Queue 1] PUT Part 13 in the Queue 1\n",
      "=== Reading all the events from table: digital_log ===\n",
      "(1, 0, 'Machine 1', 'Started', 'Part 12', 'Queue 1', None, None)\n",
      "(2, 0, 'Machine 2', 'Started', 'Part 11', 'Queue 2', None, None)\n",
      "(3, 2, 'Machine 3', 'Finished', 'Part 10', 'Queue 4', None, None)\n",
      "(4, 4, 'Machine 4', 'Finished', 'Part 9', 'Queue 5', None, None)\n",
      "(5, 4, 'Machine 4', 'Started', 'Part 10', 'Queue 4', None, None)\n",
      "(6, 6, 'Machine 5', 'Finished', 'Part 8', 'Queue 1', None, None)\n",
      "(7, 6, 'Machine 5', 'Started', 'Part 9', 'Queue 5', None, None)\n",
      "### ============ Simulation Done ============ ###\n",
      "--- LCSS Sequence ---\n",
      "['Machine 1 - Started', 'Machine 2 - Started', 'Machine 3 - Finished', 'Machine 4 - Finished', 'Machine 4 - Started', 'Machine 5 - Finished', 'Machine 5 - Started']\n",
      "--- LCSS Time ---\n",
      "[0, 0, 2, 4, 4, 6, 6]\n",
      ">>> LCSS Indicator: 1.0\n",
      "===============================================================\n",
      "_______________________ Validation Results _______________________\n",
      "> LCSS indicator for LOGIC: 1.0\n",
      "> LCSS indicator for INPUT: 1.0\n",
      "__________________________________________________________________\n"
     ]
    },
    {
     "data": {
      "text/markdown": [
       "<span style='color:#7DCEA0'>14 March 18:37:49 |[Internal Service] System Validated. Next Validation: 14 March 18:38:19</span>"
      ],
      "text/plain": [
       "<IPython.core.display.Markdown object>"
      ]
     },
     "metadata": {},
     "output_type": "display_data"
    },
    {
     "data": {
      "text/markdown": [
       "<span style='color:#3498DB'>14 March 18:37:49 |[Internal Service] Starting Synchronization</span>"
      ],
      "text/plain": [
       "<IPython.core.display.Markdown object>"
      ]
     },
     "metadata": {},
     "output_type": "display_data"
    },
    {
     "data": {
      "text/markdown": [
       "<span style='color:#DC7633'>[interfaceDB.py/update_end_time] Pointer End Time updated from 79 to 81</span>"
      ],
      "text/plain": [
       "<IPython.core.display.Markdown object>"
      ]
     },
     "metadata": {},
     "output_type": "display_data"
    },
    {
     "name": "stdout",
     "output_type": "stream",
     "text": [
      "---------- Pointer Status ----------\n",
      "Start Time ID: 74\n",
      "End Time ID: 81\n",
      "-------------------------------------\n",
      "-----------------------------------------------------------------\n",
      "Big picture BEFORE calculations\n",
      "--- Zone of Machine 1 ---\n",
      "Parts in queue: ['Part 12']\n",
      "Part in machine: []\n",
      "--- Zone of Machine 2 ---\n",
      "Parts in queue: ['Part 11']\n",
      "Part in machine: []\n",
      "--- Zone of Machine 3 ---\n",
      "Parts in queue: []\n",
      "Part in machine: ['Part 10']\n",
      "--- Zone of Machine 4 ---\n",
      "Parts in queue: []\n",
      "Part in machine: ['Part 9']\n",
      "--- Zone of Machine 5 ---\n",
      "Parts in queue: []\n",
      "Part in machine: ['Part 8']\n",
      "-----------------------------------------------------------------\n",
      "----\n",
      "After MStarted Part 12 in queue\n",
      "Zone of Machine 1 | parts_ids_in_queue: []\n",
      "Zone of Machine 1 | parts_ids_in_machine: ['Part 12']\n",
      "----\n",
      "After MFinished Part 10 in queue\n",
      "Zone of Machine 3 | parts_ids_in_queue: []\n",
      "Zone of Machine 3 | parts_ids_in_machine: []\n",
      "----\n",
      "After Added Part 10 in queue\n",
      "Zone of Machine 4 | parts_ids_in_queue: ['Part 10']\n",
      "Zone of Machine 4 | parts_ids_in_machine: ['Part 9']\n",
      "----\n",
      "After MStarted Part 11 in queue\n",
      "Zone of Machine 2 | parts_ids_in_queue: []\n",
      "Zone of Machine 2 | parts_ids_in_machine: ['Part 11']\n",
      "----\n",
      "After MFinished Part 9 in queue\n",
      "Zone of Machine 4 | parts_ids_in_queue: ['Part 10']\n",
      "Zone of Machine 4 | parts_ids_in_machine: []\n",
      "----\n",
      "After Added Part 9 in queue\n",
      "Zone of Machine 5 | parts_ids_in_queue: ['Part 9']\n",
      "Zone of Machine 5 | parts_ids_in_machine: ['Part 8']\n",
      "----\n",
      "After MStarted Part 10 in queue\n",
      "Zone of Machine 4 | parts_ids_in_queue: []\n",
      "Zone of Machine 4 | parts_ids_in_machine: ['Part 10']\n",
      "----\n",
      "After MFinished Part 8 in queue\n",
      "Zone of Machine 5 | parts_ids_in_queue: ['Part 9']\n",
      "Zone of Machine 5 | parts_ids_in_machine: []\n",
      "----\n",
      "After Added Part 13 in queue\n",
      "Zone of Machine 1 | parts_ids_in_queue: ['Part 13']\n",
      "Zone of Machine 1 | parts_ids_in_machine: ['Part 12']\n",
      "----\n",
      "After MStarted Part 9 in queue\n",
      "Zone of Machine 5 | parts_ids_in_queue: []\n",
      "Zone of Machine 5 | parts_ids_in_machine: ['Part 9']\n",
      "----\n",
      "After MFinished Part 12 in queue\n",
      "Zone of Machine 1 | parts_ids_in_queue: ['Part 13']\n",
      "Zone of Machine 1 | parts_ids_in_machine: []\n",
      "----\n",
      "After Added Part 12 in queue\n",
      "Zone of Machine 3 | parts_ids_in_queue: ['Part 12']\n",
      "Zone of Machine 3 | parts_ids_in_machine: []\n",
      "-----------------------------------------------------------------\n",
      "Big picture AFTER calculations\n",
      "--- Zone of Machine 1 ---\n",
      "Parts in queue: ['Part 13']\n",
      "Part in machine: []\n",
      "Zone is Working? False\n",
      "--- Zone of Machine 2 ---\n",
      "Parts in queue: []\n",
      "Part in machine: ['Part 11']\n",
      "Zone is Working? True\n",
      "--- Zone of Machine 3 ---\n",
      "Parts in queue: ['Part 12']\n",
      "Part in machine: []\n",
      "Zone is Working? False\n",
      "--- Zone of Machine 4 ---\n",
      "Parts in queue: []\n",
      "Part in machine: ['Part 10']\n",
      "Zone is Working? True\n",
      "--- Zone of Machine 5 ---\n",
      "Parts in queue: []\n",
      "Part in machine: ['Part 9']\n",
      "Zone is Working? True\n",
      "-----------------------------------------------------------------\n",
      "=========== Self Verification (Digital-Based) ===========\n",
      "[Zone of Machine 1] NumParts = 1, Machine Working = False, Parts in Conveyor = 0\n",
      "[Zone of Machine 2] NumParts = 1, Machine Working = False, Parts in Conveyor = 0\n",
      "[Zone of Machine 3] NumParts = 0, Machine Working = False, Parts in Conveyor = 0\n",
      "[Zone of Machine 4] NumParts = 0, Machine Working = False, Parts in Conveyor = 0\n",
      "[Zone of Machine 5] NumParts = 0, Machine Working = False, Parts in Conveyor = 0\n",
      "=========================================\n",
      "=========== Zones Occupations (Real-Based) ===========\n",
      "[Zone of Machine 1] NumParts = 1, Machine Working = False, Zone Indicador = None\n",
      "[Zone of Machine 2] NumParts = 1, Machine Working = True, Zone Indicador = None\n",
      "[Zone of Machine 3] NumParts = 1, Machine Working = False, Zone Indicador = None\n",
      "[Zone of Machine 4] NumParts = 1, Machine Working = True, Zone Indicador = None\n",
      "[Zone of Machine 5] NumParts = 1, Machine Working = True, Zone Indicador = None\n",
      "=========================================\n"
     ]
    },
    {
     "data": {
      "text/markdown": [
       "<span style='color:#3498DB'>14 March 18:37:49 |[Internal Service] System Synchronized. Next Sync: 14 March 18:37:59</span>"
      ],
      "text/plain": [
       "<IPython.core.display.Markdown object>"
      ]
     },
     "metadata": {},
     "output_type": "display_data"
    },
    {
     "data": {
      "text/markdown": [
       "<span style='color:#A569BD'>14 March 18:37:49 |[External Service] Starting RCT Service</span>"
      ],
      "text/plain": [
       "<IPython.core.display.Markdown object>"
      ]
     },
     "metadata": {},
     "output_type": "display_data"
    },
    {
     "data": {
      "text/markdown": [
       "<span style='color:#A569BD'>14 March 18:37:49 |[External Service] System RCT completed. Next Service: 14 March 18:37:59</span>"
      ],
      "text/plain": [
       "<IPython.core.display.Markdown object>"
      ]
     },
     "metadata": {},
     "output_type": "display_data"
    },
    {
     "data": {
      "text/markdown": [
       "<span style='color:#3498DB'>14 March 18:37:59 |[Internal Service] Starting Synchronization</span>"
      ],
      "text/plain": [
       "<IPython.core.display.Markdown object>"
      ]
     },
     "metadata": {},
     "output_type": "display_data"
    },
    {
     "data": {
      "text/markdown": [
       "<span style='color:#DC7633'>[interfaceDB.py/update_end_time] Pointer End Time updated from 87 to 89</span>"
      ],
      "text/plain": [
       "<IPython.core.display.Markdown object>"
      ]
     },
     "metadata": {},
     "output_type": "display_data"
    },
    {
     "name": "stdout",
     "output_type": "stream",
     "text": [
      "---------- Pointer Status ----------\n",
      "Start Time ID: 82\n",
      "End Time ID: 89\n",
      "-------------------------------------\n",
      "-----------------------------------------------------------------\n",
      "Big picture BEFORE calculations\n",
      "--- Zone of Machine 1 ---\n",
      "Parts in queue: ['Part 13']\n",
      "Part in machine: []\n",
      "--- Zone of Machine 2 ---\n",
      "Parts in queue: []\n",
      "Part in machine: ['Part 11']\n",
      "--- Zone of Machine 3 ---\n",
      "Parts in queue: ['Part 12']\n",
      "Part in machine: []\n",
      "--- Zone of Machine 4 ---\n",
      "Parts in queue: []\n",
      "Part in machine: ['Part 10']\n",
      "--- Zone of Machine 5 ---\n",
      "Parts in queue: []\n",
      "Part in machine: ['Part 9']\n",
      "-----------------------------------------------------------------\n",
      "----\n",
      "After MStarted Part 13 in queue\n",
      "Zone of Machine 1 | parts_ids_in_queue: []\n",
      "Zone of Machine 1 | parts_ids_in_machine: ['Part 13']\n",
      "----\n",
      "After MFinished Part 11 in queue\n",
      "Zone of Machine 2 | parts_ids_in_queue: []\n",
      "Zone of Machine 2 | parts_ids_in_machine: []\n",
      "----\n",
      "After Added Part 11 in queue\n",
      "Zone of Machine 4 | parts_ids_in_queue: ['Part 11']\n",
      "Zone of Machine 4 | parts_ids_in_machine: ['Part 10']\n",
      "----\n",
      "After MStarted Part 12 in queue\n",
      "Zone of Machine 3 | parts_ids_in_queue: []\n",
      "Zone of Machine 3 | parts_ids_in_machine: ['Part 12']\n",
      "----\n",
      "After MFinished Part 10 in queue\n",
      "Zone of Machine 4 | parts_ids_in_queue: ['Part 11']\n",
      "Zone of Machine 4 | parts_ids_in_machine: []\n",
      "----\n",
      "After Added Part 10 in queue\n",
      "Zone of Machine 5 | parts_ids_in_queue: ['Part 10']\n",
      "Zone of Machine 5 | parts_ids_in_machine: ['Part 9']\n",
      "----\n",
      "After MStarted Part 11 in queue\n",
      "Zone of Machine 4 | parts_ids_in_queue: []\n",
      "Zone of Machine 4 | parts_ids_in_machine: ['Part 11']\n",
      "----\n",
      "After MFinished Part 9 in queue\n",
      "Zone of Machine 5 | parts_ids_in_queue: ['Part 10']\n",
      "Zone of Machine 5 | parts_ids_in_machine: []\n",
      "----\n",
      "After Added Part 14 in queue\n",
      "Zone of Machine 1 | parts_ids_in_queue: ['Part 14']\n",
      "Zone of Machine 1 | parts_ids_in_machine: ['Part 13']\n",
      "----\n",
      "After MStarted Part 10 in queue\n",
      "Zone of Machine 5 | parts_ids_in_queue: []\n",
      "Zone of Machine 5 | parts_ids_in_machine: ['Part 10']\n",
      "----\n",
      "After MFinished Part 13 in queue\n",
      "Zone of Machine 1 | parts_ids_in_queue: ['Part 14']\n",
      "Zone of Machine 1 | parts_ids_in_machine: []\n",
      "----\n",
      "After Added Part 13 in queue\n",
      "Zone of Machine 2 | parts_ids_in_queue: ['Part 13']\n",
      "Zone of Machine 2 | parts_ids_in_machine: []\n",
      "-----------------------------------------------------------------\n",
      "Big picture AFTER calculations\n",
      "--- Zone of Machine 1 ---\n",
      "Parts in queue: ['Part 14']\n",
      "Part in machine: []\n",
      "Zone is Working? False\n",
      "--- Zone of Machine 2 ---\n",
      "Parts in queue: ['Part 13']\n",
      "Part in machine: []\n",
      "Zone is Working? False\n",
      "--- Zone of Machine 3 ---\n",
      "Parts in queue: []\n",
      "Part in machine: ['Part 12']\n",
      "Zone is Working? True\n",
      "--- Zone of Machine 4 ---\n",
      "Parts in queue: []\n",
      "Part in machine: ['Part 11']\n",
      "Zone is Working? True\n",
      "--- Zone of Machine 5 ---\n",
      "Parts in queue: []\n",
      "Part in machine: ['Part 10']\n",
      "Zone is Working? True\n",
      "-----------------------------------------------------------------\n",
      "=========== Self Verification (Digital-Based) ===========\n",
      "[Zone of Machine 1] NumParts = 1, Machine Working = False, Parts in Conveyor = 0\n",
      "[Zone of Machine 2] NumParts = 0, Machine Working = False, Parts in Conveyor = 0\n",
      "[Zone of Machine 3] NumParts = 1, Machine Working = False, Parts in Conveyor = 0\n",
      "[Zone of Machine 4] NumParts = 0, Machine Working = False, Parts in Conveyor = 0\n",
      "[Zone of Machine 5] NumParts = 0, Machine Working = False, Parts in Conveyor = 0\n",
      "=========================================\n",
      "=========== Zones Occupations (Real-Based) ===========\n",
      "[Zone of Machine 1] NumParts = 1, Machine Working = False, Zone Indicador = None\n",
      "[Zone of Machine 2] NumParts = 1, Machine Working = False, Zone Indicador = None\n",
      "[Zone of Machine 3] NumParts = 1, Machine Working = True, Zone Indicador = None\n",
      "[Zone of Machine 4] NumParts = 1, Machine Working = True, Zone Indicador = None\n",
      "[Zone of Machine 5] NumParts = 1, Machine Working = True, Zone Indicador = None\n",
      "=========================================\n"
     ]
    },
    {
     "data": {
      "text/markdown": [
       "<span style='color:#3498DB'>14 March 18:37:59 |[Internal Service] System Synchronized. Next Sync: 14 March 18:38:09</span>"
      ],
      "text/plain": [
       "<IPython.core.display.Markdown object>"
      ]
     },
     "metadata": {},
     "output_type": "display_data"
    },
    {
     "data": {
      "text/markdown": [
       "<span style='color:#A569BD'>14 March 18:37:59 |[External Service] Starting RCT Service</span>"
      ],
      "text/plain": [
       "<IPython.core.display.Markdown object>"
      ]
     },
     "metadata": {},
     "output_type": "display_data"
    },
    {
     "data": {
      "text/markdown": [
       "<span style='color:#A569BD'>14 March 18:37:59 |[External Service] System RCT completed. Next Service: 14 March 18:38:09</span>"
      ],
      "text/plain": [
       "<IPython.core.display.Markdown object>"
      ]
     },
     "metadata": {},
     "output_type": "display_data"
    },
    {
     "data": {
      "text/markdown": [
       "<span style='color:#3498DB'>14 March 18:38:09 |[Internal Service] Starting Synchronization</span>"
      ],
      "text/plain": [
       "<IPython.core.display.Markdown object>"
      ]
     },
     "metadata": {},
     "output_type": "display_data"
    },
    {
     "ename": "TypeError",
     "evalue": "'NoneType' object is not subscriptable",
     "output_type": "error",
     "traceback": [
      "\u001b[1;31m---------------------------------------------------------------------------\u001b[0m",
      "\u001b[1;31mTypeError\u001b[0m                                 Traceback (most recent call last)",
      "Cell \u001b[1;32mIn[5], line 5\u001b[0m\n\u001b[0;32m      2\u001b[0m mydt\u001b[39m.\u001b[39mrun_digital_model()\n\u001b[0;32m      4\u001b[0m mydt\u001b[39m=\u001b[39m Digital_Twin(name\u001b[39m=\u001b[39m \u001b[39m\"\u001b[39m\u001b[39m5s_determ_real\u001b[39m\u001b[39m\"\u001b[39m, copied_realDB\u001b[39m=\u001b[39m \u001b[39mTrue\u001b[39;00m, Freq_Service\u001b[39m=\u001b[39m\u001b[39m10000\u001b[39m, Freq_Sync\u001b[39m=\u001b[39m \u001b[39m10\u001b[39m, Freq_Valid\u001b[39m=\u001b[39m \u001b[39m30\u001b[39m)\n\u001b[1;32m----> 5\u001b[0m mydt\u001b[39m.\u001b[39;49mrun()\n",
      "File \u001b[1;32mc:\\Users\\pedro\\Github Repositories\\Digital_Twin\\Digital Twin\\dtwinpylib\\dtwinpy\\Digital_Twin.py:546\u001b[0m, in \u001b[0;36mDigital_Twin.run\u001b[1;34m(self)\u001b[0m\n\u001b[0;32m    543\u001b[0m \u001b[39mself\u001b[39m\u001b[39m.\u001b[39mUpdate_time_flags()\n\u001b[0;32m    545\u001b[0m \u001b[39m#--- Run the Internal Services (Synchronization and Validation)\u001b[39;00m\n\u001b[1;32m--> 546\u001b[0m \u001b[39mself\u001b[39;49m\u001b[39m.\u001b[39;49mInternal_Services()\n\u001b[0;32m    548\u001b[0m \u001b[39m#--- Run the External Services (RCT path prediction)\u001b[39;00m\n\u001b[0;32m    549\u001b[0m \u001b[39mself\u001b[39m\u001b[39m.\u001b[39mExternal_Services()\n",
      "File \u001b[1;32mc:\\Users\\pedro\\Github Repositories\\Digital_Twin\\Digital Twin\\dtwinpylib\\dtwinpy\\Digital_Twin.py:355\u001b[0m, in \u001b[0;36mDigital_Twin.Internal_Services\u001b[1;34m(self)\u001b[0m\n\u001b[0;32m    351\u001b[0m end_time \u001b[39m=\u001b[39m \u001b[39mround\u001b[39m(\u001b[39mself\u001b[39m\u001b[39m.\u001b[39mnext_Tsync)\n\u001b[0;32m    354\u001b[0m \u001b[39m# -------------- Run Synchronization --------------\u001b[39;00m\n\u001b[1;32m--> 355\u001b[0m \u001b[39mself\u001b[39;49m\u001b[39m.\u001b[39;49mrun_sync(copied_realDB\u001b[39m=\u001b[39;49m \u001b[39mself\u001b[39;49m\u001b[39m.\u001b[39;49mcopied_realDB, start_time\u001b[39m=\u001b[39;49m start_time, end_time\u001b[39m=\u001b[39;49m end_time)\n\u001b[0;32m    356\u001b[0m \u001b[39m# -------------------------------------------------\u001b[39;00m\n\u001b[0;32m    357\u001b[0m \n\u001b[0;32m    358\u001b[0m \n\u001b[0;32m    359\u001b[0m \n\u001b[0;32m    360\u001b[0m \u001b[39m# --- Send data through API\u001b[39;00m\n\u001b[0;32m    361\u001b[0m \u001b[39m# API\u001b[39;00m\n\u001b[0;32m    362\u001b[0m \u001b[39m\u001b[39m\u001b[39m\"\"\"\u001b[39;00m\n\u001b[0;32m    363\u001b[0m \u001b[39msleep(2)\u001b[39;00m\n\u001b[0;32m    364\u001b[0m \u001b[39mrandom_machines = [random.randint(0, 1) for _ in range(5)]\u001b[39;00m\n\u001b[1;32m   (...)\u001b[0m\n\u001b[0;32m    384\u001b[0m \u001b[39m)\u001b[39;00m\n\u001b[0;32m    385\u001b[0m \u001b[39m\"\"\"\u001b[39;00m\n",
      "File \u001b[1;32mc:\\Users\\pedro\\Github Repositories\\Digital_Twin\\Digital Twin\\dtwinpylib\\dtwinpy\\Digital_Twin.py:317\u001b[0m, in \u001b[0;36mDigital_Twin.run_sync\u001b[1;34m(self, repositioning, start_time, end_time, copied_realDB)\u001b[0m\n\u001b[0;32m    302\u001b[0m \u001b[39m\u001b[39m\u001b[39m\"\"\"[OLD] Now we do this when creating the digital twin\u001b[39;00m\n\u001b[0;32m    303\u001b[0m \u001b[39mif self.copied_realDB == True:\u001b[39;00m\n\u001b[0;32m    304\u001b[0m \u001b[39m    \u001b[39;00m\n\u001b[1;32m   (...)\u001b[0m\n\u001b[0;32m    313\u001b[0m \u001b[39m    shutil.copy2(self.database_path, self.real_database_path)\u001b[39;00m\n\u001b[0;32m    314\u001b[0m \u001b[39m\"\"\"\u001b[39;00m\n\u001b[0;32m    316\u001b[0m \u001b[39m#--- Create the synchronizer\u001b[39;00m\n\u001b[1;32m--> 317\u001b[0m synchronizer \u001b[39m=\u001b[39m Synchronizer(digital_model\u001b[39m=\u001b[39;49m \u001b[39mself\u001b[39;49m\u001b[39m.\u001b[39;49mdigital_model, real_database_path\u001b[39m=\u001b[39;49m \u001b[39mself\u001b[39;49m\u001b[39m.\u001b[39;49mreal_database_path, start_time\u001b[39m=\u001b[39;49m start_time, end_time\u001b[39m=\u001b[39;49m end_time, copied_realDB\u001b[39m=\u001b[39;49m \u001b[39mself\u001b[39;49m\u001b[39m.\u001b[39;49mcopied_realDB, generate_digital_model\u001b[39m=\u001b[39;49m \u001b[39mself\u001b[39;49m\u001b[39m.\u001b[39;49mgenerate_digital_model)\n\u001b[0;32m    319\u001b[0m \u001b[39m#--- Run the synchronizer (positioning)\u001b[39;00m\n\u001b[0;32m    320\u001b[0m synchronizer\u001b[39m.\u001b[39mrun(repositioning\u001b[39m=\u001b[39m repositioning)\n",
      "File \u001b[1;32mc:\\Users\\pedro\\Github Repositories\\Digital_Twin\\Digital Twin\\dtwinpylib\\dtwinpy\\synchronizer.py:259\u001b[0m, in \u001b[0;36mSynchronizer.__init__\u001b[1;34m(self, digital_model, real_database_path, start_time, end_time, generate_digital_model, copied_realDB)\u001b[0m\n\u001b[0;32m    256\u001b[0m \u001b[39m#--- Database\u001b[39;00m\n\u001b[0;32m    257\u001b[0m \u001b[39m#self.real_database = real_database\u001b[39;00m\n\u001b[0;32m    258\u001b[0m \u001b[39mself\u001b[39m\u001b[39m.\u001b[39mreal_database_path \u001b[39m=\u001b[39m real_database_path\n\u001b[1;32m--> 259\u001b[0m \u001b[39mself\u001b[39m\u001b[39m.\u001b[39mreal_database \u001b[39m=\u001b[39m Database(database_path\u001b[39m=\u001b[39;49mreal_database_path, event_table\u001b[39m=\u001b[39;49m \u001b[39m\"\u001b[39;49m\u001b[39mreal_log\u001b[39;49m\u001b[39m\"\u001b[39;49m, start_time\u001b[39m=\u001b[39;49m start_time, end_time\u001b[39m=\u001b[39;49m end_time, copied_realDB\u001b[39m=\u001b[39;49m copied_realDB)        \n\u001b[0;32m    260\u001b[0m \u001b[39mself\u001b[39m\u001b[39m.\u001b[39mfull_database \u001b[39m=\u001b[39m \u001b[39mself\u001b[39m\u001b[39m.\u001b[39mreal_database\u001b[39m.\u001b[39mread_store_data_all(\u001b[39m\"\u001b[39m\u001b[39mreal_log\u001b[39m\u001b[39m\"\u001b[39m)\n\u001b[0;32m    263\u001b[0m \u001b[39m#--- Digital Model\u001b[39;00m\n",
      "File \u001b[1;32mc:\\Users\\pedro\\Github Repositories\\Digital_Twin\\Digital Twin\\dtwinpylib\\dtwinpy\\interfaceDB.py:33\u001b[0m, in \u001b[0;36mDatabase.__init__\u001b[1;34m(self, database_path, event_table, start_time, end_time, copied_realDB)\u001b[0m\n\u001b[0;32m     29\u001b[0m \u001b[39mself\u001b[39m\u001b[39m.\u001b[39mfind_line_ID_start_end()\n\u001b[0;32m     31\u001b[0m \u001b[39m#--- Adjust the start time to always starts with a event 'start'\u001b[39;00m\n\u001b[0;32m     32\u001b[0m \u001b[39m#self.update_start_time()\u001b[39;00m\n\u001b[1;32m---> 33\u001b[0m \u001b[39mself\u001b[39;49m\u001b[39m.\u001b[39;49mupdate_end_time()\n\u001b[0;32m     35\u001b[0m \u001b[39m#--- Calculate the relative time and update timestamp\u001b[39;00m\n\u001b[0;32m     36\u001b[0m \u001b[39mself\u001b[39m\u001b[39m.\u001b[39mupdated_relative_timestamp()\n",
      "File \u001b[1;32mc:\\Users\\pedro\\Github Repositories\\Digital_Twin\\Digital Twin\\dtwinpylib\\dtwinpy\\interfaceDB.py:216\u001b[0m, in \u001b[0;36mDatabase.update_end_time\u001b[1;34m(self)\u001b[0m\n\u001b[0;32m    213\u001b[0m row \u001b[39m=\u001b[39m cursor\u001b[39m.\u001b[39mfetchone()\n\u001b[0;32m    215\u001b[0m \u001b[39m#--- Take the rigth position before that event\u001b[39;00m\n\u001b[1;32m--> 216\u001b[0m started_position \u001b[39m=\u001b[39m row[\u001b[39m0\u001b[39;49m] \u001b[39m# line id\u001b[39;00m\n\u001b[0;32m    217\u001b[0m selected_line_id \u001b[39m=\u001b[39m started_position \u001b[39m-\u001b[39m \u001b[39m1\u001b[39m\n\u001b[0;32m    219\u001b[0m \u001b[39m#--- Changed the pointer?\u001b[39;00m\n",
      "\u001b[1;31mTypeError\u001b[0m: 'NoneType' object is not subscriptable"
     ]
    },
    {
     "data": {
      "text/plain": [
       "<Figure size 640x480 with 0 Axes>"
      ]
     },
     "metadata": {},
     "output_type": "display_data"
    }
   ],
   "source": [
    "mydt = Digital_Twin(name= \"5s_determ_real\", maxparts= 10)\n",
    "mydt.run_digital_model()\n",
    "\n",
    "mydt= Digital_Twin(name= \"5s_determ_real\", copied_realDB= True, Freq_Service=10000, Freq_Sync= 10, Freq_Valid= 30)\n",
    "mydt.run()"
   ]
  }
 ],
 "metadata": {
  "kernelspec": {
   "display_name": "dtwinpyenv-JC8N3fR1",
   "language": "python",
   "name": "python3"
  },
  "language_info": {
   "codemirror_mode": {
    "name": "ipython",
    "version": 3
   },
   "file_extension": ".py",
   "mimetype": "text/x-python",
   "name": "python",
   "nbconvert_exporter": "python",
   "pygments_lexer": "ipython3",
   "version": "3.10.10"
  },
  "orig_nbformat": 4
 },
 "nbformat": 4,
 "nbformat_minor": 2
}
