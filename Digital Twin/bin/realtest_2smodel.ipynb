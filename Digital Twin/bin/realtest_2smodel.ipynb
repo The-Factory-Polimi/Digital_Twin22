{
 "cells": [
  {
   "attachments": {},
   "cell_type": "markdown",
   "metadata": {},
   "source": [
    "# Testing 2s model with Digital Twin Architecture "
   ]
  },
  {
   "attachments": {},
   "cell_type": "markdown",
   "metadata": {},
   "source": [
    "This is the first test running together the physical system and the digital twin. "
   ]
  },
  {
   "cell_type": "code",
   "execution_count": 1,
   "metadata": {},
   "outputs": [],
   "source": [
    "from dtwinpylib.dtwinpy.Digital_Twin import Digital_Twin"
   ]
  },
  {
   "cell_type": "code",
   "execution_count": 2,
   "metadata": {},
   "outputs": [
    {
     "data": {
      "text/markdown": [
       "<span style='color:#7DCEA0'>Digital Twin '2s_determ' created sucessfully at 15 March 14:39:23</span>"
      ],
      "text/plain": [
       "<IPython.core.display.Markdown object>"
      ]
     },
     "metadata": {},
     "output_type": "display_data"
    },
    {
     "name": "stdout",
     "output_type": "stream",
     "text": [
      "--- printing databases paths ---\n",
      "Digital Database: 'databases/2s_determ/digital_database.db'\n",
      "Real Database: 'databases/2s_determ/real_database.db'\n",
      "ID Database: 'databases/2s_determ/ID_database.db'\n"
     ]
    },
    {
     "data": {
      "text/markdown": [
       "<span style='color:#3498DB'>15 March 14:40:23 |[Internal Service] Starting Synchronization</span>"
      ],
      "text/plain": [
       "<IPython.core.display.Markdown object>"
      ]
     },
     "metadata": {},
     "output_type": "display_data"
    },
    {
     "name": "stdout",
     "output_type": "stream",
     "text": [
      "---------- Pointer Status Initial ----------\n",
      "Start Time: 1678887563\n",
      "Start Time ID: None\n",
      "\n",
      "End Time: 1678887623\n",
      "End Time ID: None\n",
      "-------------------------------------\n"
     ]
    },
    {
     "ename": "TypeError",
     "evalue": "'NoneType' object is not subscriptable",
     "output_type": "error",
     "traceback": [
      "\u001b[1;31m---------------------------------------------------------------------------\u001b[0m",
      "\u001b[1;31mTypeError\u001b[0m                                 Traceback (most recent call last)",
      "Cell \u001b[1;32mIn[2], line 2\u001b[0m\n\u001b[0;32m      1\u001b[0m mydt \u001b[39m=\u001b[39m Digital_Twin(name\u001b[39m=\u001b[39m \u001b[39m\"\u001b[39m\u001b[39m2s_determ\u001b[39m\u001b[39m\"\u001b[39m, Freq_Sync\u001b[39m=\u001b[39m \u001b[39m60\u001b[39m, Freq_Valid\u001b[39m=\u001b[39m \u001b[39m120\u001b[39m, Freq_Service\u001b[39m=\u001b[39m \u001b[39m10000\u001b[39m, delta_t_treshold\u001b[39m=\u001b[39m\u001b[39m30\u001b[39m)\n\u001b[1;32m----> 2\u001b[0m mydt\u001b[39m.\u001b[39;49mrun()\n",
      "File \u001b[1;32mc:\\Users\\pedro\\Github Repositories\\Digital_Twin\\Digital Twin\\dtwinpylib\\dtwinpy\\Digital_Twin.py:547\u001b[0m, in \u001b[0;36mDigital_Twin.run\u001b[1;34m(self)\u001b[0m\n\u001b[0;32m    544\u001b[0m \u001b[39mself\u001b[39m\u001b[39m.\u001b[39mUpdate_time_flags()\n\u001b[0;32m    546\u001b[0m \u001b[39m#--- Run the Internal Services (Synchronization and Validation)\u001b[39;00m\n\u001b[1;32m--> 547\u001b[0m \u001b[39mself\u001b[39;49m\u001b[39m.\u001b[39;49mInternal_Services()\n\u001b[0;32m    549\u001b[0m \u001b[39m#--- Run the External Services (RCT path prediction)\u001b[39;00m\n\u001b[0;32m    550\u001b[0m \u001b[39mself\u001b[39m\u001b[39m.\u001b[39mExternal_Services()\n",
      "File \u001b[1;32mc:\\Users\\pedro\\Github Repositories\\Digital_Twin\\Digital Twin\\dtwinpylib\\dtwinpy\\Digital_Twin.py:356\u001b[0m, in \u001b[0;36mDigital_Twin.Internal_Services\u001b[1;34m(self)\u001b[0m\n\u001b[0;32m    352\u001b[0m end_time \u001b[39m=\u001b[39m \u001b[39mround\u001b[39m(\u001b[39mself\u001b[39m\u001b[39m.\u001b[39mnext_Tsync)\n\u001b[0;32m    355\u001b[0m \u001b[39m# -------------- Run Synchronization --------------\u001b[39;00m\n\u001b[1;32m--> 356\u001b[0m \u001b[39mself\u001b[39;49m\u001b[39m.\u001b[39;49mrun_sync(copied_realDB\u001b[39m=\u001b[39;49m \u001b[39mself\u001b[39;49m\u001b[39m.\u001b[39;49mcopied_realDB, start_time\u001b[39m=\u001b[39;49m start_time, end_time\u001b[39m=\u001b[39;49m end_time)\n\u001b[0;32m    357\u001b[0m \u001b[39m# -------------------------------------------------\u001b[39;00m\n\u001b[0;32m    358\u001b[0m \n\u001b[0;32m    359\u001b[0m \n\u001b[0;32m    360\u001b[0m \n\u001b[0;32m    361\u001b[0m \u001b[39m# --- Send data through API\u001b[39;00m\n\u001b[0;32m    362\u001b[0m \u001b[39m# API\u001b[39;00m\n\u001b[0;32m    363\u001b[0m \u001b[39m\u001b[39m\u001b[39m\"\"\"\u001b[39;00m\n\u001b[0;32m    364\u001b[0m \u001b[39msleep(2)\u001b[39;00m\n\u001b[0;32m    365\u001b[0m \u001b[39mrandom_machines = [random.randint(0, 1) for _ in range(5)]\u001b[39;00m\n\u001b[1;32m   (...)\u001b[0m\n\u001b[0;32m    385\u001b[0m \u001b[39m)\u001b[39;00m\n\u001b[0;32m    386\u001b[0m \u001b[39m\"\"\"\u001b[39;00m\n",
      "File \u001b[1;32mc:\\Users\\pedro\\Github Repositories\\Digital_Twin\\Digital Twin\\dtwinpylib\\dtwinpy\\Digital_Twin.py:318\u001b[0m, in \u001b[0;36mDigital_Twin.run_sync\u001b[1;34m(self, repositioning, start_time, end_time, copied_realDB)\u001b[0m\n\u001b[0;32m    303\u001b[0m \u001b[39m\u001b[39m\u001b[39m\"\"\"[OLD] Now we do this when creating the digital twin\u001b[39;00m\n\u001b[0;32m    304\u001b[0m \u001b[39mif self.copied_realDB == True:\u001b[39;00m\n\u001b[0;32m    305\u001b[0m \u001b[39m    \u001b[39;00m\n\u001b[1;32m   (...)\u001b[0m\n\u001b[0;32m    314\u001b[0m \u001b[39m    shutil.copy2(self.database_path, self.real_database_path)\u001b[39;00m\n\u001b[0;32m    315\u001b[0m \u001b[39m\"\"\"\u001b[39;00m\n\u001b[0;32m    317\u001b[0m \u001b[39m#--- Create the synchronizer\u001b[39;00m\n\u001b[1;32m--> 318\u001b[0m synchronizer \u001b[39m=\u001b[39m Synchronizer(digital_model\u001b[39m=\u001b[39;49m \u001b[39mself\u001b[39;49m\u001b[39m.\u001b[39;49mdigital_model, real_database_path\u001b[39m=\u001b[39;49m \u001b[39mself\u001b[39;49m\u001b[39m.\u001b[39;49mreal_database_path, start_time\u001b[39m=\u001b[39;49m start_time, end_time\u001b[39m=\u001b[39;49m end_time, copied_realDB\u001b[39m=\u001b[39;49m \u001b[39mself\u001b[39;49m\u001b[39m.\u001b[39;49mcopied_realDB, generate_digital_model\u001b[39m=\u001b[39;49m \u001b[39mself\u001b[39;49m\u001b[39m.\u001b[39;49mgenerate_digital_model, delta_t_treshold\u001b[39m=\u001b[39;49m \u001b[39mself\u001b[39;49m\u001b[39m.\u001b[39;49mdelta_t_treshold)\n\u001b[0;32m    320\u001b[0m \u001b[39m#--- Run the synchronizer (positioning)\u001b[39;00m\n\u001b[0;32m    321\u001b[0m synchronizer\u001b[39m.\u001b[39mrun(repositioning\u001b[39m=\u001b[39m repositioning)\n",
      "File \u001b[1;32mc:\\Users\\pedro\\Github Repositories\\Digital_Twin\\Digital Twin\\dtwinpylib\\dtwinpy\\synchronizer.py:260\u001b[0m, in \u001b[0;36mSynchronizer.__init__\u001b[1;34m(self, digital_model, real_database_path, start_time, end_time, generate_digital_model, copied_realDB, delta_t_treshold)\u001b[0m\n\u001b[0;32m    257\u001b[0m \u001b[39m#--- Database\u001b[39;00m\n\u001b[0;32m    258\u001b[0m \u001b[39m#self.real_database = real_database\u001b[39;00m\n\u001b[0;32m    259\u001b[0m \u001b[39mself\u001b[39m\u001b[39m.\u001b[39mreal_database_path \u001b[39m=\u001b[39m real_database_path\n\u001b[1;32m--> 260\u001b[0m \u001b[39mself\u001b[39m\u001b[39m.\u001b[39mreal_database \u001b[39m=\u001b[39m Database(database_path\u001b[39m=\u001b[39;49mreal_database_path, event_table\u001b[39m=\u001b[39;49m \u001b[39m\"\u001b[39;49m\u001b[39mreal_log\u001b[39;49m\u001b[39m\"\u001b[39;49m, start_time\u001b[39m=\u001b[39;49m start_time, end_time\u001b[39m=\u001b[39;49m end_time, copied_realDB\u001b[39m=\u001b[39;49m copied_realDB)        \n\u001b[0;32m    261\u001b[0m \u001b[39mself\u001b[39m\u001b[39m.\u001b[39mfull_database \u001b[39m=\u001b[39m \u001b[39mself\u001b[39m\u001b[39m.\u001b[39mreal_database\u001b[39m.\u001b[39mread_store_data_all(\u001b[39m\"\u001b[39m\u001b[39mreal_log\u001b[39m\u001b[39m\"\u001b[39m)\n\u001b[0;32m    264\u001b[0m \u001b[39m#--- Digital Model\u001b[39;00m\n",
      "File \u001b[1;32mc:\\Users\\pedro\\Github Repositories\\Digital_Twin\\Digital Twin\\dtwinpylib\\dtwinpy\\interfaceDB.py:42\u001b[0m, in \u001b[0;36mDatabase.__init__\u001b[1;34m(self, database_path, event_table, start_time, end_time, copied_realDB)\u001b[0m\n\u001b[0;32m     38\u001b[0m \u001b[39mself\u001b[39m\u001b[39m.\u001b[39mfind_line_ID_start_end()\n\u001b[0;32m     40\u001b[0m \u001b[39m#--- Adjust the start time to always starts with a event 'start'\u001b[39;00m\n\u001b[0;32m     41\u001b[0m \u001b[39m#self.update_start_time()\u001b[39;00m\n\u001b[1;32m---> 42\u001b[0m \u001b[39mself\u001b[39;49m\u001b[39m.\u001b[39;49mupdate_end_time()\n\u001b[0;32m     44\u001b[0m \u001b[39m#--- Calculate the relative time and update timestamp\u001b[39;00m\n\u001b[0;32m     45\u001b[0m \u001b[39mself\u001b[39m\u001b[39m.\u001b[39mupdated_relative_timestamp()\n",
      "File \u001b[1;32mc:\\Users\\pedro\\Github Repositories\\Digital_Twin\\Digital Twin\\dtwinpylib\\dtwinpy\\interfaceDB.py:229\u001b[0m, in \u001b[0;36mDatabase.update_end_time\u001b[1;34m(self)\u001b[0m\n\u001b[0;32m    225\u001b[0m row \u001b[39m=\u001b[39m cursor\u001b[39m.\u001b[39mfetchone()\n\u001b[0;32m    227\u001b[0m \u001b[39m#--- Take the rigth position before that event\u001b[39;00m\n\u001b[0;32m    228\u001b[0m \u001b[39m# TODO: Raise a erro condition if row is null\u001b[39;00m\n\u001b[1;32m--> 229\u001b[0m started_position \u001b[39m=\u001b[39m row[\u001b[39m0\u001b[39;49m] \u001b[39m# line id\u001b[39;00m\n\u001b[0;32m    230\u001b[0m selected_line_id \u001b[39m=\u001b[39m started_position \u001b[39m-\u001b[39m \u001b[39m1\u001b[39m\n\u001b[0;32m    232\u001b[0m \u001b[39m#--- Changed the pointer?\u001b[39;00m\n",
      "\u001b[1;31mTypeError\u001b[0m: 'NoneType' object is not subscriptable"
     ]
    }
   ],
   "source": [
    "mydt = Digital_Twin(name= \"2s_determ\", Freq_Sync= 60, Freq_Valid= 120, Freq_Service= 10000, delta_t_treshold=30)\n",
    "mydt.run()"
   ]
  }
 ],
 "metadata": {
  "kernelspec": {
   "display_name": "dtwinpyenv-JC8N3fR1",
   "language": "python",
   "name": "python3"
  },
  "language_info": {
   "codemirror_mode": {
    "name": "ipython",
    "version": 3
   },
   "file_extension": ".py",
   "mimetype": "text/x-python",
   "name": "python",
   "nbconvert_exporter": "python",
   "pygments_lexer": "ipython3",
   "version": "3.10.10"
  },
  "orig_nbformat": 4
 },
 "nbformat": 4,
 "nbformat_minor": 2
}
