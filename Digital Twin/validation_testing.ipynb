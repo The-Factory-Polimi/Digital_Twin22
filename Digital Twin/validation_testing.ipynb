{
 "cells": [
  {
   "attachments": {},
   "cell_type": "markdown",
   "metadata": {},
   "source": [
    "# Validation Testing\n",
    "\n",
    "In this notebook we're going to test the validation procedures, such as Logic (Trace Driven Simulation) and Input (Quasi Trace Driven Simulation). "
   ]
  },
  {
   "attachments": {},
   "cell_type": "markdown",
   "metadata": {},
   "source": [
    "#### Importing"
   ]
  },
  {
   "cell_type": "code",
   "execution_count": 99,
   "metadata": {},
   "outputs": [
    {
     "data": {
      "text/plain": [
       "<module 'dtwinpylib.dtwinpy.Digital_Twin' from 'c:\\\\Users\\\\pedro\\\\Github Repositories\\\\Digital_Twin\\\\Digital Twin\\\\dtwinpylib\\\\dtwinpy\\\\Digital_Twin.py'>"
      ]
     },
     "execution_count": 99,
     "metadata": {},
     "output_type": "execute_result"
    }
   ],
   "source": [
    "from dtwinpylib.dtwinpy.Digital_Twin import Digital_Twin\n",
    "\n",
    "import importlib\n",
    "import dtwinpylib\n",
    "importlib.reload(dtwinpylib.dtwinpy.Digital_Twin) #reload this specifc module to upadte the class"
   ]
  },
  {
   "attachments": {},
   "cell_type": "markdown",
   "metadata": {},
   "source": [
    "### Normal Digital Twin simulation\n",
    "\n",
    "Here we're just going to run a simple simulation using the Digital Twin itself and not just the digital model"
   ]
  },
  {
   "cell_type": "code",
   "execution_count": 7,
   "metadata": {},
   "outputs": [
    {
     "name": "stdout",
     "output_type": "stream",
     "text": [
      "==========  Reading the Model: model_2stations_closed  ==========\n",
      "===> Big Picture\n",
      "Total number of Machines: 2\n",
      "Total number of Queues: 2\n",
      "\n",
      "===>Detailed view of Queues:\n",
      "----------------\n",
      "Queue 1\n",
      "Arc links: [1, 2]\n",
      "Capacity: 10\n",
      "Queue Lenght: 0\n",
      "----------------\n",
      "Queue 2\n",
      "Arc links: [2, 1]\n",
      "Capacity: 5\n",
      "Parts stored: Part 1\n",
      "Parts stored: Part 2\n",
      "Parts stored: Part 3\n",
      "Parts stored: Part 4\n",
      "Queue Lenght: 4\n",
      "\n",
      "===>Detailed view of Machines:\n",
      "----------------\n",
      "> Machine 1\n",
      "--Queue In:--\n",
      "Queue 2\n",
      "--Queue Out:--\n",
      "Queue 1\n",
      "----------------\n",
      "> Machine 2\n",
      "--Queue In:--\n",
      "Queue 1\n",
      "--Queue Out:--\n",
      "Queue 2\n",
      "### ============ Simulation Started ============ ###\n",
      "Time: 0 - [Machine 1] got Part 1 from Queue 2 (capacity= 3)\n",
      "Time: 5 - [Machine 1] put Part 1 in Queue 1 (capacity = 1)\n",
      "Time: 5 - [Machine 1] got Part 2 from Queue 2 (capacity= 2)\n",
      "Time: 5 - [Machine 2] got Part 1 from Queue 1 (capacity= 0)\n",
      "Time: 10 - [Machine 1] put Part 2 in Queue 1 (capacity = 1)\n",
      "Time: 10 - [Machine 1] got Part 3 from Queue 2 (capacity= 1)\n",
      "Time: 10 - [Terminator] xxx Part 1 terminated xxx\n",
      "Time: 10 - [Terminator] Part 5 replaced\n",
      "Time: 10 - [Machine 2] got Part 2 from Queue 1 (capacity= 0)\n",
      "Time: 15 - [Machine 1] put Part 3 in Queue 1 (capacity = 1)\n",
      "Time: 15 - [Machine 1] got Part 4 from Queue 2 (capacity= 1)\n",
      "Time: 15 - [Terminator] xxx Part 2 terminated xxx\n",
      "Time: 15 - [Terminator] Part 6 replaced\n",
      "Time: 15 - [Machine 2] got Part 3 from Queue 1 (capacity= 0)\n",
      "Time: 20 - [Machine 1] put Part 4 in Queue 1 (capacity = 1)\n",
      "Time: 20 - [Machine 1] got Part 5 from Queue 2 (capacity= 1)\n",
      "Time: 20 - [Terminator] xxx Part 3 terminated xxx\n",
      "Time: 20 - [Terminator] Part 7 replaced\n",
      "Time: 20 - [Machine 2] got Part 4 from Queue 1 (capacity= 0)\n",
      "Time: 25 - [Machine 1] put Part 5 in Queue 1 (capacity = 1)\n",
      "Time: 25 - [Machine 1] got Part 6 from Queue 2 (capacity= 1)\n",
      "Time: 25 - [Terminator] xxx Part 4 terminated xxx\n",
      "Time: 25 - [Terminator] Part 8 replaced\n",
      "Time: 25 - [Machine 2] got Part 5 from Queue 1 (capacity= 0)\n",
      "Time: 30 - [Machine 1] put Part 6 in Queue 1 (capacity = 1)\n",
      "Time: 30 - [Machine 1] got Part 7 from Queue 2 (capacity= 1)\n",
      "Time: 30 - [Terminator] xxx Part 5 terminated xxx\n",
      "Time: 30 - [Terminator] Part 9 replaced\n",
      "Time: 30 - [Machine 2] got Part 6 from Queue 1 (capacity= 0)\n",
      "Time: 35 - [Machine 1] put Part 7 in Queue 1 (capacity = 1)\n",
      "Time: 35 - [Machine 1] got Part 8 from Queue 2 (capacity= 1)\n",
      "Time: 35 - [Terminator] xxx Part 6 terminated xxx\n",
      "Time: 35 - [Terminator] Part 10 replaced\n",
      "Time: 35 - [Machine 2] got Part 7 from Queue 1 (capacity= 0)\n",
      "Time: 40 - [Machine 1] put Part 8 in Queue 1 (capacity = 1)\n",
      "Time: 40 - [Machine 1] got Part 9 from Queue 2 (capacity= 1)\n",
      "Time: 40 - [Terminator] xxx Part 7 terminated xxx\n",
      "Time: 40 - [Terminator] Part 11 replaced\n",
      "Time: 40 - [Machine 2] got Part 8 from Queue 1 (capacity= 0)\n",
      "Time: 45 - [Machine 1] put Part 9 in Queue 1 (capacity = 1)\n",
      "Time: 45 - [Machine 1] got Part 10 from Queue 2 (capacity= 1)\n",
      "Time: 45 - [Terminator] xxx Part 8 terminated xxx\n",
      "Time: 45 - [Terminator] Part 12 replaced\n",
      "Time: 45 - [Machine 2] got Part 9 from Queue 1 (capacity= 0)\n",
      "Time: 50 - [Machine 1] put Part 10 in Queue 1 (capacity = 1)\n",
      "Time: 50 - [Machine 1] got Part 11 from Queue 2 (capacity= 1)\n",
      "Time: 50 - [Terminator] xxx Part 9 terminated xxx\n",
      "Time: 50 - [Terminator] Part 13 replaced\n",
      "Time: 50 - [Machine 2] got Part 10 from Queue 1 (capacity= 0)\n",
      "Time: 55 - [Machine 1] put Part 11 in Queue 1 (capacity = 1)\n",
      "Time: 55 - [Machine 1] got Part 12 from Queue 2 (capacity= 1)\n",
      "Time: 55 - [Terminator] xxx Part 10 terminated xxx\n",
      "Time: 55 - [Terminator] Part 14 replaced\n",
      "Time: 55 - [Machine 2] got Part 11 from Queue 1 (capacity= 0)\n",
      "Time: 60 - [Machine 1] put Part 12 in Queue 1 (capacity = 1)\n",
      "Time: 60 - [Machine 1] got Part 13 from Queue 2 (capacity= 1)\n",
      "Time: 60 - [Terminator] xxx Part 11 terminated xxx\n",
      "Time: 60 - [Terminator] Part 15 replaced\n",
      "Time: 60 - [Machine 2] got Part 12 from Queue 1 (capacity= 0)\n",
      "Time: 65 - [Machine 1] put Part 13 in Queue 1 (capacity = 1)\n",
      "Time: 65 - [Machine 1] got Part 14 from Queue 2 (capacity= 1)\n",
      "Time: 65 - [Terminator] xxx Part 12 terminated xxx\n",
      "Time: 65 - [Terminator] Part 16 replaced\n",
      "Time: 65 - [Machine 2] got Part 13 from Queue 1 (capacity= 0)\n",
      "Time: 70 - [Machine 1] put Part 14 in Queue 1 (capacity = 1)\n",
      "Time: 70 - [Machine 1] got Part 15 from Queue 2 (capacity= 1)\n",
      "Time: 70 - [Terminator] xxx Part 13 terminated xxx\n",
      "Time: 70 - [Terminator] Part 17 replaced\n",
      "Time: 70 - [Machine 2] got Part 14 from Queue 1 (capacity= 0)\n",
      "Time: 75 - [Machine 1] put Part 15 in Queue 1 (capacity = 1)\n",
      "Time: 75 - [Machine 1] got Part 16 from Queue 2 (capacity= 1)\n",
      "Time: 75 - [Terminator] xxx Part 14 terminated xxx\n",
      "Time: 75 - [Terminator] Part 18 replaced\n",
      "Time: 75 - [Machine 2] got Part 15 from Queue 1 (capacity= 0)\n",
      "Time: 80 - [Machine 1] put Part 16 in Queue 1 (capacity = 1)\n",
      "Time: 80 - [Machine 1] got Part 17 from Queue 2 (capacity= 1)\n",
      "Time: 80 - [Terminator] xxx Part 15 terminated xxx\n",
      "Time: 80 - [Terminator] Part 19 replaced\n",
      "Time: 80 - [Machine 2] got Part 16 from Queue 1 (capacity= 0)\n",
      "Time: 85 - [Machine 1] put Part 17 in Queue 1 (capacity = 1)\n",
      "Time: 85 - [Machine 1] got Part 18 from Queue 2 (capacity= 1)\n",
      "Time: 85 - [Terminator] xxx Part 16 terminated xxx\n",
      "Time: 85 - [Terminator] Part 20 replaced\n",
      "Time: 85 - [Machine 2] got Part 17 from Queue 1 (capacity= 0)\n",
      "Time: 90 - [Machine 1] put Part 18 in Queue 1 (capacity = 1)\n",
      "Time: 90 - [Machine 1] got Part 19 from Queue 2 (capacity= 1)\n",
      "Time: 90 - [Terminator] xxx Part 17 terminated xxx\n",
      "Time: 90 - [Terminator] Part 21 replaced\n",
      "Time: 90 - [Machine 2] got Part 18 from Queue 1 (capacity= 0)\n",
      "Time: 95 - [Machine 1] put Part 19 in Queue 1 (capacity = 1)\n",
      "Time: 95 - [Machine 1] got Part 20 from Queue 2 (capacity= 1)\n",
      "Time: 95 - [Terminator] xxx Part 18 terminated xxx\n",
      "Time: 95 - [Terminator] Part 22 replaced\n",
      "Time: 95 - [Machine 2] got Part 19 from Queue 1 (capacity= 0)\n",
      "Time: 100 - [Machine 1] put Part 20 in Queue 1 (capacity = 1)\n",
      "Time: 100 - [Machine 1] got Part 21 from Queue 2 (capacity= 1)\n",
      "Time: 100 - [Terminator] xxx Part 19 terminated xxx\n",
      "Time: 100 - [Terminator] Part 23 replaced\n",
      "Time: 100 - [Machine 2] got Part 20 from Queue 1 (capacity= 0)\n",
      "Time: 105 - [Machine 1] put Part 21 in Queue 1 (capacity = 1)\n",
      "Time: 105 - [Machine 1] got Part 22 from Queue 2 (capacity= 1)\n",
      "Time: 105 - [Terminator] xxx Part 20 terminated xxx\n",
      "Time: 105 - [Terminator] Part 24 replaced\n",
      "Time: 105 - [Machine 2] got Part 21 from Queue 1 (capacity= 0)\n",
      "Time: 110 - [Machine 1] put Part 22 in Queue 1 (capacity = 1)\n",
      "Time: 110 - [Machine 1] got Part 23 from Queue 2 (capacity= 1)\n",
      "Time: 110 - [Terminator] xxx Part 21 terminated xxx\n",
      "Time: 110 - [Terminator] Part 25 replaced\n",
      "Time: 110 - [Machine 2] got Part 22 from Queue 1 (capacity= 0)\n",
      "Time: 115 - [Machine 1] put Part 23 in Queue 1 (capacity = 1)\n",
      "Time: 115 - [Machine 1] got Part 24 from Queue 2 (capacity= 1)\n",
      "Time: 115 - [Terminator] xxx Part 22 terminated xxx\n",
      "Time: 115 - [Terminator] Part 26 replaced\n",
      "Time: 115 - [Machine 2] got Part 23 from Queue 1 (capacity= 0)\n",
      "Time: 120 - [Machine 1] put Part 24 in Queue 1 (capacity = 1)\n",
      "Time: 120 - [Machine 1] got Part 25 from Queue 2 (capacity= 1)\n",
      "Time: 120 - [Terminator] xxx Part 23 terminated xxx\n",
      "Time: 120 - [Terminator] Part 27 replaced\n",
      "Time: 120 - [Machine 2] got Part 24 from Queue 1 (capacity= 0)\n",
      "Time: 125 - [Machine 1] put Part 25 in Queue 1 (capacity = 1)\n",
      "Time: 125 - [Machine 1] got Part 26 from Queue 2 (capacity= 1)\n",
      "Time: 125 - [Terminator] xxx Part 24 terminated xxx\n",
      "Time: 125 - [Terminator] Part 28 replaced\n",
      "Time: 125 - [Machine 2] got Part 25 from Queue 1 (capacity= 0)\n",
      "Time: 130 - [Machine 1] put Part 26 in Queue 1 (capacity = 1)\n",
      "Time: 130 - [Machine 1] got Part 27 from Queue 2 (capacity= 1)\n",
      "Time: 130 - [Terminator] xxx Part 25 terminated xxx\n",
      "Time: 130 - [Terminator] Part 29 replaced\n",
      "Time: 130 - [Machine 2] got Part 26 from Queue 1 (capacity= 0)\n",
      "Time: 135 - [Machine 1] put Part 27 in Queue 1 (capacity = 1)\n",
      "Time: 135 - [Machine 1] got Part 28 from Queue 2 (capacity= 1)\n",
      "Time: 135 - [Terminator] xxx Part 26 terminated xxx\n",
      "Time: 135 - [Terminator] Part 30 replaced\n",
      "Time: 135 - [Machine 2] got Part 27 from Queue 1 (capacity= 0)\n",
      "Time: 140 - [Machine 1] put Part 28 in Queue 1 (capacity = 1)\n",
      "Time: 140 - [Machine 1] got Part 29 from Queue 2 (capacity= 1)\n",
      "Time: 140 - [Terminator] xxx Part 27 terminated xxx\n",
      "Time: 140 - [Terminator] Part 31 replaced\n",
      "Time: 140 - [Machine 2] got Part 28 from Queue 1 (capacity= 0)\n",
      "Time: 145 - [Machine 1] put Part 29 in Queue 1 (capacity = 1)\n",
      "Time: 145 - [Machine 1] got Part 30 from Queue 2 (capacity= 1)\n",
      "Time: 145 - [Terminator] xxx Part 28 terminated xxx\n",
      "Time: 145 - [Terminator] Part 32 replaced\n",
      "Time: 145 - [Machine 2] got Part 29 from Queue 1 (capacity= 0)\n",
      "Time: 150 - [Machine 1] put Part 30 in Queue 1 (capacity = 1)\n",
      "Time: 150 - [Machine 1] got Part 31 from Queue 2 (capacity= 1)\n",
      "Time: 150 - [Terminator] xxx Part 29 terminated xxx\n",
      "Time: 150 - [Terminator] Part 33 replaced\n",
      "Time: 150 - [Machine 2] got Part 30 from Queue 1 (capacity= 0)\n",
      "Time: 155 - [Machine 1] put Part 31 in Queue 1 (capacity = 1)\n",
      "Time: 155 - [Machine 1] got Part 32 from Queue 2 (capacity= 1)\n",
      "Time: 155 - [Terminator] xxx Part 30 terminated xxx\n",
      "Time: 155 - [Terminator] Part 34 replaced\n",
      "Time: 155 - [Machine 2] got Part 31 from Queue 1 (capacity= 0)\n",
      "Time: 160 - [Machine 1] put Part 32 in Queue 1 (capacity = 1)\n",
      "Time: 160 - [Machine 1] got Part 33 from Queue 2 (capacity= 1)\n",
      "Time: 160 - [Terminator] xxx Part 31 terminated xxx\n",
      "Time: 160 - [Terminator] Part 35 replaced\n",
      "Time: 160 - [Machine 2] got Part 32 from Queue 1 (capacity= 0)\n",
      "Time: 165 - [Machine 1] put Part 33 in Queue 1 (capacity = 1)\n",
      "Time: 165 - [Machine 1] got Part 34 from Queue 2 (capacity= 1)\n",
      "Time: 165 - [Terminator] xxx Part 32 terminated xxx\n",
      "Time: 165 - [Terminator] Part 36 replaced\n",
      "Time: 165 - [Machine 2] got Part 33 from Queue 1 (capacity= 0)\n",
      "Time: 170 - [Machine 1] put Part 34 in Queue 1 (capacity = 1)\n",
      "Time: 170 - [Machine 1] got Part 35 from Queue 2 (capacity= 1)\n",
      "Time: 170 - [Terminator] xxx Part 33 terminated xxx\n",
      "Time: 170 - [Terminator] Part 37 replaced\n",
      "Time: 170 - [Machine 2] got Part 34 from Queue 1 (capacity= 0)\n",
      "Time: 175 - [Machine 1] put Part 35 in Queue 1 (capacity = 1)\n",
      "Time: 175 - [Machine 1] got Part 36 from Queue 2 (capacity= 1)\n",
      "Time: 175 - [Terminator] xxx Part 34 terminated xxx\n",
      "Time: 175 - [Terminator] Part 38 replaced\n",
      "Time: 175 - [Machine 2] got Part 35 from Queue 1 (capacity= 0)\n",
      "Time: 180 - [Machine 1] put Part 36 in Queue 1 (capacity = 1)\n",
      "Time: 180 - [Machine 1] got Part 37 from Queue 2 (capacity= 1)\n",
      "Time: 180 - [Terminator] xxx Part 35 terminated xxx\n",
      "Time: 180 - [Terminator] Part 39 replaced\n",
      "Time: 180 - [Machine 2] got Part 36 from Queue 1 (capacity= 0)\n",
      "Time: 185 - [Machine 1] put Part 37 in Queue 1 (capacity = 1)\n",
      "Time: 185 - [Machine 1] got Part 38 from Queue 2 (capacity= 1)\n",
      "Time: 185 - [Terminator] xxx Part 36 terminated xxx\n",
      "Time: 185 - [Terminator] Part 40 replaced\n",
      "Time: 185 - [Machine 2] got Part 37 from Queue 1 (capacity= 0)\n",
      "Time: 190 - [Machine 1] put Part 38 in Queue 1 (capacity = 1)\n",
      "Time: 190 - [Machine 1] got Part 39 from Queue 2 (capacity= 1)\n",
      "Time: 190 - [Terminator] xxx Part 37 terminated xxx\n",
      "Time: 190 - [Terminator] Part 41 replaced\n",
      "Time: 190 - [Machine 2] got Part 38 from Queue 1 (capacity= 0)\n",
      "Time: 195 - [Machine 1] put Part 39 in Queue 1 (capacity = 1)\n",
      "Time: 195 - [Machine 1] got Part 40 from Queue 2 (capacity= 1)\n",
      "Time: 195 - [Terminator] xxx Part 38 terminated xxx\n",
      "Time: 195 - [Terminator] Part 42 replaced\n",
      "Time: 195 - [Machine 2] got Part 39 from Queue 1 (capacity= 0)\n",
      "Time: 200 - [Machine 1] put Part 40 in Queue 1 (capacity = 1)\n",
      "Time: 200 - [Machine 1] got Part 41 from Queue 2 (capacity= 1)\n",
      "Time: 200 - [Terminator] xxx Part 39 terminated xxx\n",
      "Time: 200 - [Terminator] Part 43 replaced\n",
      "Time: 200 - [Machine 2] got Part 40 from Queue 1 (capacity= 0)\n",
      "### ============ Simulation Done ============ ###\n",
      "######## Running Analysis ########\n",
      "Number of Parts finished: 39\n",
      "Total time of Simulation: 200\n",
      "List of IDs (AS IS): [1, 2, 3, 4, 5, 6, 7, 8, 9, 10, 11, 12, 13, 14, 15, 16, 17, 18, 19, 20, 21, 22, 23, 24, 25, 26, 27, 28, 29, 30, 31, 32, 33, 34, 35, 36, 37, 38, 39]\n",
      "-- All Analysis Selected --\n"
     ]
    },
    {
     "data": {
      "image/png": "[encoded data removed]",
      "text/plain": [
       "<Figure size 640x480 with 1 Axes>"
      ]
     },
     "metadata": {},
     "output_type": "display_data"
    },
    {
     "name": "stdout",
     "output_type": "stream",
     "text": [
      ">>> *** SYSTEM THROUGHPUT: 0.195 [parts / time unit] ***\n",
      "######## Running Analysis ########\n",
      "Number of Parts finished: 39\n",
      "Total time of Simulation: 200\n",
      "List of IDs (AS IS): [1, 2, 3, 4, 5, 6, 7, 8, 9, 10, 11, 12, 13, 14, 15, 16, 17, 18, 19, 20, 21, 22, 23, 24, 25, 26, 27, 28, 29, 30, 31, 32, 33, 34, 35, 36, 37, 38, 39]\n",
      ">>> Cycle Time of each part:\n",
      "[10, 15, 20, 25, 20, 20, 20, 20, 20, 20, 20, 20, 20, 20, 20, 20, 20, 20, 20, 20, 20, 20, 20, 20, 20, 20, 20, 20, 20, 20, 20, 20, 20, 20, 20, 20, 20, 20, 20]\n",
      "- Maximum Cycle Time: 25\n",
      "- Minimum Cycle Time: 10\n",
      "*** AVERAGE CYCLE TIME OF THE SYSTEM: 19.743589743589745 [time unit]***\n"
     ]
    },
    {
     "data": {
      "image/png": "[encoded data removed]",
      "text/plain": [
       "<Figure size 640x480 with 1 Axes>"
      ]
     },
     "metadata": {},
     "output_type": "display_data"
    },
    {
     "data": {
      "text/plain": [
       "<Figure size 640x480 with 0 Axes>"
      ]
     },
     "metadata": {},
     "output_type": "display_data"
    }
   ],
   "source": [
    "digital_twin_1 = Digital_Twin(name= \"model_2stations_closed\",\n",
    "    model_path= \"models/model_2stations_closed.json\",\n",
    "    database_path=\"databases/2stations_closed_db.db\",\n",
    "    until= 201, initial=True )\n",
    "\n",
    "digital_twin_1.run_digital_model()"
   ]
  },
  {
   "attachments": {},
   "cell_type": "markdown",
   "metadata": {},
   "source": [
    "## Testing Allocation of processes time for Part (ptime_TDS) and for Machine (ptime_qTDS)"
   ]
  },
  {
   "attachments": {},
   "cell_type": "markdown",
   "metadata": {},
   "source": [
    "First, initiate the Digital Twin and create the digital model"
   ]
  },
  {
   "cell_type": "code",
   "execution_count": 114,
   "metadata": {},
   "outputs": [
    {
     "name": "stdout",
     "output_type": "stream",
     "text": [
      "==========  Reading the Model: model_2stations_closed  ==========\n",
      "===> Big Picture\n",
      "Total number of Machines: 2\n",
      "Total number of Queues: 2\n",
      "\n",
      "===>Detailed view of Queues:\n",
      "----------------\n",
      "Queue 1\n",
      "Arc links: [1, 2]\n",
      "Capacity: 10\n",
      "Queue Lenght: 0\n",
      "----------------\n",
      "Queue 2\n",
      "Arc links: [2, 1]\n",
      "Capacity: 5\n",
      "Parts stored: Part 1\n",
      "Part Processes for Trace Driven Simulation: None\n",
      "Parts stored: Part 2\n",
      "Part Processes for Trace Driven Simulation: None\n",
      "Parts stored: Part 3\n",
      "Part Processes for Trace Driven Simulation: None\n",
      "Parts stored: Part 4\n",
      "Part Processes for Trace Driven Simulation: None\n",
      "Queue Lenght: 4\n",
      "\n",
      "===>Detailed view of Machines:\n",
      "----------------\n",
      "> Machine 1\n",
      "--Queue In:--\n",
      "Queue 2\n",
      "--Queue Out:--\n",
      "Queue 1\n",
      "---Process Time for quasi Trace Driven Simulation---\n",
      "None\n",
      "----------------\n",
      "> Machine 2\n",
      "--Queue In:--\n",
      "Queue 1\n",
      "--Queue Out:--\n",
      "Queue 2\n",
      "---Process Time for quasi Trace Driven Simulation---\n",
      "None\n"
     ]
    }
   ],
   "source": [
    "digital_twin = Digital_Twin(name= \"model_2stations_closed\",\n",
    "    model_path= \"models/model_2stations_closed.json\",\n",
    "    database_path=\"databases/2stations_closed_db.db\",\n",
    "    until= 4000, initial=True, maxparts=4)\n",
    "\n",
    "digital_model = digital_twin.generate_digital_model()"
   ]
  },
  {
   "attachments": {},
   "cell_type": "markdown",
   "metadata": {},
   "source": [
    "Create the vectors with the process time trace for each part (Trace Driven Simulation)\n",
    "> The process time that the part need for each \"cluster\" of machines"
   ]
  },
  {
   "cell_type": "code",
   "execution_count": 115,
   "metadata": {},
   "outputs": [],
   "source": [
    "matrix_ptime_TDS = [\n",
    "    [10,10],\n",
    "    [15,15],\n",
    "    [20,20]\n",
    "]"
   ]
  },
  {
   "attachments": {},
   "cell_type": "markdown",
   "metadata": {},
   "source": [
    "Create the vectors with the process time for each machine (quasi Trace Driven Simulation)\n",
    "> The process time that the machine need for each part being processed"
   ]
  },
  {
   "cell_type": "code",
   "execution_count": 116,
   "metadata": {},
   "outputs": [],
   "source": [
    "matrix_ptime_qTDS = [\n",
    "    [1000,100,100,100],\n",
    "    [2000,200,200,200],\n",
    "]"
   ]
  },
  {
   "attachments": {},
   "cell_type": "markdown",
   "metadata": {},
   "source": [
    "Run the validation to do the allocation and run the simulation"
   ]
  },
  {
   "cell_type": "code",
   "execution_count": 117,
   "metadata": {},
   "outputs": [
    {
     "ename": "IndexError",
     "evalue": "list index out of range",
     "output_type": "error",
     "traceback": [
      "\u001b[1;31m---------------------------------------------------------------------------\u001b[0m",
      "\u001b[1;31mIndexError\u001b[0m                                Traceback (most recent call last)",
      "Cell \u001b[1;32mIn[117], line 1\u001b[0m\n\u001b[1;32m----> 1\u001b[0m digital_twin\u001b[39m.\u001b[39;49mrun_validation(matrix_ptime_qTDS\u001b[39m=\u001b[39;49mmatrix_ptime_qTDS, matrix_ptime_TDS\u001b[39m=\u001b[39;49mmatrix_ptime_TDS)\n",
      "File \u001b[1;32mc:\\Users\\pedro\\Github Repositories\\Digital_Twin\\Digital Twin\\dtwinpylib\\dtwinpy\\Digital_Twin.py:55\u001b[0m, in \u001b[0;36mDigital_Twin.run_validation\u001b[1;34m(self, matrix_ptime_qTDS, matrix_ptime_TDS)\u001b[0m\n\u001b[0;32m     52\u001b[0m     machine\u001b[39m.\u001b[39mset_validator(validator_logic)\n\u001b[0;32m     54\u001b[0m \u001b[39m#--- Trace Driven Simulation (TDS)\u001b[39;00m\n\u001b[1;32m---> 55\u001b[0m validator_logic\u001b[39m.\u001b[39;49mallocate()\n\u001b[0;32m     56\u001b[0m validator_logic\u001b[39m.\u001b[39mrun()\n\u001b[0;32m     58\u001b[0m \u001b[39m#--- quasi Trace Driven Simulation (qTDS)\u001b[39;00m\n",
      "File \u001b[1;32mc:\\Users\\pedro\\Github Repositories\\Digital_Twin\\Digital Twin\\dtwinpylib\\dtwinpy\\validator.py:57\u001b[0m, in \u001b[0;36mValidator.allocate\u001b[1;34m(self)\u001b[0m\n\u001b[0;32m     54\u001b[0m \u001b[39mdef\u001b[39;00m \u001b[39mallocate\u001b[39m(\u001b[39mself\u001b[39m):\n\u001b[0;32m     55\u001b[0m     \u001b[39mif\u001b[39;00m \u001b[39mself\u001b[39m\u001b[39m.\u001b[39msimtype \u001b[39m==\u001b[39m \u001b[39m\"\u001b[39m\u001b[39mTDS\u001b[39m\u001b[39m\"\u001b[39m:\n\u001b[0;32m     56\u001b[0m         \u001b[39m#--- Set the TDS for each part\u001b[39;00m\n\u001b[1;32m---> 57\u001b[0m         \u001b[39mself\u001b[39;49m\u001b[39m.\u001b[39;49mset_TDS()\n\u001b[0;32m     59\u001b[0m     \u001b[39mif\u001b[39;00m \u001b[39mself\u001b[39m\u001b[39m.\u001b[39msimtype \u001b[39m==\u001b[39m \u001b[39m\"\u001b[39m\u001b[39mqTDS\u001b[39m\u001b[39m\"\u001b[39m:\n\u001b[0;32m     60\u001b[0m         \u001b[39m#--- Set the qTDS for each machine and also the simtype\u001b[39;00m\n\u001b[0;32m     61\u001b[0m         \u001b[39mself\u001b[39m\u001b[39m.\u001b[39mset_qTDS()\n",
      "File \u001b[1;32mc:\\Users\\pedro\\Github Repositories\\Digital_Twin\\Digital Twin\\dtwinpylib\\dtwinpy\\validator.py:46\u001b[0m, in \u001b[0;36mValidator.set_TDS\u001b[1;34m(self)\u001b[0m\n\u001b[0;32m     44\u001b[0m \u001b[39m#--- give for each part the ptime_TDS list \u001b[39;00m\n\u001b[0;32m     45\u001b[0m \u001b[39mfor\u001b[39;00m part \u001b[39min\u001b[39;00m part_list:\n\u001b[1;32m---> 46\u001b[0m     current_ptime_TDS \u001b[39m=\u001b[39m \u001b[39mself\u001b[39;49m\u001b[39m.\u001b[39;49mget_part_TDS(part)\n\u001b[0;32m     47\u001b[0m     part\u001b[39m.\u001b[39mset_ptime_TDS(current_ptime_TDS)\n\u001b[0;32m     49\u001b[0m \u001b[39m#--- Set the simulation type for all the machines\u001b[39;00m\n",
      "File \u001b[1;32mc:\\Users\\pedro\\Github Repositories\\Digital_Twin\\Digital Twin\\dtwinpylib\\dtwinpy\\validator.py:15\u001b[0m, in \u001b[0;36mValidator.get_part_TDS\u001b[1;34m(self, part)\u001b[0m\n\u001b[0;32m     14\u001b[0m \u001b[39mdef\u001b[39;00m \u001b[39mget_part_TDS\u001b[39m(\u001b[39mself\u001b[39m, part):\n\u001b[1;32m---> 15\u001b[0m     \u001b[39mreturn\u001b[39;00m \u001b[39mself\u001b[39;49m\u001b[39m.\u001b[39;49mmatrix_ptime_TDS[part\u001b[39m.\u001b[39;49mget_id() \u001b[39m-\u001b[39;49m \u001b[39m1\u001b[39;49m]\n",
      "\u001b[1;31mIndexError\u001b[0m: list index out of range"
     ]
    }
   ],
   "source": [
    "digital_twin.run_validation(matrix_ptime_qTDS=matrix_ptime_qTDS, matrix_ptime_TDS=matrix_ptime_TDS)"
   ]
  },
  {
   "attachments": {},
   "cell_type": "markdown",
   "metadata": {},
   "source": [
    "Use verbose to see if the allocation was done correctly"
   ]
  },
  {
   "cell_type": "code",
   "execution_count": 73,
   "metadata": {},
   "outputs": [
    {
     "name": "stdout",
     "output_type": "stream",
     "text": [
      "==========  Reading the Model: model_2stations_closed  ==========\n",
      "===> Big Picture\n",
      "Total number of Machines: 2\n",
      "Total number of Queues: 2\n",
      "\n",
      "===>Detailed view of Queues:\n",
      "----------------\n",
      "Queue 1\n",
      "Arc links: [1, 2]\n",
      "Capacity: 10\n",
      "Queue Lenght: 0\n",
      "----------------\n",
      "Queue 2\n",
      "Arc links: [2, 1]\n",
      "Capacity: 5\n",
      "Parts stored: Part 7\n",
      "Part Processes for Trace Driven Simulation: None\n",
      "Parts stored: Part 8\n",
      "Part Processes for Trace Driven Simulation: None\n",
      "Queue Lenght: 2\n",
      "\n",
      "===>Detailed view of Machines:\n",
      "----------------\n",
      "> Machine 1\n",
      "--Queue In:--\n",
      "Queue 2\n",
      "--Queue Out:--\n",
      "Queue 1\n",
      "---Process Time for quasi Trace Driven Simulation---\n",
      "[1000, 100, 100, 100]\n",
      "----------------\n",
      "> Machine 2\n",
      "--Queue In:--\n",
      "Queue 1\n",
      "--Queue Out:--\n",
      "Queue 2\n",
      "---Process Time for quasi Trace Driven Simulation---\n",
      "[2000, 200, 200, 200]\n"
     ]
    }
   ],
   "source": [
    "digital_model.verbose()"
   ]
  }
 ],
 "metadata": {
  "kernelspec": {
   "display_name": "DTvirtenv-blc9_2om",
   "language": "python",
   "name": "python3"
  },
  "language_info": {
   "codemirror_mode": {
    "name": "ipython",
    "version": 3
   },
   "file_extension": ".py",
   "mimetype": "text/x-python",
   "name": "python",
   "nbconvert_exporter": "python",
   "pygments_lexer": "ipython3",
   "version": "3.10.10"
  },
  "orig_nbformat": 4,
  "vscode": {
   "interpreter": {
    "hash": "c4751d265fb18a2f26c44dfa1175ffe09959e8098aa26e65ced0a27c013824a8"
   }
  }
 },
 "nbformat": 4,
 "nbformat_minor": 2
}
