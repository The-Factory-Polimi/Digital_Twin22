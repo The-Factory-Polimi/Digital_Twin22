{
 "cells": [
  {
   "attachments": {},
   "cell_type": "markdown",
   "metadata": {},
   "source": [
    "# Simple Model Testing\n",
    "This notebook aims to test the digital model in simple and isolated scenarios in order to validate that the implementation logic is following the correct assumptions of allocation (`get` and `put`) "
   ]
  },
  {
   "attachments": {},
   "cell_type": "markdown",
   "metadata": {},
   "source": [
    "First things firts, Importing:"
   ]
  },
  {
   "cell_type": "code",
   "execution_count": 8,
   "metadata": {},
   "outputs": [
    {
     "data": {
      "text/plain": [
       "<module 'dtwinpylib.dtwinpy.digital_model' from 'c:\\\\Users\\\\pedro\\\\Github Repositories\\\\Digital_Twin\\\\Digital Twin\\\\dtwinpylib\\\\dtwinpy\\\\digital_model.py'>"
      ]
     },
     "execution_count": 8,
     "metadata": {},
     "output_type": "execute_result"
    }
   ],
   "source": [
    "from dtwinpylib.dtwinpy.digital_model import Model\n",
    "\n",
    "import importlib\n",
    "import dtwinpylib\n",
    "importlib.reload(dtwinpylib.dtwinpy.digital_model) #reload this specifc module to upadte the class"
   ]
  },
  {
   "attachments": {},
   "cell_type": "markdown",
   "metadata": {},
   "source": [
    "## Multiple Queues to One Machine ( `get`)"
   ]
  },
  {
   "attachments": {},
   "cell_type": "markdown",
   "metadata": {},
   "source": [
    "### Case 1: Q1 = [P1], Q2 = [P2], Q3 = [P3]"
   ]
  },
  {
   "cell_type": "code",
   "execution_count": 10,
   "metadata": {},
   "outputs": [
    {
     "name": "stdout",
     "output_type": "stream",
     "text": [
      "==========  Reading the Model: model_case1  ==========\n",
      "===> Big Picture\n",
      "Total number of Machines: 4\n",
      "Total number of Queues: 3\n",
      "\n",
      "===>Detailed view of Queues:\n",
      "----------------\n",
      "Queue 1\n",
      "\n",
      "--Intrinsic Properties--\n",
      "Arc links: [1, 4]\n",
      "Capacity: 10\n",
      "\n",
      "--Current Status--\n",
      "Parts stored: Part 1\n",
      "Queue Lenght: 1\n",
      "----------------\n",
      "----------------\n",
      "Queue 2\n",
      "\n",
      "--Intrinsic Properties--\n",
      "Arc links: [2, 4]\n",
      "Capacity: 10\n",
      "\n",
      "--Current Status--\n",
      "Parts stored: Part 2\n",
      "Queue Lenght: 1\n",
      "----------------\n",
      "----------------\n",
      "Queue 3\n",
      "\n",
      "--Intrinsic Properties--\n",
      "Arc links: [3, 4]\n",
      "Capacity: 10\n",
      "\n",
      "--Current Status--\n",
      "Parts stored: Part 3\n",
      "Queue Lenght: 1\n",
      "----------------\n",
      "\n",
      "===>Detailed view of Machines:\n",
      "----------------\n",
      "> Machine 1\n",
      "--Queue In:--\n",
      "None\n",
      "--Queue Out:--\n",
      "Queue 1\n",
      "----------------\n",
      "> Machine 2\n",
      "--Queue In:--\n",
      "None\n",
      "--Queue Out:--\n",
      "Queue 2\n",
      "----------------\n",
      "> Machine 3\n",
      "--Queue In:--\n",
      "None\n",
      "--Queue Out:--\n",
      "Queue 3\n",
      "----------------\n",
      "> Machine 4\n",
      "--Queue In:--\n",
      "Queue 1\n",
      "Queue 2\n",
      "Queue 3\n",
      "--Queue Out:--\n",
      "None\n",
      "### Simulation Done ###\n"
     ]
    }
   ],
   "source": [
    "model_multiple2one_case1_path = \"models/models_simple/models_multiple_one/model_case1.json\"\n",
    "database_multiple2one_case1_path = \"databases/database_simple/database_multiple_one/database_case1.db\"\n",
    "model_multiple2one_case1 = Model(name= \"model_case1\",model_path= model_multiple2one_case1_path, database_path=database_multiple2one_case1_path, until= 201, initial=True, loop_type= \"open\")\n",
    "model_multiple2one_case1.model_translator()\n",
    "model_multiple2one_case1.verbose()\n",
    "model_multiple2one_case1.run()"
   ]
  }
 ],
 "metadata": {
  "kernelspec": {
   "display_name": "DTvirtenv-blc9_2om",
   "language": "python",
   "name": "python3"
  },
  "language_info": {
   "codemirror_mode": {
    "name": "ipython",
    "version": 3
   },
   "file_extension": ".py",
   "mimetype": "text/x-python",
   "name": "python",
   "nbconvert_exporter": "python",
   "pygments_lexer": "ipython3",
   "version": "3.10.9"
  },
  "orig_nbformat": 4,
  "vscode": {
   "interpreter": {
    "hash": "c4751d265fb18a2f26c44dfa1175ffe09959e8098aa26e65ced0a27c013824a8"
   }
  }
 },
 "nbformat": 4,
 "nbformat_minor": 2
}
