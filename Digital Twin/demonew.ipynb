{
 "cells": [
  {
   "cell_type": "code",
   "execution_count": 1,
   "metadata": {},
   "outputs": [
    {
     "data": {
      "text/plain": [
       "<module 'dtwinpylib.dtwinpy.Digital_Twin' from 'c:\\\\Users\\\\pedro\\\\Github Repositories\\\\Digital_Twin\\\\Digital Twin\\\\dtwinpylib\\\\dtwinpy\\\\Digital_Twin.py'>"
      ]
     },
     "execution_count": 1,
     "metadata": {},
     "output_type": "execute_result"
    }
   ],
   "source": [
    "from dtwinpylib.dtwinpy.Digital_Twin import Digital_Twin\n",
    "\n",
    "import importlib\n",
    "import dtwinpylib\n",
    "importlib.reload(dtwinpylib.dtwinpy.Digital_Twin) #reload this specifc module to upadte the class"
   ]
  },
  {
   "cell_type": "code",
   "execution_count": 2,
   "metadata": {},
   "outputs": [
    {
     "ename": "FileNotFoundError",
     "evalue": "[Errno 2] No such file or directory: 'models/demo_dist.json'",
     "output_type": "error",
     "traceback": [
      "\u001b[1;31m---------------------------------------------------------------------------\u001b[0m",
      "\u001b[1;31mFileNotFoundError\u001b[0m                         Traceback (most recent call last)",
      "Cell \u001b[1;32mIn[2], line 3\u001b[0m\n\u001b[0;32m      1\u001b[0m name \u001b[39m=\u001b[39m \u001b[39m\"\u001b[39m\u001b[39mdemo_dist\u001b[39m\u001b[39m\"\u001b[39m\n\u001b[0;32m      2\u001b[0m mydt \u001b[39m=\u001b[39m Digital_Twin(name\u001b[39m=\u001b[39mname, maxparts\u001b[39m=\u001b[39m\u001b[39m50\u001b[39m)\n\u001b[1;32m----> 3\u001b[0m mydt\u001b[39m.\u001b[39;49mrun_digital_model()\n",
      "File \u001b[1;32mc:\\Users\\pedro\\Github Repositories\\Digital_Twin\\Digital Twin\\dtwinpylib\\dtwinpy\\Digital_Twin.py:46\u001b[0m, in \u001b[0;36mDigital_Twin.run_digital_model\u001b[1;34m(self)\u001b[0m\n\u001b[0;32m     44\u001b[0m \u001b[39mdef\u001b[39;00m \u001b[39mrun_digital_model\u001b[39m(\u001b[39mself\u001b[39m):\n\u001b[0;32m     45\u001b[0m     \u001b[39m#--- Always before running re-generate the model, just in case it has some changes\u001b[39;00m\n\u001b[1;32m---> 46\u001b[0m     \u001b[39mself\u001b[39m\u001b[39m.\u001b[39mdigital_model \u001b[39m=\u001b[39m \u001b[39mself\u001b[39;49m\u001b[39m.\u001b[39;49mgenerate_digital_model()\n\u001b[0;32m     48\u001b[0m     \u001b[39m#--- Run the simulation\u001b[39;00m\n\u001b[0;32m     49\u001b[0m     \u001b[39mself\u001b[39m\u001b[39m.\u001b[39mdigital_model\u001b[39m.\u001b[39mrun()\n",
      "File \u001b[1;32mc:\\Users\\pedro\\Github Repositories\\Digital_Twin\\Digital Twin\\dtwinpylib\\dtwinpy\\Digital_Twin.py:38\u001b[0m, in \u001b[0;36mDigital_Twin.generate_digital_model\u001b[1;34m(self)\u001b[0m\n\u001b[0;32m     36\u001b[0m \u001b[39mdef\u001b[39;00m \u001b[39mgenerate_digital_model\u001b[39m(\u001b[39mself\u001b[39m):\n\u001b[0;32m     37\u001b[0m     \u001b[39mself\u001b[39m\u001b[39m.\u001b[39mdigital_model \u001b[39m=\u001b[39m Model(name\u001b[39m=\u001b[39m \u001b[39mself\u001b[39m\u001b[39m.\u001b[39mname,model_path\u001b[39m=\u001b[39m \u001b[39mself\u001b[39m\u001b[39m.\u001b[39mmodel_path, database_path\u001b[39m=\u001b[39m \u001b[39mself\u001b[39m\u001b[39m.\u001b[39mdatabase_path, until\u001b[39m=\u001b[39m \u001b[39mself\u001b[39m\u001b[39m.\u001b[39muntil, initial\u001b[39m=\u001b[39m \u001b[39mself\u001b[39m\u001b[39m.\u001b[39minitial, loop_type\u001b[39m=\u001b[39m \u001b[39mself\u001b[39m\u001b[39m.\u001b[39mloop_type, maxparts\u001b[39m=\u001b[39m \u001b[39mself\u001b[39m\u001b[39m.\u001b[39mmaxparts)\n\u001b[1;32m---> 38\u001b[0m     \u001b[39mself\u001b[39;49m\u001b[39m.\u001b[39;49mdigital_model\u001b[39m.\u001b[39;49mmodel_translator()\n\u001b[0;32m     39\u001b[0m     \u001b[39mself\u001b[39m\u001b[39m.\u001b[39mdigital_model\u001b[39m.\u001b[39mverbose()\n\u001b[0;32m     41\u001b[0m     \u001b[39mreturn\u001b[39;00m \u001b[39mself\u001b[39m\u001b[39m.\u001b[39mdigital_model\n",
      "File \u001b[1;32mc:\\Users\\pedro\\Github Repositories\\Digital_Twin\\Digital Twin\\dtwinpylib\\dtwinpy\\digital_model.py:215\u001b[0m, in \u001b[0;36mModel.model_translator\u001b[1;34m(self)\u001b[0m\n\u001b[0;32m    212\u001b[0m \u001b[39mdef\u001b[39;00m \u001b[39mmodel_translator\u001b[39m(\u001b[39mself\u001b[39m):\n\u001b[0;32m    213\u001b[0m     \n\u001b[0;32m    214\u001b[0m     \u001b[39m#--- Open the json file\u001b[39;00m\n\u001b[1;32m--> 215\u001b[0m     \u001b[39mwith\u001b[39;00m \u001b[39mopen\u001b[39;49m(\u001b[39mself\u001b[39;49m\u001b[39m.\u001b[39;49mmodel_path) \u001b[39mas\u001b[39;00m json_file:\n\u001b[0;32m    216\u001b[0m         \u001b[39m#========================= Setup =========================\u001b[39;00m\n\u001b[0;32m    217\u001b[0m         \u001b[39m#--- Load the json data\u001b[39;00m\n\u001b[0;32m    218\u001b[0m         data \u001b[39m=\u001b[39m json\u001b[39m.\u001b[39mload(json_file)\n\u001b[0;32m    219\u001b[0m         \u001b[39mif\u001b[39;00m \u001b[39mself\u001b[39m\u001b[39m.\u001b[39minitial \u001b[39m==\u001b[39m \u001b[39mTrue\u001b[39;00m:\n\u001b[0;32m    220\u001b[0m             \u001b[39m#--- Calculate the number of part initially in the model\u001b[39;00m\n",
      "\u001b[1;31mFileNotFoundError\u001b[0m: [Errno 2] No such file or directory: 'models/demo_dist.json'"
     ]
    }
   ],
   "source": [
    "name = \"demo_dist\"\n",
    "mydt = Digital_Twin(name=name, maxparts=50)\n",
    "mydt.run_digital_model()"
   ]
  }
 ],
 "metadata": {
  "kernelspec": {
   "display_name": "dtwinpyenv-JC8N3fR1",
   "language": "python",
   "name": "python3"
  },
  "language_info": {
   "codemirror_mode": {
    "name": "ipython",
    "version": 3
   },
   "file_extension": ".py",
   "mimetype": "text/x-python",
   "name": "python",
   "nbconvert_exporter": "python",
   "pygments_lexer": "ipython3",
   "version": "3.10.10"
  },
  "orig_nbformat": 4,
  "vscode": {
   "interpreter": {
    "hash": "46cebab5066f5e256aeb60fc25526ea715b8a650a36e48f4078d5a521fc28e79"
   }
  }
 },
 "nbformat": 4,
 "nbformat_minor": 2
}
