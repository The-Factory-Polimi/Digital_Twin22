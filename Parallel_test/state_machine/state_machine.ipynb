{
 "cells": [
  {
   "attachments": {},
   "cell_type": "markdown",
   "metadata": {},
   "source": [
    "# State Machine Implementation "
   ]
  },
  {
   "cell_type": "code",
   "execution_count": 1,
   "metadata": {},
   "outputs": [],
   "source": [
    "def start_transition(cargo):\n",
    "    print(\"Start State is handling input: \", cargo)\n",
    "    return \"A\", cargo\n",
    "\n",
    "def state_a_transition(cargo):\n",
    "    print(\"State A is handling input: \", cargo)\n",
    "    return \"B\", cargo\n",
    "\n",
    "def state_b_transition(cargo):\n",
    "    print(\"State B is handling input: \", cargo)\n",
    "    return \"END\", cargo\n",
    "\n",
    "def end_transition(cargo):\n",
    "    print(\"END State is handling input: \", cargo)\n",
    "\n",
    "state_machine = {\n",
    "    \"Start\": start_transition,\n",
    "    \"A\": state_a_transition,\n",
    "    \"B\": state_b_transition,\n",
    "    \"END\": end_transition,\n",
    "}\n",
    "\n",
    "def run_state_machine(start_state, cargo):\n",
    "    current_state = start_state\n",
    "    while current_state != \"END\":\n",
    "        current_state, cargo = state_machine[current_state](cargo)\n",
    "    state_machine[\"END\"](cargo)\n"
   ]
  },
  {
   "cell_type": "code",
   "execution_count": 4,
   "metadata": {},
   "outputs": [],
   "source": [
    "f = state_machine[\"A\"]"
   ]
  },
  {
   "cell_type": "code",
   "execution_count": 5,
   "metadata": {},
   "outputs": [
    {
     "name": "stdout",
     "output_type": "stream",
     "text": [
      "State A is handling input:  2\n"
     ]
    },
    {
     "data": {
      "text/plain": [
       "('B', 2)"
      ]
     },
     "execution_count": 5,
     "metadata": {},
     "output_type": "execute_result"
    }
   ],
   "source": [
    "f(2)\n"
   ]
  },
  {
   "cell_type": "code",
   "execution_count": 6,
   "metadata": {},
   "outputs": [
    {
     "name": "stdout",
     "output_type": "stream",
     "text": [
      "Start State is handling input:  Some Input\n",
      "State A is handling input:  Some Input\n",
      "State B is handling input:  Some Input\n",
      "END State is handling input:  Some Input\n"
     ]
    }
   ],
   "source": [
    "run_state_machine(\"Start\", \"Some Input\")"
   ]
  }
 ],
 "metadata": {
  "kernelspec": {
   "display_name": "DTvirtenv-blc9_2om",
   "language": "python",
   "name": "python3"
  },
  "language_info": {
   "codemirror_mode": {
    "name": "ipython",
    "version": 3
   },
   "file_extension": ".py",
   "mimetype": "text/x-python",
   "name": "python",
   "nbconvert_exporter": "python",
   "pygments_lexer": "ipython3",
   "version": "3.10.9"
  },
  "orig_nbformat": 4,
  "vscode": {
   "interpreter": {
    "hash": "c4751d265fb18a2f26c44dfa1175ffe09959e8098aa26e65ced0a27c013824a8"
   }
  }
 },
 "nbformat": 4,
 "nbformat_minor": 2
}
